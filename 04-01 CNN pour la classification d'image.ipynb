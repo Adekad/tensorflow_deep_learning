{
 "cells": [
  {
   "cell_type": "markdown",
   "id": "b26a27c4",
   "metadata": {},
   "source": [
    "## Convolutional Neural Network"
   ]
  },
  {
   "cell_type": "code",
   "execution_count": 1,
   "id": "133b8424",
   "metadata": {},
   "outputs": [
    {
     "ename": "ModuleNotFoundError",
     "evalue": "No module named 'google.colab'",
     "output_type": "error",
     "traceback": [
      "\u001b[0;31m---------------------------------------------------------------------------\u001b[0m",
      "\u001b[0;31mModuleNotFoundError\u001b[0m                       Traceback (most recent call last)",
      "Cell \u001b[0;32mIn[1], line 1\u001b[0m\n\u001b[0;32m----> 1\u001b[0m \u001b[38;5;28;01mfrom\u001b[39;00m \u001b[38;5;21;01mgoogle\u001b[39;00m\u001b[38;5;21;01m.\u001b[39;00m\u001b[38;5;21;01mcolab\u001b[39;00m \u001b[38;5;28;01mimport\u001b[39;00m files\n\u001b[1;32m      3\u001b[0m uploaded \u001b[38;5;241m=\u001b[39m files\u001b[38;5;241m.\u001b[39mupload()\n\u001b[1;32m      5\u001b[0m \u001b[38;5;28;01mfor\u001b[39;00m fn \u001b[38;5;129;01min\u001b[39;00m uploaded\u001b[38;5;241m.\u001b[39mkeys():\n",
      "\u001b[0;31mModuleNotFoundError\u001b[0m: No module named 'google.colab'"
     ]
    }
   ],
   "source": [
    "\n",
    "from google.colab import files\n",
    "\n",
    "uploaded = files.upload()\n",
    "\n",
    "for fn in uploaded.keys():\n",
    "  print('User uploaded file \"{name}\" with length {length} bytes'.format(\n",
    "      name=fn, length=len(uploaded[fn])))"
   ]
  },
  {
   "cell_type": "code",
   "execution_count": 1,
   "id": "10a4ce35",
   "metadata": {},
   "outputs": [],
   "source": [
    "import numpy as np\n",
    "import cv2\n",
    "\n",
    "def processImage(image):\n",
    "    image = cv2.imread(image)\n",
    "    image = cv2.cvtColor(src=image, code=cv2.COLOR_BGR2GRAY)\n",
    "    return image\n",
    "\n",
    "# https://medium.com/analytics-vidhya/2d-convolution-using-python-numpy-43442ff5f381\n",
    "def convolve2D(image, kernel, padding=0, strides=1):\n",
    "    # Cross Correlation\n",
    "    kernel = np.flipud(np.fliplr(kernel))\n",
    "\n",
    "    # Gather Shapes of Kernel + Image + Padding\n",
    "    xKernShape = kernel.shape[0]\n",
    "    yKernShape = kernel.shape[1]\n",
    "    xImgShape = image.shape[0]\n",
    "    yImgShape = image.shape[1]\n",
    "\n",
    "    # Shape of Output Convolution\n",
    "    xOutput = int(((xImgShape - xKernShape + 2 * padding) / strides) + 1)\n",
    "    yOutput = int(((yImgShape - yKernShape + 2 * padding) / strides) + 1)\n",
    "    output = np.zeros((xOutput, yOutput))\n",
    "\n",
    "    # Apply Equal Padding to All Sides\n",
    "    if padding != 0:\n",
    "        imagePadded = np.zeros((image.shape[0] + padding*2, image.shape[1] + padding*2))\n",
    "        imagePadded[int(padding):int(-1 * padding), int(padding):int(-1 * padding)] = image\n",
    "        print(imagePadded)\n",
    "    else:\n",
    "        imagePadded = image\n",
    "\n",
    "    # Iterate through image\n",
    "    for y in range(image.shape[1]):\n",
    "        # Exit Convolution\n",
    "        if y > image.shape[1] - yKernShape:\n",
    "            break\n",
    "        # Only Convolve if y has gone down by the specified Strides\n",
    "        if y % strides == 0:\n",
    "            for x in range(image.shape[0]):\n",
    "                # Go to next row once kernel is out of bounds\n",
    "                if x > image.shape[0] - xKernShape:\n",
    "                    break\n",
    "                try:\n",
    "                    # Only Convolve if x has moved by the specified Strides\n",
    "                    if x % strides == 0:\n",
    "                        output[x, y] = (kernel * imagePadded[x: x + xKernShape, y: y + yKernShape]).sum()\n",
    "                except:\n",
    "                    break\n",
    "\n",
    "    return output"
   ]
  },
  {
   "cell_type": "code",
   "execution_count": 3,
   "id": "0baf477a",
   "metadata": {},
   "outputs": [],
   "source": [
    "image = processImage('header.png')"
   ]
  },
  {
   "cell_type": "code",
   "execution_count": 4,
   "id": "946cce81",
   "metadata": {},
   "outputs": [
    {
     "data": {
      "text/plain": [
       "(569, 493)"
      ]
     },
     "execution_count": 4,
     "metadata": {},
     "output_type": "execute_result"
    }
   ],
   "source": [
    "image.shape"
   ]
  },
  {
   "cell_type": "code",
   "execution_count": 5,
   "id": "2a1c855c",
   "metadata": {},
   "outputs": [],
   "source": [
    "filtre = np.array([\n",
    "    [1, 2, 1],\n",
    "    [0, 0, 0],\n",
    "    [-1, -2, -1]\n",
    "])"
   ]
  },
  {
   "cell_type": "code",
   "execution_count": 6,
   "id": "a86b3944",
   "metadata": {},
   "outputs": [
    {
     "name": "stdout",
     "output_type": "stream",
     "text": [
      "[[ 0.  0.  0. ...  0.  0.  0.]\n",
      " [ 0.  0.  0. ...  0.  0.  0.]\n",
      " [ 0.  0. 96. ... 96.  0.  0.]\n",
      " ...\n",
      " [ 0.  0. 96. ... 96.  0.  0.]\n",
      " [ 0.  0.  0. ...  0.  0.  0.]\n",
      " [ 0.  0.  0. ...  0.  0.  0.]]\n"
     ]
    }
   ],
   "source": [
    "output = convolve2D(image, filtre, padding=2)"
   ]
  },
  {
   "cell_type": "code",
   "execution_count": 7,
   "id": "d3e1fb25",
   "metadata": {},
   "outputs": [
    {
     "data": {
      "text/plain": [
       "True"
      ]
     },
     "execution_count": 7,
     "metadata": {},
     "output_type": "execute_result"
    }
   ],
   "source": [
    "cv2.imwrite('header_horizontal.png', output)"
   ]
  },
  {
   "cell_type": "code",
   "execution_count": 8,
   "id": "3f5d0a27",
   "metadata": {},
   "outputs": [],
   "source": [
    "filtre = np.array([[-1, 0, 1],\n",
    "                   [-2, 0, 2],\n",
    "                   [-1, 0, 1]])"
   ]
  },
  {
   "cell_type": "markdown",
   "id": "3f96062c",
   "metadata": {},
   "source": [
    "output = convolve2D(image, filtre, padding=2)\n",
    "cv2.imwrite('header_vertical.png', output)"
   ]
  },
  {
   "cell_type": "code",
   "execution_count": 10,
   "id": "2d8f2bac",
   "metadata": {},
   "outputs": [
    {
     "name": "stdout",
     "output_type": "stream",
     "text": [
      "[[ 0.  0.  0. ...  0.  0.  0.]\n",
      " [ 0.  0.  0. ...  0.  0.  0.]\n",
      " [ 0.  0. 96. ...  0.  0.  0.]\n",
      " ...\n",
      " [ 0.  0.  0. ...  0.  0.  0.]\n",
      " [ 0.  0.  0. ...  0.  0.  0.]\n",
      " [ 0.  0.  0. ...  0.  0.  0.]]\n"
     ]
    },
    {
     "data": {
      "text/plain": [
       "True"
      ]
     },
     "execution_count": 10,
     "metadata": {},
     "output_type": "execute_result"
    }
   ],
   "source": [
    "image1 = processImage('header_horizontal.png')\n",
    "output1 = convolve2D(image1, filtre, padding=2)\n",
    "cv2.imwrite('header_horizontal_vertical.png', output1)"
   ]
  },
  {
   "cell_type": "markdown",
   "id": "bb2b246a",
   "metadata": {},
   "source": [
    "### Test CNN sur les données de Fashion MNIST"
   ]
  },
  {
   "cell_type": "code",
   "execution_count": 17,
   "id": "3501ad6b",
   "metadata": {},
   "outputs": [
    {
     "data": {
      "text/plain": [
       "(60000, 28, 28)"
      ]
     },
     "execution_count": 17,
     "metadata": {},
     "output_type": "execute_result"
    }
   ],
   "source": [
    "import tensorflow as tf\n",
    "data = tf.keras.datasets.fashion_mnist\n",
    "(training_images, training_labels), (test_images, test_labels) = data.load_data()\n",
    "training_images.shape"
   ]
  },
  {
   "cell_type": "code",
   "execution_count": 3,
   "id": "c00457f2",
   "metadata": {},
   "outputs": [
    {
     "data": {
      "text/plain": [
       "(255, 0)"
      ]
     },
     "execution_count": 3,
     "metadata": {},
     "output_type": "execute_result"
    }
   ],
   "source": [
    "training_images.max(), training_images.min()"
   ]
  },
  {
   "cell_type": "code",
   "execution_count": 4,
   "id": "39f97c81",
   "metadata": {},
   "outputs": [],
   "source": [
    "training_images = training_images /255.0\n",
    "test_images = test_images / 255.0"
   ]
  },
  {
   "cell_type": "code",
   "execution_count": 5,
   "id": "95c3df78",
   "metadata": {},
   "outputs": [
    {
     "data": {
      "text/plain": [
       "(60000, 10)"
      ]
     },
     "execution_count": 5,
     "metadata": {},
     "output_type": "execute_result"
    }
   ],
   "source": [
    "training_labels = tf.keras.utils.to_categorical(training_labels)\n",
    "test_labels = tf.keras.utils.to_categorical(test_labels)\n",
    "\n",
    "training_labels.shape"
   ]
  },
  {
   "cell_type": "code",
   "execution_count": 18,
   "id": "4c07b99b",
   "metadata": {},
   "outputs": [
    {
     "data": {
      "text/plain": [
       "(60000, 28, 28, 1)"
      ]
     },
     "execution_count": 18,
     "metadata": {},
     "output_type": "execute_result"
    }
   ],
   "source": [
    "training_images = training_images.reshape((60000, 28, 28, 1))\n",
    "test_images = test_images.reshape((10000, 28, 28, 1))\n",
    "training_images.shape"
   ]
  },
  {
   "cell_type": "markdown",
   "id": "a750ec8c",
   "metadata": {},
   "source": [
    "### Modeling"
   ]
  },
  {
   "cell_type": "code",
   "execution_count": 6,
   "id": "f5e0096f",
   "metadata": {},
   "outputs": [],
   "source": [
    "from tensorflow.keras.models import Sequential \n",
    "from tensorflow.keras.layers import Dense\n",
    "from tensorflow.keras.optimizers import SGD "
   ]
  },
  {
   "cell_type": "code",
   "execution_count": 27,
   "id": "98ee35d8",
   "metadata": {},
   "outputs": [],
   "source": [
    "model = Sequential([\n",
    "    \n",
    "    # Extraction de caractéristique\n",
    "    tf.keras.layers.Conv2D(filters=64, kernel_size=(3, 3), padding=\"same\", activation=\"relu\", input_shape=(28, 28, 1)), # padding = \"same\" (on veut appliquer du padding), input... 1 pour les img blancs noires\n",
    "    tf.keras.layers.MaxPool2D(2, 2), # Réduire la taille de l'image tout en gardant les caractéristique les plus importantes, ici on a fait un pooling de 2, 2(2 col horiz, 2 col vertic)\n",
    "    # Au lieu du MaxPooling on peut faire le AveragePooling2D: la moyenne des 4 cases\n",
    "    tf.keras.layers.Conv2D(filters=64, kernel_size=(3, 3), activation=\"relu\"), # padding par defaut valid (on veut pas appliquer du padding)\n",
    "    tf.keras.layers.MaxPool2D(2, 2),\n",
    "    \n",
    "    # Applatir les images\n",
    "    tf.keras.layers.Flatten(),\n",
    "     \n",
    "    # Dense\n",
    "    tf.keras.layers.Dense(units=128, activation=\"elu\"), \n",
    "    tf.keras.layers.Dense(units=10, activation=\"softmax\"),\n",
    "              ])\n",
    "\n"
   ]
  },
  {
   "cell_type": "code",
   "execution_count": 25,
   "id": "902dd427",
   "metadata": {},
   "outputs": [
    {
     "name": "stdout",
     "output_type": "stream",
     "text": [
      "Model: \"sequential_2\"\n",
      "_________________________________________________________________\n",
      " Layer (type)                Output Shape              Param #   \n",
      "=================================================================\n",
      " conv2d_4 (Conv2D)           (None, 28, 28, 64)        640       \n",
      "                                                                 \n",
      " max_pooling2d_4 (MaxPooling  (None, 14, 14, 64)       0         \n",
      " 2D)                                                             \n",
      "                                                                 \n",
      " conv2d_5 (Conv2D)           (None, 12, 12, 64)        36928     \n",
      "                                                                 \n",
      " max_pooling2d_5 (MaxPooling  (None, 6, 6, 64)         0         \n",
      " 2D)                                                             \n",
      "                                                                 \n",
      " flatten_2 (Flatten)         (None, 2304)              0         \n",
      "                                                                 \n",
      " dense_4 (Dense)             (None, 128)               295040    \n",
      "                                                                 \n",
      " dense_5 (Dense)             (None, 10)                1290      \n",
      "                                                                 \n",
      "=================================================================\n",
      "Total params: 333,898\n",
      "Trainable params: 333,898\n",
      "Non-trainable params: 0\n",
      "_________________________________________________________________\n"
     ]
    }
   ],
   "source": [
    "model.summary()\n",
    "# conv2d_4 64 filtre de 28 28(output shape), kernel size 3*3 +biais1 * 64(Param)\n",
    "# conv2d_4 conv2d 640 + 3*3*64 + 64(du biais)"
   ]
  },
  {
   "cell_type": "code",
   "execution_count": 28,
   "id": "61a97e05",
   "metadata": {},
   "outputs": [
    {
     "name": "stdout",
     "output_type": "stream",
     "text": [
      "You must install pydot (`pip install pydot`) and install graphviz (see instructions at https://graphviz.gitlab.io/download/) for plot_model to work.\n"
     ]
    }
   ],
   "source": [
    "tf.keras.utils.plot_model(model)"
   ]
  },
  {
   "cell_type": "code",
   "execution_count": 32,
   "id": "f513f36f",
   "metadata": {},
   "outputs": [],
   "source": [
    "model_ckp = tf.keras.callbacks.ModelCheckpoint(filepath=\"best_model2.h5\", \n",
    "                            # save_weights_only=True, \n",
    "                            monitor=\"val_accuracy\", \n",
    "                            mode=\"max\", \n",
    "                            save_best_only=True)\n",
    "\n",
    "stop = tf.keras.callbacks.EarlyStopping(monitor=\"val_accuracy\", \n",
    "                                       patience=3\n",
    "                                       ) "
   ]
  },
  {
   "cell_type": "code",
   "execution_count": 37,
   "id": "9760698f",
   "metadata": {},
   "outputs": [
    {
     "name": "stdout",
     "output_type": "stream",
     "text": [
      "Epoch 1/50\n",
      "1875/1875 [==============================] - 75s 39ms/step - loss: 0.3862 - accuracy: 0.8585 - val_loss: 0.2985 - val_accuracy: 0.8943\n",
      "Epoch 2/50\n",
      "1875/1875 [==============================] - 71s 38ms/step - loss: 0.2572 - accuracy: 0.9049 - val_loss: 0.2839 - val_accuracy: 0.8980\n",
      "Epoch 3/50\n",
      "1875/1875 [==============================] - 71s 38ms/step - loss: 0.2142 - accuracy: 0.9208 - val_loss: 0.2573 - val_accuracy: 0.9057\n",
      "Epoch 4/50\n",
      "1875/1875 [==============================] - 72s 38ms/step - loss: 0.1858 - accuracy: 0.9311 - val_loss: 0.2437 - val_accuracy: 0.9135\n",
      "Epoch 5/50\n",
      "1875/1875 [==============================] - 71s 38ms/step - loss: 0.1609 - accuracy: 0.9399 - val_loss: 0.2307 - val_accuracy: 0.9160\n",
      "Epoch 6/50\n",
      "1875/1875 [==============================] - 72s 38ms/step - loss: 0.1357 - accuracy: 0.9490 - val_loss: 0.2447 - val_accuracy: 0.9159\n",
      "Epoch 7/50\n",
      "1875/1875 [==============================] - 71s 38ms/step - loss: 0.1190 - accuracy: 0.9548 - val_loss: 0.2558 - val_accuracy: 0.9121\n",
      "Epoch 8/50\n",
      "1875/1875 [==============================] - 72s 38ms/step - loss: 0.1006 - accuracy: 0.9623 - val_loss: 0.2717 - val_accuracy: 0.9179\n",
      "Epoch 9/50\n",
      "1875/1875 [==============================] - 73s 39ms/step - loss: 0.0851 - accuracy: 0.9675 - val_loss: 0.2752 - val_accuracy: 0.9201\n",
      "Epoch 10/50\n",
      "1875/1875 [==============================] - 72s 38ms/step - loss: 0.0735 - accuracy: 0.9722 - val_loss: 0.3235 - val_accuracy: 0.9145\n",
      "Epoch 11/50\n",
      "1875/1875 [==============================] - 72s 39ms/step - loss: 0.0594 - accuracy: 0.9776 - val_loss: 0.3658 - val_accuracy: 0.9173\n",
      "Epoch 12/50\n",
      "1875/1875 [==============================] - 72s 38ms/step - loss: 0.0551 - accuracy: 0.9794 - val_loss: 0.3751 - val_accuracy: 0.9154\n"
     ]
    }
   ],
   "source": [
    "model.compile(optimizer=\"adam\", loss=\"categorical_crossentropy\", metrics=[\"accuracy\"])\n",
    "\n",
    "h = model.fit(training_images, training_labels, epochs=50, \n",
    "              validation_data=(test_images, test_labels),\n",
    "             callbacks=[model_ckp, stop])"
   ]
  },
  {
   "cell_type": "code",
   "execution_count": null,
   "id": "9de24750",
   "metadata": {},
   "outputs": [],
   "source": [
    "MSE : loss: 0.0724 - accuracy: 0.5897 - val_loss: 0.0701 - val_accuracy: 0.5859\n",
    "\n",
    "Cross Entropy: loss: 0.5459 - accuracy: 0.8101 - val_loss: 0.5549 - val_accuracy: 0.8032\n",
    "                    \n",
    "CE + Relu: loss: 0.4094 - accuracy: 0.8593 - val_loss: 0.4328 - val_accuracy: 0.8486\n",
    "                    \n",
    "CE + Relu(avec plus de epochs): loss: 0.3026 - accuracy: 0.8936 - val_loss: 0.3572 - val_accuracy: 0.8734\n",
    "\n",
    "model complexe : loss: 0.2493 - accuracy: 0.9100 - val_loss: 0.3277 - val_accuracy: 0.8850\n",
    "                    \n",
    "model complexe dropout : loss: 0.3251 - accuracy: 0.8834 - val_loss: 0.3408 - val_accuracy: 0.8789\n",
    "                    \n",
    "Adam : loss: 0.8580 - accuracy: 0.6956 - val_loss: 0.6138 - val_accuracy: 0.8009\n",
    "                    \n",
    "CNN: loss: 0.0851 - accuracy: 0.9675 - val_loss: 0.2752 - val_accuracy: 0.9201"
   ]
  },
  {
   "cell_type": "markdown",
   "id": "b4b0500c",
   "metadata": {},
   "source": [
    "## Projet : Classification d'objets Recyclabes ou Non"
   ]
  },
  {
   "cell_type": "code",
   "execution_count": 7,
   "id": "cdeee4fc",
   "metadata": {},
   "outputs": [],
   "source": [
    "import os\n",
    "# Dataset récupérable sur Kaggle à partir de la recherche: Waste Classification Data\n",
    "\n",
    "data_dir = \"../data_deep_learning/DATASET/\"\n",
    "train_dir = os.path.join(data_dir, \"TRAIN\")\n",
    "test_dir = os.path.join(data_dir, \"TEST\")"
   ]
  },
  {
   "cell_type": "code",
   "execution_count": 8,
   "id": "0f304f5e",
   "metadata": {},
   "outputs": [
    {
     "data": {
      "text/plain": [
       "['R', 'O']"
      ]
     },
     "execution_count": 8,
     "metadata": {},
     "output_type": "execute_result"
    }
   ],
   "source": [
    "os.listdir(train_dir)"
   ]
  },
  {
   "cell_type": "code",
   "execution_count": 9,
   "id": "db9c3676",
   "metadata": {},
   "outputs": [],
   "source": [
    "train_r_dir = os.path.join(train_dir, \"R\")\n",
    "train_o_dir = os.path.join(train_dir, \"O\")"
   ]
  },
  {
   "cell_type": "code",
   "execution_count": 10,
   "id": "a2c0ca82",
   "metadata": {},
   "outputs": [
    {
     "data": {
      "text/plain": [
       "9999"
      ]
     },
     "execution_count": 10,
     "metadata": {},
     "output_type": "execute_result"
    }
   ],
   "source": [
    "len(os.listdir(train_r_dir))"
   ]
  },
  {
   "cell_type": "code",
   "execution_count": 11,
   "id": "cfc6abb0",
   "metadata": {},
   "outputs": [
    {
     "data": {
      "text/plain": [
       "12565"
      ]
     },
     "execution_count": 11,
     "metadata": {},
     "output_type": "execute_result"
    }
   ],
   "source": [
    "len(os.listdir(train_o_dir))"
   ]
  },
  {
   "cell_type": "code",
   "execution_count": 12,
   "id": "f34535c7",
   "metadata": {},
   "outputs": [],
   "source": [
    "import matplotlib.pyplot as plt\n",
    "import matplotlib.image as mpimg"
   ]
  },
  {
   "cell_type": "code",
   "execution_count": 13,
   "id": "a22b9701",
   "metadata": {},
   "outputs": [],
   "source": [
    "r_index = 5680\n",
    "o_index = 1496\n",
    "\n",
    "recyclable_imgs = [os.path.join(train_r_dir, filename) for filename in os.listdir(train_r_dir)]\n",
    "organic_imgs = [os.path.join(train_o_dir, filename) for filename in os.listdir(train_o_dir)]\n",
    "\n",
    "img_r = mpimg.imread(recyclable_imgs[r_index])\n",
    "img_o = mpimg.imread(recyclable_imgs[o_index])"
   ]
  },
  {
   "cell_type": "code",
   "execution_count": 36,
   "id": "875d23e3",
   "metadata": {},
   "outputs": [
    {
     "data": {
      "text/plain": [
       "<matplotlib.image.AxesImage at 0x7f78d5af0280>"
      ]
     },
     "execution_count": 36,
     "metadata": {},
     "output_type": "execute_result"
    },
    {
     "data": {
      "image/png": "[encoded data removed]",
      "text/plain": [
       "<Figure size 640x480 with 1 Axes>"
      ]
     },
     "metadata": {},
     "output_type": "display_data"
    }
   ],
   "source": [
    "plt.imshow(img_r)"
   ]
  },
  {
   "cell_type": "code",
   "execution_count": 37,
   "id": "1b5a2dd6",
   "metadata": {},
   "outputs": [
    {
     "data": {
      "text/plain": [
       "<matplotlib.image.AxesImage at 0x7f78d5b52050>"
      ]
     },
     "execution_count": 37,
     "metadata": {},
     "output_type": "execute_result"
    },
    {
     "data": {
      "image/png": "[encoded data removed]",
      "text/plain": [
       "<Figure size 640x480 with 1 Axes>"
      ]
     },
     "metadata": {},
     "output_type": "display_data"
    }
   ],
   "source": [
    "plt.imshow(img_o)"
   ]
  },
  {
   "cell_type": "markdown",
   "id": "fc7864a7",
   "metadata": {},
   "source": [
    "### ImageDataGenerator"
   ]
  },
  {
   "cell_type": "code",
   "execution_count": 3,
   "id": "b647f782",
   "metadata": {},
   "outputs": [
    {
     "name": "stderr",
     "output_type": "stream",
     "text": [
      "2024-01-27 15:34:25.373737: I tensorflow/core/platform/cpu_feature_guard.cc:193] This TensorFlow binary is optimized with oneAPI Deep Neural Network Library (oneDNN) to use the following CPU instructions in performance-critical operations:  AVX2 FMA\n",
      "To enable them in other operations, rebuild TensorFlow with the appropriate compiler flags.\n",
      "2024-01-27 15:34:25.565884: W tensorflow/compiler/xla/stream_executor/platform/default/dso_loader.cc:64] Could not load dynamic library 'libcudart.so.11.0'; dlerror: libcudart.so.11.0: cannot open shared object file: No such file or directory\n",
      "2024-01-27 15:34:25.565910: I tensorflow/compiler/xla/stream_executor/cuda/cudart_stub.cc:29] Ignore above cudart dlerror if you do not have a GPU set up on your machine.\n",
      "2024-01-27 15:34:26.749481: W tensorflow/compiler/xla/stream_executor/platform/default/dso_loader.cc:64] Could not load dynamic library 'libnvinfer.so.7'; dlerror: libnvinfer.so.7: cannot open shared object file: No such file or directory\n",
      "2024-01-27 15:34:26.749620: W tensorflow/compiler/xla/stream_executor/platform/default/dso_loader.cc:64] Could not load dynamic library 'libnvinfer_plugin.so.7'; dlerror: libnvinfer_plugin.so.7: cannot open shared object file: No such file or directory\n",
      "2024-01-27 15:34:26.749634: W tensorflow/compiler/tf2tensorrt/utils/py_utils.cc:38] TF-TRT Warning: Cannot dlopen some TensorRT libraries. If you would like to use Nvidia GPU with TensorRT, please make sure the missing libraries mentioned above are installed properly.\n"
     ]
    }
   ],
   "source": [
    "# Contrairement au Fashion MNIST ou on avait les données sous forme de dataframe(tableau numpy) et divisé en \n",
    "# (training_images, training_labels), (test_images, test_labels) = data.load_data(), ici on les a dans des dossiers\n",
    "#\n",
    "from tensorflow.keras.preprocessing.image import ImageDataGenerator"
   ]
  },
  {
   "cell_type": "code",
   "execution_count": 40,
   "id": "b97215de",
   "metadata": {},
   "outputs": [],
   "source": [
    "train_data_generator = ImageDataGenerator(rescale=1/255.0)\n",
    "test_data_generator = ImageDataGenerator(rescale=1/255.0)"
   ]
  },
  {
   "cell_type": "code",
   "execution_count": null,
   "id": "44374a61",
   "metadata": {},
   "outputs": [],
   "source": []
  },
  {
   "cell_type": "code",
   "execution_count": 50,
   "id": "271bee82",
   "metadata": {},
   "outputs": [
    {
     "name": "stdout",
     "output_type": "stream",
     "text": [
      "Found 22564 images belonging to 2 classes.\n",
      "Found 2513 images belonging to 2 classes.\n"
     ]
    }
   ],
   "source": [
    "train_generator = train_data_generator.flow_from_directory(\n",
    "    directory=train_dir, # Le chemin des dossiers train\n",
    "    target_size=(224, 224), # Redimensionner les images à 224/224 vu que les img ont diff size, il ajoute 3\n",
    "    # pour les 3 couleurs RedGreenBlue\n",
    "    batch_size=32, # À chaque entrainement qu'il nous sélectionne 32 images aléatoires\n",
    "    # Le nombre d'image qu'on gardera en mémoire RAM à chaque itération\n",
    "    class_mode=\"binary\" # Pour dire qu'on fait une classification binaire, category_call si on avait plusieurs classes\n",
    ")\n",
    "\n",
    "test_generator = test_data_generator.flow_from_directory(\n",
    "    directory=test_dir, # Le chemin des dossiers train\n",
    "    target_size=(224, 224), # Redimensionner les images à 224/224 vu que les img ont diff size\n",
    "    batch_size=32, # À chaque entrainement qu'il nous sélectionne 32 images aléatoires\n",
    "    class_mode=\"binary\" # Pour dire qu'on fait une classification binaire\n",
    ")"
   ]
  },
  {
   "cell_type": "code",
   "execution_count": 46,
   "id": "26fc07b6",
   "metadata": {},
   "outputs": [
    {
     "data": {
      "text/plain": [
       "array([[[[1.        , 1.        , 1.        ],\n",
       "         [1.        , 1.        , 1.        ],\n",
       "         [1.        , 1.        , 1.        ],\n",
       "         ...,\n",
       "         [1.        , 1.        , 1.        ],\n",
       "         [1.        , 1.        , 1.        ],\n",
       "         [1.        , 1.        , 1.        ]],\n",
       "\n",
       "        [[1.        , 1.        , 1.        ],\n",
       "         [1.        , 1.        , 1.        ],\n",
       "         [1.        , 1.        , 1.        ],\n",
       "         ...,\n",
       "         [1.        , 1.        , 1.        ],\n",
       "         [1.        , 1.        , 1.        ],\n",
       "         [1.        , 1.        , 1.        ]],\n",
       "\n",
       "        [[1.        , 1.        , 1.        ],\n",
       "         [1.        , 1.        , 1.        ],\n",
       "         [1.        , 1.        , 1.        ],\n",
       "         ...,\n",
       "         [1.        , 1.        , 1.        ],\n",
       "         [1.        , 1.        , 1.        ],\n",
       "         [1.        , 1.        , 1.        ]],\n",
       "\n",
       "        ...,\n",
       "\n",
       "        [[1.        , 1.        , 1.        ],\n",
       "         [1.        , 1.        , 1.        ],\n",
       "         [1.        , 1.        , 1.        ],\n",
       "         ...,\n",
       "         [1.        , 1.        , 1.        ],\n",
       "         [1.        , 1.        , 1.        ],\n",
       "         [1.        , 1.        , 1.        ]],\n",
       "\n",
       "        [[1.        , 1.        , 1.        ],\n",
       "         [1.        , 1.        , 1.        ],\n",
       "         [1.        , 1.        , 1.        ],\n",
       "         ...,\n",
       "         [1.        , 1.        , 1.        ],\n",
       "         [1.        , 1.        , 1.        ],\n",
       "         [1.        , 1.        , 1.        ]],\n",
       "\n",
       "        [[1.        , 1.        , 1.        ],\n",
       "         [1.        , 1.        , 1.        ],\n",
       "         [1.        , 1.        , 1.        ],\n",
       "         ...,\n",
       "         [1.        , 1.        , 1.        ],\n",
       "         [1.        , 1.        , 1.        ],\n",
       "         [1.        , 1.        , 1.        ]]],\n",
       "\n",
       "\n",
       "       [[[0.92549026, 0.6862745 , 0.42352945],\n",
       "         [0.92549026, 0.6862745 , 0.42352945],\n",
       "         [0.92549026, 0.6862745 , 0.42352945],\n",
       "         ...,\n",
       "         [0.54901963, 0.3254902 , 0.11764707],\n",
       "         [0.54901963, 0.3254902 , 0.10980393],\n",
       "         [0.5647059 , 0.33333334, 0.10588236]],\n",
       "\n",
       "        [[0.9294118 , 0.6901961 , 0.427451  ],\n",
       "         [0.92549026, 0.6862745 , 0.42352945],\n",
       "         [0.92549026, 0.6862745 , 0.42352945],\n",
       "         ...,\n",
       "         [0.5686275 , 0.34509805, 0.13725491],\n",
       "         [0.5647059 , 0.34117648, 0.1254902 ],\n",
       "         [0.5686275 , 0.3372549 , 0.10980393]],\n",
       "\n",
       "        [[0.92549026, 0.69411767, 0.427451  ],\n",
       "         [0.92549026, 0.69411767, 0.427451  ],\n",
       "         [0.92549026, 0.69411767, 0.427451  ],\n",
       "         ...,\n",
       "         [0.6       , 0.37647063, 0.16078432],\n",
       "         [0.59607846, 0.37254903, 0.15686275],\n",
       "         [0.5882353 , 0.35686275, 0.12941177]],\n",
       "\n",
       "        ...,\n",
       "\n",
       "        [[0.23137257, 0.31764707, 0.06666667],\n",
       "         [0.23137257, 0.31764707, 0.06666667],\n",
       "         [0.23137257, 0.31764707, 0.06666667],\n",
       "         ...,\n",
       "         [0.15686275, 0.09019608, 0.        ],\n",
       "         [0.15686275, 0.09019608, 0.        ],\n",
       "         [0.19215688, 0.10588236, 0.01176471]],\n",
       "\n",
       "        [[0.20000002, 0.28627452, 0.03529412],\n",
       "         [0.20784315, 0.29411766, 0.04313726],\n",
       "         [0.21568629, 0.3019608 , 0.0509804 ],\n",
       "         ...,\n",
       "         [0.16470589, 0.08627451, 0.        ],\n",
       "         [0.16862746, 0.09019608, 0.        ],\n",
       "         [0.19607845, 0.10980393, 0.01960784]],\n",
       "\n",
       "        [[0.17254902, 0.2509804 , 0.00392157],\n",
       "         [0.17254902, 0.2509804 , 0.00392157],\n",
       "         [0.17254902, 0.25490198, 0.        ],\n",
       "         ...,\n",
       "         [0.16862746, 0.07843138, 0.01568628],\n",
       "         [0.16862746, 0.07843138, 0.01568628],\n",
       "         [0.18039216, 0.09019608, 0.01960784]]],\n",
       "\n",
       "\n",
       "       [[[0.8078432 , 0.7843138 , 0.83921576],\n",
       "         [0.8745099 , 0.8588236 , 0.91372555],\n",
       "         [0.86666673, 0.86666673, 0.91372555],\n",
       "         ...,\n",
       "         [0.56078434, 0.8000001 , 0.7372549 ],\n",
       "         [0.48627454, 0.7372549 , 0.63529414],\n",
       "         [0.65882355, 0.909804  , 0.80392164]],\n",
       "\n",
       "        [[0.8078432 , 0.7843138 , 0.83921576],\n",
       "         [0.8745099 , 0.8588236 , 0.91372555],\n",
       "         [0.8705883 , 0.8705883 , 0.9176471 ],\n",
       "         ...,\n",
       "         [0.5176471 , 0.7686275 , 0.7058824 ],\n",
       "         [0.44705886, 0.7137255 , 0.6156863 ],\n",
       "         [0.627451  , 0.8862746 , 0.7803922 ]],\n",
       "\n",
       "        [[0.8000001 , 0.7843138 , 0.83921576],\n",
       "         [0.8745099 , 0.8588236 , 0.91372555],\n",
       "         [0.87843144, 0.8705883 , 0.9215687 ],\n",
       "         ...,\n",
       "         [0.46274513, 0.7411765 , 0.6784314 ],\n",
       "         [0.43529415, 0.7176471 , 0.6313726 ],\n",
       "         [0.61960787, 0.90196085, 0.81568635]],\n",
       "\n",
       "        ...,\n",
       "\n",
       "        [[0.3921569 , 0.72156864, 0.90196085],\n",
       "         [0.427451  , 0.75294125, 0.92549026],\n",
       "         [0.39607847, 0.7019608 , 0.854902  ],\n",
       "         ...,\n",
       "         [0.41176474, 0.73333335, 0.87843144],\n",
       "         [0.41960788, 0.74509805, 0.8705883 ],\n",
       "         [0.54901963, 0.8745099 , 1.        ]],\n",
       "\n",
       "        [[0.3921569 , 0.72156864, 0.90196085],\n",
       "         [0.42352945, 0.7490196 , 0.9215687 ],\n",
       "         [0.40000004, 0.7058824 , 0.8588236 ],\n",
       "         ...,\n",
       "         [0.43137258, 0.75294125, 0.8980393 ],\n",
       "         [0.4156863 , 0.7411765 , 0.86666673],\n",
       "         [0.5647059 , 0.89019614, 1.        ]],\n",
       "\n",
       "        [[0.3921569 , 0.72156864, 0.90196085],\n",
       "         [0.3803922 , 0.7058824 , 0.87843144],\n",
       "         [0.48235297, 0.78823537, 0.94117653],\n",
       "         ...,\n",
       "         [0.454902  , 0.7686275 , 0.91372555],\n",
       "         [0.427451  , 0.7411765 , 0.8705883 ],\n",
       "         [0.57254905, 0.8862746 , 1.        ]]],\n",
       "\n",
       "\n",
       "       ...,\n",
       "\n",
       "\n",
       "       [[[0.3372549 , 0.23137257, 0.1137255 ],\n",
       "         [0.33333334, 0.23529413, 0.11764707],\n",
       "         [0.32156864, 0.21960786, 0.12156864],\n",
       "         ...,\n",
       "         [0.01960784, 0.01176471, 0.01568628],\n",
       "         [0.01960784, 0.01176471, 0.01568628],\n",
       "         [0.01960784, 0.01176471, 0.01568628]],\n",
       "\n",
       "        [[0.3372549 , 0.23137257, 0.11764707],\n",
       "         [0.3372549 , 0.23137257, 0.11764707],\n",
       "         [0.32156864, 0.21960786, 0.12156864],\n",
       "         ...,\n",
       "         [0.01960784, 0.01176471, 0.01568628],\n",
       "         [0.01960784, 0.01176471, 0.01568628],\n",
       "         [0.01960784, 0.01176471, 0.01568628]],\n",
       "\n",
       "        [[0.34117648, 0.22352943, 0.12156864],\n",
       "         [0.3372549 , 0.23137257, 0.1254902 ],\n",
       "         [0.32156864, 0.21960786, 0.12941177],\n",
       "         ...,\n",
       "         [0.01960784, 0.01176471, 0.01568628],\n",
       "         [0.01960784, 0.01176471, 0.01568628],\n",
       "         [0.01960784, 0.01176471, 0.01568628]],\n",
       "\n",
       "        ...,\n",
       "\n",
       "        [[0.7019608 , 0.7058824 , 0.7254902 ],\n",
       "         [0.7019608 , 0.7058824 , 0.7254902 ],\n",
       "         [0.7019608 , 0.7058824 , 0.7254902 ],\n",
       "         ...,\n",
       "         [0.5568628 , 0.5411765 , 0.5058824 ],\n",
       "         [0.5568628 , 0.5411765 , 0.5058824 ],\n",
       "         [0.5568628 , 0.5411765 , 0.5058824 ]],\n",
       "\n",
       "        [[0.7019608 , 0.7058824 , 0.7254902 ],\n",
       "         [0.7019608 , 0.7058824 , 0.7254902 ],\n",
       "         [0.7019608 , 0.7058824 , 0.7254902 ],\n",
       "         ...,\n",
       "         [0.5568628 , 0.5411765 , 0.5058824 ],\n",
       "         [0.5568628 , 0.5411765 , 0.5058824 ],\n",
       "         [0.5529412 , 0.5372549 , 0.5019608 ]],\n",
       "\n",
       "        [[0.7019608 , 0.7058824 , 0.7254902 ],\n",
       "         [0.7019608 , 0.7058824 , 0.7254902 ],\n",
       "         [0.7019608 , 0.7058824 , 0.7254902 ],\n",
       "         ...,\n",
       "         [0.5568628 , 0.5411765 , 0.5058824 ],\n",
       "         [0.5529412 , 0.5372549 , 0.5019608 ],\n",
       "         [0.5529412 , 0.5372549 , 0.5019608 ]]],\n",
       "\n",
       "\n",
       "       [[[0.80392164, 0.59607846, 0.3921569 ],\n",
       "         [0.8196079 , 0.6117647 , 0.40784317],\n",
       "         [0.81568635, 0.60784316, 0.4039216 ],\n",
       "         ...,\n",
       "         [0.9921569 , 0.8352942 , 0.46274513],\n",
       "         [0.9921569 , 0.8352942 , 0.46274513],\n",
       "         [0.9960785 , 0.83921576, 0.4666667 ]],\n",
       "\n",
       "        [[0.81568635, 0.6       , 0.37647063],\n",
       "         [0.82745105, 0.6117647 , 0.3921569 ],\n",
       "         [0.8313726 , 0.6156863 , 0.39607847],\n",
       "         ...,\n",
       "         [0.9686275 , 0.81568635, 0.45098042],\n",
       "         [0.97647065, 0.81568635, 0.454902  ],\n",
       "         [0.9725491 , 0.8196079 , 0.44705886]],\n",
       "\n",
       "        [[0.8235295 , 0.60784316, 0.34509805],\n",
       "         [0.8352942 , 0.61960787, 0.35686275],\n",
       "         [0.8470589 , 0.6313726 , 0.3803922 ],\n",
       "         ...,\n",
       "         [0.9921569 , 0.83921576, 0.48235297],\n",
       "         [0.9960785 , 0.8431373 , 0.48627454],\n",
       "         [0.98823535, 0.8470589 , 0.4784314 ]],\n",
       "\n",
       "        ...,\n",
       "\n",
       "        [[0.91372555, 0.77647066, 0.61960787],\n",
       "         [0.9176471 , 0.78823537, 0.627451  ],\n",
       "         [0.94117653, 0.8235295 , 0.68235296],\n",
       "         ...,\n",
       "         [0.909804  , 0.854902  , 0.8196079 ],\n",
       "         [0.9058824 , 0.854902  , 0.8196079 ],\n",
       "         [0.9058824 , 0.854902  , 0.8196079 ]],\n",
       "\n",
       "        [[0.909804  , 0.77647066, 0.627451  ],\n",
       "         [0.91372555, 0.78823537, 0.6392157 ],\n",
       "         [0.92549026, 0.8078432 , 0.69803923],\n",
       "         ...,\n",
       "         [0.909804  , 0.85098046, 0.8235295 ],\n",
       "         [0.9058824 , 0.854902  , 0.8196079 ],\n",
       "         [0.9058824 , 0.854902  , 0.8196079 ]],\n",
       "\n",
       "        [[0.9333334 , 0.8078432 , 0.65882355],\n",
       "         [0.92549026, 0.8078432 , 0.6666667 ],\n",
       "         [0.9176471 , 0.8078432 , 0.72156864],\n",
       "         ...,\n",
       "         [0.909804  , 0.85098046, 0.8235295 ],\n",
       "         [0.9058824 , 0.854902  , 0.8196079 ],\n",
       "         [0.9058824 , 0.854902  , 0.8196079 ]]],\n",
       "\n",
       "\n",
       "       [[[0.23529413, 0.20784315, 0.14509805],\n",
       "         [0.18039216, 0.15294118, 0.09019608],\n",
       "         [0.2392157 , 0.21568629, 0.16078432],\n",
       "         ...,\n",
       "         [0.7058824 , 0.69411767, 0.6666667 ],\n",
       "         [0.70980394, 0.6901961 , 0.6666667 ],\n",
       "         [0.70980394, 0.6901961 , 0.6666667 ]],\n",
       "\n",
       "        [[0.15294118, 0.1254902 , 0.0627451 ],\n",
       "         [0.3137255 , 0.28627452, 0.22352943],\n",
       "         [0.16470589, 0.14117648, 0.08627451],\n",
       "         ...,\n",
       "         [0.7176471 , 0.7058824 , 0.6784314 ],\n",
       "         [0.72156864, 0.7019608 , 0.6784314 ],\n",
       "         [0.72156864, 0.7019608 , 0.6784314 ]],\n",
       "\n",
       "        [[0.18431373, 0.16078432, 0.10588236],\n",
       "         [0.17254902, 0.14901961, 0.09411766],\n",
       "         [0.23137257, 0.20784315, 0.15294118],\n",
       "         ...,\n",
       "         [0.7411765 , 0.7294118 , 0.7019608 ],\n",
       "         [0.74509805, 0.7254902 , 0.7019608 ],\n",
       "         [0.74509805, 0.7254902 , 0.7019608 ]],\n",
       "\n",
       "        ...,\n",
       "\n",
       "        [[0.69411767, 0.6627451 , 0.61960787],\n",
       "         [0.67058825, 0.6392157 , 0.59607846],\n",
       "         [0.64705884, 0.6156863 , 0.57254905],\n",
       "         ...,\n",
       "         [0.67058825, 0.6156863 , 0.5647059 ],\n",
       "         [0.6745098 , 0.61960787, 0.5686275 ],\n",
       "         [0.6745098 , 0.61960787, 0.5686275 ]],\n",
       "\n",
       "        [[0.6784314 , 0.6392157 , 0.6       ],\n",
       "         [0.6392157 , 0.6       , 0.56078434],\n",
       "         [0.62352943, 0.58431375, 0.54509807],\n",
       "         ...,\n",
       "         [0.6901961 , 0.63529414, 0.58431375],\n",
       "         [0.6901961 , 0.63529414, 0.58431375],\n",
       "         [0.6862745 , 0.6313726 , 0.5803922 ]],\n",
       "\n",
       "        [[0.6784314 , 0.6392157 , 0.6       ],\n",
       "         [0.6392157 , 0.6       , 0.56078434],\n",
       "         [0.61960787, 0.5803922 , 0.5411765 ],\n",
       "         ...,\n",
       "         [0.6901961 , 0.63529414, 0.58431375],\n",
       "         [0.6901961 , 0.63529414, 0.58431375],\n",
       "         [0.6862745 , 0.6313726 , 0.5803922 ]]]], dtype=float32)"
      ]
     },
     "execution_count": 46,
     "metadata": {},
     "output_type": "execute_result"
    }
   ],
   "source": [
    "batch_images, batch_labels = next(iter(train_generator))\n",
    "batch_images"
   ]
  },
  {
   "cell_type": "code",
   "execution_count": 45,
   "id": "412aaca6",
   "metadata": {},
   "outputs": [
    {
     "data": {
      "text/plain": [
       "(32, 224, 224, 3)"
      ]
     },
     "execution_count": 45,
     "metadata": {},
     "output_type": "execute_result"
    }
   ],
   "source": [
    "batch_images.shape # 32 images au format 224/224 avec les 3 couleurs"
   ]
  },
  {
   "cell_type": "code",
   "execution_count": 47,
   "id": "911b8ac1",
   "metadata": {},
   "outputs": [
    {
     "data": {
      "text/plain": [
       "(32,)"
      ]
     },
     "execution_count": 47,
     "metadata": {},
     "output_type": "execute_result"
    }
   ],
   "source": [
    "batch_labels.shape"
   ]
  },
  {
   "cell_type": "code",
   "execution_count": 48,
   "id": "cfd02f48",
   "metadata": {},
   "outputs": [
    {
     "data": {
      "text/plain": [
       "array([1., 0., 1., 0., 1., 0., 0., 0., 0., 1., 0., 1., 1., 0., 0., 0., 1.,\n",
       "       1., 0., 0., 0., 0., 0., 0., 0., 1., 0., 1., 0., 1., 0., 0.],\n",
       "      dtype=float32)"
      ]
     },
     "execution_count": 48,
     "metadata": {},
     "output_type": "execute_result"
    }
   ],
   "source": [
    "batch_labels # Quelle classe est organique, laquelle est recyclabe ?"
   ]
  },
  {
   "cell_type": "code",
   "execution_count": 49,
   "id": "fda83a14",
   "metadata": {},
   "outputs": [
    {
     "data": {
      "text/plain": [
       "{'O': 0, 'R': 1}"
      ]
     },
     "execution_count": 49,
     "metadata": {},
     "output_type": "execute_result"
    }
   ],
   "source": [
    "train_generator.class_indices"
   ]
  },
  {
   "cell_type": "code",
   "execution_count": 51,
   "id": "40967e96",
   "metadata": {},
   "outputs": [
    {
     "data": {
      "text/plain": [
       "(224, 224, 3)"
      ]
     },
     "execution_count": 51,
     "metadata": {},
     "output_type": "execute_result"
    }
   ],
   "source": [
    "batch_images[2].shape"
   ]
  },
  {
   "cell_type": "markdown",
   "id": "e259e5ba",
   "metadata": {},
   "source": [
    "### Modeling"
   ]
  },
  {
   "cell_type": "code",
   "execution_count": 53,
   "id": "a9518c5c",
   "metadata": {},
   "outputs": [],
   "source": [
    "model = Sequential([\n",
    "    \n",
    "    # Extraction de caractéristique\n",
    "    # Vu input 224/224 on va augmenter le filtre et les couches\n",
    "    tf.keras.layers.Conv2D(filters=32, kernel_size=(3, 3), padding=\"same\", activation=\"relu\", input_shape=(224, 224, 3)), \n",
    "    tf.keras.layers.MaxPool2D(2, 2), \n",
    "    tf.keras.layers.Conv2D(filters=64, kernel_size=(3, 3), activation=\"relu\"),\n",
    "    tf.keras.layers.MaxPool2D(2, 2),\n",
    "    tf.keras.layers.Conv2D(filters=128, kernel_size=(3, 3), activation=\"relu\"),\n",
    "    tf.keras.layers.MaxPool2D(2, 2),\n",
    "    tf.keras.layers.Conv2D(filters=128, kernel_size=(3, 3), activation=\"relu\"),\n",
    "    tf.keras.layers.MaxPool2D(2, 2),\n",
    "    \n",
    "    # Applatir les images\n",
    "    tf.keras.layers.Flatten(),\n",
    "     \n",
    "    # Dense\n",
    "    tf.keras.layers.Dense(units=128, activation=\"elu\"), \n",
    "    tf.keras.layers.Dense(units=1, activation=\"sigmoid\"),\n",
    "              ])\n",
    "\n"
   ]
  },
  {
   "cell_type": "code",
   "execution_count": 54,
   "id": "12a34c71",
   "metadata": {},
   "outputs": [
    {
     "name": "stdout",
     "output_type": "stream",
     "text": [
      "Model: \"sequential\"\n",
      "_________________________________________________________________\n",
      " Layer (type)                Output Shape              Param #   \n",
      "=================================================================\n",
      " conv2d (Conv2D)             (None, 224, 224, 32)      896       \n",
      "                                                                 \n",
      " max_pooling2d (MaxPooling2D  (None, 112, 112, 32)     0         \n",
      " )                                                               \n",
      "                                                                 \n",
      " conv2d_1 (Conv2D)           (None, 110, 110, 64)      18496     \n",
      "                                                                 \n",
      " max_pooling2d_1 (MaxPooling  (None, 55, 55, 64)       0         \n",
      " 2D)                                                             \n",
      "                                                                 \n",
      " conv2d_2 (Conv2D)           (None, 53, 53, 128)       73856     \n",
      "                                                                 \n",
      " max_pooling2d_2 (MaxPooling  (None, 26, 26, 128)      0         \n",
      " 2D)                                                             \n",
      "                                                                 \n",
      " conv2d_3 (Conv2D)           (None, 24, 24, 128)       147584    \n",
      "                                                                 \n",
      " max_pooling2d_3 (MaxPooling  (None, 12, 12, 128)      0         \n",
      " 2D)                                                             \n",
      "                                                                 \n",
      " flatten (Flatten)           (None, 18432)             0         \n",
      "                                                                 \n",
      " dense (Dense)               (None, 128)               2359424   \n",
      "                                                                 \n",
      " dense_1 (Dense)             (None, 1)                 129       \n",
      "                                                                 \n",
      "=================================================================\n",
      "Total params: 2,600,385\n",
      "Trainable params: 2,600,385\n",
      "Non-trainable params: 0\n",
      "_________________________________________________________________\n"
     ]
    }
   ],
   "source": [
    "model.summary()"
   ]
  },
  {
   "cell_type": "code",
   "execution_count": 55,
   "id": "07f6b97a",
   "metadata": {},
   "outputs": [],
   "source": [
    "model_ckp = tf.keras.callbacks.ModelCheckpoint(filepath=\"best_model_oub_int.h5\", \n",
    "                            # save_weights_only=True, \n",
    "                            monitor=\"val_accuracy\", \n",
    "                            mode=\"max\", \n",
    "                            save_best_only=True)\n",
    "\n",
    "stop = tf.keras.callbacks.EarlyStopping(monitor=\"val_accuracy\", \n",
    "                                       patience=3\n",
    "                                       ) "
   ]
  },
  {
   "cell_type": "code",
   "execution_count": 57,
   "id": "0bcc7b68",
   "metadata": {},
   "outputs": [],
   "source": [
    "model.compile(optimizer=tf.keras.optimizers.RMSprop(learning_rate=0.001), # RMSprop modifie le lr au fure et à mesure qu'on fait l'entrainement\n",
    "              loss=\"binary_crossentropy\", \n",
    "              metrics=[\"accuracy\"])"
   ]
  },
  {
   "cell_type": "code",
   "execution_count": null,
   "id": "e6c557ca",
   "metadata": {},
   "outputs": [
    {
     "name": "stdout",
     "output_type": "stream",
     "text": [
      "Epoch 1/50\n",
      "706/706 [==============================] - 1740s 2s/step - loss: 0.4821 - accuracy: 0.7986 - val_loss: 0.3646 - val_accuracy: 0.8420\n",
      "Epoch 2/50\n",
      "706/706 [==============================] - 1720s 2s/step - loss: 0.3756 - accuracy: 0.8375 - val_loss: 0.3119 - val_accuracy: 0.8786\n",
      "Epoch 3/50\n",
      "706/706 [==============================] - 1755s 2s/step - loss: 0.3390 - accuracy: 0.8592 - val_loss: 0.2797 - val_accuracy: 0.8965\n",
      "Epoch 4/50\n",
      "706/706 [==============================] - 1765s 2s/step - loss: 0.3112 - accuracy: 0.8741 - val_loss: 0.2836 - val_accuracy: 0.9005\n",
      "Epoch 5/50\n",
      "706/706 [==============================] - 1882s 3s/step - loss: 0.2894 - accuracy: 0.8815 - val_loss: 0.2778 - val_accuracy: 0.9025\n",
      "Epoch 6/50\n",
      "706/706 [==============================] - 1824s 3s/step - loss: 0.2658 - accuracy: 0.8951 - val_loss: 0.3178 - val_accuracy: 0.8945\n",
      "Epoch 7/50\n",
      "644/706 [==========================>...] - ETA: 2:30 - loss: 0.2380 - accuracy: 0.9058"
     ]
    }
   ],
   "source": [
    "h = model.fit(train_generator, epochs=50, \n",
    "              validation_data=test_generator,\n",
    "             callbacks=[model_ckp, stop])\n",
    "# À chaque iteration on aura 706 entrainement, vu qu'à chaque iteration on selctionne 32 image aléatoire hors on a\n",
    "# 22564 image dans train ce qui fait 22564/32 = 706"
   ]
  },
  {
   "cell_type": "markdown",
   "id": "71c1c845",
   "metadata": {},
   "source": [
    "## Data Augmentation"
   ]
  },
  {
   "cell_type": "code",
   "execution_count": 1,
   "id": "28082ee0",
   "metadata": {},
   "outputs": [],
   "source": [
    "# Ici il s'agira d'augmenter nos datas d'entrainement. C'est à dire on cré une variante des images \n",
    "# en changeant les caractéristiques à chaque variante (on peut créer n variante par image)\n",
    "# Exple: On peut changer la rotation, la luminosité, prendre une partie de l'image etc...\n",
    "# Afin que lors de la prediction, dans n'importe quelle position on puisse détecter la donnée(caractéristique)\n",
    "\n",
    "\n",
    "# Parfois c'est pas la meilleure approche dans le cas ou nos datas étaient assez diversifiées(oui car on avait pas mal de rideau déjà)\n",
    "# Dans notre cas cela a chuté la performance de notre modele"
   ]
  },
  {
   "cell_type": "code",
   "execution_count": 14,
   "id": "40214ee8",
   "metadata": {},
   "outputs": [],
   "source": [
    "# Avant augmentation\n",
    "train_data_generator = ImageDataGenerator(rescale=1/255.0)\n",
    "test_data_generator = ImageDataGenerator(rescale=1/255.0)\n",
    "\n",
    "# Arès augmentation\n",
    "train_data_generator = ImageDataGenerator(rescale=1/255.0,\n",
    "                                         rotation_range=40,\n",
    "                                         width_shift_range=0.2,\n",
    "                                         height_shift_range=0.2,\n",
    "                                         shear_range=0.2,\n",
    "                                         zoom_range=0.2,\n",
    "                                         horizontal_flip=True,\n",
    "                                         fill_mode=\"nearest\")\n",
    "test_data_generator = ImageDataGenerator(rescale=1/255.0)"
   ]
  },
  {
   "cell_type": "code",
   "execution_count": 15,
   "id": "cbfe9c92",
   "metadata": {},
   "outputs": [
    {
     "name": "stdout",
     "output_type": "stream",
     "text": [
      "Found 22564 images belonging to 2 classes.\n",
      "Found 2513 images belonging to 2 classes.\n"
     ]
    }
   ],
   "source": [
    "train_generator = train_data_generator.flow_from_directory(\n",
    "    directory=train_dir, # Le chemin des dossiers train\n",
    "    target_size=(224, 224), # Redimensionner les images à 224/224 vu que les img ont diff size, il ajoute 3\n",
    "    # pour les 3 couleurs RedGreenBlue\n",
    "    batch_size=32, # À chaque entrainement qu'il nous sélectionne 32 images aléatoires\n",
    "    # Le nombre d'image qu'on gardera en mémoire RAM à chaque itération\n",
    "    class_mode=\"binary\" # Pour dire qu'on fait une classification binaire, category_call si on avait plusieurs classes\n",
    ")\n",
    "\n",
    "test_generator = test_data_generator.flow_from_directory(\n",
    "    directory=test_dir, # Le chemin des dossiers train\n",
    "    target_size=(224, 224), # Redimensionner les images à 224/224 vu que les img ont diff size\n",
    "    batch_size=32, # À chaque entrainement qu'il nous sélectionne 32 images aléatoires\n",
    "    class_mode=\"binary\" # Pour dire qu'on fait une classification binaire\n",
    ")"
   ]
  },
  {
   "cell_type": "code",
   "execution_count": 18,
   "id": "917a648d",
   "metadata": {},
   "outputs": [
    {
     "name": "stderr",
     "output_type": "stream",
     "text": [
      "2024-01-27 15:51:24.922137: W tensorflow/compiler/xla/stream_executor/platform/default/dso_loader.cc:64] Could not load dynamic library 'libcuda.so.1'; dlerror: libcuda.so.1: cannot open shared object file: No such file or directory\n",
      "2024-01-27 15:51:24.922179: W tensorflow/compiler/xla/stream_executor/cuda/cuda_driver.cc:265] failed call to cuInit: UNKNOWN ERROR (303)\n",
      "2024-01-27 15:51:24.922215: I tensorflow/compiler/xla/stream_executor/cuda/cuda_diagnostics.cc:156] kernel driver does not appear to be running on this host (elimson-HP-250-G7-Notebook-PC): /proc/driver/nvidia/version does not exist\n",
      "2024-01-27 15:51:24.922621: I tensorflow/core/platform/cpu_feature_guard.cc:193] This TensorFlow binary is optimized with oneAPI Deep Neural Network Library (oneDNN) to use the following CPU instructions in performance-critical operations:  AVX2 FMA\n",
      "To enable them in other operations, rebuild TensorFlow with the appropriate compiler flags.\n"
     ]
    }
   ],
   "source": [
    "model = Sequential([\n",
    "    \n",
    "    # Extraction de caractéristique\n",
    "    # Vu input 224/224 on va augmenter le filtre et les couches\n",
    "    tf.keras.layers.Conv2D(filters=32, kernel_size=(3, 3), padding=\"same\", activation=\"relu\", input_shape=(224, 224, 3)), \n",
    "    tf.keras.layers.MaxPool2D(2, 2), \n",
    "    tf.keras.layers.Conv2D(filters=64, kernel_size=(3, 3), activation=\"relu\"),\n",
    "    tf.keras.layers.MaxPool2D(2, 2),\n",
    "    tf.keras.layers.Conv2D(filters=128, kernel_size=(3, 3), activation=\"relu\"),\n",
    "    tf.keras.layers.MaxPool2D(2, 2),\n",
    "    tf.keras.layers.Conv2D(filters=128, kernel_size=(3, 3), activation=\"relu\"),\n",
    "    tf.keras.layers.MaxPool2D(2, 2),\n",
    "    \n",
    "    # Applatir les images\n",
    "    tf.keras.layers.Flatten(),\n",
    "     \n",
    "    # Dense\n",
    "    tf.keras.layers.Dense(units=128, activation=\"elu\"), \n",
    "    tf.keras.layers.Dense(units=1, activation=\"sigmoid\"),\n",
    "              ])\n",
    "\n"
   ]
  },
  {
   "cell_type": "code",
   "execution_count": 19,
   "id": "f3bfb387",
   "metadata": {},
   "outputs": [],
   "source": [
    "model_ckp = tf.keras.callbacks.ModelCheckpoint(filepath=\"aug_model_poub_int.h5\", \n",
    "                            # save_weights_only=True, \n",
    "                            monitor=\"val_accuracy\", \n",
    "                            mode=\"max\", \n",
    "                            save_best_only=True)\n",
    "\n",
    "stop = tf.keras.callbacks.EarlyStopping(monitor=\"val_accuracy\", \n",
    "                                       patience=3\n",
    "                                       ) \n",
    "\n",
    "model.compile(optimizer=tf.keras.optimizers.RMSprop(learning_rate=0.001), # RMSprop modifie le lr au fure et à mesure qu'on fait l'entrainement\n",
    "              loss=\"binary_crossentropy\", \n",
    "              metrics=[\"accuracy\"])"
   ]
  },
  {
   "cell_type": "code",
   "execution_count": null,
   "id": "abc81b63",
   "metadata": {},
   "outputs": [],
   "source": [
    "h = model.fit(train_generator, epochs=50, \n",
    "              validation_data=test_generator,\n",
    "             callbacks=[model_ckp, stop])\n"
   ]
  },
  {
   "cell_type": "markdown",
   "id": "e655251c",
   "metadata": {},
   "source": [
    "## Transfert learning"
   ]
  },
  {
   "cell_type": "code",
   "execution_count": 20,
   "id": "ac16f25e",
   "metadata": {},
   "outputs": [],
   "source": [
    "# On transfère des compétences(des caractéristiques)"
   ]
  },
  {
   "cell_type": "markdown",
   "id": "e004936b",
   "metadata": {},
   "source": [
    "#### Extraction de caractéristique"
   ]
  },
  {
   "cell_type": "code",
   "execution_count": 21,
   "id": "ed5452d4",
   "metadata": {},
   "outputs": [],
   "source": [
    "from tensorflow.keras.applications import vgg16"
   ]
  },
  {
   "cell_type": "code",
   "execution_count": 22,
   "id": "83df69bd",
   "metadata": {},
   "outputs": [
    {
     "name": "stderr",
     "output_type": "stream",
     "text": [
      "2024-01-27 17:16:55.781533: W tensorflow/tsl/framework/cpu_allocator_impl.cc:82] Allocation of 411041792 exceeds 10% of free system memory.\n",
      "2024-01-27 17:16:56.218293: W tensorflow/tsl/framework/cpu_allocator_impl.cc:82] Allocation of 411041792 exceeds 10% of free system memory.\n",
      "2024-01-27 17:16:56.359524: W tensorflow/tsl/framework/cpu_allocator_impl.cc:82] Allocation of 411041792 exceeds 10% of free system memory.\n",
      "2024-01-27 17:17:11.932402: W tensorflow/tsl/framework/cpu_allocator_impl.cc:82] Allocation of 411041792 exceeds 10% of free system memory.\n"
     ]
    }
   ],
   "source": [
    "pretraining_model = vgg16.VGG16(include_top=True, input_shape=(224, 224, 3))"
   ]
  },
  {
   "cell_type": "code",
   "execution_count": 23,
   "id": "bc08ba77",
   "metadata": {},
   "outputs": [
    {
     "name": "stdout",
     "output_type": "stream",
     "text": [
      "Model: \"vgg16\"\n",
      "_________________________________________________________________\n",
      " Layer (type)                Output Shape              Param #   \n",
      "=================================================================\n",
      " input_1 (InputLayer)        [(None, 224, 224, 3)]     0         \n",
      "                                                                 \n",
      " block1_conv1 (Conv2D)       (None, 224, 224, 64)      1792      \n",
      "                                                                 \n",
      " block1_conv2 (Conv2D)       (None, 224, 224, 64)      36928     \n",
      "                                                                 \n",
      " block1_pool (MaxPooling2D)  (None, 112, 112, 64)      0         \n",
      "                                                                 \n",
      " block2_conv1 (Conv2D)       (None, 112, 112, 128)     73856     \n",
      "                                                                 \n",
      " block2_conv2 (Conv2D)       (None, 112, 112, 128)     147584    \n",
      "                                                                 \n",
      " block2_pool (MaxPooling2D)  (None, 56, 56, 128)       0         \n",
      "                                                                 \n",
      " block3_conv1 (Conv2D)       (None, 56, 56, 256)       295168    \n",
      "                                                                 \n",
      " block3_conv2 (Conv2D)       (None, 56, 56, 256)       590080    \n",
      "                                                                 \n",
      " block3_conv3 (Conv2D)       (None, 56, 56, 256)       590080    \n",
      "                                                                 \n",
      " block3_pool (MaxPooling2D)  (None, 28, 28, 256)       0         \n",
      "                                                                 \n",
      " block4_conv1 (Conv2D)       (None, 28, 28, 512)       1180160   \n",
      "                                                                 \n",
      " block4_conv2 (Conv2D)       (None, 28, 28, 512)       2359808   \n",
      "                                                                 \n",
      " block4_conv3 (Conv2D)       (None, 28, 28, 512)       2359808   \n",
      "                                                                 \n",
      " block4_pool (MaxPooling2D)  (None, 14, 14, 512)       0         \n",
      "                                                                 \n",
      " block5_conv1 (Conv2D)       (None, 14, 14, 512)       2359808   \n",
      "                                                                 \n",
      " block5_conv2 (Conv2D)       (None, 14, 14, 512)       2359808   \n",
      "                                                                 \n",
      " block5_conv3 (Conv2D)       (None, 14, 14, 512)       2359808   \n",
      "                                                                 \n",
      " block5_pool (MaxPooling2D)  (None, 7, 7, 512)         0         \n",
      "                                                                 \n",
      " flatten (Flatten)           (None, 25088)             0         \n",
      "                                                                 \n",
      " fc1 (Dense)                 (None, 4096)              102764544 \n",
      "                                                                 \n",
      " fc2 (Dense)                 (None, 4096)              16781312  \n",
      "                                                                 \n",
      " predictions (Dense)         (None, 1000)              4097000   \n",
      "                                                                 \n",
      "=================================================================\n",
      "Total params: 138,357,544\n",
      "Trainable params: 138,357,544\n",
      "Non-trainable params: 0\n",
      "_________________________________________________________________\n"
     ]
    }
   ],
   "source": [
    "pretraining_model.summary()"
   ]
  },
  {
   "cell_type": "code",
   "execution_count": 24,
   "id": "6812cd16",
   "metadata": {},
   "outputs": [],
   "source": [
    "pretraining_model = vgg16.VGG16(include_top=False, input_shape=(224, 224, 3))"
   ]
  },
  {
   "cell_type": "code",
   "execution_count": 25,
   "id": "2839640a",
   "metadata": {},
   "outputs": [
    {
     "name": "stdout",
     "output_type": "stream",
     "text": [
      "Model: \"vgg16\"\n",
      "_________________________________________________________________\n",
      " Layer (type)                Output Shape              Param #   \n",
      "=================================================================\n",
      " input_2 (InputLayer)        [(None, 224, 224, 3)]     0         \n",
      "                                                                 \n",
      " block1_conv1 (Conv2D)       (None, 224, 224, 64)      1792      \n",
      "                                                                 \n",
      " block1_conv2 (Conv2D)       (None, 224, 224, 64)      36928     \n",
      "                                                                 \n",
      " block1_pool (MaxPooling2D)  (None, 112, 112, 64)      0         \n",
      "                                                                 \n",
      " block2_conv1 (Conv2D)       (None, 112, 112, 128)     73856     \n",
      "                                                                 \n",
      " block2_conv2 (Conv2D)       (None, 112, 112, 128)     147584    \n",
      "                                                                 \n",
      " block2_pool (MaxPooling2D)  (None, 56, 56, 128)       0         \n",
      "                                                                 \n",
      " block3_conv1 (Conv2D)       (None, 56, 56, 256)       295168    \n",
      "                                                                 \n",
      " block3_conv2 (Conv2D)       (None, 56, 56, 256)       590080    \n",
      "                                                                 \n",
      " block3_conv3 (Conv2D)       (None, 56, 56, 256)       590080    \n",
      "                                                                 \n",
      " block3_pool (MaxPooling2D)  (None, 28, 28, 256)       0         \n",
      "                                                                 \n",
      " block4_conv1 (Conv2D)       (None, 28, 28, 512)       1180160   \n",
      "                                                                 \n",
      " block4_conv2 (Conv2D)       (None, 28, 28, 512)       2359808   \n",
      "                                                                 \n",
      " block4_conv3 (Conv2D)       (None, 28, 28, 512)       2359808   \n",
      "                                                                 \n",
      " block4_pool (MaxPooling2D)  (None, 14, 14, 512)       0         \n",
      "                                                                 \n",
      " block5_conv1 (Conv2D)       (None, 14, 14, 512)       2359808   \n",
      "                                                                 \n",
      " block5_conv2 (Conv2D)       (None, 14, 14, 512)       2359808   \n",
      "                                                                 \n",
      " block5_conv3 (Conv2D)       (None, 14, 14, 512)       2359808   \n",
      "                                                                 \n",
      " block5_pool (MaxPooling2D)  (None, 7, 7, 512)         0         \n",
      "                                                                 \n",
      "=================================================================\n",
      "Total params: 14,714,688\n",
      "Trainable params: 14,714,688\n",
      "Non-trainable params: 0\n",
      "_________________________________________________________________\n"
     ]
    }
   ],
   "source": [
    "pretraining_model.summary()"
   ]
  },
  {
   "cell_type": "markdown",
   "id": "993ae3ad",
   "metadata": {},
   "source": [
    "### L'API Sequential"
   ]
  },
  {
   "cell_type": "code",
   "execution_count": null,
   "id": "495829cf",
   "metadata": {},
   "outputs": [],
   "source": [
    "model = Sequential([\n",
    "    \n",
    "    # Extraction de caractéristique\n",
    "    # Vu input 224/224 on va augmenter le filtre et les couches\n",
    "    tf.keras.layers.Conv2D(filters=32, kernel_size=(3, 3), padding=\"same\", activation=\"relu\", input_shape=(224, 224, 3)), \n",
    "    tf.keras.layers.MaxPool2D(2, 2), \n",
    "    tf.keras.layers.Conv2D(filters=64, kernel_size=(3, 3), activation=\"relu\"),\n",
    "    tf.keras.layers.MaxPool2D(2, 2),\n",
    "    tf.keras.layers.Conv2D(filters=128, kernel_size=(3, 3), activation=\"relu\"),\n",
    "    tf.keras.layers.MaxPool2D(2, 2),\n",
    "    tf.keras.layers.Conv2D(filters=128, kernel_size=(3, 3), activation=\"relu\"),\n",
    "    tf.keras.layers.MaxPool2D(2, 2),\n",
    "    \n",
    "    # Applatir les images\n",
    "    tf.keras.layers.Flatten(),\n",
    "     \n",
    "    # Dense\n",
    "    tf.keras.layers.Dense(units=128, activation=\"elu\"), \n",
    "    tf.keras.layers.Dense(units=1, activation=\"sigmoid\"),\n",
    "              ])\n",
    "\n"
   ]
  },
  {
   "cell_type": "code",
   "execution_count": 26,
   "id": "6098c6eb",
   "metadata": {},
   "outputs": [],
   "source": [
    "model = tf.keras.models.Sequential()"
   ]
  },
  {
   "cell_type": "code",
   "execution_count": 27,
   "id": "33dd9db4",
   "metadata": {},
   "outputs": [],
   "source": [
    "model.add(tf.keras.layers.Conv2D(filters=32, kernel_size=(3, 3), padding=\"same\", activation=\"relu\", input_shape=(224, 224, 3)))"
   ]
  },
  {
   "cell_type": "code",
   "execution_count": 28,
   "id": "40762847",
   "metadata": {},
   "outputs": [
    {
     "name": "stdout",
     "output_type": "stream",
     "text": [
      "Model: \"sequential_1\"\n",
      "_________________________________________________________________\n",
      " Layer (type)                Output Shape              Param #   \n",
      "=================================================================\n",
      " conv2d_4 (Conv2D)           (None, 224, 224, 32)      896       \n",
      "                                                                 \n",
      "=================================================================\n",
      "Total params: 896\n",
      "Trainable params: 896\n",
      "Non-trainable params: 0\n",
      "_________________________________________________________________\n"
     ]
    }
   ],
   "source": [
    "model.summary()"
   ]
  },
  {
   "cell_type": "markdown",
   "id": "a0424b10",
   "metadata": {},
   "source": [
    "### API Functional"
   ]
  },
  {
   "cell_type": "code",
   "execution_count": null,
   "id": "85fc4428",
   "metadata": {},
   "outputs": [],
   "source": []
  },
  {
   "cell_type": "code",
   "execution_count": null,
   "id": "7a6cac5d",
   "metadata": {},
   "outputs": [],
   "source": [
    "# Fonctionnement\n",
    "inputs = tf.keras.Input(shape=(224, 224, 3))\n",
    "x = tf.keras.layers.Conv2D(tf.keras.layers.Conv2D(filters=32, kernel_size=(3, 3)))(inputs)\n",
    "print() # Ici on a la possibilité de faire des prints, c'qui n'est pas le cas avec l'api sequential\n",
    "x = tf.keras.layers.MaxPool2D(2, 2)(x)\n",
    "outputs = tf.keras.layers.Flatten()(x)"
   ]
  },
  {
   "cell_type": "code",
   "execution_count": null,
   "id": "d088a6b2",
   "metadata": {},
   "outputs": [],
   "source": [
    "model = tf.keras.Model(inputs, outputs)"
   ]
  },
  {
   "cell_type": "code",
   "execution_count": null,
   "id": "29669d90",
   "metadata": {},
   "outputs": [],
   "source": [
    "# VS API Sequential\n",
    "model = Sequential([\n",
    "    \n",
    "    # Extraction de caractéristique\n",
    "    # Vu input 224/224 on va augmenter le filtre et les couches\n",
    "    tf.keras.layers.Conv2D(filters=32, kernel_size=(3, 3), padding=\"same\", activation=\"relu\", input_shape=(224, 224, 3)), \n",
    "    tf.keras.layers.MaxPool2D(2, 2), \n",
    "    tf.keras.layers.Conv2D(filters=64, kernel_size=(3, 3), activation=\"relu\"),\n",
    "    tf.keras.layers.MaxPool2D(2, 2),\n",
    "    tf.keras.layers.Conv2D(filters=128, kernel_size=(3, 3), activation=\"relu\"),\n",
    "    tf.keras.layers.MaxPool2D(2, 2),\n",
    "    tf.keras.layers.Conv2D(filters=128, kernel_size=(3, 3), activation=\"relu\"),\n",
    "    tf.keras.layers.MaxPool2D(2, 2),\n",
    "    \n",
    "    # Applatir les images\n",
    "    tf.keras.layers.Flatten(),\n",
    "     \n",
    "    # Dense\n",
    "    tf.keras.layers.Dense(units=128, activation=\"relu\"), \n",
    "    tf.keras.layers.Dense(units=1, activation=\"sigmoid\"),\n",
    "              ])\n",
    "\n"
   ]
  },
  {
   "cell_type": "markdown",
   "id": "c4e668c1",
   "metadata": {},
   "source": [
    "### Utilisation des filtres de VGG 16"
   ]
  },
  {
   "cell_type": "code",
   "execution_count": 29,
   "id": "0c718ee6",
   "metadata": {},
   "outputs": [],
   "source": [
    "# Frise\n",
    "pretraining_model.trainable = False # Pour signifier que les parametres issues du VGG ne seront pas entrainer"
   ]
  },
  {
   "cell_type": "code",
   "execution_count": 30,
   "id": "4ad0e715",
   "metadata": {},
   "outputs": [],
   "source": [
    "Flatten_layer = tf.keras.layers.Flatten()"
   ]
  },
  {
   "cell_type": "code",
   "execution_count": 31,
   "id": "dfd1aa29",
   "metadata": {},
   "outputs": [],
   "source": [
    "inputs = tf.keras.Input(shape=(224, 224, 3))\n",
    "x = pretraining_model(inputs)\n",
    "x = Flatten_layer(x) # 7*7*512 les parametres de sortie de VGG\n",
    "x = tf.keras.layers.Dense(128, activation=\"relu\")(x)\n",
    "outputs = tf.keras.layers.Dense(1, activation=\"sigmoid\")(x)\n",
    "\n",
    "model = tf.keras.Model(inputs, outputs)"
   ]
  },
  {
   "cell_type": "code",
   "execution_count": 32,
   "id": "82379626",
   "metadata": {},
   "outputs": [
    {
     "name": "stdout",
     "output_type": "stream",
     "text": [
      "Model: \"model\"\n",
      "_________________________________________________________________\n",
      " Layer (type)                Output Shape              Param #   \n",
      "=================================================================\n",
      " input_3 (InputLayer)        [(None, 224, 224, 3)]     0         \n",
      "                                                                 \n",
      " vgg16 (Functional)          (None, 7, 7, 512)         14714688  \n",
      "                                                                 \n",
      " flatten_1 (Flatten)         (None, 25088)             0         \n",
      "                                                                 \n",
      " dense_2 (Dense)             (None, 128)               3211392   \n",
      "                                                                 \n",
      " dense_3 (Dense)             (None, 1)                 129       \n",
      "                                                                 \n",
      "=================================================================\n",
      "Total params: 17,926,209\n",
      "Trainable params: 3,211,521\n",
      "Non-trainable params: 14,714,688\n",
      "_________________________________________________________________\n"
     ]
    }
   ],
   "source": [
    "model.summary() # 7*7*512*128 nombre de parametre qui seront entrainés"
   ]
  },
  {
   "cell_type": "code",
   "execution_count": 34,
   "id": "6829544b",
   "metadata": {},
   "outputs": [
    {
     "data": {
      "text/plain": [
       "3211264"
      ]
     },
     "execution_count": 34,
     "metadata": {},
     "output_type": "execute_result"
    }
   ],
   "source": [
    "7*7*512*128"
   ]
  },
  {
   "cell_type": "code",
   "execution_count": 35,
   "id": "5597ea26",
   "metadata": {},
   "outputs": [],
   "source": [
    "model_ckp = tf.keras.callbacks.ModelCheckpoint(filepath=\"aug_model_poub_int.h5\", \n",
    "                            # save_weights_only=True, \n",
    "                            monitor=\"val_accuracy\", \n",
    "                            mode=\"max\", \n",
    "                            save_best_only=True)\n",
    "\n",
    "stop = tf.keras.callbacks.EarlyStopping(monitor=\"val_accuracy\", \n",
    "                                       patience=3\n",
    "                                       ) \n",
    "\n",
    "model.compile(optimizer=tf.keras.optimizers.RMSprop(learning_rate=0.001), # RMSprop modifie le lr au fure et à mesure qu'on fait l'entrainement\n",
    "              loss=\"binary_crossentropy\", \n",
    "              metrics=[\"accuracy\"])"
   ]
  },
  {
   "cell_type": "code",
   "execution_count": null,
   "id": "1f6c6d2d",
   "metadata": {},
   "outputs": [],
   "source": [
    "h = model.fit(train_generator, epochs=50, \n",
    "              validation_data=test_generator,\n",
    "             callbacks=[model_ckp, stop])\n"
   ]
  },
  {
   "cell_type": "code",
   "execution_count": 36,
   "id": "ec09bfc4",
   "metadata": {},
   "outputs": [],
   "source": [
    "# À comparer avec les résultats de Data Augmentation et Modeling"
   ]
  },
  {
   "cell_type": "markdown",
   "id": "b63d8eca",
   "metadata": {},
   "source": [
    "### Fine Turing"
   ]
  },
  {
   "cell_type": "code",
   "execution_count": 37,
   "id": "72d8b34d",
   "metadata": {},
   "outputs": [
    {
     "name": "stdout",
     "output_type": "stream",
     "text": [
      "Model: \"vgg16\"\n",
      "_________________________________________________________________\n",
      " Layer (type)                Output Shape              Param #   \n",
      "=================================================================\n",
      " input_2 (InputLayer)        [(None, 224, 224, 3)]     0         \n",
      "                                                                 \n",
      " block1_conv1 (Conv2D)       (None, 224, 224, 64)      1792      \n",
      "                                                                 \n",
      " block1_conv2 (Conv2D)       (None, 224, 224, 64)      36928     \n",
      "                                                                 \n",
      " block1_pool (MaxPooling2D)  (None, 112, 112, 64)      0         \n",
      "                                                                 \n",
      " block2_conv1 (Conv2D)       (None, 112, 112, 128)     73856     \n",
      "                                                                 \n",
      " block2_conv2 (Conv2D)       (None, 112, 112, 128)     147584    \n",
      "                                                                 \n",
      " block2_pool (MaxPooling2D)  (None, 56, 56, 128)       0         \n",
      "                                                                 \n",
      " block3_conv1 (Conv2D)       (None, 56, 56, 256)       295168    \n",
      "                                                                 \n",
      " block3_conv2 (Conv2D)       (None, 56, 56, 256)       590080    \n",
      "                                                                 \n",
      " block3_conv3 (Conv2D)       (None, 56, 56, 256)       590080    \n",
      "                                                                 \n",
      " block3_pool (MaxPooling2D)  (None, 28, 28, 256)       0         \n",
      "                                                                 \n",
      " block4_conv1 (Conv2D)       (None, 28, 28, 512)       1180160   \n",
      "                                                                 \n",
      " block4_conv2 (Conv2D)       (None, 28, 28, 512)       2359808   \n",
      "                                                                 \n",
      " block4_conv3 (Conv2D)       (None, 28, 28, 512)       2359808   \n",
      "                                                                 \n",
      " block4_pool (MaxPooling2D)  (None, 14, 14, 512)       0         \n",
      "                                                                 \n",
      " block5_conv1 (Conv2D)       (None, 14, 14, 512)       2359808   \n",
      "                                                                 \n",
      " block5_conv2 (Conv2D)       (None, 14, 14, 512)       2359808   \n",
      "                                                                 \n",
      " block5_conv3 (Conv2D)       (None, 14, 14, 512)       2359808   \n",
      "                                                                 \n",
      " block5_pool (MaxPooling2D)  (None, 7, 7, 512)         0         \n",
      "                                                                 \n",
      "=================================================================\n",
      "Total params: 14,714,688\n",
      "Trainable params: 0\n",
      "Non-trainable params: 14,714,688\n",
      "_________________________________________________________________\n"
     ]
    }
   ],
   "source": [
    "pretraining_model.summary() # 0 param entrainable"
   ]
  },
  {
   "cell_type": "code",
   "execution_count": 38,
   "id": "ee7a3910",
   "metadata": {},
   "outputs": [
    {
     "data": {
      "text/plain": [
       "[<keras.engine.input_layer.InputLayer at 0x7f07745997e0>,\n",
       " <keras.layers.convolutional.conv2d.Conv2D at 0x7f0751f781f0>,\n",
       " <keras.layers.convolutional.conv2d.Conv2D at 0x7f0751f78730>,\n",
       " <keras.layers.pooling.max_pooling2d.MaxPooling2D at 0x7f0751f78eb0>,\n",
       " <keras.layers.convolutional.conv2d.Conv2D at 0x7f07747482b0>,\n",
       " <keras.layers.convolutional.conv2d.Conv2D at 0x7f0751f7a7d0>,\n",
       " <keras.layers.pooling.max_pooling2d.MaxPooling2D at 0x7f0751f7b760>,\n",
       " <keras.layers.convolutional.conv2d.Conv2D at 0x7f0751f7b790>,\n",
       " <keras.layers.convolutional.conv2d.Conv2D at 0x7f0751f797e0>,\n",
       " <keras.layers.convolutional.conv2d.Conv2D at 0x7f0751fecfd0>,\n",
       " <keras.layers.pooling.max_pooling2d.MaxPooling2D at 0x7f0751f7aa40>,\n",
       " <keras.layers.convolutional.conv2d.Conv2D at 0x7f0751f79f30>,\n",
       " <keras.layers.convolutional.conv2d.Conv2D at 0x7f0751feea40>,\n",
       " <keras.layers.convolutional.conv2d.Conv2D at 0x7f0751fef910>,\n",
       " <keras.layers.pooling.max_pooling2d.MaxPooling2D at 0x7f0751fec2b0>,\n",
       " <keras.layers.convolutional.conv2d.Conv2D at 0x7f0751fef580>,\n",
       " <keras.layers.convolutional.conv2d.Conv2D at 0x7f0751e618d0>,\n",
       " <keras.layers.convolutional.conv2d.Conv2D at 0x7f0751e62920>,\n",
       " <keras.layers.pooling.max_pooling2d.MaxPooling2D at 0x7f0751e62f80>]"
      ]
     },
     "execution_count": 38,
     "metadata": {},
     "output_type": "execute_result"
    }
   ],
   "source": [
    "pretraining_model.layers"
   ]
  },
  {
   "cell_type": "code",
   "execution_count": 39,
   "id": "d66a47c4",
   "metadata": {},
   "outputs": [],
   "source": [
    "pretraining_model.trainable = True # On frise"
   ]
  },
  {
   "cell_type": "code",
   "execution_count": 40,
   "id": "2c8858b6",
   "metadata": {},
   "outputs": [],
   "source": [
    "# À présent on essayera d'entrainer les params uniquement pour les 4 derniers layers\n",
    "\n",
    "for layer in pretraining_model.layers[:-4]:\n",
    "    layer.trainable = False"
   ]
  },
  {
   "cell_type": "code",
   "execution_count": 41,
   "id": "d6031f76",
   "metadata": {},
   "outputs": [],
   "source": [
    "model_ckp = tf.keras.callbacks.ModelCheckpoint(filepath=\"aug_model_poub_int.h5\", \n",
    "                            # save_weights_only=True, \n",
    "                            monitor=\"val_accuracy\", \n",
    "                            mode=\"max\", \n",
    "                            save_best_only=True)\n",
    "\n",
    "stop = tf.keras.callbacks.EarlyStopping(monitor=\"val_accuracy\", \n",
    "                                       patience=3\n",
    "                                       ) \n",
    "\n",
    "model.compile(optimizer=tf.keras.optimizers.RMSprop(learning_rate=0.001), # RMSprop modifie le lr au fure et à mesure qu'on fait l'entrainement\n",
    "              loss=\"binary_crossentropy\", \n",
    "              metrics=[\"accuracy\"])"
   ]
  },
  {
   "cell_type": "code",
   "execution_count": 42,
   "id": "890ebcd6",
   "metadata": {},
   "outputs": [
    {
     "name": "stdout",
     "output_type": "stream",
     "text": [
      "Model: \"model\"\n",
      "_________________________________________________________________\n",
      " Layer (type)                Output Shape              Param #   \n",
      "=================================================================\n",
      " input_3 (InputLayer)        [(None, 224, 224, 3)]     0         \n",
      "                                                                 \n",
      " vgg16 (Functional)          (None, 7, 7, 512)         14714688  \n",
      "                                                                 \n",
      " flatten_1 (Flatten)         (None, 25088)             0         \n",
      "                                                                 \n",
      " dense_2 (Dense)             (None, 128)               3211392   \n",
      "                                                                 \n",
      " dense_3 (Dense)             (None, 1)                 129       \n",
      "                                                                 \n",
      "=================================================================\n",
      "Total params: 17,926,209\n",
      "Trainable params: 10,290,945\n",
      "Non-trainable params: 7,635,264\n",
      "_________________________________________________________________\n"
     ]
    }
   ],
   "source": [
    "model.summary() # Plus de param à entrainer (10M)"
   ]
  },
  {
   "cell_type": "code",
   "execution_count": null,
   "id": "036d2948",
   "metadata": {},
   "outputs": [],
   "source": [
    "# Ensuite on passe à l'entrainement avec le callbacks, compile, fit etc..."
   ]
  }
 ],
 "metadata": {
  "kernelspec": {
   "display_name": "Python 3 (ipykernel)",
   "language": "python",
   "name": "python3"
  },
  "language_info": {
   "codemirror_mode": {
    "name": "ipython",
    "version": 3
   },
   "file_extension": ".py",
   "mimetype": "text/x-python",
   "name": "python",
   "nbconvert_exporter": "python",
   "pygments_lexer": "ipython3",
   "version": "3.10.12"
  }
 },
 "nbformat": 4,
 "nbformat_minor": 5
}
