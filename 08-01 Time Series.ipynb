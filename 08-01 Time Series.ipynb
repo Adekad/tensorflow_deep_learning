{
 "cells": [
  {
   "cell_type": "markdown",
   "id": "0fe43533-026f-4dbf-937c-a163c261747e",
   "metadata": {},
   "source": [
    "## Les Séries Temporelles "
   ]
  },
  {
   "cell_type": "markdown",
   "id": "f0ec3bc6-d439-4a7a-aabd-7f9df7f8a0cb",
   "metadata": {},
   "source": [
    "### Import Data"
   ]
  },
  {
   "cell_type": "code",
   "execution_count": 1,
   "id": "a515576a-95a7-4f39-847e-48626b215fd2",
   "metadata": {},
   "outputs": [],
   "source": [
    "data = \"../data_deep_learning/station.csv\""
   ]
  },
  {
   "cell_type": "code",
   "execution_count": 2,
   "id": "c0c3c89f-b098-4167-a37c-364c72bfdeb0",
   "metadata": {},
   "outputs": [],
   "source": [
    "import pandas as pd\n",
    "import numpy as np"
   ]
  },
  {
   "cell_type": "code",
   "execution_count": 3,
   "id": "f2d5d8ac-fe77-4e0d-97e6-8be51e452f09",
   "metadata": {},
   "outputs": [
    {
     "data": {
      "text/html": [
       "<div>\n",
       "<style scoped>\n",
       "    .dataframe tbody tr th:only-of-type {\n",
       "        vertical-align: middle;\n",
       "    }\n",
       "\n",
       "    .dataframe tbody tr th {\n",
       "        vertical-align: top;\n",
       "    }\n",
       "\n",
       "    .dataframe thead th {\n",
       "        text-align: right;\n",
       "    }\n",
       "</style>\n",
       "<table border=\"1\" class=\"dataframe\">\n",
       "  <thead>\n",
       "    <tr style=\"text-align: right;\">\n",
       "      <th></th>\n",
       "      <th>YEAR</th>\n",
       "      <th>JAN</th>\n",
       "      <th>FEB</th>\n",
       "      <th>MAR</th>\n",
       "      <th>APR</th>\n",
       "      <th>MAY</th>\n",
       "      <th>JUN</th>\n",
       "      <th>JUL</th>\n",
       "      <th>AUG</th>\n",
       "      <th>SEP</th>\n",
       "      <th>OCT</th>\n",
       "      <th>NOV</th>\n",
       "      <th>DEC</th>\n",
       "      <th>D-J-F</th>\n",
       "      <th>M-A-M</th>\n",
       "      <th>J-J-A</th>\n",
       "      <th>S-O-N</th>\n",
       "      <th>metANN</th>\n",
       "    </tr>\n",
       "  </thead>\n",
       "  <tbody>\n",
       "    <tr>\n",
       "      <th>0</th>\n",
       "      <td>1973</td>\n",
       "      <td>4.15</td>\n",
       "      <td>4.23</td>\n",
       "      <td>6.00</td>\n",
       "      <td>7.92</td>\n",
       "      <td>12.21</td>\n",
       "      <td>15.02</td>\n",
       "      <td>16.33</td>\n",
       "      <td>18.13</td>\n",
       "      <td>15.21</td>\n",
       "      <td>11.11</td>\n",
       "      <td>7.32</td>\n",
       "      <td>5.65</td>\n",
       "      <td>4.39</td>\n",
       "      <td>8.71</td>\n",
       "      <td>16.49</td>\n",
       "      <td>11.21</td>\n",
       "      <td>10.20</td>\n",
       "    </tr>\n",
       "    <tr>\n",
       "      <th>1</th>\n",
       "      <td>1974</td>\n",
       "      <td>7.08</td>\n",
       "      <td>6.11</td>\n",
       "      <td>6.75</td>\n",
       "      <td>9.16</td>\n",
       "      <td>11.01</td>\n",
       "      <td>14.34</td>\n",
       "      <td>15.85</td>\n",
       "      <td>16.62</td>\n",
       "      <td>13.36</td>\n",
       "      <td>8.38</td>\n",
       "      <td>8.43</td>\n",
       "      <td>8.61</td>\n",
       "      <td>6.28</td>\n",
       "      <td>8.97</td>\n",
       "      <td>15.60</td>\n",
       "      <td>10.06</td>\n",
       "      <td>10.23</td>\n",
       "    </tr>\n",
       "    <tr>\n",
       "      <th>2</th>\n",
       "      <td>1975</td>\n",
       "      <td>7.93</td>\n",
       "      <td>5.69</td>\n",
       "      <td>5.66</td>\n",
       "      <td>8.66</td>\n",
       "      <td>10.36</td>\n",
       "      <td>14.39</td>\n",
       "      <td>17.44</td>\n",
       "      <td>19.02</td>\n",
       "      <td>15.12</td>\n",
       "      <td>10.48</td>\n",
       "      <td>7.07</td>\n",
       "      <td>3.47</td>\n",
       "      <td>7.41</td>\n",
       "      <td>8.23</td>\n",
       "      <td>16.95</td>\n",
       "      <td>10.89</td>\n",
       "      <td>10.87</td>\n",
       "    </tr>\n",
       "    <tr>\n",
       "      <th>3</th>\n",
       "      <td>1976</td>\n",
       "      <td>5.70</td>\n",
       "      <td>4.87</td>\n",
       "      <td>5.95</td>\n",
       "      <td>7.98</td>\n",
       "      <td>13.13</td>\n",
       "      <td>17.35</td>\n",
       "      <td>19.05</td>\n",
       "      <td>18.04</td>\n",
       "      <td>15.13</td>\n",
       "      <td>12.02</td>\n",
       "      <td>7.54</td>\n",
       "      <td>3.41</td>\n",
       "      <td>4.68</td>\n",
       "      <td>9.02</td>\n",
       "      <td>18.15</td>\n",
       "      <td>11.56</td>\n",
       "      <td>10.85</td>\n",
       "    </tr>\n",
       "    <tr>\n",
       "      <th>4</th>\n",
       "      <td>1977</td>\n",
       "      <td>4.07</td>\n",
       "      <td>7.31</td>\n",
       "      <td>8.16</td>\n",
       "      <td>7.89</td>\n",
       "      <td>11.18</td>\n",
       "      <td>13.16</td>\n",
       "      <td>16.17</td>\n",
       "      <td>15.50</td>\n",
       "      <td>13.35</td>\n",
       "      <td>12.67</td>\n",
       "      <td>7.89</td>\n",
       "      <td>7.35</td>\n",
       "      <td>4.93</td>\n",
       "      <td>9.08</td>\n",
       "      <td>14.94</td>\n",
       "      <td>11.30</td>\n",
       "      <td>10.06</td>\n",
       "    </tr>\n",
       "  </tbody>\n",
       "</table>\n",
       "</div>"
      ],
      "text/plain": [
       "   YEAR   JAN   FEB   MAR   APR    MAY    JUN    JUL    AUG    SEP    OCT  \\\n",
       "0  1973  4.15  4.23  6.00  7.92  12.21  15.02  16.33  18.13  15.21  11.11   \n",
       "1  1974  7.08  6.11  6.75  9.16  11.01  14.34  15.85  16.62  13.36   8.38   \n",
       "2  1975  7.93  5.69  5.66  8.66  10.36  14.39  17.44  19.02  15.12  10.48   \n",
       "3  1976  5.70  4.87  5.95  7.98  13.13  17.35  19.05  18.04  15.13  12.02   \n",
       "4  1977  4.07  7.31  8.16  7.89  11.18  13.16  16.17  15.50  13.35  12.67   \n",
       "\n",
       "    NOV   DEC  D-J-F  M-A-M  J-J-A  S-O-N  metANN  \n",
       "0  7.32  5.65   4.39   8.71  16.49  11.21   10.20  \n",
       "1  8.43  8.61   6.28   8.97  15.60  10.06   10.23  \n",
       "2  7.07  3.47   7.41   8.23  16.95  10.89   10.87  \n",
       "3  7.54  3.41   4.68   9.02  18.15  11.56   10.85  \n",
       "4  7.89  7.35   4.93   9.08  14.94  11.30   10.06  "
      ]
     },
     "execution_count": 3,
     "metadata": {},
     "output_type": "execute_result"
    }
   ],
   "source": [
    "df = pd.read_csv(data)\n",
    "\n",
    "df.head()"
   ]
  },
  {
   "cell_type": "code",
   "execution_count": 4,
   "id": "2cc13210-d02c-440d-999a-c2c1207194d4",
   "metadata": {},
   "outputs": [
    {
     "data": {
      "text/html": [
       "<div>\n",
       "<style scoped>\n",
       "    .dataframe tbody tr th:only-of-type {\n",
       "        vertical-align: middle;\n",
       "    }\n",
       "\n",
       "    .dataframe tbody tr th {\n",
       "        vertical-align: top;\n",
       "    }\n",
       "\n",
       "    .dataframe thead th {\n",
       "        text-align: right;\n",
       "    }\n",
       "</style>\n",
       "<table border=\"1\" class=\"dataframe\">\n",
       "  <thead>\n",
       "    <tr style=\"text-align: right;\">\n",
       "      <th></th>\n",
       "      <th>YEAR</th>\n",
       "      <th>JAN</th>\n",
       "      <th>FEB</th>\n",
       "      <th>MAR</th>\n",
       "      <th>APR</th>\n",
       "      <th>MAY</th>\n",
       "      <th>JUN</th>\n",
       "      <th>JUL</th>\n",
       "      <th>AUG</th>\n",
       "      <th>SEP</th>\n",
       "      <th>OCT</th>\n",
       "      <th>NOV</th>\n",
       "      <th>DEC</th>\n",
       "      <th>D-J-F</th>\n",
       "      <th>M-A-M</th>\n",
       "      <th>J-J-A</th>\n",
       "      <th>S-O-N</th>\n",
       "      <th>metANN</th>\n",
       "    </tr>\n",
       "  </thead>\n",
       "  <tbody>\n",
       "    <tr>\n",
       "      <th>46</th>\n",
       "      <td>2019</td>\n",
       "      <td>5.13</td>\n",
       "      <td>7.38</td>\n",
       "      <td>9.08</td>\n",
       "      <td>9.68</td>\n",
       "      <td>11.88</td>\n",
       "      <td>16.53</td>\n",
       "      <td>18.93</td>\n",
       "      <td>18.58</td>\n",
       "      <td>16.08</td>\n",
       "      <td>12.93</td>\n",
       "      <td>7.88</td>\n",
       "      <td>7.03</td>\n",
       "      <td>6.80</td>\n",
       "      <td>10.21</td>\n",
       "      <td>18.01</td>\n",
       "      <td>12.30</td>\n",
       "      <td>11.83</td>\n",
       "    </tr>\n",
       "    <tr>\n",
       "      <th>47</th>\n",
       "      <td>2020</td>\n",
       "      <td>6.83</td>\n",
       "      <td>8.33</td>\n",
       "      <td>7.88</td>\n",
       "      <td>12.13</td>\n",
       "      <td>13.03</td>\n",
       "      <td>16.18</td>\n",
       "      <td>17.78</td>\n",
       "      <td>19.98</td>\n",
       "      <td>16.88</td>\n",
       "      <td>12.18</td>\n",
       "      <td>9.88</td>\n",
       "      <td>6.89</td>\n",
       "      <td>7.40</td>\n",
       "      <td>11.01</td>\n",
       "      <td>17.98</td>\n",
       "      <td>12.98</td>\n",
       "      <td>12.34</td>\n",
       "    </tr>\n",
       "    <tr>\n",
       "      <th>48</th>\n",
       "      <td>2021</td>\n",
       "      <td>5.09</td>\n",
       "      <td>6.44</td>\n",
       "      <td>7.64</td>\n",
       "      <td>7.29</td>\n",
       "      <td>11.64</td>\n",
       "      <td>16.74</td>\n",
       "      <td>18.09</td>\n",
       "      <td>17.19</td>\n",
       "      <td>17.29</td>\n",
       "      <td>12.79</td>\n",
       "      <td>8.24</td>\n",
       "      <td>7.54</td>\n",
       "      <td>6.14</td>\n",
       "      <td>8.86</td>\n",
       "      <td>17.34</td>\n",
       "      <td>12.77</td>\n",
       "      <td>11.28</td>\n",
       "    </tr>\n",
       "    <tr>\n",
       "      <th>49</th>\n",
       "      <td>2022</td>\n",
       "      <td>5.69</td>\n",
       "      <td>7.54</td>\n",
       "      <td>9.19</td>\n",
       "      <td>9.84</td>\n",
       "      <td>14.19</td>\n",
       "      <td>16.94</td>\n",
       "      <td>19.69</td>\n",
       "      <td>19.94</td>\n",
       "      <td>16.29</td>\n",
       "      <td>15.09</td>\n",
       "      <td>10.44</td>\n",
       "      <td>5.00</td>\n",
       "      <td>6.92</td>\n",
       "      <td>11.07</td>\n",
       "      <td>18.86</td>\n",
       "      <td>13.94</td>\n",
       "      <td>12.70</td>\n",
       "    </tr>\n",
       "    <tr>\n",
       "      <th>50</th>\n",
       "      <td>2023</td>\n",
       "      <td>6.75</td>\n",
       "      <td>6.90</td>\n",
       "      <td>9.35</td>\n",
       "      <td>10.05</td>\n",
       "      <td>13.20</td>\n",
       "      <td>18.00</td>\n",
       "      <td>18.25</td>\n",
       "      <td>18.40</td>\n",
       "      <td>19.15</td>\n",
       "      <td>14.65</td>\n",
       "      <td>9.75</td>\n",
       "      <td>8.65</td>\n",
       "      <td>6.22</td>\n",
       "      <td>10.87</td>\n",
       "      <td>18.22</td>\n",
       "      <td>14.52</td>\n",
       "      <td>12.45</td>\n",
       "    </tr>\n",
       "  </tbody>\n",
       "</table>\n",
       "</div>"
      ],
      "text/plain": [
       "    YEAR   JAN   FEB   MAR    APR    MAY    JUN    JUL    AUG    SEP    OCT  \\\n",
       "46  2019  5.13  7.38  9.08   9.68  11.88  16.53  18.93  18.58  16.08  12.93   \n",
       "47  2020  6.83  8.33  7.88  12.13  13.03  16.18  17.78  19.98  16.88  12.18   \n",
       "48  2021  5.09  6.44  7.64   7.29  11.64  16.74  18.09  17.19  17.29  12.79   \n",
       "49  2022  5.69  7.54  9.19   9.84  14.19  16.94  19.69  19.94  16.29  15.09   \n",
       "50  2023  6.75  6.90  9.35  10.05  13.20  18.00  18.25  18.40  19.15  14.65   \n",
       "\n",
       "      NOV   DEC  D-J-F  M-A-M  J-J-A  S-O-N  metANN  \n",
       "46   7.88  7.03   6.80  10.21  18.01  12.30   11.83  \n",
       "47   9.88  6.89   7.40  11.01  17.98  12.98   12.34  \n",
       "48   8.24  7.54   6.14   8.86  17.34  12.77   11.28  \n",
       "49  10.44  5.00   6.92  11.07  18.86  13.94   12.70  \n",
       "50   9.75  8.65   6.22  10.87  18.22  14.52   12.45  "
      ]
     },
     "execution_count": 4,
     "metadata": {},
     "output_type": "execute_result"
    }
   ],
   "source": [
    "df.tail()"
   ]
  },
  {
   "cell_type": "markdown",
   "id": "272d3553-54ab-4685-b3b8-bad4a96025bc",
   "metadata": {},
   "source": [
    "### Créer la Série Temporelles"
   ]
  },
  {
   "cell_type": "code",
   "execution_count": 5,
   "id": "d35d5bfb-ecea-4bde-8a1d-6f6b76311b98",
   "metadata": {},
   "outputs": [],
   "source": [
    "temps = df.loc[:, \"JAN\": \"DEC\"]"
   ]
  },
  {
   "cell_type": "code",
   "execution_count": 6,
   "id": "a5bc85d1-3711-4674-8f2f-efa8be5935bb",
   "metadata": {},
   "outputs": [
    {
     "name": "stdout",
     "output_type": "stream",
     "text": [
      "[4.15, 4.23, 6.0, 7.92, 12.21, 15.02, 16.33, 18.13, 15.21, 11.11, 7.32, 5.65, 7.08, 6.11, 6.75, 9.16, 11.01, 14.34, 15.85, 16.62, 13.36, 8.38, 8.43, 8.61, 7.93, 5.69, 5.66, 8.66, 10.36, 14.39, 17.44, 19.02, 15.12, 10.48, 7.07, 3.47, 5.7, 4.87, 5.95, 7.98, 13.13, 17.35, 19.05, 18.04, 15.13, 12.02, 7.54, 3.41, 4.07, 7.31, 8.16, 7.89, 11.18, 13.16, 16.17, 15.5, 13.35, 12.67, 7.89, 7.35, 4.2, 3.63, 7.51, 7.74, 11.48, 13.54, 15.49, 15.06, 14.52, 12.65, 9.08, 5.07, 0.35, 3.23, 6.09, 8.24, 10.66, 13.68, 16.41, 15.38, 14.27, 11.84, 8.06, 6.9, 1.84, 6.87, 5.71, 8.46, 11.03, 14.28, 15.34, 16.97, 15.32, 10.17, 6.39, 4.97, 5.39, 3.14, 9.4, 8.2, 11.6, 13.64, 15.96, 16.73, 14.87, 10.33, 8.33, 4.65, 4.51, 5.6, 6.03, 8.65, 12.96, 16.86, 17.19, 16.85, 16.3, 11.07, 8.6, 5.04, 7.04, 1.75, 6.48, 7.88, 11.15, 15.02, 19.92, 17.63, 15.97, 11.57, 8.07, 5.26, 5.72, 4.89, 5.8, 9.09, 9.7, 14.79, 17.98, 18.46, 15.06, 11.85, 9.52, 5.29, 0.56, 2.9, 5.49, 9.09, 11.46, 14.05, 17.42, 15.69, 15.61, 11.23, 4.93, 6.76, 5.29, -1.14, 5.8, 6.43, 12.53, 16.18, 17.01, 15.13, 12.76, 13.11, 8.39, 6.72, -1.09, 4.09, 5.17, 11.06, 10.83, 14.22, 16.64, 17.16, 16.19, 11.14, 7.09, 5.27, 6.72, 5.18, 7.26, 9.22, 12.53, 14.21, 15.83, 16.86, 14.81, 11.89, 6.26, 7.82, 5.09, 6.41, 9.36, 7.42, 14.09, 999.9, 18.56, 17.15, 16.02, 13.63, 6.49, 4.8, 6.52, 9.12, 8.86, 8.5, 13.89, 13.85, 17.82, 18.76, 14.71, 13.27, 7.52, 4.37, 4.28, 2.87, 9.09, 8.97, 10.96, 13.83, 17.92, 18.3, 16.65, 10.87, 7.51, 3.94, 3.26, 5.53, 8.01, 8.79, 14.04, 15.1, 17.15, 17.49, 14.85, 9.93, 9.51, 5.0, 7.4, 4.69, 7.57, 10.64, 13.75, 16.02, 16.39, 16.32, 14.14, 9.51, 4.21, 7.14, 6.61, 5.15, 8.82, 8.65, 12.45, 15.94, 18.54, 17.49, 13.85, 11.04, 10.67, 7.24, 5.82, 8.32, 6.51, 8.6, 12.93, 14.36, 19.14, 19.47, 14.2, 14.3, 7.82, 3.41, 4.88, 3.61, 5.78, 9.19, 10.68, 16.15, 17.41, 17.51, 13.72, 12.2, 7.02, 2.64, 1.15, 7.63, 8.92, 8.71, 12.36, 15.14, 16.94, 19.88, 15.45, 11.52, 8.71, 6.02, 5.11, 6.43, 8.21, 8.79, 13.85, 15.32, 16.38, 17.52, 15.69, 11.86, 6.03, 6.28, 7.05, 5.58, 7.88, 10.12, 14.4, 15.06, 18.77, 18.34, 17.3, 11.91, 8.05, 6.34, 4.5, 7.1, 7.1, 8.6, 12.7, 15.8, 15.9, 17.7, 15.6, 11.4, 7.9, 6.91, 4.81, 5.94, 8.73, 8.98, 12.97, 15.77, 17.77, 18.77, 14.37, 14.57, 7.97, 4.07, 6.37, 8.37, 8.47, 9.97, 12.87, 15.57, 16.57, 17.17, 15.17, 12.07, 9.57, 7.43, 4.18, 4.78, 8.88, 10.38, 12.88, 17.68, 18.48, 20.28, 15.28, 9.78, 8.98, 5.39, 6.19, 5.69, 6.59, 9.59, 12.09, 15.99, 16.69, 18.19, 15.99, 12.19, 8.79, 5.39, 6.88, 3.99, 7.6, 10.32, 12.71, 16.72, 18.16, 17.19, 16.09, 15.09, 7.19, 4.62, 3.8, 4.07, 6.0, 9.2, 13.0, 16.5, 19.9, 16.6, 17.7, 14.4, 9.44, 6.4, 7.82, 8.0, 7.3, 11.4, 12.9, 15.3, 16.4, 16.5, 14.5, 11.1, 8.3, 4.71, 6.91, 6.11, 7.31, 8.81, 14.61, 15.11, 17.21, 17.11, 13.71, 10.71, 8.81, 4.37, 2.72, 4.62, 7.22, 10.22, 12.72, 15.72, 17.32, 17.82, 15.32, 12.52, 10.22, 4.42, 2.32, 4.32, 7.02, 9.32, 11.12, 15.52, 18.52, 16.92, 14.72, 11.72, 6.92, 1.63, 5.23, 7.63, 7.83, 12.03, 13.13, 15.23, 15.83, 16.73, 16.23, 13.13, 9.73, 8.08, 6.76, 3.27, 8.43, 8.57, 13.14, 15.13, 16.43, 18.03, 14.43, 12.67, 8.22, 7.16, 4.89, 3.54, 4.54, 8.64, 11.02, 14.24, 18.83, 18.38, 16.38, 13.73, 8.09, 7.15, 7.25, 7.4, 8.25, 10.85, 12.64, 15.65, 18.75, 16.6, 16.65, 14.04, 9.95, 6.69, 5.64, 4.6, 7.74, 10.7, 12.9, 15.8, 18.2, 18.0, 14.15, 11.85, 11.25, 10.41, 6.31, 6.36, 6.41, 8.71, 13.16, 15.96, 17.96, 18.56, 17.91, 10.86, 8.06, 5.61, 3.46, 7.21, 10.06, 9.31, 14.46, 17.61, 18.46, 17.96, 14.96, 13.81, 8.56, 6.67, 7.62, 3.37, 6.97, 11.57, 13.47, 16.37, 19.82, 18.42, 15.72, 12.87, 8.27, 7.88, 5.13, 7.38, 9.08, 9.68, 11.88, 16.53, 18.93, 18.58, 16.08, 12.93, 7.88, 7.03, 6.83, 8.33, 7.88, 12.13, 13.03, 16.18, 17.78, 19.98, 16.88, 12.18, 9.88, 6.89, 5.09, 6.44, 7.64, 7.29, 11.64, 16.74, 18.09, 17.19, 17.29, 12.79, 8.24, 7.54, 5.69, 7.54, 9.19, 9.84, 14.19, 16.94, 19.69, 19.94, 16.29, 15.09, 10.44, 5.0, 6.75, 6.9, 9.35, 10.05, 13.2, 18.0, 18.25, 18.4, 19.15, 14.65, 9.75, 8.65]\n"
     ]
    }
   ],
   "source": [
    "series = []\n",
    "\n",
    "for i, row in temps.iterrows():\n",
    "    series = series + list(row)\n",
    "    \n",
    "print(series)"
   ]
  },
  {
   "cell_type": "code",
   "execution_count": 7,
   "id": "9e66c982-798c-476f-82a4-0d5f76f8bca1",
   "metadata": {},
   "outputs": [
    {
     "data": {
      "text/plain": [
       "612"
      ]
     },
     "execution_count": 7,
     "metadata": {},
     "output_type": "execute_result"
    }
   ],
   "source": [
    "len(series)"
   ]
  },
  {
   "cell_type": "code",
   "execution_count": 8,
   "id": "06f59a2d-e886-4c0d-a732-4a2f19f908c2",
   "metadata": {},
   "outputs": [],
   "source": [
    "series = series[:-7]"
   ]
  },
  {
   "cell_type": "code",
   "execution_count": 9,
   "id": "c4d912ab-d42d-4710-8422-57c1f40e8b91",
   "metadata": {},
   "outputs": [
    {
     "data": {
      "text/plain": [
       "605"
      ]
     },
     "execution_count": 9,
     "metadata": {},
     "output_type": "execute_result"
    }
   ],
   "source": [
    "len(series)"
   ]
  },
  {
   "cell_type": "code",
   "execution_count": 10,
   "id": "f6d528ad-6d03-4c8d-8fc0-875c1ae94050",
   "metadata": {},
   "outputs": [
    {
     "data": {
      "text/plain": [
       "array([ 4.150e+00,  4.230e+00,  6.000e+00,  7.920e+00,  1.221e+01,\n",
       "        1.502e+01,  1.633e+01,  1.813e+01,  1.521e+01,  1.111e+01,\n",
       "        7.320e+00,  5.650e+00,  7.080e+00,  6.110e+00,  6.750e+00,\n",
       "        9.160e+00,  1.101e+01,  1.434e+01,  1.585e+01,  1.662e+01,\n",
       "        1.336e+01,  8.380e+00,  8.430e+00,  8.610e+00,  7.930e+00,\n",
       "        5.690e+00,  5.660e+00,  8.660e+00,  1.036e+01,  1.439e+01,\n",
       "        1.744e+01,  1.902e+01,  1.512e+01,  1.048e+01,  7.070e+00,\n",
       "        3.470e+00,  5.700e+00,  4.870e+00,  5.950e+00,  7.980e+00,\n",
       "        1.313e+01,  1.735e+01,  1.905e+01,  1.804e+01,  1.513e+01,\n",
       "        1.202e+01,  7.540e+00,  3.410e+00,  4.070e+00,  7.310e+00,\n",
       "        8.160e+00,  7.890e+00,  1.118e+01,  1.316e+01,  1.617e+01,\n",
       "        1.550e+01,  1.335e+01,  1.267e+01,  7.890e+00,  7.350e+00,\n",
       "        4.200e+00,  3.630e+00,  7.510e+00,  7.740e+00,  1.148e+01,\n",
       "        1.354e+01,  1.549e+01,  1.506e+01,  1.452e+01,  1.265e+01,\n",
       "        9.080e+00,  5.070e+00,  3.500e-01,  3.230e+00,  6.090e+00,\n",
       "        8.240e+00,  1.066e+01,  1.368e+01,  1.641e+01,  1.538e+01,\n",
       "        1.427e+01,  1.184e+01,  8.060e+00,  6.900e+00,  1.840e+00,\n",
       "        6.870e+00,  5.710e+00,  8.460e+00,  1.103e+01,  1.428e+01,\n",
       "        1.534e+01,  1.697e+01,  1.532e+01,  1.017e+01,  6.390e+00,\n",
       "        4.970e+00,  5.390e+00,  3.140e+00,  9.400e+00,  8.200e+00,\n",
       "        1.160e+01,  1.364e+01,  1.596e+01,  1.673e+01,  1.487e+01,\n",
       "        1.033e+01,  8.330e+00,  4.650e+00,  4.510e+00,  5.600e+00,\n",
       "        6.030e+00,  8.650e+00,  1.296e+01,  1.686e+01,  1.719e+01,\n",
       "        1.685e+01,  1.630e+01,  1.107e+01,  8.600e+00,  5.040e+00,\n",
       "        7.040e+00,  1.750e+00,  6.480e+00,  7.880e+00,  1.115e+01,\n",
       "        1.502e+01,  1.992e+01,  1.763e+01,  1.597e+01,  1.157e+01,\n",
       "        8.070e+00,  5.260e+00,  5.720e+00,  4.890e+00,  5.800e+00,\n",
       "        9.090e+00,  9.700e+00,  1.479e+01,  1.798e+01,  1.846e+01,\n",
       "        1.506e+01,  1.185e+01,  9.520e+00,  5.290e+00,  5.600e-01,\n",
       "        2.900e+00,  5.490e+00,  9.090e+00,  1.146e+01,  1.405e+01,\n",
       "        1.742e+01,  1.569e+01,  1.561e+01,  1.123e+01,  4.930e+00,\n",
       "        6.760e+00,  5.290e+00, -1.140e+00,  5.800e+00,  6.430e+00,\n",
       "        1.253e+01,  1.618e+01,  1.701e+01,  1.513e+01,  1.276e+01,\n",
       "        1.311e+01,  8.390e+00,  6.720e+00, -1.090e+00,  4.090e+00,\n",
       "        5.170e+00,  1.106e+01,  1.083e+01,  1.422e+01,  1.664e+01,\n",
       "        1.716e+01,  1.619e+01,  1.114e+01,  7.090e+00,  5.270e+00,\n",
       "        6.720e+00,  5.180e+00,  7.260e+00,  9.220e+00,  1.253e+01,\n",
       "        1.421e+01,  1.583e+01,  1.686e+01,  1.481e+01,  1.189e+01,\n",
       "        6.260e+00,  7.820e+00,  5.090e+00,  6.410e+00,  9.360e+00,\n",
       "        7.420e+00,  1.409e+01,  9.999e+02,  1.856e+01,  1.715e+01,\n",
       "        1.602e+01,  1.363e+01,  6.490e+00,  4.800e+00,  6.520e+00,\n",
       "        9.120e+00,  8.860e+00,  8.500e+00,  1.389e+01,  1.385e+01,\n",
       "        1.782e+01,  1.876e+01,  1.471e+01,  1.327e+01,  7.520e+00,\n",
       "        4.370e+00,  4.280e+00,  2.870e+00,  9.090e+00,  8.970e+00,\n",
       "        1.096e+01,  1.383e+01,  1.792e+01,  1.830e+01,  1.665e+01,\n",
       "        1.087e+01,  7.510e+00,  3.940e+00,  3.260e+00,  5.530e+00,\n",
       "        8.010e+00,  8.790e+00,  1.404e+01,  1.510e+01,  1.715e+01,\n",
       "        1.749e+01,  1.485e+01,  9.930e+00,  9.510e+00,  5.000e+00,\n",
       "        7.400e+00,  4.690e+00,  7.570e+00,  1.064e+01,  1.375e+01,\n",
       "        1.602e+01,  1.639e+01,  1.632e+01,  1.414e+01,  9.510e+00,\n",
       "        4.210e+00,  7.140e+00,  6.610e+00,  5.150e+00,  8.820e+00,\n",
       "        8.650e+00,  1.245e+01,  1.594e+01,  1.854e+01,  1.749e+01,\n",
       "        1.385e+01,  1.104e+01,  1.067e+01,  7.240e+00,  5.820e+00,\n",
       "        8.320e+00,  6.510e+00,  8.600e+00,  1.293e+01,  1.436e+01,\n",
       "        1.914e+01,  1.947e+01,  1.420e+01,  1.430e+01,  7.820e+00,\n",
       "        3.410e+00,  4.880e+00,  3.610e+00,  5.780e+00,  9.190e+00,\n",
       "        1.068e+01,  1.615e+01,  1.741e+01,  1.751e+01,  1.372e+01,\n",
       "        1.220e+01,  7.020e+00,  2.640e+00,  1.150e+00,  7.630e+00,\n",
       "        8.920e+00,  8.710e+00,  1.236e+01,  1.514e+01,  1.694e+01,\n",
       "        1.988e+01,  1.545e+01,  1.152e+01,  8.710e+00,  6.020e+00,\n",
       "        5.110e+00,  6.430e+00,  8.210e+00,  8.790e+00,  1.385e+01,\n",
       "        1.532e+01,  1.638e+01,  1.752e+01,  1.569e+01,  1.186e+01,\n",
       "        6.030e+00,  6.280e+00,  7.050e+00,  5.580e+00,  7.880e+00,\n",
       "        1.012e+01,  1.440e+01,  1.506e+01,  1.877e+01,  1.834e+01,\n",
       "        1.730e+01,  1.191e+01,  8.050e+00,  6.340e+00,  4.500e+00,\n",
       "        7.100e+00,  7.100e+00,  8.600e+00,  1.270e+01,  1.580e+01,\n",
       "        1.590e+01,  1.770e+01,  1.560e+01,  1.140e+01,  7.900e+00,\n",
       "        6.910e+00,  4.810e+00,  5.940e+00,  8.730e+00,  8.980e+00,\n",
       "        1.297e+01,  1.577e+01,  1.777e+01,  1.877e+01,  1.437e+01,\n",
       "        1.457e+01,  7.970e+00,  4.070e+00,  6.370e+00,  8.370e+00,\n",
       "        8.470e+00,  9.970e+00,  1.287e+01,  1.557e+01,  1.657e+01,\n",
       "        1.717e+01,  1.517e+01,  1.207e+01,  9.570e+00,  7.430e+00,\n",
       "        4.180e+00,  4.780e+00,  8.880e+00,  1.038e+01,  1.288e+01,\n",
       "        1.768e+01,  1.848e+01,  2.028e+01,  1.528e+01,  9.780e+00,\n",
       "        8.980e+00,  5.390e+00,  6.190e+00,  5.690e+00,  6.590e+00,\n",
       "        9.590e+00,  1.209e+01,  1.599e+01,  1.669e+01,  1.819e+01,\n",
       "        1.599e+01,  1.219e+01,  8.790e+00,  5.390e+00,  6.880e+00,\n",
       "        3.990e+00,  7.600e+00,  1.032e+01,  1.271e+01,  1.672e+01,\n",
       "        1.816e+01,  1.719e+01,  1.609e+01,  1.509e+01,  7.190e+00,\n",
       "        4.620e+00,  3.800e+00,  4.070e+00,  6.000e+00,  9.200e+00,\n",
       "        1.300e+01,  1.650e+01,  1.990e+01,  1.660e+01,  1.770e+01,\n",
       "        1.440e+01,  9.440e+00,  6.400e+00,  7.820e+00,  8.000e+00,\n",
       "        7.300e+00,  1.140e+01,  1.290e+01,  1.530e+01,  1.640e+01,\n",
       "        1.650e+01,  1.450e+01,  1.110e+01,  8.300e+00,  4.710e+00,\n",
       "        6.910e+00,  6.110e+00,  7.310e+00,  8.810e+00,  1.461e+01,\n",
       "        1.511e+01,  1.721e+01,  1.711e+01,  1.371e+01,  1.071e+01,\n",
       "        8.810e+00,  4.370e+00,  2.720e+00,  4.620e+00,  7.220e+00,\n",
       "        1.022e+01,  1.272e+01,  1.572e+01,  1.732e+01,  1.782e+01,\n",
       "        1.532e+01,  1.252e+01,  1.022e+01,  4.420e+00,  2.320e+00,\n",
       "        4.320e+00,  7.020e+00,  9.320e+00,  1.112e+01,  1.552e+01,\n",
       "        1.852e+01,  1.692e+01,  1.472e+01,  1.172e+01,  6.920e+00,\n",
       "        1.630e+00,  5.230e+00,  7.630e+00,  7.830e+00,  1.203e+01,\n",
       "        1.313e+01,  1.523e+01,  1.583e+01,  1.673e+01,  1.623e+01,\n",
       "        1.313e+01,  9.730e+00,  8.080e+00,  6.760e+00,  3.270e+00,\n",
       "        8.430e+00,  8.570e+00,  1.314e+01,  1.513e+01,  1.643e+01,\n",
       "        1.803e+01,  1.443e+01,  1.267e+01,  8.220e+00,  7.160e+00,\n",
       "        4.890e+00,  3.540e+00,  4.540e+00,  8.640e+00,  1.102e+01,\n",
       "        1.424e+01,  1.883e+01,  1.838e+01,  1.638e+01,  1.373e+01,\n",
       "        8.090e+00,  7.150e+00,  7.250e+00,  7.400e+00,  8.250e+00,\n",
       "        1.085e+01,  1.264e+01,  1.565e+01,  1.875e+01,  1.660e+01,\n",
       "        1.665e+01,  1.404e+01,  9.950e+00,  6.690e+00,  5.640e+00,\n",
       "        4.600e+00,  7.740e+00,  1.070e+01,  1.290e+01,  1.580e+01,\n",
       "        1.820e+01,  1.800e+01,  1.415e+01,  1.185e+01,  1.125e+01,\n",
       "        1.041e+01,  6.310e+00,  6.360e+00,  6.410e+00,  8.710e+00,\n",
       "        1.316e+01,  1.596e+01,  1.796e+01,  1.856e+01,  1.791e+01,\n",
       "        1.086e+01,  8.060e+00,  5.610e+00,  3.460e+00,  7.210e+00,\n",
       "        1.006e+01,  9.310e+00,  1.446e+01,  1.761e+01,  1.846e+01,\n",
       "        1.796e+01,  1.496e+01,  1.381e+01,  8.560e+00,  6.670e+00,\n",
       "        7.620e+00,  3.370e+00,  6.970e+00,  1.157e+01,  1.347e+01,\n",
       "        1.637e+01,  1.982e+01,  1.842e+01,  1.572e+01,  1.287e+01,\n",
       "        8.270e+00,  7.880e+00,  5.130e+00,  7.380e+00,  9.080e+00,\n",
       "        9.680e+00,  1.188e+01,  1.653e+01,  1.893e+01,  1.858e+01,\n",
       "        1.608e+01,  1.293e+01,  7.880e+00,  7.030e+00,  6.830e+00,\n",
       "        8.330e+00,  7.880e+00,  1.213e+01,  1.303e+01,  1.618e+01,\n",
       "        1.778e+01,  1.998e+01,  1.688e+01,  1.218e+01,  9.880e+00,\n",
       "        6.890e+00,  5.090e+00,  6.440e+00,  7.640e+00,  7.290e+00,\n",
       "        1.164e+01,  1.674e+01,  1.809e+01,  1.719e+01,  1.729e+01,\n",
       "        1.279e+01,  8.240e+00,  7.540e+00,  5.690e+00,  7.540e+00,\n",
       "        9.190e+00,  9.840e+00,  1.419e+01,  1.694e+01,  1.969e+01,\n",
       "        1.994e+01,  1.629e+01,  1.509e+01,  1.044e+01,  5.000e+00,\n",
       "        6.750e+00,  6.900e+00,  9.350e+00,  1.005e+01,  1.320e+01])"
      ]
     },
     "execution_count": 10,
     "metadata": {},
     "output_type": "execute_result"
    }
   ],
   "source": [
    "series = np.array(series)\n",
    "\n",
    "series"
   ]
  },
  {
   "cell_type": "code",
   "execution_count": 11,
   "id": "bb130bf3-fdf7-44bf-b3bd-228e3479d4be",
   "metadata": {},
   "outputs": [
    {
     "data": {
      "text/plain": [
       "(605,)"
      ]
     },
     "execution_count": 11,
     "metadata": {},
     "output_type": "execute_result"
    }
   ],
   "source": [
    "series.shape"
   ]
  },
  {
   "cell_type": "markdown",
   "id": "57d0339f-a034-49c5-befa-91e841e3f477",
   "metadata": {},
   "source": [
    "### Data Visualization"
   ]
  },
  {
   "cell_type": "code",
   "execution_count": 12,
   "id": "61b9fe77-6473-424d-bc5b-c55fb7f2ce12",
   "metadata": {},
   "outputs": [],
   "source": [
    "import matplotlib.pyplot as plt"
   ]
  },
  {
   "cell_type": "code",
   "execution_count": 13,
   "id": "99570627-284d-4c92-adc7-3219615b024c",
   "metadata": {},
   "outputs": [],
   "source": [
    "time = np.arange(len(series))"
   ]
  },
  {
   "cell_type": "code",
   "execution_count": 14,
   "id": "a6057af2-93a6-4414-ba2d-e92b81030804",
   "metadata": {},
   "outputs": [
    {
     "data": {
      "text/plain": [
       "array([  0,   1,   2,   3,   4,   5,   6,   7,   8,   9,  10,  11,  12,\n",
       "        13,  14,  15,  16,  17,  18,  19,  20,  21,  22,  23,  24,  25,\n",
       "        26,  27,  28,  29,  30,  31,  32,  33,  34,  35,  36,  37,  38,\n",
       "        39,  40,  41,  42,  43,  44,  45,  46,  47,  48,  49,  50,  51,\n",
       "        52,  53,  54,  55,  56,  57,  58,  59,  60,  61,  62,  63,  64,\n",
       "        65,  66,  67,  68,  69,  70,  71,  72,  73,  74,  75,  76,  77,\n",
       "        78,  79,  80,  81,  82,  83,  84,  85,  86,  87,  88,  89,  90,\n",
       "        91,  92,  93,  94,  95,  96,  97,  98,  99, 100, 101, 102, 103,\n",
       "       104, 105, 106, 107, 108, 109, 110, 111, 112, 113, 114, 115, 116,\n",
       "       117, 118, 119, 120, 121, 122, 123, 124, 125, 126, 127, 128, 129,\n",
       "       130, 131, 132, 133, 134, 135, 136, 137, 138, 139, 140, 141, 142,\n",
       "       143, 144, 145, 146, 147, 148, 149, 150, 151, 152, 153, 154, 155,\n",
       "       156, 157, 158, 159, 160, 161, 162, 163, 164, 165, 166, 167, 168,\n",
       "       169, 170, 171, 172, 173, 174, 175, 176, 177, 178, 179, 180, 181,\n",
       "       182, 183, 184, 185, 186, 187, 188, 189, 190, 191, 192, 193, 194,\n",
       "       195, 196, 197, 198, 199, 200, 201, 202, 203, 204, 205, 206, 207,\n",
       "       208, 209, 210, 211, 212, 213, 214, 215, 216, 217, 218, 219, 220,\n",
       "       221, 222, 223, 224, 225, 226, 227, 228, 229, 230, 231, 232, 233,\n",
       "       234, 235, 236, 237, 238, 239, 240, 241, 242, 243, 244, 245, 246,\n",
       "       247, 248, 249, 250, 251, 252, 253, 254, 255, 256, 257, 258, 259,\n",
       "       260, 261, 262, 263, 264, 265, 266, 267, 268, 269, 270, 271, 272,\n",
       "       273, 274, 275, 276, 277, 278, 279, 280, 281, 282, 283, 284, 285,\n",
       "       286, 287, 288, 289, 290, 291, 292, 293, 294, 295, 296, 297, 298,\n",
       "       299, 300, 301, 302, 303, 304, 305, 306, 307, 308, 309, 310, 311,\n",
       "       312, 313, 314, 315, 316, 317, 318, 319, 320, 321, 322, 323, 324,\n",
       "       325, 326, 327, 328, 329, 330, 331, 332, 333, 334, 335, 336, 337,\n",
       "       338, 339, 340, 341, 342, 343, 344, 345, 346, 347, 348, 349, 350,\n",
       "       351, 352, 353, 354, 355, 356, 357, 358, 359, 360, 361, 362, 363,\n",
       "       364, 365, 366, 367, 368, 369, 370, 371, 372, 373, 374, 375, 376,\n",
       "       377, 378, 379, 380, 381, 382, 383, 384, 385, 386, 387, 388, 389,\n",
       "       390, 391, 392, 393, 394, 395, 396, 397, 398, 399, 400, 401, 402,\n",
       "       403, 404, 405, 406, 407, 408, 409, 410, 411, 412, 413, 414, 415,\n",
       "       416, 417, 418, 419, 420, 421, 422, 423, 424, 425, 426, 427, 428,\n",
       "       429, 430, 431, 432, 433, 434, 435, 436, 437, 438, 439, 440, 441,\n",
       "       442, 443, 444, 445, 446, 447, 448, 449, 450, 451, 452, 453, 454,\n",
       "       455, 456, 457, 458, 459, 460, 461, 462, 463, 464, 465, 466, 467,\n",
       "       468, 469, 470, 471, 472, 473, 474, 475, 476, 477, 478, 479, 480,\n",
       "       481, 482, 483, 484, 485, 486, 487, 488, 489, 490, 491, 492, 493,\n",
       "       494, 495, 496, 497, 498, 499, 500, 501, 502, 503, 504, 505, 506,\n",
       "       507, 508, 509, 510, 511, 512, 513, 514, 515, 516, 517, 518, 519,\n",
       "       520, 521, 522, 523, 524, 525, 526, 527, 528, 529, 530, 531, 532,\n",
       "       533, 534, 535, 536, 537, 538, 539, 540, 541, 542, 543, 544, 545,\n",
       "       546, 547, 548, 549, 550, 551, 552, 553, 554, 555, 556, 557, 558,\n",
       "       559, 560, 561, 562, 563, 564, 565, 566, 567, 568, 569, 570, 571,\n",
       "       572, 573, 574, 575, 576, 577, 578, 579, 580, 581, 582, 583, 584,\n",
       "       585, 586, 587, 588, 589, 590, 591, 592, 593, 594, 595, 596, 597,\n",
       "       598, 599, 600, 601, 602, 603, 604])"
      ]
     },
     "execution_count": 14,
     "metadata": {},
     "output_type": "execute_result"
    }
   ],
   "source": [
    "time"
   ]
  },
  {
   "cell_type": "code",
   "execution_count": 15,
   "id": "427cfa36-e44c-447f-a1a0-28c3b28cabe9",
   "metadata": {},
   "outputs": [
    {
     "data": {
      "image/png": "[encoded data removed]",
      "text/plain": [
       "<Figure size 640x480 with 1 Axes>"
      ]
     },
     "metadata": {},
     "output_type": "display_data"
    }
   ],
   "source": [
    "plt.plot(time, series)\n",
    "plt.xlabel('Temps')\n",
    "plt.ylabel('Temperature')\n",
    "plt.show()"
   ]
  },
  {
   "cell_type": "code",
   "execution_count": 16,
   "id": "13718501-1e57-4c63-95e3-f689e15bb66a",
   "metadata": {},
   "outputs": [
    {
     "data": {
      "text/plain": [
       "197"
      ]
     },
     "execution_count": 16,
     "metadata": {},
     "output_type": "execute_result"
    }
   ],
   "source": [
    "np.argmax(series)"
   ]
  },
  {
   "cell_type": "code",
   "execution_count": 17,
   "id": "76fd2b58-68a4-4f37-95c4-06985ea35565",
   "metadata": {},
   "outputs": [
    {
     "data": {
      "text/plain": [
       "999.9"
      ]
     },
     "execution_count": 17,
     "metadata": {},
     "output_type": "execute_result"
    }
   ],
   "source": [
    "series[197]"
   ]
  },
  {
   "cell_type": "code",
   "execution_count": 18,
   "id": "bcf3fe40-3eef-4b73-b0fa-5f3b876f1f61",
   "metadata": {},
   "outputs": [
    {
     "data": {
      "text/plain": [
       "array([  7.42,  14.09, 999.9 ,  18.56])"
      ]
     },
     "execution_count": 18,
     "metadata": {},
     "output_type": "execute_result"
    }
   ],
   "source": [
    "series[195: 199]"
   ]
  },
  {
   "cell_type": "code",
   "execution_count": 19,
   "id": "684769db-c043-4103-8c64-60822864d6dd",
   "metadata": {},
   "outputs": [
    {
     "data": {
      "text/plain": [
       "16.325"
      ]
     },
     "execution_count": 19,
     "metadata": {},
     "output_type": "execute_result"
    }
   ],
   "source": [
    "(14.09+18.56)/2"
   ]
  },
  {
   "cell_type": "code",
   "execution_count": 20,
   "id": "6d9d4a5e-0974-408a-bcee-dd739ab86b04",
   "metadata": {},
   "outputs": [],
   "source": [
    "series[197] = 16.325"
   ]
  },
  {
   "cell_type": "code",
   "execution_count": 21,
   "id": "2e081dec-967e-457f-80e0-55e02eecf07b",
   "metadata": {},
   "outputs": [
    {
     "data": {
      "text/plain": [
       "16.325"
      ]
     },
     "execution_count": 21,
     "metadata": {},
     "output_type": "execute_result"
    }
   ],
   "source": [
    "series[197]"
   ]
  },
  {
   "cell_type": "code",
   "execution_count": 22,
   "id": "b1b08e64-b221-466f-9f62-c8ea4035f9da",
   "metadata": {},
   "outputs": [
    {
     "data": {
      "text/plain": [
       "20.28"
      ]
     },
     "execution_count": 22,
     "metadata": {},
     "output_type": "execute_result"
    }
   ],
   "source": [
    "series.max()"
   ]
  },
  {
   "cell_type": "code",
   "execution_count": 23,
   "id": "d871f488-751d-4c17-a48d-51622040c4b6",
   "metadata": {},
   "outputs": [
    {
     "data": {
      "image/png": "[encoded data removed]",
      "text/plain": [
       "<Figure size 640x480 with 1 Axes>"
      ]
     },
     "metadata": {},
     "output_type": "display_data"
    }
   ],
   "source": [
    "plt.plot(time, series)\n",
    "plt.xlabel('Temps')\n",
    "plt.ylabel('Temperature')\n",
    "plt.show()"
   ]
  },
  {
   "cell_type": "code",
   "execution_count": null,
   "id": "2be4099d-7677-4267-a3e3-2b3fdbfa69b1",
   "metadata": {},
   "outputs": [],
   "source": []
  },
  {
   "cell_type": "markdown",
   "id": "2e902862-0502-44f2-86d2-833a2d259560",
   "metadata": {},
   "source": [
    "### BaseLine"
   ]
  },
  {
   "cell_type": "code",
   "execution_count": 24,
   "id": "3872210e-1ba7-451e-96c4-534fd0546bc3",
   "metadata": {},
   "outputs": [],
   "source": [
    "# Train_test_split\n",
    "\n",
    "time_train = time[:505]\n",
    "x_train = series[:505]\n",
    "\n",
    "time_test = time[505:]\n",
    "x_test = series[505:]"
   ]
  },
  {
   "cell_type": "code",
   "execution_count": 25,
   "id": "4028e786-d390-4e18-87ab-66ec17a98a10",
   "metadata": {},
   "outputs": [],
   "source": [
    "years = df['YEAR'].tolist()"
   ]
  },
  {
   "cell_type": "code",
   "execution_count": 26,
   "id": "ba655523-1c2c-4a46-98c1-7c78b69332a7",
   "metadata": {},
   "outputs": [
    {
     "data": {
      "text/plain": [
       "42.083333333333336"
      ]
     },
     "execution_count": 26,
     "metadata": {},
     "output_type": "execute_result"
    }
   ],
   "source": [
    "505/12"
   ]
  },
  {
   "cell_type": "code",
   "execution_count": 27,
   "id": "94aad545-cb60-4169-80fe-0709c1407dc8",
   "metadata": {},
   "outputs": [
    {
     "data": {
      "text/plain": [
       "2016"
      ]
     },
     "execution_count": 27,
     "metadata": {},
     "output_type": "execute_result"
    }
   ],
   "source": [
    "years[43]  # 1973-2016 train, 2016-2023 test"
   ]
  },
  {
   "cell_type": "code",
   "execution_count": 28,
   "id": "4b519e8c-081d-42c9-a2b3-6c0dcfa130d0",
   "metadata": {},
   "outputs": [],
   "source": [
    "# Approche naive\n",
    "# On predit la température du mois suivant à partir du mois précédent\n",
    "# Moving Average à essayer\n",
    "pred_naive = series[504:-1]"
   ]
  },
  {
   "cell_type": "code",
   "execution_count": 29,
   "id": "b7c28f66",
   "metadata": {},
   "outputs": [
    {
     "data": {
      "text/plain": [
       "(array([ 5.64,  4.6 ,  7.74, 10.7 , 12.9 , 15.8 , 18.2 , 18.  , 14.15,\n",
       "        11.85, 11.25, 10.41,  6.31,  6.36,  6.41,  8.71, 13.16, 15.96,\n",
       "        17.96, 18.56, 17.91, 10.86,  8.06,  5.61,  3.46,  7.21, 10.06,\n",
       "         9.31, 14.46, 17.61, 18.46, 17.96, 14.96, 13.81,  8.56,  6.67,\n",
       "         7.62,  3.37,  6.97, 11.57, 13.47, 16.37, 19.82, 18.42, 15.72,\n",
       "        12.87,  8.27,  7.88,  5.13,  7.38,  9.08,  9.68, 11.88, 16.53,\n",
       "        18.93, 18.58, 16.08, 12.93,  7.88,  7.03,  6.83,  8.33,  7.88,\n",
       "        12.13, 13.03, 16.18, 17.78, 19.98, 16.88, 12.18,  9.88,  6.89,\n",
       "         5.09,  6.44,  7.64,  7.29, 11.64, 16.74, 18.09, 17.19, 17.29,\n",
       "        12.79,  8.24,  7.54,  5.69,  7.54,  9.19,  9.84, 14.19, 16.94,\n",
       "        19.69, 19.94, 16.29, 15.09, 10.44,  5.  ,  6.75,  6.9 ,  9.35,\n",
       "        10.05]),\n",
       " array([ 4.6 ,  7.74, 10.7 , 12.9 , 15.8 , 18.2 , 18.  , 14.15, 11.85,\n",
       "        11.25, 10.41,  6.31,  6.36,  6.41,  8.71, 13.16, 15.96, 17.96,\n",
       "        18.56, 17.91, 10.86,  8.06,  5.61,  3.46,  7.21, 10.06,  9.31,\n",
       "        14.46, 17.61, 18.46, 17.96, 14.96, 13.81,  8.56,  6.67,  7.62,\n",
       "         3.37,  6.97, 11.57, 13.47, 16.37, 19.82, 18.42, 15.72, 12.87,\n",
       "         8.27,  7.88,  5.13,  7.38,  9.08,  9.68, 11.88, 16.53, 18.93,\n",
       "        18.58, 16.08, 12.93,  7.88,  7.03,  6.83,  8.33,  7.88, 12.13,\n",
       "        13.03, 16.18, 17.78, 19.98, 16.88, 12.18,  9.88,  6.89,  5.09,\n",
       "         6.44,  7.64,  7.29, 11.64, 16.74, 18.09, 17.19, 17.29, 12.79,\n",
       "         8.24,  7.54,  5.69,  7.54,  9.19,  9.84, 14.19, 16.94, 19.69,\n",
       "        19.94, 16.29, 15.09, 10.44,  5.  ,  6.75,  6.9 ,  9.35, 10.05,\n",
       "        13.2 ]))"
      ]
     },
     "execution_count": 29,
     "metadata": {},
     "output_type": "execute_result"
    }
   ],
   "source": [
    "series[504:-1], x_test"
   ]
  },
  {
   "cell_type": "code",
   "execution_count": 30,
   "id": "4c4d4264-da12-4804-a019-55775c79c031",
   "metadata": {},
   "outputs": [
    {
     "data": {
      "text/plain": [
       "(100,)"
      ]
     },
     "execution_count": 30,
     "metadata": {},
     "output_type": "execute_result"
    }
   ],
   "source": [
    "pred_naive.shape"
   ]
  },
  {
   "cell_type": "code",
   "execution_count": 31,
   "id": "af4d8ec4-61f0-49eb-83d0-56b7a64b14f4",
   "metadata": {},
   "outputs": [],
   "source": [
    "from sklearn.metrics import mean_absolute_error, mean_squared_error"
   ]
  },
  {
   "cell_type": "code",
   "execution_count": 32,
   "id": "a032f193",
   "metadata": {},
   "outputs": [
    {
     "data": {
      "text/plain": [
       "2.3704"
      ]
     },
     "execution_count": 32,
     "metadata": {},
     "output_type": "execute_result"
    }
   ],
   "source": [
    "mean_absolute_error(x_test, pred_naive)"
   ]
  },
  {
   "cell_type": "code",
   "execution_count": 33,
   "id": "29d345fd",
   "metadata": {},
   "outputs": [
    {
     "data": {
      "text/plain": [
       "8.003988"
      ]
     },
     "execution_count": 33,
     "metadata": {},
     "output_type": "execute_result"
    }
   ],
   "source": [
    "mean_squared_error(x_test, pred_naive)"
   ]
  },
  {
   "cell_type": "code",
   "execution_count": null,
   "id": "8da03378",
   "metadata": {},
   "outputs": [],
   "source": []
  },
  {
   "cell_type": "code",
   "execution_count": 34,
   "id": "bb79e22e",
   "metadata": {},
   "outputs": [
    {
     "data": {
      "image/png": "[encoded data removed]",
      "text/plain": [
       "<Figure size 640x480 with 1 Axes>"
      ]
     },
     "metadata": {},
     "output_type": "display_data"
    }
   ],
   "source": [
    "plt.plot(time_test, x_test)\n",
    "plt.plot(time_test, pred_naive)\n",
    "plt.xlabel('Temps')\n",
    "plt.ylabel('Temperature')\n",
    "plt.show()"
   ]
  },
  {
   "cell_type": "code",
   "execution_count": null,
   "id": "70bbd69b",
   "metadata": {},
   "outputs": [],
   "source": []
  },
  {
   "cell_type": "markdown",
   "id": "881dad5e",
   "metadata": {},
   "source": [
    "### Créer un windowed Dataset"
   ]
  },
  {
   "cell_type": "code",
   "execution_count": 35,
   "id": "d1e91c95",
   "metadata": {},
   "outputs": [
    {
     "name": "stderr",
     "output_type": "stream",
     "text": [
      "2024-02-11 00:20:08.044647: I tensorflow/core/platform/cpu_feature_guard.cc:193] This TensorFlow binary is optimized with oneAPI Deep Neural Network Library (oneDNN) to use the following CPU instructions in performance-critical operations:  AVX2 FMA\n",
      "To enable them in other operations, rebuild TensorFlow with the appropriate compiler flags.\n",
      "2024-02-11 00:20:13.751080: W tensorflow/compiler/xla/stream_executor/platform/default/dso_loader.cc:64] Could not load dynamic library 'libcudart.so.11.0'; dlerror: libcudart.so.11.0: cannot open shared object file: No such file or directory\n",
      "2024-02-11 00:20:13.751156: I tensorflow/compiler/xla/stream_executor/cuda/cudart_stub.cc:29] Ignore above cudart dlerror if you do not have a GPU set up on your machine.\n",
      "2024-02-11 00:20:27.352755: W tensorflow/compiler/xla/stream_executor/platform/default/dso_loader.cc:64] Could not load dynamic library 'libnvinfer.so.7'; dlerror: libnvinfer.so.7: cannot open shared object file: No such file or directory\n",
      "2024-02-11 00:20:27.353305: W tensorflow/compiler/xla/stream_executor/platform/default/dso_loader.cc:64] Could not load dynamic library 'libnvinfer_plugin.so.7'; dlerror: libnvinfer_plugin.so.7: cannot open shared object file: No such file or directory\n",
      "2024-02-11 00:20:27.353348: W tensorflow/compiler/tf2tensorrt/utils/py_utils.cc:38] TF-TRT Warning: Cannot dlopen some TensorRT libraries. If you would like to use Nvidia GPU with TensorRT, please make sure the missing libraries mentioned above are installed properly.\n"
     ]
    }
   ],
   "source": [
    "import tensorflow as tf"
   ]
  },
  {
   "cell_type": "code",
   "execution_count": 36,
   "id": "41254db5",
   "metadata": {},
   "outputs": [
    {
     "name": "stderr",
     "output_type": "stream",
     "text": [
      "2024-02-11 00:20:39.244397: W tensorflow/compiler/xla/stream_executor/platform/default/dso_loader.cc:64] Could not load dynamic library 'libcuda.so.1'; dlerror: libcuda.so.1: cannot open shared object file: No such file or directory\n",
      "2024-02-11 00:20:39.247335: W tensorflow/compiler/xla/stream_executor/cuda/cuda_driver.cc:265] failed call to cuInit: UNKNOWN ERROR (303)\n",
      "2024-02-11 00:20:39.247408: I tensorflow/compiler/xla/stream_executor/cuda/cuda_diagnostics.cc:156] kernel driver does not appear to be running on this host (elimson-HP-250-G7-Notebook-PC): /proc/driver/nvidia/version does not exist\n",
      "2024-02-11 00:20:39.287785: I tensorflow/core/platform/cpu_feature_guard.cc:193] This TensorFlow binary is optimized with oneAPI Deep Neural Network Library (oneDNN) to use the following CPU instructions in performance-critical operations:  AVX2 FMA\n",
      "To enable them in other operations, rebuild TensorFlow with the appropriate compiler flags.\n"
     ]
    }
   ],
   "source": [
    "dataset = tf.data.Dataset.range(10)"
   ]
  },
  {
   "cell_type": "code",
   "execution_count": 37,
   "id": "47bb1c91",
   "metadata": {},
   "outputs": [],
   "source": [
    "dataset = dataset.window(5, shift=1, drop_remainder=True)"
   ]
  },
  {
   "cell_type": "code",
   "execution_count": 38,
   "id": "cb3a5190",
   "metadata": {},
   "outputs": [
    {
     "name": "stdout",
     "output_type": "stream",
     "text": [
      "WARNING:tensorflow:From /home/elimson/.local/lib/python3.10/site-packages/tensorflow/python/autograph/pyct/static_analysis/liveness.py:83: Analyzer.lamba_check (from tensorflow.python.autograph.pyct.static_analysis.liveness) is deprecated and will be removed after 2023-09-23.\n",
      "Instructions for updating:\n",
      "Lambda fuctions will be no more assumed to be used in the statement where they are used, or at least in the same block. https://github.com/tensorflow/tensorflow/issues/56089\n"
     ]
    }
   ],
   "source": [
    "dataset = dataset.flat_map(lambda window: window.batch(5))"
   ]
  },
  {
   "cell_type": "code",
   "execution_count": 39,
   "id": "d49ab533",
   "metadata": {},
   "outputs": [
    {
     "name": "stdout",
     "output_type": "stream",
     "text": [
      "[0 1 2 3 4]\n",
      "[1 2 3 4 5]\n",
      "[2 3 4 5 6]\n",
      "[3 4 5 6 7]\n",
      "[4 5 6 7 8]\n",
      "[5 6 7 8 9]\n"
     ]
    }
   ],
   "source": [
    "for window in dataset:\n",
    "    print(window.numpy())"
   ]
  },
  {
   "cell_type": "code",
   "execution_count": 40,
   "id": "09b3b19e",
   "metadata": {},
   "outputs": [
    {
     "name": "stdout",
     "output_type": "stream",
     "text": [
      "[0 1 2 3 4]\n",
      "[1 2 3 4 5]\n",
      "[2 3 4 5 6]\n",
      "[3 4 5 6 7]\n",
      "[4 5 6 7 8]\n",
      "[5 6 7 8 9]\n",
      "[6 7 8 9]\n",
      "[7 8 9]\n",
      "[8 9]\n",
      "[9]\n"
     ]
    }
   ],
   "source": [
    "dataset = tf.data.Dataset.range(10)\n",
    "dataset = dataset.window(5, shift=1, drop_remainder=False)\n",
    "dataset = dataset.flat_map(lambda window: window.batch(5))\n",
    "\n",
    "for window in dataset:\n",
    "    print(window.numpy())"
   ]
  },
  {
   "cell_type": "code",
   "execution_count": 41,
   "id": "1ccf14f5",
   "metadata": {},
   "outputs": [
    {
     "name": "stdout",
     "output_type": "stream",
     "text": [
      "[0 1 2 3] 4\n",
      "[1 2 3 4] 5\n",
      "[2 3 4 5] 6\n",
      "[3 4 5 6] 7\n",
      "[4 5 6 7] 8\n",
      "[5 6 7 8] 9\n"
     ]
    }
   ],
   "source": [
    "dataset = tf.data.Dataset.range(10)\n",
    "dataset = dataset.window(5, shift=1, drop_remainder=True)\n",
    "dataset = dataset.flat_map(lambda window: window.batch(5))\n",
    "dataset = dataset.map(lambda window: (window[:-1], window[-1]))\n",
    "\n",
    "for x, y in dataset:\n",
    "    print(x.numpy(), y.numpy())"
   ]
  },
  {
   "cell_type": "code",
   "execution_count": 42,
   "id": "8cb06b3f",
   "metadata": {},
   "outputs": [
    {
     "name": "stdout",
     "output_type": "stream",
     "text": [
      "[[2 3 4 5]\n",
      " [3 4 5 6]] [6 7]\n",
      "[[4 5 6 7]\n",
      " [0 1 2 3]] [8 4]\n",
      "[[5 6 7 8]\n",
      " [1 2 3 4]] [9 5]\n"
     ]
    }
   ],
   "source": [
    "dataset = tf.data.Dataset.range(10)\n",
    "dataset = dataset.window(5, shift=1, drop_remainder=True)\n",
    "dataset = dataset.flat_map(lambda window: window.batch(5))\n",
    "dataset = dataset.map(lambda window: (window[:-1], window[-1]))\n",
    "dataset = dataset.shuffle(buffer_size=10)\n",
    "\n",
    "dataset = dataset.batch(2).prefetch(1)\n",
    "\n",
    "for x, y in dataset:\n",
    "    print(x.numpy(), y.numpy())"
   ]
  },
  {
   "cell_type": "code",
   "execution_count": 43,
   "id": "ca59af58",
   "metadata": {},
   "outputs": [
    {
     "name": "stdout",
     "output_type": "stream",
     "text": [
      "[[15.96 17.96 18.56 17.91]\n",
      " [ 5.72  4.89  5.8   9.09]\n",
      " [13.85 11.04 10.67  7.24]\n",
      " [ 8.39  6.72 -1.09  4.09]\n",
      " [14.37 14.57  7.97  4.07]\n",
      " [15.69 15.61 11.23  4.93]\n",
      " [ 6.41  8.71 13.16 15.96]\n",
      " [18.56 17.91 10.86  8.06]\n",
      " [15.96 16.73 14.87 10.33]\n",
      " [15.83 16.86 14.81 11.89]\n",
      " [ 5.8   6.43 12.53 16.18]\n",
      " [12.76 13.11  8.39  6.72]\n",
      " [ 9.57  7.43  4.18  4.78]\n",
      " [16.18 17.78 19.98 16.88]\n",
      " [12.67  8.22  7.16  4.89]\n",
      " [ 4.32  7.02  9.32 11.12]\n",
      " [ 7.24  5.82  8.32  6.51]\n",
      " [14.21 15.83 16.86 14.81]\n",
      " [ 8.81  4.37  2.72  4.62]\n",
      " [ 5.58  7.88 10.12 14.4 ]\n",
      " [10.85 12.64 15.65 18.75]\n",
      " [16.41 15.38 14.27 11.84]\n",
      " [ 7.31  8.16  7.89 11.18]\n",
      " [ 3.99  7.6  10.32 12.71]\n",
      " [10.66 13.68 16.41 15.38]\n",
      " [ 5.69  5.66  8.66 10.36]\n",
      " [13.83 17.92 18.3  16.65]\n",
      " [ 7.29 11.64 16.74 18.09]\n",
      " [16.97 15.32 10.17  6.39]\n",
      " [11.84  8.06  6.9   1.84]\n",
      " [11.89  6.26  7.82  5.09]\n",
      " [19.94 16.29 15.09 10.44]] [10.86  9.7   5.82  5.17  6.37  6.76 17.96  5.61  8.33  6.26 17.01 -1.09\n",
      "  8.88 12.18  3.54 15.52  8.6  11.89  7.22 15.06 16.6   8.06 13.16 16.72\n",
      " 14.27 14.39 10.87 17.19  4.97  6.87  6.41  5.  ]\n",
      "[[ 8.65 12.45 15.94 18.54]\n",
      " [13.13 17.35 19.05 18.04]\n",
      " [ 9.68 11.88 16.53 18.93]\n",
      " [ 8.24  7.54  5.69  7.54]\n",
      " [16.08 12.93  7.88  7.03]\n",
      " [ 5.29 -1.14  5.8   6.43]\n",
      " [ 7.6  10.32 12.71 16.72]\n",
      " [15.83 16.73 16.23 13.13]\n",
      " [ 6.75  6.9   9.35 10.05]\n",
      " [14.79 17.98 18.46 15.06]\n",
      " [ 9.51  4.21  7.14  6.61]\n",
      " [ 8.47  9.97 12.87 15.57]\n",
      " [16.65 14.04  9.95  6.69]\n",
      " [ 5.49  9.09 11.46 14.05]\n",
      " [ 7.89  7.35  4.2   3.63]\n",
      " [17.82 15.32 12.52 10.22]\n",
      " [ 8.71 12.36 15.14 16.94]\n",
      " [ 4.07  6.    9.2  13.  ]\n",
      " [ 7.83 12.03 13.13 15.23]\n",
      " [16.69 18.19 15.99 12.19]\n",
      " [17.41 17.51 13.72 12.2 ]\n",
      " [14.04  9.95  6.69  5.64]\n",
      " [ 7.51  7.74 11.48 13.54]\n",
      " [15.8  18.2  18.   14.15]\n",
      " [15.13 12.76 13.11  8.39]\n",
      " [12.45 15.94 18.54 17.49]\n",
      " [13.47 16.37 19.82 18.42]\n",
      " [ 5.66  8.66 10.36 14.39]\n",
      " [15.14 16.94 19.88 15.45]\n",
      " [18.77 18.34 17.3  11.91]\n",
      " [ 6.11  7.31  8.81 14.61]\n",
      " [16.6  16.65 14.04  9.95]] [17.49 15.13 18.58  9.19  6.83 12.53 18.16  9.73 13.2  11.85  5.15 16.57\n",
      "  5.64 17.42  7.51  4.42 19.88 16.5  15.83  8.79  7.02  4.6  15.49 11.85\n",
      "  6.72 13.85 15.72 17.44 11.52  8.05 15.11  6.69]\n",
      "[[ 7.54  9.19  9.84 14.19]\n",
      " [12.52 10.22  4.42  2.32]\n",
      " [13.35 12.67  7.89  7.35]\n",
      " [17.01 15.13 12.76 13.11]\n",
      " [15.97 11.57  8.07  5.26]\n",
      " [11.57 13.47 16.37 19.82]\n",
      " [17.7  14.4   9.44  6.4 ]\n",
      " [12.36 15.14 16.94 19.88]\n",
      " [17.19 16.09 15.09  7.19]\n",
      " [13.68 16.41 15.38 14.27]\n",
      " [13.54 15.49 15.06 14.52]\n",
      " [15.13 16.43 18.03 14.43]\n",
      " [ 3.54  4.54  8.64 11.02]\n",
      " [ 7.88 10.12 14.4  15.06]\n",
      " [17.21 17.11 13.71 10.71]\n",
      " [16.92 14.72 11.72  6.92]\n",
      " [ 7.22 10.22 12.72 15.72]\n",
      " [ 8.57 13.14 15.13 16.43]\n",
      " [19.92 17.63 15.97 11.57]\n",
      " [ 7.43  4.18  4.78  8.88]\n",
      " [ 5.39  6.19  5.69  6.59]\n",
      " [15.38 14.27 11.84  8.06]\n",
      " [16.43 18.03 14.43 12.67]\n",
      " [11.01 14.34 15.85 16.62]\n",
      " [13.13 15.23 15.83 16.73]\n",
      " [18.19 15.99 12.19  8.79]\n",
      " [16.02 13.63  6.49  4.8 ]\n",
      " [10.38 12.88 17.68 18.48]\n",
      " [ 9.09  9.7  14.79 17.98]\n",
      " [14.81 11.89  6.26  7.82]\n",
      " [16.62 13.36  8.38  8.43]\n",
      " [ 6.44  7.64  7.29 11.64]] [16.94  4.32  4.2   8.39  5.72 18.42  7.82 15.45  4.62 11.84 12.65 12.67\n",
      " 14.24 18.77  8.81  1.63 17.32 18.03  8.07 10.38  9.59  6.9   8.22 13.36\n",
      " 16.23  5.39  6.52 20.28 18.46  5.09  8.61 16.74]\n",
      "[[ 4.69   7.57  10.64  13.75 ]\n",
      " [16.325 18.56  17.15  16.02 ]\n",
      " [14.09  16.325 18.56  17.15 ]\n",
      " [13.27   7.52   4.37   4.28 ]\n",
      " [ 3.14   9.4    8.2   11.6  ]\n",
      " [ 4.97   5.39   3.14   9.4  ]\n",
      " [ 7.21  10.06   9.31  14.46 ]\n",
      " [ 7.82   5.09   6.41   9.36 ]\n",
      " [ 9.16  11.01  14.34  15.85 ]\n",
      " [16.18  17.01  15.13  12.76 ]\n",
      " [14.04  15.1   17.15  17.49 ]\n",
      " [ 7.05   5.58   7.88  10.12 ]\n",
      " [15.32  12.52  10.22   4.42 ]\n",
      " [18.38  16.38  13.73   8.09 ]\n",
      " [10.06   9.31  14.46  17.61 ]\n",
      " [14.15  11.85  11.25  10.41 ]\n",
      " [16.17  15.5   13.35  12.67 ]\n",
      " [16.88  12.18   9.88   6.89 ]\n",
      " [13.16  15.96  17.96  18.56 ]\n",
      " [ 4.5    7.1    7.1    8.6  ]\n",
      " [15.02  16.33  18.13  15.21 ]\n",
      " [ 8.73   8.98  12.97  15.77 ]\n",
      " [ 4.28   2.87   9.09   8.97 ]\n",
      " [11.25  10.41   6.31   6.36 ]\n",
      " [ 6.26   7.82   5.09   6.41 ]\n",
      " [14.2   14.3    7.82   3.41 ]\n",
      " [16.5   19.9   16.6   17.7  ]\n",
      " [ 8.81  14.61  15.11  17.21 ]\n",
      " [ 5.94   8.73   8.98  12.97 ]\n",
      " [16.33  18.13  15.21  11.11 ]\n",
      " [ 5.13   7.38   9.08   9.68 ]\n",
      " [15.11  17.21  17.11  13.71 ]] [16.02 13.63 16.02  2.87 13.64  8.2  17.61  7.42 16.62 13.11 14.85 14.4\n",
      "  2.32  7.15 18.46  6.31  7.89  5.09 17.91 12.7  11.11 17.77 10.96  6.41\n",
      "  9.36  4.88 14.4  17.11 15.77  7.32 11.88 10.71]\n",
      "[[ 8.38   8.43   8.61   7.93 ]\n",
      " [ 5.69   6.59   9.59  12.09 ]\n",
      " [15.99  16.69  18.19  15.99 ]\n",
      " [10.12  14.4   15.06  18.77 ]\n",
      " [17.96  14.96  13.81   8.56 ]\n",
      " [ 7.88   5.13   7.38   9.08 ]\n",
      " [18.13  15.21  11.11   7.32 ]\n",
      " [ 8.46  11.03  14.28  15.34 ]\n",
      " [16.29  15.09  10.44   5.   ]\n",
      " [13.03  16.18  17.78  19.98 ]\n",
      " [ 8.88  10.38  12.88  17.68 ]\n",
      " [18.03  14.43  12.67   8.22 ]\n",
      " [ 7.42  14.09  16.325 18.56 ]\n",
      " [ 5.09   6.44   7.64   7.29 ]\n",
      " [11.48  13.54  15.49  15.06 ]\n",
      " [ 3.63   7.51   7.74  11.48 ]\n",
      " [ 9.97  12.87  15.57  16.57 ]\n",
      " [ 6.     7.92  12.21  15.02 ]\n",
      " [ 5.65   7.08   6.11   6.75 ]\n",
      " [ 8.22   7.16   4.89   3.54 ]\n",
      " [19.82  18.42  15.72  12.87 ]\n",
      " [ 8.98   5.39   6.19   5.69 ]\n",
      " [11.23   4.93   6.76   5.29 ]\n",
      " [20.28  15.28   9.78   8.98 ]\n",
      " [15.9   17.7   15.6   11.4  ]\n",
      " [14.71  13.27   7.52   4.37 ]\n",
      " [ 3.8    4.07   6.     9.2  ]\n",
      " [ 7.88  12.13  13.03  16.18 ]\n",
      " [ 4.8    6.52   9.12   8.86 ]\n",
      " [10.44   5.     6.75   6.9  ]\n",
      " [13.89  13.85  17.82  18.76 ]\n",
      " [ 8.     7.3   11.4   12.9  ]] [ 5.69 15.99 12.19 18.34  6.67  9.68  5.65 16.97  6.75 16.88 18.48  7.16\n",
      " 17.15 11.64 14.52 13.54 17.17 16.33  9.16  4.54  8.27  6.59 -1.14  5.39\n",
      "  7.9   4.28 13.   17.78  8.5   9.35 14.71 15.3 ]\n",
      "[[ 7.97  4.07  6.37  8.37]\n",
      " [ 8.5  13.89 13.85 17.82]\n",
      " [ 9.73  8.08  6.76  3.27]\n",
      " [14.28 15.34 16.97 15.32]\n",
      " [ 9.2  13.   16.5  19.9 ]\n",
      " [ 8.06  6.9   1.84  6.87]\n",
      " [11.02 14.24 18.83 18.38]\n",
      " [11.11  7.32  5.65  7.08]\n",
      " [ 4.23  6.    7.92 12.21]\n",
      " [ 5.69  7.54  9.19  9.84]\n",
      " [ 7.32  5.65  7.08  6.11]\n",
      " [ 5.6   6.03  8.65 12.96]\n",
      " [18.3  16.65 10.87  7.51]\n",
      " [ 5.82  8.32  6.51  8.6 ]\n",
      " [ 6.4   7.82  8.    7.3 ]\n",
      " [17.49 14.85  9.93  9.51]\n",
      " [12.87 15.57 16.57 17.17]\n",
      " [16.4  16.5  14.5  11.1 ]\n",
      " [ 6.03  6.28  7.05  5.58]\n",
      " [ 4.37  2.72  4.62  7.22]\n",
      " [ 6.97 11.57 13.47 16.37]\n",
      " [12.96 16.86 17.19 16.85]\n",
      " [19.69 19.94 16.29 15.09]\n",
      " [14.46 17.61 18.46 17.96]\n",
      " [16.74 18.09 17.19 17.29]\n",
      " [ 6.43  8.21  8.79 13.85]\n",
      " [ 6.52  9.12  8.86  8.5 ]\n",
      " [14.85  9.93  9.51  5.  ]\n",
      " [15.21 11.11  7.32  5.65]\n",
      " [-1.09  4.09  5.17 11.06]\n",
      " [ 5.61  3.46  7.21 10.06]\n",
      " [ 7.02  2.64  1.15  7.63]] [ 8.47 18.76  8.43 10.17 16.6   5.71 16.38  6.11 15.02 14.19  6.75 16.86\n",
      "  3.94 12.93 11.4   5.   15.17  8.3   7.88 10.22 19.82 16.3  10.44 14.96\n",
      " 12.79 15.32 13.89  7.4   7.08 10.83  9.31  8.92]\n",
      "[[17.68 18.48 20.28 15.28]\n",
      " [ 6.51  8.6  12.93 14.36]\n",
      " [ 4.89  5.8   9.09  9.7 ]\n",
      " [ 7.54  5.69  7.54  9.19]\n",
      " [ 6.59  9.59 12.09 15.99]\n",
      " [ 8.6   5.04  7.04  1.75]\n",
      " [ 8.79 14.04 15.1  17.15]\n",
      " [ 5.23  7.63  7.83 12.03]\n",
      " [11.04 10.67  7.24  5.82]\n",
      " [15.28  9.78  8.98  5.39]\n",
      " [ 8.71  6.02  5.11  6.43]\n",
      " [17.42 15.69 15.61 11.23]\n",
      " [ 5.    6.75  6.9   9.35]\n",
      " [ 9.84 14.19 16.94 19.69]\n",
      " [ 4.71  6.91  6.11  7.31]\n",
      " [ 0.56  2.9   5.49  9.09]\n",
      " [15.77 17.77 18.77 14.37]\n",
      " [10.64 13.75 16.02 16.39]\n",
      " [16.23 13.13  9.73  8.08]\n",
      " [19.98 16.88 12.18  9.88]\n",
      " [10.68 16.15 17.41 17.51]\n",
      " [15.09  7.19  4.62  3.8 ]\n",
      " [ 8.33  4.65  4.51  5.6 ]\n",
      " [ 9.7  14.79 17.98 18.46]\n",
      " [18.42 15.72 12.87  8.27]\n",
      " [12.65  9.08  5.07  0.35]\n",
      " [15.61 11.23  4.93  6.76]\n",
      " [16.65 10.87  7.51  3.94]\n",
      " [16.19 11.14  7.09  5.27]\n",
      " [ 4.88  3.61  5.78  9.19]\n",
      " [14.36 19.14 19.47 14.2 ]\n",
      " [ 3.41  4.88  3.61  5.78]] [ 9.78 19.14 14.79  9.84 16.69  6.48 17.49 13.13  8.32  6.19  8.21  4.93\n",
      " 10.05 19.94  8.81 11.46 14.57 16.32  6.76  6.89 13.72  4.07  6.03 15.06\n",
      "  7.88  3.23  5.29  3.26  6.72 10.68 14.3   9.19]\n",
      "[[16.38 17.52 15.69 11.86]\n",
      " [19.88 15.45 11.52  8.71]\n",
      " [ 4.07  6.37  8.37  8.47]\n",
      " [10.32 12.71 16.72 18.16]\n",
      " [11.14  7.09  5.27  6.72]\n",
      " [ 3.41  4.07  7.31  8.16]\n",
      " [ 3.27  8.43  8.57 13.14]\n",
      " [ 7.3  11.4  12.9  15.3 ]\n",
      " [ 8.3   4.71  6.91  6.11]\n",
      " [12.03 13.13 15.23 15.83]\n",
      " [ 4.54  8.64 11.02 14.24]\n",
      " [11.15 15.02 19.92 17.63]\n",
      " [14.57  7.97  4.07  6.37]\n",
      " [ 7.26  9.22 12.53 14.21]\n",
      " [17.52 15.69 11.86  6.03]\n",
      " [ 4.21  7.14  6.61  5.15]\n",
      " [ 8.64 11.02 14.24 18.83]\n",
      " [16.37 19.82 18.42 15.72]\n",
      " [ 8.66 10.36 14.39 17.44]\n",
      " [ 5.04  7.04  1.75  6.48]\n",
      " [18.77 14.37 14.57  7.97]\n",
      " [11.6  13.64 15.96 16.73]\n",
      " [ 8.97 10.96 13.83 17.92]\n",
      " [ 9.08  5.07  0.35  3.23]\n",
      " [ 6.61  5.15  8.82  8.65]\n",
      " [14.14  9.51  4.21  7.14]\n",
      " [15.72 12.87  8.27  7.88]\n",
      " [17.51 13.72 12.2   7.02]\n",
      " [ 6.41  9.36  7.42 14.09]\n",
      " [17.7  15.6  11.4   7.9 ]\n",
      " [16.72 18.16 17.19 16.09]\n",
      " [ 6.9   1.84  6.87  5.71]] [ 6.03   6.02   9.97  17.19   5.18   7.89  15.13  16.4    7.31  16.73\n",
      " 18.83  15.97   8.37  15.83   6.28   8.82  18.38  12.87  19.02   7.88\n",
      "  4.07  14.87  18.3    6.09  12.45   6.61   5.13   2.64  16.325  6.91\n",
      " 15.09   8.46 ]\n",
      "[[13.81   8.56   6.67   7.62 ]\n",
      " [17.19  17.29  12.79   8.24 ]\n",
      " [ 8.65  12.96  16.86  17.19 ]\n",
      " [ 6.89   5.09   6.44   7.64 ]\n",
      " [ 7.63   7.83  12.03  13.13 ]\n",
      " [11.72   6.92   1.63   5.23 ]\n",
      " [14.52  12.65   9.08   5.07 ]\n",
      " [14.43  12.67   8.22   7.16 ]\n",
      " [ 8.82   8.65  12.45  15.94 ]\n",
      " [10.36  14.39  17.44  19.02 ]\n",
      " [ 7.57  10.64  13.75  16.02 ]\n",
      " [ 5.11   6.43   8.21   8.79 ]\n",
      " [ 9.09   8.97  10.96  13.83 ]\n",
      " [ 7.31   8.81  14.61  15.11 ]\n",
      " [ 9.36   7.42  14.09  16.325]\n",
      " [ 8.43   8.61   7.93   5.69 ]\n",
      " [ 8.37   8.47   9.97  12.87 ]\n",
      " [ 8.33   7.88  12.13  13.03 ]\n",
      " [ 9.19  10.68  16.15  17.41 ]\n",
      " [ 9.4    8.2   11.6   13.64 ]\n",
      " [ 7.38   9.08   9.68  11.88 ]\n",
      " [16.94  19.69  19.94  16.29 ]\n",
      " [ 6.69   5.64   4.6    7.74 ]\n",
      " [17.49  13.85  11.04  10.67 ]\n",
      " [ 5.95   7.98  13.13  17.35 ]\n",
      " [ 7.52   4.37   4.28   2.87 ]\n",
      " [ 7.93   5.69   5.66   8.66 ]\n",
      " [ 6.83   8.33   7.88  12.13 ]\n",
      " [ 2.32   4.32   7.02   9.32 ]\n",
      " [ 6.     9.2   13.    16.5  ]\n",
      " [11.57   8.07   5.26   5.72 ]\n",
      " [15.72  17.32  17.82  15.32 ]] [ 3.37  7.54 16.85  7.29 15.23  7.63  0.35  4.89 18.54 15.12 16.39 13.85\n",
      " 17.92 17.21 18.56  5.66 15.57 16.18 17.51 15.96 16.53 15.09 10.7   7.24\n",
      " 19.05  9.09 10.36 13.03 11.12 19.9   4.89 12.52]\n",
      "[[ 8.43  8.57 13.14 15.13]\n",
      " [11.12 15.52 18.52 16.92]\n",
      " [10.7  12.9  15.8  18.2 ]\n",
      " [19.47 14.2  14.3   7.82]\n",
      " [11.06 10.83 14.22 16.64]\n",
      " [15.6  11.4   7.9   6.91]\n",
      " [ 4.18  4.78  8.88 10.38]\n",
      " [ 4.62  7.22 10.22 12.72]\n",
      " [17.98 18.46 15.06 11.85]\n",
      " [18.76 14.71 13.27  7.52]\n",
      " [17.35 19.05 18.04 15.13]\n",
      " [ 9.31 14.46 17.61 18.46]\n",
      " [12.2   7.02  2.64  1.15]\n",
      " [17.3  11.91  8.05  6.34]\n",
      " [ 4.07  7.31  8.16  7.89]\n",
      " [ 6.28  7.05  5.58  7.88]\n",
      " [14.87 10.33  8.33  4.65]\n",
      " [ 5.29  0.56  2.9   5.49]\n",
      " [12.97 15.77 17.77 18.77]\n",
      " [ 7.9   6.91  4.81  5.94]\n",
      " [ 5.27  6.72  5.18  7.26]\n",
      " [10.33  8.33  4.65  4.51]\n",
      " [ 9.09 11.46 14.05 17.42]\n",
      " [17.29 12.79  8.24  7.54]\n",
      " [14.96 13.81  8.56  6.67]\n",
      " [15.57 16.57 17.17 15.17]\n",
      " [14.5  11.1   8.3   4.71]\n",
      " [ 7.4   4.69  7.57 10.64]\n",
      " [ 7.64  7.29 11.64 16.74]\n",
      " [18.09 17.19 17.29 12.79]\n",
      " [12.9  15.8  18.2  18.  ]\n",
      " [ 6.87  5.71  8.46 11.03]] [16.43 14.72 18.    3.41 17.16  4.81 12.88 15.72  9.52  4.37 12.02 17.96\n",
      "  7.63  4.5  11.18 10.12  4.51  9.09 14.37  8.73  9.22  5.6  15.69  5.69\n",
      "  7.62 12.07  6.91 13.75 18.09  8.24 14.15 14.28]\n",
      "[[13.71 10.71  8.81  4.37]\n",
      " [ 6.67  7.62  3.37  6.97]\n",
      " [12.13 13.03 16.18 17.78]\n",
      " [13.72 12.2   7.02  2.64]\n",
      " [ 6.48  7.88 11.15 15.02]\n",
      " [ 7.74 11.48 13.54 15.49]\n",
      " [ 1.75  6.48  7.88 11.15]\n",
      " [11.18 13.16 16.17 15.5 ]\n",
      " [ 8.24 10.66 13.68 16.41]\n",
      " [17.32 17.82 15.32 12.52]\n",
      " [ 6.31  6.36  6.41  8.71]\n",
      " [16.57 17.17 15.17 12.07]\n",
      " [ 5.09  6.41  9.36  7.42]\n",
      " [14.19 16.94 19.69 19.94]\n",
      " [15.65 18.75 16.6  16.65]\n",
      " [12.53 16.18 17.01 15.13]\n",
      " [ 6.91  4.81  5.94  8.73]\n",
      " [10.83 14.22 16.64 17.16]\n",
      " [18.04 15.13 12.02  7.54]\n",
      " [ 6.72 -1.09  4.09  5.17]\n",
      " [ 4.93  6.76  5.29 -1.14]\n",
      " [16.09 15.09  7.19  4.62]\n",
      " [18.48 20.28 15.28  9.78]\n",
      " [ 9.78  8.98  5.39  6.19]\n",
      " [ 6.92  1.63  5.23  7.63]\n",
      " [ 2.72  4.62  7.22 10.22]\n",
      " [11.85 11.25 10.41  6.31]\n",
      " [14.39 17.44 19.02 15.12]\n",
      " [ 2.87  9.09  8.97 10.96]\n",
      " [13.85 17.82 18.76 14.71]\n",
      " [19.05 18.04 15.13 12.02]\n",
      " [12.53 14.21 15.83 16.86]] [ 2.72 11.57 19.98  1.15 19.92 15.06 15.02 13.35 15.38 10.22 13.16  9.57\n",
      " 14.09 16.29 14.04 12.76  8.98 16.19  3.41 11.06  5.8   3.8   8.98  5.69\n",
      "  7.83 12.72  6.36 10.48 13.83 13.27  7.54 14.81]\n",
      "[[ 8.79  5.39  6.88  3.99]\n",
      " [-1.14  5.8   6.43 12.53]\n",
      " [10.17  6.39  4.97  5.39]\n",
      " [17.19 16.85 16.3  11.07]\n",
      " [11.03 14.28 15.34 16.97]\n",
      " [11.1   8.3   4.71  6.91]\n",
      " [15.45 11.52  8.71  6.02]\n",
      " [ 7.08  6.11  6.75  9.16]\n",
      " [ 8.06  5.61  3.46  7.21]\n",
      " [13.64 15.96 16.73 14.87]\n",
      " [ 6.36  6.41  8.71 13.16]\n",
      " [ 4.42  2.32  4.32  7.02]\n",
      " [18.93 18.58 16.08 12.93]\n",
      " [ 5.    7.4   4.69  7.57]\n",
      " [ 8.86  8.5  13.89 13.85]\n",
      " [15.13 12.02  7.54  3.41]\n",
      " [ 3.47  5.7   4.87  5.95]\n",
      " [ 6.91  6.11  7.31  8.81]\n",
      " [ 0.35  3.23  6.09  8.24]\n",
      " [ 5.26  5.72  4.89  5.8 ]\n",
      " [ 7.51  3.94  3.26  5.53]\n",
      " [13.85 15.32 16.38 17.52]\n",
      " [ 4.09  5.17 11.06 10.83]\n",
      " [11.86  6.03  6.28  7.05]\n",
      " [ 8.01  8.79 14.04 15.1 ]\n",
      " [14.72 11.72  6.92  1.63]\n",
      " [13.11  8.39  6.72 -1.09]\n",
      " [ 7.19  4.62  3.8   4.07]\n",
      " [ 7.82  8.    7.3  11.4 ]\n",
      " [18.2  18.   14.15 11.85]\n",
      " [ 5.15  8.82  8.65 12.45]\n",
      " [ 3.26  5.53  8.01  8.79]] [ 7.6  16.18  3.14  8.6  15.32  6.11  5.11 11.01 10.06 10.33 15.96  9.32\n",
      "  7.88 10.64 17.82  4.07  7.98 14.61 10.66  9.09  8.01 15.69 14.22  5.58\n",
      " 17.15  5.23  4.09  6.   12.9  11.25 15.94 14.04]\n",
      "[[11.85  9.52  5.29  0.56]\n",
      " [ 4.62  3.8   4.07  6.  ]\n",
      " [14.4   9.44  6.4   7.82]\n",
      " [ 4.37  4.28  2.87  9.09]\n",
      " [ 8.2  11.6  13.64 15.96]\n",
      " [10.41  6.31  6.36  6.41]\n",
      " [17.77 18.77 14.37 14.57]\n",
      " [ 9.88  6.89  5.09  6.44]\n",
      " [14.05 17.42 15.69 15.61]\n",
      " [ 5.53  8.01  8.79 14.04]\n",
      " [ 6.76  5.29 -1.14  5.8 ]\n",
      " [15.94 18.54 17.49 13.85]\n",
      " [16.5  14.5  11.1   8.3 ]\n",
      " [18.52 16.92 14.72 11.72]\n",
      " [12.19  8.79  5.39  6.88]\n",
      " [12.72 15.72 17.32 17.82]\n",
      " [ 8.08  6.76  3.27  8.43]\n",
      " [ 8.21  8.79 13.85 15.32]\n",
      " [ 9.22 12.53 14.21 15.83]\n",
      " [ 7.09  5.27  6.72  5.18]\n",
      " [15.06 14.52 12.65  9.08]\n",
      " [ 7.03  6.83  8.33  7.88]\n",
      " [16.73 14.87 10.33  8.33]\n",
      " [ 6.11  6.75  9.16 11.01]\n",
      " [17.78 19.98 16.88 12.18]\n",
      " [15.99 12.19  8.79  5.39]\n",
      " [13.13  9.73  8.08  6.76]\n",
      " [ 6.02  5.11  6.43  8.21]\n",
      " [13.75 16.02 16.39 16.32]\n",
      " [ 6.39  4.97  5.39  3.14]\n",
      " [12.64 15.65 18.75 16.6 ]\n",
      " [ 7.1   8.6  12.7  15.8 ]] [ 2.9   9.2   8.    8.97 16.73  8.71  7.97  7.64 11.23 15.1   6.43 11.04\n",
      "  4.71  6.92  3.99 15.32  8.57 16.38 16.86  7.26  5.07 12.13  4.65 14.34\n",
      "  9.88  6.88  3.27  8.79 14.14  9.4  16.65 15.9 ]\n",
      "[[18.58 16.08 12.93  7.88]\n",
      " [17.96 18.56 17.91 10.86]\n",
      " [ 8.07  5.26  5.72  4.89]\n",
      " [ 8.98 12.97 15.77 17.77]\n",
      " [18.83 18.38 16.38 13.73]\n",
      " [ 9.08  9.68 11.88 16.53]\n",
      " [ 7.88 11.15 15.02 19.92]\n",
      " [ 8.16  7.89 11.18 13.16]\n",
      " [18.46 15.06 11.85  9.52]\n",
      " [ 1.63  5.23  7.63  7.83]\n",
      " [18.46 17.96 14.96 13.81]\n",
      " [ 6.75  9.16 11.01 14.34]\n",
      " [ 7.14  6.61  5.15  8.82]\n",
      " [11.64 16.74 18.09 17.19]\n",
      " [18.16 17.19 16.09 15.09]\n",
      " [17.15 17.49 14.85  9.93]\n",
      " [11.46 14.05 17.42 15.69]\n",
      " [18.56 17.15 16.02 13.63]\n",
      " [ 3.61  5.78  9.19 10.68]\n",
      " [13.73  8.09  7.15  7.25]\n",
      " [12.79  8.24  7.54  5.69]\n",
      " [15.02 19.92 17.63 15.97]\n",
      " [ 4.89  3.54  4.54  8.64]\n",
      " [19.14 19.47 14.2  14.3 ]\n",
      " [12.67  7.89  7.35  4.2 ]\n",
      " [ 7.82  3.41  4.88  3.61]\n",
      " [ 7.92 12.21 15.02 16.33]\n",
      " [ 4.2   3.63  7.51  7.74]\n",
      " [12.87  8.27  7.88  5.13]\n",
      " [ 8.71 13.16 15.96 17.96]\n",
      " [ 8.61  7.93  5.69  5.66]\n",
      " [ 7.07  3.47  5.7   4.87]] [ 7.03  8.06  5.8  18.77  8.09 18.93 17.63 16.17  5.29 12.03  8.56 15.85\n",
      "  8.65 17.29  7.19  9.51 15.61  6.49 16.15  7.4   7.54 11.57 11.02  7.82\n",
      "  3.63  5.78 18.13 11.48  7.38 18.56  8.66  5.95]\n",
      "[[ 7.02  9.32 11.12 15.52]\n",
      " [ 9.19  9.84 14.19 16.94]\n",
      " [12.09 15.99 16.69 18.19]\n",
      " [ 4.87  5.95  7.98 13.13]\n",
      " [17.15 16.02 13.63  6.49]\n",
      " [10.22 12.72 15.72 17.32]\n",
      " [18.   14.15 11.85 11.25]\n",
      " [15.85 16.62 13.36  8.38]\n",
      " [12.07  9.57  7.43  4.18]\n",
      " [13.   16.5  19.9  16.6 ]\n",
      " [10.22  4.42  2.32  4.32]\n",
      " [16.6  17.7  14.4   9.44]\n",
      " [ 7.35  4.2   3.63  7.51]\n",
      " [15.23 15.83 16.73 16.23]\n",
      " [11.07  8.6   5.04  7.04]\n",
      " [16.15 17.41 17.51 13.72]\n",
      " [10.71  8.81  4.37  2.72]\n",
      " [ 6.09  8.24 10.66 13.68]\n",
      " [11.4   7.9   6.91  4.81]\n",
      " [ 6.37  8.37  8.47  9.97]\n",
      " [ 6.76  3.27  8.43  8.57]\n",
      " [ 7.62  3.37  6.97 11.57]\n",
      " [ 7.1   7.1   8.6  12.7 ]\n",
      " [15.32 16.38 17.52 15.69]\n",
      " [15.34 16.97 15.32 10.17]\n",
      " [ 8.25 10.85 12.64 15.65]\n",
      " [ 8.09  7.15  7.25  7.4 ]\n",
      " [ 4.6   7.74 10.7  12.9 ]\n",
      " [15.8  15.9  17.7  15.6 ]\n",
      " [13.14 15.13 16.43 18.03]\n",
      " [ 5.39  3.14  9.4   8.2 ]\n",
      " [15.06 11.85  9.52  5.29]] [18.52 19.69 15.99 17.35  4.8  17.82 10.41  8.43  4.78 17.7   7.02  6.4\n",
      "  7.74 13.13  1.75 12.2   4.62 16.41  5.94 12.87 13.14 13.47 15.8  11.86\n",
      "  6.39 18.75  8.25 15.8  11.4  14.43 11.6   0.56]\n",
      "[[12.88 17.68 18.48 20.28]\n",
      " [ 5.8   9.09  9.7  14.79]\n",
      " [18.75 16.6  16.65 14.04]\n",
      " [ 4.65  4.51  5.6   6.03]\n",
      " [14.27 11.84  8.06  6.9 ]\n",
      " [ 3.23  6.09  8.24 10.66]\n",
      " [ 7.16  4.89  3.54  4.54]\n",
      " [12.21 15.02 16.33 18.13]\n",
      " [15.32 10.17  6.39  4.97]\n",
      " [ 5.18  7.26  9.22 12.53]\n",
      " [ 9.32 11.12 15.52 18.52]\n",
      " [ 8.6  12.7  15.8  15.9 ]\n",
      " [16.85 16.3  11.07  8.6 ]\n",
      " [ 9.51  5.    7.4   4.69]\n",
      " [ 6.19  5.69  6.59  9.59]\n",
      " [14.22 16.64 17.16 16.19]\n",
      " [ 5.71  8.46 11.03 14.28]\n",
      " [18.34 17.3  11.91  8.05]\n",
      " [16.02 16.39 16.32 14.14]\n",
      " [ 5.7   4.87  5.95  7.98]\n",
      " [18.54 17.49 13.85 11.04]\n",
      " [15.52 18.52 16.92 14.72]\n",
      " [10.87  7.51  3.94  3.26]\n",
      " [16.86 14.81 11.89  6.26]\n",
      " [ 6.88  3.99  7.6  10.32]\n",
      " [11.88 16.53 18.93 18.58]\n",
      " [ 8.79 13.85 15.32 16.38]\n",
      " [ 6.34  4.5   7.1   7.1 ]\n",
      " [16.3  11.07  8.6   5.04]\n",
      " [ 4.81  5.94  8.73  8.98]\n",
      " [11.52  8.71  6.02  5.11]\n",
      " [17.61 18.46 17.96 14.96]] [15.28 17.98  9.95  8.65  1.84 13.68  8.64 15.21  5.39 14.21 16.92 17.7\n",
      "  5.04  7.57 12.09 11.14 15.34  6.34  9.51 13.13 10.67 11.72  5.53  7.82\n",
      " 12.71 16.08 17.52  8.6   7.04 12.97  6.43 13.81]\n",
      "[[17.91 10.86  8.06  5.61]\n",
      " [17.11 13.71 10.71  8.81]\n",
      " [ 9.44  6.4   7.82  8.  ]\n",
      " [ 2.9   5.49  9.09 11.46]\n",
      " [14.34 15.85 16.62 13.36]\n",
      " [16.32 14.14  9.51  4.21]\n",
      " [16.38 13.73  8.09  7.15]\n",
      " [ 6.03  8.65 12.96 16.86]\n",
      " [16.53 18.93 18.58 16.08]\n",
      " [10.86  8.06  5.61  3.46]\n",
      " [ 8.6  12.93 14.36 19.14]\n",
      " [ 8.05  6.34  4.5   7.1 ]\n",
      " [ 6.72  5.18  7.26  9.22]\n",
      " [ 9.95  6.69  5.64  4.6 ]\n",
      " [12.7  15.8  15.9  17.7 ]\n",
      " [11.91  8.05  6.34  4.5 ]\n",
      " [19.9  16.6  17.7  14.4 ]\n",
      " [11.4  12.9  15.3  16.4 ]\n",
      " [13.16 16.17 15.5  13.35]\n",
      " [ 9.93  9.51  5.    7.4 ]\n",
      " [ 8.27  7.88  5.13  7.38]\n",
      " [10.96 13.83 17.92 18.3 ]\n",
      " [10.67  7.24  5.82  8.32]\n",
      " [ 3.94  3.26  5.53  8.01]\n",
      " [ 9.59 12.09 15.99 16.69]\n",
      " [ 7.15  7.25  7.4   8.25]\n",
      " [17.92 18.3  16.65 10.87]\n",
      " [ 7.98 13.13 17.35 19.05]\n",
      " [15.17 12.07  9.57  7.43]\n",
      " [14.4  15.06 18.77 18.34]\n",
      " [ 5.17 11.06 10.83 14.22]\n",
      " [14.24 18.83 18.38 16.38]] [ 3.46  4.37  7.3  14.05  8.38  7.14  7.25 17.19 12.93  7.21 19.47  7.1\n",
      " 12.53  7.74 15.6   7.1   9.44 16.5  12.67  4.69  9.08 16.65  6.51  8.79\n",
      " 18.19 10.85  7.51 18.04  4.18 17.3  16.64 13.73]\n",
      "[[ 8.32  6.51  8.6  12.93]\n",
      " [12.71 16.72 18.16 17.19]\n",
      " [ 5.07  0.35  3.23  6.09]\n",
      " [17.17 15.17 12.07  9.57]\n",
      " [15.69 11.86  6.03  6.28]\n",
      " [17.16 16.19 11.14  7.09]\n",
      " [ 8.56  6.67  7.62  3.37]\n",
      " [15.06 18.77 18.34 17.3 ]\n",
      " [15.3  16.4  16.5  14.5 ]\n",
      " [ 8.92  8.71 12.36 15.14]\n",
      " [12.93 14.36 19.14 19.47]\n",
      " [ 7.63  8.92  8.71 12.36]\n",
      " [12.18  9.88  6.89  5.09]\n",
      " [15.09 10.44  5.    6.75]\n",
      " [ 2.64  1.15  7.63  8.92]\n",
      " [15.49 15.06 14.52 12.65]\n",
      " [10.48  7.07  3.47  5.7 ]\n",
      " [19.02 15.12 10.48  7.07]\n",
      " [17.44 19.02 15.12 10.48]\n",
      " [15.5  13.35 12.67  7.89]\n",
      " [15.1  17.15 17.49 14.85]\n",
      " [ 3.37  6.97 11.57 13.47]\n",
      " [ 4.15  4.23  6.    7.92]\n",
      " [12.02  7.54  3.41  4.07]\n",
      " [ 6.49  4.8   6.52  9.12]\n",
      " [ 5.78  9.19 10.68 16.15]\n",
      " [16.64 17.16 16.19 11.14]\n",
      " [ 7.25  7.4   8.25 10.85]\n",
      " [16.39 16.32 14.14  9.51]\n",
      " [ 5.64  4.6   7.74 10.7 ]\n",
      " [ 4.78  8.88 10.38 12.88]\n",
      " [14.61 15.11 17.21 17.11]] [14.36 16.09  8.24  7.43  7.05  5.27  6.97 11.91 11.1  16.94 14.2  15.14\n",
      "  6.44  6.9   8.71  9.08  4.87  3.47  7.07  7.35  9.93 16.37 12.21  7.31\n",
      "  8.86 17.41  7.09 12.64  4.21 12.9  17.68 13.71]\n",
      "[[ 7.88  7.03  6.83  8.33]\n",
      " [16.73 16.23 13.13  9.73]\n",
      " [ 7.4   8.25 10.85 12.64]\n",
      " [ 9.52  5.29  0.56  2.9 ]\n",
      " [16.94 19.88 15.45 11.52]\n",
      " [ 1.15  7.63  8.92  8.71]\n",
      " [13.63  6.49  4.8   6.52]\n",
      " [15.12 10.48  7.07  3.47]\n",
      " [17.63 15.97 11.57  8.07]\n",
      " [ 6.43 12.53 16.18 17.01]\n",
      " [13.36  8.38  8.43  8.61]\n",
      " [ 7.74 10.7  12.9  15.8 ]\n",
      " [ 3.46  7.21 10.06  9.31]\n",
      " [ 7.89 11.18 13.16 16.17]\n",
      " [16.86 17.19 16.85 16.3 ]\n",
      " [ 4.51  5.6   6.03  8.65]\n",
      " [14.3   7.82  3.41  4.88]\n",
      " [12.9  15.3  16.4  16.5 ]\n",
      " [17.82 18.76 14.71 13.27]\n",
      " [ 7.04  1.75  6.48  7.88]\n",
      " [ 9.12  8.86  8.5  13.89]\n",
      " [ 1.84  6.87  5.71  8.46]\n",
      " [ 5.39  6.88  3.99  7.6 ]\n",
      " [12.93  7.88  7.03  6.83]\n",
      " [ 7.54  3.41  4.07  7.31]] [ 7.88  8.08 15.65  5.49  8.71 12.36  9.12  5.7   5.26 15.13  7.93 18.2\n",
      " 14.46 15.5  11.07 12.96  3.61 14.5   7.52 11.15 13.85 11.03 10.32  8.33\n",
      "  8.16]\n"
     ]
    }
   ],
   "source": [
    "dataset = tf.data.Dataset.from_tensor_slices(series)\n",
    "dataset = dataset.window(5, shift=1, drop_remainder=True)\n",
    "dataset = dataset.flat_map(lambda window: window.batch(5))\n",
    "dataset = dataset.map(lambda window: (window[:-1], window[-1]))\n",
    "dataset = dataset.shuffle(buffer_size=len(series))\n",
    "\n",
    "dataset = dataset.batch(32).prefetch(1)\n",
    "\n",
    "for x, y in dataset:\n",
    "    print(x.numpy(), y.numpy())"
   ]
  },
  {
   "cell_type": "code",
   "execution_count": 44,
   "id": "1136c680",
   "metadata": {},
   "outputs": [],
   "source": [
    "def windowed_dataset(series, window_size, batch_size):\n",
    "    dataset = tf.data.Dataset.from_tensor_slices(series)\n",
    "    dataset = dataset.window(window_size+1, shift=1, drop_remainder=True)\n",
    "    dataset = dataset.flat_map(lambda window: window.batch(window_size+1))\n",
    "    dataset = dataset.map(lambda window: (window[:-1], window[-1]))\n",
    "    dataset = dataset.shuffle(buffer_size=len(series))\n",
    "\n",
    "    dataset = dataset.batch(batch_size).prefetch(1)\n",
    "    \n",
    "    return dataset"
   ]
  },
  {
   "cell_type": "code",
   "execution_count": 45,
   "id": "44bb17a7",
   "metadata": {},
   "outputs": [],
   "source": [
    "window_size = 24\n",
    "batch_size = 32\n",
    "\n",
    "dataset = windowed_dataset(x_train, window_size, batch_size)\n",
    "test_dataset = windowed_dataset(x_test, window_size, batch_size)"
   ]
  },
  {
   "cell_type": "markdown",
   "id": "ab5f4b78",
   "metadata": {},
   "source": [
    "### Réseau de Neurone"
   ]
  },
  {
   "cell_type": "code",
   "execution_count": 46,
   "id": "65787ab5",
   "metadata": {},
   "outputs": [
    {
     "name": "stdout",
     "output_type": "stream",
     "text": [
      "(32, 24) (32,)\n",
      "tf.Tensor(\n",
      "[[ 8.97  10.96  13.83  17.92  18.3   16.65  10.87   7.51   3.94   3.26\n",
      "   5.53   8.01   8.79  14.04  15.1   17.15  17.49  14.85   9.93   9.51\n",
      "   5.     7.4    4.69   7.57 ]\n",
      " [18.13  15.21  11.11   7.32   5.65   7.08   6.11   6.75   9.16  11.01\n",
      "  14.34  15.85  16.62  13.36   8.38   8.43   8.61   7.93   5.69   5.66\n",
      "   8.66  10.36  14.39  17.44 ]\n",
      " [10.64  13.75  16.02  16.39  16.32  14.14   9.51   4.21   7.14   6.61\n",
      "   5.15   8.82   8.65  12.45  15.94  18.54  17.49  13.85  11.04  10.67\n",
      "   7.24   5.82   8.32   6.51 ]\n",
      " [ 4.15   4.23   6.     7.92  12.21  15.02  16.33  18.13  15.21  11.11\n",
      "   7.32   5.65   7.08   6.11   6.75   9.16  11.01  14.34  15.85  16.62\n",
      "  13.36   8.38   8.43   8.61 ]\n",
      " [14.09  16.325 18.56  17.15  16.02  13.63   6.49   4.8    6.52   9.12\n",
      "   8.86   8.5   13.89  13.85  17.82  18.76  14.71  13.27   7.52   4.37\n",
      "   4.28   2.87   9.09   8.97 ]\n",
      " [ 7.22  10.22  12.72  15.72  17.32  17.82  15.32  12.52  10.22   4.42\n",
      "   2.32   4.32   7.02   9.32  11.12  15.52  18.52  16.92  14.72  11.72\n",
      "   6.92   1.63   5.23   7.63 ]\n",
      " [ 7.16   4.89   3.54   4.54   8.64  11.02  14.24  18.83  18.38  16.38\n",
      "  13.73   8.09   7.15   7.25   7.4    8.25  10.85  12.64  15.65  18.75\n",
      "  16.6   16.65  14.04   9.95 ]\n",
      " [18.48  20.28  15.28   9.78   8.98   5.39   6.19   5.69   6.59   9.59\n",
      "  12.09  15.99  16.69  18.19  15.99  12.19   8.79   5.39   6.88   3.99\n",
      "   7.6   10.32  12.71  16.72 ]\n",
      " [14.39  17.44  19.02  15.12  10.48   7.07   3.47   5.7    4.87   5.95\n",
      "   7.98  13.13  17.35  19.05  18.04  15.13  12.02   7.54   3.41   4.07\n",
      "   7.31   8.16   7.89  11.18 ]\n",
      " [12.93  14.36  19.14  19.47  14.2   14.3    7.82   3.41   4.88   3.61\n",
      "   5.78   9.19  10.68  16.15  17.41  17.51  13.72  12.2    7.02   2.64\n",
      "   1.15   7.63   8.92   8.71 ]\n",
      " [12.53  16.18  17.01  15.13  12.76  13.11   8.39   6.72  -1.09   4.09\n",
      "   5.17  11.06  10.83  14.22  16.64  17.16  16.19  11.14   7.09   5.27\n",
      "   6.72   5.18   7.26   9.22 ]\n",
      " [ 8.43   8.57  13.14  15.13  16.43  18.03  14.43  12.67   8.22   7.16\n",
      "   4.89   3.54   4.54   8.64  11.02  14.24  18.83  18.38  16.38  13.73\n",
      "   8.09   7.15   7.25   7.4  ]\n",
      " [14.37  14.57   7.97   4.07   6.37   8.37   8.47   9.97  12.87  15.57\n",
      "  16.57  17.17  15.17  12.07   9.57   7.43   4.18   4.78   8.88  10.38\n",
      "  12.88  17.68  18.48  20.28 ]\n",
      " [17.68  18.48  20.28  15.28   9.78   8.98   5.39   6.19   5.69   6.59\n",
      "   9.59  12.09  15.99  16.69  18.19  15.99  12.19   8.79   5.39   6.88\n",
      "   3.99   7.6   10.32  12.71 ]\n",
      " [ 9.09   9.7   14.79  17.98  18.46  15.06  11.85   9.52   5.29   0.56\n",
      "   2.9    5.49   9.09  11.46  14.05  17.42  15.69  15.61  11.23   4.93\n",
      "   6.76   5.29  -1.14   5.8  ]\n",
      " [17.82  15.32  12.52  10.22   4.42   2.32   4.32   7.02   9.32  11.12\n",
      "  15.52  18.52  16.92  14.72  11.72   6.92   1.63   5.23   7.63   7.83\n",
      "  12.03  13.13  15.23  15.83 ]\n",
      " [ 7.08   6.11   6.75   9.16  11.01  14.34  15.85  16.62  13.36   8.38\n",
      "   8.43   8.61   7.93   5.69   5.66   8.66  10.36  14.39  17.44  19.02\n",
      "  15.12  10.48   7.07   3.47 ]\n",
      " [ 9.51   4.21   7.14   6.61   5.15   8.82   8.65  12.45  15.94  18.54\n",
      "  17.49  13.85  11.04  10.67   7.24   5.82   8.32   6.51   8.6   12.93\n",
      "  14.36  19.14  19.47  14.2  ]\n",
      " [ 4.07   6.37   8.37   8.47   9.97  12.87  15.57  16.57  17.17  15.17\n",
      "  12.07   9.57   7.43   4.18   4.78   8.88  10.38  12.88  17.68  18.48\n",
      "  20.28  15.28   9.78   8.98 ]\n",
      " [ 5.04   7.04   1.75   6.48   7.88  11.15  15.02  19.92  17.63  15.97\n",
      "  11.57   8.07   5.26   5.72   4.89   5.8    9.09   9.7   14.79  17.98\n",
      "  18.46  15.06  11.85   9.52 ]\n",
      " [16.15  17.41  17.51  13.72  12.2    7.02   2.64   1.15   7.63   8.92\n",
      "   8.71  12.36  15.14  16.94  19.88  15.45  11.52   8.71   6.02   5.11\n",
      "   6.43   8.21   8.79  13.85 ]\n",
      " [ 9.93   9.51   5.     7.4    4.69   7.57  10.64  13.75  16.02  16.39\n",
      "  16.32  14.14   9.51   4.21   7.14   6.61   5.15   8.82   8.65  12.45\n",
      "  15.94  18.54  17.49  13.85 ]\n",
      " [15.13  12.02   7.54   3.41   4.07   7.31   8.16   7.89  11.18  13.16\n",
      "  16.17  15.5   13.35  12.67   7.89   7.35   4.2    3.63   7.51   7.74\n",
      "  11.48  13.54  15.49  15.06 ]\n",
      " [ 5.8    9.09   9.7   14.79  17.98  18.46  15.06  11.85   9.52   5.29\n",
      "   0.56   2.9    5.49   9.09  11.46  14.05  17.42  15.69  15.61  11.23\n",
      "   4.93   6.76   5.29  -1.14 ]\n",
      " [17.98  18.46  15.06  11.85   9.52   5.29   0.56   2.9    5.49   9.09\n",
      "  11.46  14.05  17.42  15.69  15.61  11.23   4.93   6.76   5.29  -1.14\n",
      "   5.8    6.43  12.53  16.18 ]\n",
      " [11.15  15.02  19.92  17.63  15.97  11.57   8.07   5.26   5.72   4.89\n",
      "   5.8    9.09   9.7   14.79  17.98  18.46  15.06  11.85   9.52   5.29\n",
      "   0.56   2.9    5.49   9.09 ]\n",
      " [ 8.43   8.61   7.93   5.69   5.66   8.66  10.36  14.39  17.44  19.02\n",
      "  15.12  10.48   7.07   3.47   5.7    4.87   5.95   7.98  13.13  17.35\n",
      "  19.05  18.04  15.13  12.02 ]\n",
      " [ 5.17  11.06  10.83  14.22  16.64  17.16  16.19  11.14   7.09   5.27\n",
      "   6.72   5.18   7.26   9.22  12.53  14.21  15.83  16.86  14.81  11.89\n",
      "   6.26   7.82   5.09   6.41 ]\n",
      " [ 0.56   2.9    5.49   9.09  11.46  14.05  17.42  15.69  15.61  11.23\n",
      "   4.93   6.76   5.29  -1.14   5.8    6.43  12.53  16.18  17.01  15.13\n",
      "  12.76  13.11   8.39   6.72 ]\n",
      " [10.22  12.72  15.72  17.32  17.82  15.32  12.52  10.22   4.42   2.32\n",
      "   4.32   7.02   9.32  11.12  15.52  18.52  16.92  14.72  11.72   6.92\n",
      "   1.63   5.23   7.63   7.83 ]\n",
      " [ 9.78   8.98   5.39   6.19   5.69   6.59   9.59  12.09  15.99  16.69\n",
      "  18.19  15.99  12.19   8.79   5.39   6.88   3.99   7.6   10.32  12.71\n",
      "  16.72  18.16  17.19  16.09 ]\n",
      " [ 4.21   7.14   6.61   5.15   8.82   8.65  12.45  15.94  18.54  17.49\n",
      "  13.85  11.04  10.67   7.24   5.82   8.32   6.51   8.6   12.93  14.36\n",
      "  19.14  19.47  14.2   14.3  ]], shape=(32, 24), dtype=float64)\n",
      "tf.Tensor(\n",
      "[10.64 19.02  8.6   7.93 10.96  7.83  6.69 18.16 13.16 12.36 12.53  8.25\n",
      " 15.28 16.72  6.43 16.73  5.7  14.3   5.39  5.29 15.32 11.04 14.52  5.8\n",
      " 17.01 11.46  7.54  9.36 -1.09 12.03 15.09  7.82], shape=(32,), dtype=float64)\n"
     ]
    }
   ],
   "source": [
    "for feature, label in dataset.take(1):\n",
    "    print(feature.shape, label.shape)\n",
    "    print(feature)\n",
    "    print(label)    "
   ]
  },
  {
   "cell_type": "code",
   "execution_count": 47,
   "id": "2cbfce74",
   "metadata": {},
   "outputs": [],
   "source": [
    "model = tf.keras.models.Sequential([\n",
    "    tf.keras.layers.Dense(10, input_shape=[24], activation=\"relu\"),\n",
    "    tf.keras.layers.Dense(10, activation=\"relu\"),\n",
    "    tf.keras.layers.Dense(1)\n",
    "])"
   ]
  },
  {
   "cell_type": "code",
   "execution_count": 48,
   "id": "28cbd93d",
   "metadata": {},
   "outputs": [
    {
     "name": "stdout",
     "output_type": "stream",
     "text": [
      "Model: \"sequential\"\n",
      "_________________________________________________________________\n",
      " Layer (type)                Output Shape              Param #   \n",
      "=================================================================\n",
      " dense (Dense)               (None, 10)                250       \n",
      "                                                                 \n",
      " dense_1 (Dense)             (None, 10)                110       \n",
      "                                                                 \n",
      " dense_2 (Dense)             (None, 1)                 11        \n",
      "                                                                 \n",
      "=================================================================\n",
      "Total params: 371\n",
      "Trainable params: 371\n",
      "Non-trainable params: 0\n",
      "_________________________________________________________________\n"
     ]
    }
   ],
   "source": [
    "model.summary()"
   ]
  },
  {
   "cell_type": "code",
   "execution_count": 73,
   "id": "2dc3d6be",
   "metadata": {},
   "outputs": [],
   "source": [
    "model.compile(loss=\"mse\", optimizer=tf.keras.optimizers.SGD(learning_rate=1e-6, momentum=0.9))"
   ]
  },
  {
   "cell_type": "code",
   "execution_count": null,
   "id": "1a3d1377",
   "metadata": {},
   "outputs": [],
   "source": []
  },
  {
   "cell_type": "code",
   "execution_count": 74,
   "id": "4202e4c1",
   "metadata": {},
   "outputs": [
    {
     "name": "stdout",
     "output_type": "stream",
     "text": [
      "Epoch 1/100\n",
      "16/16 [==============================] - 2s 57ms/step - loss: 23.3563 - val_loss: 20.1835\n",
      "Epoch 2/100\n",
      "16/16 [==============================] - 0s 5ms/step - loss: 18.0629 - val_loss: 14.4966\n",
      "Epoch 3/100\n",
      "16/16 [==============================] - 0s 5ms/step - loss: 13.5125 - val_loss: 11.0400\n",
      "Epoch 4/100\n",
      "16/16 [==============================] - 0s 5ms/step - loss: 10.7680 - val_loss: 9.0078\n",
      "Epoch 5/100\n",
      "16/16 [==============================] - 0s 4ms/step - loss: 8.9687 - val_loss: 7.6913\n",
      "Epoch 6/100\n",
      "16/16 [==============================] - 0s 5ms/step - loss: 7.7459 - val_loss: 6.7337\n",
      "Epoch 7/100\n",
      "16/16 [==============================] - 0s 5ms/step - loss: 6.8133 - val_loss: 6.0078\n",
      "Epoch 8/100\n",
      "16/16 [==============================] - 0s 4ms/step - loss: 6.1281 - val_loss: 5.4091\n",
      "Epoch 9/100\n",
      "16/16 [==============================] - 0s 4ms/step - loss: 5.5431 - val_loss: 4.9377\n",
      "Epoch 10/100\n",
      "16/16 [==============================] - 0s 4ms/step - loss: 5.1154 - val_loss: 4.5887\n",
      "Epoch 11/100\n",
      "16/16 [==============================] - 0s 5ms/step - loss: 4.7811 - val_loss: 4.2929\n",
      "Epoch 12/100\n",
      "16/16 [==============================] - 0s 4ms/step - loss: 4.5147 - val_loss: 4.0396\n",
      "Epoch 13/100\n",
      "16/16 [==============================] - 0s 4ms/step - loss: 4.2743 - val_loss: 3.8919\n",
      "Epoch 14/100\n",
      "16/16 [==============================] - 0s 4ms/step - loss: 4.1103 - val_loss: 3.7405\n",
      "Epoch 15/100\n",
      "16/16 [==============================] - 0s 5ms/step - loss: 3.9653 - val_loss: 3.6197\n",
      "Epoch 16/100\n",
      "16/16 [==============================] - 0s 4ms/step - loss: 3.8347 - val_loss: 3.5111\n",
      "Epoch 17/100\n",
      "16/16 [==============================] - 0s 5ms/step - loss: 3.7346 - val_loss: 3.4091\n",
      "Epoch 18/100\n",
      "16/16 [==============================] - 0s 5ms/step - loss: 3.6658 - val_loss: 3.3466\n",
      "Epoch 19/100\n",
      "16/16 [==============================] - 0s 5ms/step - loss: 3.5946 - val_loss: 3.2788\n",
      "Epoch 20/100\n",
      "16/16 [==============================] - 0s 5ms/step - loss: 3.5396 - val_loss: 3.2293\n",
      "Epoch 21/100\n",
      "16/16 [==============================] - 0s 5ms/step - loss: 3.4949 - val_loss: 3.1862\n",
      "Epoch 22/100\n",
      "16/16 [==============================] - 0s 4ms/step - loss: 3.4312 - val_loss: 3.2035\n",
      "Epoch 23/100\n",
      "16/16 [==============================] - 0s 4ms/step - loss: 3.4080 - val_loss: 3.2118\n",
      "Epoch 24/100\n",
      "16/16 [==============================] - 0s 4ms/step - loss: 3.3911 - val_loss: 3.1898\n",
      "Epoch 25/100\n",
      "16/16 [==============================] - 0s 5ms/step - loss: 3.3578 - val_loss: 3.1195\n",
      "Epoch 26/100\n",
      "16/16 [==============================] - 0s 5ms/step - loss: 3.3357 - val_loss: 3.0865\n",
      "Epoch 27/100\n",
      "16/16 [==============================] - 0s 5ms/step - loss: 3.3275 - val_loss: 3.0737\n",
      "Epoch 28/100\n",
      "16/16 [==============================] - 0s 5ms/step - loss: 3.3029 - val_loss: 3.0663\n",
      "Epoch 29/100\n",
      "16/16 [==============================] - 0s 4ms/step - loss: 3.2898 - val_loss: 3.0531\n",
      "Epoch 30/100\n",
      "16/16 [==============================] - 0s 4ms/step - loss: 3.2779 - val_loss: 3.0415\n",
      "Epoch 31/100\n",
      "16/16 [==============================] - 0s 4ms/step - loss: 3.2623 - val_loss: 3.0329\n",
      "Epoch 32/100\n",
      "16/16 [==============================] - 0s 4ms/step - loss: 3.2499 - val_loss: 3.0169\n",
      "Epoch 33/100\n",
      "16/16 [==============================] - 0s 4ms/step - loss: 3.2435 - val_loss: 3.0169\n",
      "Epoch 34/100\n",
      "16/16 [==============================] - 0s 5ms/step - loss: 3.2285 - val_loss: 2.9932\n",
      "Epoch 35/100\n",
      "16/16 [==============================] - 0s 4ms/step - loss: 3.2138 - val_loss: 3.0069\n",
      "Epoch 36/100\n",
      "16/16 [==============================] - 0s 5ms/step - loss: 3.2050 - val_loss: 2.9978\n",
      "Epoch 37/100\n",
      "16/16 [==============================] - 0s 5ms/step - loss: 3.1977 - val_loss: 2.9801\n",
      "Epoch 38/100\n",
      "16/16 [==============================] - 0s 5ms/step - loss: 3.1834 - val_loss: 2.9562\n",
      "Epoch 39/100\n",
      "16/16 [==============================] - 0s 4ms/step - loss: 3.1807 - val_loss: 2.9617\n",
      "Epoch 40/100\n",
      "16/16 [==============================] - 0s 5ms/step - loss: 3.1779 - val_loss: 2.9644\n",
      "Epoch 41/100\n",
      "16/16 [==============================] - 0s 5ms/step - loss: 3.1714 - val_loss: 2.9395\n",
      "Epoch 42/100\n",
      "16/16 [==============================] - 0s 5ms/step - loss: 3.1640 - val_loss: 2.9600\n",
      "Epoch 43/100\n",
      "16/16 [==============================] - 0s 5ms/step - loss: 3.1618 - val_loss: 2.9402\n",
      "Epoch 44/100\n",
      "16/16 [==============================] - 0s 5ms/step - loss: 3.1482 - val_loss: 2.9205\n",
      "Epoch 45/100\n",
      "16/16 [==============================] - 0s 5ms/step - loss: 3.1394 - val_loss: 2.8992\n",
      "Epoch 46/100\n",
      "16/16 [==============================] - 0s 5ms/step - loss: 3.1327 - val_loss: 2.8779\n",
      "Epoch 47/100\n",
      "16/16 [==============================] - 0s 4ms/step - loss: 3.1332 - val_loss: 2.8720\n",
      "Epoch 48/100\n",
      "16/16 [==============================] - 0s 4ms/step - loss: 3.1237 - val_loss: 2.8608\n",
      "Epoch 49/100\n",
      "16/16 [==============================] - 0s 4ms/step - loss: 3.1172 - val_loss: 2.8553\n",
      "Epoch 50/100\n",
      "16/16 [==============================] - 0s 5ms/step - loss: 3.1074 - val_loss: 2.8520\n",
      "Epoch 51/100\n",
      "16/16 [==============================] - 0s 4ms/step - loss: 3.1084 - val_loss: 2.8408\n",
      "Epoch 52/100\n",
      "16/16 [==============================] - 0s 4ms/step - loss: 3.0979 - val_loss: 2.8274\n",
      "Epoch 53/100\n",
      "16/16 [==============================] - 0s 5ms/step - loss: 3.0914 - val_loss: 2.8337\n",
      "Epoch 54/100\n",
      "16/16 [==============================] - 0s 4ms/step - loss: 3.0815 - val_loss: 2.8189\n",
      "Epoch 55/100\n",
      "16/16 [==============================] - 0s 4ms/step - loss: 3.0757 - val_loss: 2.8018\n",
      "Epoch 56/100\n",
      "16/16 [==============================] - 0s 4ms/step - loss: 3.0780 - val_loss: 2.7962\n",
      "Epoch 57/100\n",
      "16/16 [==============================] - 0s 4ms/step - loss: 3.1038 - val_loss: 2.7956\n",
      "Epoch 58/100\n",
      "16/16 [==============================] - 0s 4ms/step - loss: 3.0812 - val_loss: 2.7904\n",
      "Epoch 59/100\n",
      "16/16 [==============================] - 0s 4ms/step - loss: 3.0680 - val_loss: 2.8442\n",
      "Epoch 60/100\n",
      "16/16 [==============================] - 0s 4ms/step - loss: 3.0544 - val_loss: 2.8302\n",
      "Epoch 61/100\n",
      "16/16 [==============================] - 0s 4ms/step - loss: 3.0466 - val_loss: 2.8070\n",
      "Epoch 62/100\n",
      "16/16 [==============================] - 0s 4ms/step - loss: 3.0413 - val_loss: 2.7805\n",
      "Epoch 63/100\n",
      "16/16 [==============================] - 0s 4ms/step - loss: 3.0274 - val_loss: 2.8323\n",
      "Epoch 64/100\n",
      "16/16 [==============================] - 0s 4ms/step - loss: 3.0512 - val_loss: 2.8730\n",
      "Epoch 65/100\n",
      "16/16 [==============================] - 0s 4ms/step - loss: 3.0320 - val_loss: 2.7855\n",
      "Epoch 66/100\n",
      "16/16 [==============================] - 0s 4ms/step - loss: 3.0234 - val_loss: 2.7588\n",
      "Epoch 67/100\n",
      "16/16 [==============================] - 0s 6ms/step - loss: 3.0190 - val_loss: 2.7386\n",
      "Epoch 68/100\n",
      "16/16 [==============================] - 0s 7ms/step - loss: 3.0159 - val_loss: 2.7339\n",
      "Epoch 69/100\n",
      "16/16 [==============================] - 0s 4ms/step - loss: 3.0090 - val_loss: 2.7287\n",
      "Epoch 70/100\n",
      "16/16 [==============================] - 0s 4ms/step - loss: 3.0064 - val_loss: 2.7256\n",
      "Epoch 71/100\n",
      "16/16 [==============================] - 0s 4ms/step - loss: 2.9981 - val_loss: 2.7265\n",
      "Epoch 72/100\n",
      "16/16 [==============================] - 0s 4ms/step - loss: 2.9962 - val_loss: 2.7171\n",
      "Epoch 73/100\n",
      "16/16 [==============================] - 0s 6ms/step - loss: 2.9944 - val_loss: 2.7224\n",
      "Epoch 74/100\n",
      "16/16 [==============================] - 0s 5ms/step - loss: 2.9894 - val_loss: 2.7048\n",
      "Epoch 75/100\n",
      "16/16 [==============================] - 0s 4ms/step - loss: 3.0070 - val_loss: 2.6908\n",
      "Epoch 76/100\n",
      "16/16 [==============================] - 0s 4ms/step - loss: 2.9920 - val_loss: 2.6875\n",
      "Epoch 77/100\n",
      "16/16 [==============================] - 0s 4ms/step - loss: 2.9778 - val_loss: 2.6850\n",
      "Epoch 78/100\n",
      "16/16 [==============================] - 0s 4ms/step - loss: 2.9792 - val_loss: 2.6990\n",
      "Epoch 79/100\n",
      "16/16 [==============================] - 0s 5ms/step - loss: 2.9697 - val_loss: 2.7104\n",
      "Epoch 80/100\n",
      "16/16 [==============================] - 0s 4ms/step - loss: 2.9652 - val_loss: 2.6909\n",
      "Epoch 81/100\n",
      "16/16 [==============================] - 0s 4ms/step - loss: 2.9637 - val_loss: 2.6675\n",
      "Epoch 82/100\n",
      "16/16 [==============================] - 0s 6ms/step - loss: 2.9606 - val_loss: 2.6557\n"
     ]
    },
    {
     "name": "stdout",
     "output_type": "stream",
     "text": [
      "Epoch 83/100\n",
      "16/16 [==============================] - 0s 4ms/step - loss: 2.9579 - val_loss: 2.6583\n",
      "Epoch 84/100\n",
      "16/16 [==============================] - 0s 4ms/step - loss: 2.9575 - val_loss: 2.6904\n",
      "Epoch 85/100\n",
      "16/16 [==============================] - 0s 4ms/step - loss: 2.9463 - val_loss: 2.6530\n",
      "Epoch 86/100\n",
      "16/16 [==============================] - 0s 4ms/step - loss: 2.9476 - val_loss: 2.6496\n",
      "Epoch 87/100\n",
      "16/16 [==============================] - 0s 4ms/step - loss: 2.9426 - val_loss: 2.6691\n",
      "Epoch 88/100\n",
      "16/16 [==============================] - 0s 5ms/step - loss: 2.9396 - val_loss: 2.6437\n",
      "Epoch 89/100\n",
      "16/16 [==============================] - 0s 5ms/step - loss: 2.9427 - val_loss: 2.6765\n",
      "Epoch 90/100\n",
      "16/16 [==============================] - 0s 4ms/step - loss: 2.9405 - val_loss: 2.6781\n",
      "Epoch 91/100\n",
      "16/16 [==============================] - 0s 4ms/step - loss: 2.9396 - val_loss: 2.6836\n",
      "Epoch 92/100\n",
      "16/16 [==============================] - 0s 4ms/step - loss: 2.9301 - val_loss: 2.6566\n",
      "Epoch 93/100\n",
      "16/16 [==============================] - 0s 4ms/step - loss: 2.9311 - val_loss: 2.6033\n",
      "Epoch 94/100\n",
      "16/16 [==============================] - 0s 4ms/step - loss: 2.9250 - val_loss: 2.6065\n",
      "Epoch 95/100\n",
      "16/16 [==============================] - 0s 4ms/step - loss: 2.9118 - val_loss: 2.6135\n",
      "Epoch 96/100\n",
      "16/16 [==============================] - 0s 5ms/step - loss: 2.9084 - val_loss: 2.5857\n",
      "Epoch 97/100\n",
      "16/16 [==============================] - 0s 5ms/step - loss: 2.9036 - val_loss: 2.5951\n",
      "Epoch 98/100\n",
      "16/16 [==============================] - 0s 5ms/step - loss: 2.9075 - val_loss: 2.6120\n",
      "Epoch 99/100\n",
      "16/16 [==============================] - 0s 5ms/step - loss: 2.9003 - val_loss: 2.5816\n",
      "Epoch 100/100\n",
      "16/16 [==============================] - 0s 5ms/step - loss: 2.8971 - val_loss: 2.5660\n"
     ]
    },
    {
     "data": {
      "text/plain": [
       "<keras.callbacks.History at 0x7f62315ebb20>"
      ]
     },
     "execution_count": 74,
     "metadata": {},
     "output_type": "execute_result"
    }
   ],
   "source": [
    "model.fit(dataset, epochs=100, validation_data=test_dataset)"
   ]
  },
  {
   "cell_type": "markdown",
   "id": "cdb10019",
   "metadata": {},
   "source": [
    "### Prédiction avec réseaux de neurones"
   ]
  },
  {
   "cell_type": "code",
   "execution_count": 75,
   "id": "f6110dd1",
   "metadata": {},
   "outputs": [
    {
     "data": {
      "text/plain": [
       "array([ 4.6 ,  7.74, 10.7 , 12.9 , 15.8 , 18.2 , 18.  , 14.15, 11.85,\n",
       "       11.25, 10.41,  6.31,  6.36,  6.41,  8.71, 13.16, 15.96, 17.96,\n",
       "       18.56, 17.91, 10.86,  8.06,  5.61,  3.46,  7.21, 10.06,  9.31,\n",
       "       14.46, 17.61, 18.46, 17.96, 14.96, 13.81,  8.56,  6.67,  7.62,\n",
       "        3.37,  6.97, 11.57, 13.47, 16.37, 19.82, 18.42, 15.72, 12.87,\n",
       "        8.27,  7.88,  5.13,  7.38,  9.08,  9.68, 11.88, 16.53, 18.93,\n",
       "       18.58, 16.08, 12.93,  7.88,  7.03,  6.83,  8.33,  7.88, 12.13,\n",
       "       13.03, 16.18, 17.78, 19.98, 16.88, 12.18,  9.88,  6.89,  5.09,\n",
       "        6.44,  7.64,  7.29, 11.64, 16.74, 18.09, 17.19, 17.29, 12.79,\n",
       "        8.24,  7.54,  5.69,  7.54,  9.19,  9.84, 14.19, 16.94, 19.69,\n",
       "       19.94, 16.29, 15.09, 10.44,  5.  ,  6.75,  6.9 ,  9.35, 10.05,\n",
       "       13.2 ])"
      ]
     },
     "execution_count": 75,
     "metadata": {},
     "output_type": "execute_result"
    }
   ],
   "source": [
    "x_test"
   ]
  },
  {
   "cell_type": "code",
   "execution_count": 79,
   "id": "9fa17703",
   "metadata": {},
   "outputs": [
    {
     "data": {
      "text/plain": [
       "(24,)"
      ]
     },
     "execution_count": 79,
     "metadata": {},
     "output_type": "execute_result"
    }
   ],
   "source": [
    "series[505-24:505].shape"
   ]
  },
  {
   "cell_type": "code",
   "execution_count": 80,
   "id": "ea5b254b",
   "metadata": {},
   "outputs": [
    {
     "name": "stdout",
     "output_type": "stream",
     "text": [
      "1/1 [==============================] - 0s 31ms/step\n"
     ]
    }
   ],
   "source": [
    "r = model.predict(series[505-24:505].reshape(1, -1))"
   ]
  },
  {
   "cell_type": "code",
   "execution_count": 81,
   "id": "17a85ae7",
   "metadata": {},
   "outputs": [
    {
     "data": {
      "text/plain": [
       "6.242513656616211"
      ]
     },
     "execution_count": 81,
     "metadata": {},
     "output_type": "execute_result"
    }
   ],
   "source": [
    "r.item()"
   ]
  },
  {
   "cell_type": "code",
   "execution_count": 82,
   "id": "9a1b791f",
   "metadata": {},
   "outputs": [
    {
     "name": "stdout",
     "output_type": "stream",
     "text": [
      "1/1 [==============================] - 0s 30ms/step\n",
      "1/1 [==============================] - 0s 25ms/step\n",
      "1/1 [==============================] - 0s 27ms/step\n",
      "1/1 [==============================] - 0s 32ms/step\n",
      "1/1 [==============================] - 0s 35ms/step\n",
      "1/1 [==============================] - 0s 26ms/step\n",
      "1/1 [==============================] - 0s 25ms/step\n",
      "1/1 [==============================] - 0s 26ms/step\n",
      "1/1 [==============================] - 0s 26ms/step\n",
      "1/1 [==============================] - 0s 25ms/step\n",
      "1/1 [==============================] - 0s 24ms/step\n",
      "1/1 [==============================] - 0s 26ms/step\n",
      "1/1 [==============================] - 0s 25ms/step\n",
      "1/1 [==============================] - 0s 35ms/step\n",
      "1/1 [==============================] - 0s 25ms/step\n",
      "1/1 [==============================] - 0s 30ms/step\n",
      "1/1 [==============================] - 0s 26ms/step\n",
      "1/1 [==============================] - 0s 26ms/step\n",
      "1/1 [==============================] - 0s 27ms/step\n",
      "1/1 [==============================] - 0s 27ms/step\n",
      "1/1 [==============================] - 0s 25ms/step\n",
      "1/1 [==============================] - 0s 24ms/step\n",
      "1/1 [==============================] - 0s 25ms/step\n",
      "1/1 [==============================] - 0s 25ms/step\n",
      "1/1 [==============================] - 0s 25ms/step\n",
      "1/1 [==============================] - 0s 26ms/step\n",
      "1/1 [==============================] - 0s 28ms/step\n",
      "1/1 [==============================] - 0s 25ms/step\n",
      "1/1 [==============================] - 0s 24ms/step\n",
      "1/1 [==============================] - 0s 26ms/step\n",
      "1/1 [==============================] - 0s 31ms/step\n",
      "1/1 [==============================] - 0s 29ms/step\n",
      "1/1 [==============================] - 0s 30ms/step\n",
      "1/1 [==============================] - 0s 26ms/step\n",
      "1/1 [==============================] - 0s 28ms/step\n",
      "1/1 [==============================] - 0s 28ms/step\n",
      "1/1 [==============================] - 0s 28ms/step\n",
      "1/1 [==============================] - 0s 25ms/step\n",
      "1/1 [==============================] - 0s 27ms/step\n",
      "1/1 [==============================] - 0s 26ms/step\n",
      "1/1 [==============================] - 0s 26ms/step\n",
      "1/1 [==============================] - 0s 25ms/step\n",
      "1/1 [==============================] - 0s 25ms/step\n",
      "1/1 [==============================] - 0s 34ms/step\n",
      "1/1 [==============================] - 0s 34ms/step\n",
      "1/1 [==============================] - 0s 36ms/step\n",
      "1/1 [==============================] - 0s 35ms/step\n",
      "1/1 [==============================] - 0s 32ms/step\n",
      "1/1 [==============================] - 0s 34ms/step\n",
      "1/1 [==============================] - 0s 33ms/step\n",
      "1/1 [==============================] - 0s 33ms/step\n",
      "1/1 [==============================] - 0s 34ms/step\n",
      "1/1 [==============================] - 0s 32ms/step\n",
      "1/1 [==============================] - 0s 34ms/step\n",
      "1/1 [==============================] - 0s 30ms/step\n",
      "1/1 [==============================] - 0s 40ms/step\n",
      "1/1 [==============================] - 0s 36ms/step\n",
      "1/1 [==============================] - 0s 33ms/step\n",
      "1/1 [==============================] - 0s 42ms/step\n",
      "1/1 [==============================] - 0s 34ms/step\n",
      "1/1 [==============================] - 0s 26ms/step\n",
      "1/1 [==============================] - 0s 28ms/step\n",
      "1/1 [==============================] - 0s 25ms/step\n",
      "1/1 [==============================] - 0s 34ms/step\n",
      "1/1 [==============================] - 0s 32ms/step\n",
      "1/1 [==============================] - 0s 33ms/step\n",
      "1/1 [==============================] - 0s 34ms/step\n",
      "1/1 [==============================] - 0s 35ms/step\n",
      "1/1 [==============================] - 0s 32ms/step\n",
      "1/1 [==============================] - 0s 34ms/step\n",
      "1/1 [==============================] - 0s 28ms/step\n",
      "1/1 [==============================] - 0s 31ms/step\n",
      "1/1 [==============================] - 0s 27ms/step\n",
      "1/1 [==============================] - 0s 25ms/step\n",
      "1/1 [==============================] - 0s 26ms/step\n",
      "1/1 [==============================] - 0s 25ms/step\n",
      "1/1 [==============================] - 0s 27ms/step\n",
      "1/1 [==============================] - 0s 27ms/step\n",
      "1/1 [==============================] - 0s 30ms/step\n",
      "1/1 [==============================] - 0s 26ms/step\n",
      "1/1 [==============================] - 0s 27ms/step\n",
      "1/1 [==============================] - 0s 26ms/step\n",
      "1/1 [==============================] - 0s 25ms/step\n",
      "1/1 [==============================] - 0s 25ms/step\n",
      "1/1 [==============================] - 0s 27ms/step\n",
      "1/1 [==============================] - 0s 30ms/step\n",
      "1/1 [==============================] - 0s 33ms/step\n",
      "1/1 [==============================] - 0s 36ms/step\n",
      "1/1 [==============================] - 0s 35ms/step\n",
      "1/1 [==============================] - 0s 34ms/step\n",
      "1/1 [==============================] - 0s 33ms/step\n",
      "1/1 [==============================] - 0s 33ms/step\n",
      "1/1 [==============================] - 0s 33ms/step\n",
      "1/1 [==============================] - 0s 31ms/step\n",
      "1/1 [==============================] - 0s 28ms/step\n",
      "1/1 [==============================] - 0s 25ms/step\n",
      "1/1 [==============================] - 0s 26ms/step\n",
      "1/1 [==============================] - 0s 27ms/step\n",
      "1/1 [==============================] - 0s 25ms/step\n",
      "1/1 [==============================] - 0s 26ms/step\n"
     ]
    }
   ],
   "source": [
    "forecast = []\n",
    "\n",
    "for time in range(505-24, 605-24):\n",
    "    series_to_predict = series[time: time+24].reshape(1, -1)\n",
    "    r = model.predict(series_to_predict)\n",
    "    forecast.append(r.item())"
   ]
  },
  {
   "cell_type": "code",
   "execution_count": 83,
   "id": "18a34085",
   "metadata": {},
   "outputs": [
    {
     "name": "stdout",
     "output_type": "stream",
     "text": [
      "[6.242513656616211, 7.077548503875732, 8.29123592376709, 13.412717819213867, 17.060670852661133, 17.149751663208008, 18.1151065826416, 16.08682632446289, 11.83885669708252, 8.11871337890625, 7.346942901611328, 7.049839496612549, 7.120996952056885, 7.060914516448975, 8.180212020874023, 13.346589088439941, 16.320743560791016, 18.277503967285156, 17.831317901611328, 16.437931060791016, 13.547986030578613, 11.136808395385742, 4.699521541595459, 4.983782768249512, 6.237743377685547, 6.435598850250244, 11.673137664794922, 13.77786922454834, 16.448612213134766, 17.729475021362305, 17.538341522216797, 15.180572509765625, 12.744579315185547, 10.002098083496094, 7.596475124359131, 5.762570858001709, 7.117314338684082, 7.260586261749268, 8.408848762512207, 14.909736633300781, 15.94491195678711, 20.116056442260742, 18.445362091064453, 15.231256484985352, 13.789588928222656, 6.632336139678955, 5.759377956390381, 6.11840295791626, 6.035532474517822, 7.607789039611816, 11.79995059967041, 13.860509872436523, 17.02604103088379, 16.874597549438477, 18.261245727539062, 17.75664520263672, 11.955809593200684, 10.737483024597168, 6.074855327606201, 4.388638496398926, 7.268306255340576, 8.386951446533203, 9.734090805053711, 13.957470893859863, 17.011934280395508, 17.85622215270996, 18.814123153686523, 16.16875648498535, 14.132452011108398, 8.752687454223633, 5.928267002105713, 7.555891990661621, 7.0721635818481445, 7.528998851776123, 9.860575675964355, 12.609543800354004, 15.704312324523926, 18.03538703918457, 19.880008697509766, 15.618415832519531, 11.769160270690918, 8.413534164428711, 5.710799217224121, 4.27105188369751, 7.183409690856934, 6.881563663482666, 10.345016479492188, 12.025639533996582, 16.008119583129883, 19.277584075927734, 18.588523864746094, 17.532846450805664, 13.367511749267578, 9.466020584106445, 8.585726737976074, 6.398834705352783, 6.736606121063232, 7.375171184539795, 11.325786590576172, 16.098405838012695]\n"
     ]
    }
   ],
   "source": [
    "print(forecast)"
   ]
  },
  {
   "cell_type": "code",
   "execution_count": 84,
   "id": "48e4cc83",
   "metadata": {},
   "outputs": [],
   "source": [
    "forecast = np.array(forecast)"
   ]
  },
  {
   "cell_type": "code",
   "execution_count": 85,
   "id": "eef91b8d",
   "metadata": {},
   "outputs": [
    {
     "name": "stdout",
     "output_type": "stream",
     "text": [
      "mae :  1.3002212875366208\n",
      "mse :  2.54500955236948\n"
     ]
    },
    {
     "data": {
      "image/png": "[encoded data removed]",
      "text/plain": [
       "<Figure size 640x480 with 1 Axes>"
      ]
     },
     "metadata": {},
     "output_type": "display_data"
    }
   ],
   "source": [
    "print(\"mae : \", mean_absolute_error(x_test, forecast))\n",
    "print(\"mse : \", mean_squared_error(x_test, forecast))\n",
    "\n",
    "plt.plot(time_test, x_test)\n",
    "plt.plot(time_test, forecast)\n",
    "plt.xlabel('Temps')\n",
    "plt.ylabel('Temperature')\n",
    "plt.show()"
   ]
  },
  {
   "cell_type": "markdown",
   "id": "839ec904",
   "metadata": {},
   "source": [
    "### Reseau de Neurone CNN"
   ]
  },
  {
   "cell_type": "code",
   "execution_count": 49,
   "id": "cf51d412",
   "metadata": {},
   "outputs": [
    {
     "data": {
      "text/plain": [
       "(605,)"
      ]
     },
     "execution_count": 49,
     "metadata": {},
     "output_type": "execute_result"
    }
   ],
   "source": [
    "series.shape"
   ]
  },
  {
   "cell_type": "code",
   "execution_count": 50,
   "id": "96e62d4b",
   "metadata": {},
   "outputs": [
    {
     "data": {
      "text/plain": [
       "(605, 1)"
      ]
     },
     "execution_count": 50,
     "metadata": {},
     "output_type": "execute_result"
    }
   ],
   "source": [
    "series.reshape(-1, 1).shape"
   ]
  },
  {
   "cell_type": "code",
   "execution_count": 51,
   "id": "dd814b70",
   "metadata": {},
   "outputs": [],
   "source": [
    "def windowed_dataset(series, window_size, batch_size):\n",
    "    \n",
    "    series = series.reshape(-1, 1)    \n",
    "    \n",
    "    dataset = tf.data.Dataset.from_tensor_slices(series)\n",
    "    dataset = dataset.window(window_size+1, shift=1, drop_remainder=True)\n",
    "    dataset = dataset.flat_map(lambda window: window.batch(window_size+1))\n",
    "    dataset = dataset.map(lambda window: (window[:-1], window[-1]))\n",
    "    dataset = dataset.shuffle(buffer_size=len(series))\n",
    "\n",
    "    dataset = dataset.batch(batch_size).prefetch(1)\n",
    "    \n",
    "    return dataset"
   ]
  },
  {
   "cell_type": "code",
   "execution_count": 52,
   "id": "c19a3938",
   "metadata": {},
   "outputs": [],
   "source": [
    "\n",
    "dataset = windowed_dataset(x_train, window_size, batch_size)\n",
    "test_dataset = windowed_dataset(x_test, window_size, batch_size)"
   ]
  },
  {
   "cell_type": "code",
   "execution_count": 55,
   "id": "97501026",
   "metadata": {},
   "outputs": [
    {
     "ename": "NameError",
     "evalue": "name 'p' is not defined",
     "output_type": "error",
     "traceback": [
      "\u001b[0;31m---------------------------------------------------------------------------\u001b[0m",
      "\u001b[0;31mNameError\u001b[0m                                 Traceback (most recent call last)",
      "Cell \u001b[0;32mIn[55], line 1\u001b[0m\n\u001b[0;32m----> 1\u001b[0m \u001b[43mp\u001b[49m\n\u001b[1;32m      2\u001b[0m p\n",
      "\u001b[0;31mNameError\u001b[0m: name 'p' is not defined"
     ]
    }
   ],
   "source": [
    "p\n",
    "p\n",
    "p\n",
    "=\n",
    "=\n",
    "="
   ]
  },
  {
   "cell_type": "code",
   "execution_count": 57,
   "id": "ef98d142",
   "metadata": {},
   "outputs": [],
   "source": [
    "model = tf.keras.models.Sequential([\n",
    "    tf.keras.layers.Conv1D(filters=128, kernel_size=3, padding='causal', input_shape=[None, 1], activation='relu'),\n",
    "    # tf.keras.layers.Flatten(),\n",
    "    tf.keras.layers.Dense(28, activation=\"relu\"),\n",
    "    tf.keras.layers.Dense(10, activation=\"relu\"),\n",
    "    tf.keras.layers.Dense(1)\n",
    "])"
   ]
  },
  {
   "cell_type": "code",
   "execution_count": 58,
   "id": "b12c254f",
   "metadata": {},
   "outputs": [
    {
     "name": "stdout",
     "output_type": "stream",
     "text": [
      "Model: \"sequential_1\"\n",
      "_________________________________________________________________\n",
      " Layer (type)                Output Shape              Param #   \n",
      "=================================================================\n",
      " conv1d (Conv1D)             (None, None, 128)         512       \n",
      "                                                                 \n",
      " dense_3 (Dense)             (None, None, 28)          3612      \n",
      "                                                                 \n",
      " dense_4 (Dense)             (None, None, 10)          290       \n",
      "                                                                 \n",
      " dense_5 (Dense)             (None, None, 1)           11        \n",
      "                                                                 \n",
      "=================================================================\n",
      "Total params: 4,425\n",
      "Trainable params: 4,425\n",
      "Non-trainable params: 0\n",
      "_________________________________________________________________\n"
     ]
    }
   ],
   "source": [
    " model.summary()"
   ]
  },
  {
   "cell_type": "code",
   "execution_count": 59,
   "id": "fb4bc523",
   "metadata": {},
   "outputs": [
    {
     "name": "stdout",
     "output_type": "stream",
     "text": [
      "Epoch 1/100\n",
      "16/16 [==============================] - 3s 68ms/step - loss: 170.9572 - val_loss: 193.4034\n",
      "Epoch 2/100\n",
      "16/16 [==============================] - 0s 10ms/step - loss: 159.6650 - val_loss: 179.1299\n",
      "Epoch 3/100\n",
      "16/16 [==============================] - 0s 8ms/step - loss: 148.4198 - val_loss: 166.7971\n",
      "Epoch 4/100\n",
      "16/16 [==============================] - 0s 7ms/step - loss: 139.3744 - val_loss: 157.7908\n",
      "Epoch 5/100\n",
      "16/16 [==============================] - 0s 7ms/step - loss: 133.3248 - val_loss: 151.8703\n",
      "Epoch 6/100\n",
      "16/16 [==============================] - 0s 7ms/step - loss: 128.5739 - val_loss: 146.3240\n",
      "Epoch 7/100\n",
      "16/16 [==============================] - 0s 6ms/step - loss: 124.1240 - val_loss: 141.2576\n",
      "Epoch 8/100\n",
      "16/16 [==============================] - 0s 7ms/step - loss: 120.1911 - val_loss: 136.6767\n",
      "Epoch 9/100\n",
      "16/16 [==============================] - 0s 7ms/step - loss: 116.4311 - val_loss: 132.0743\n",
      "Epoch 10/100\n",
      "16/16 [==============================] - 0s 7ms/step - loss: 112.5280 - val_loss: 127.2607\n",
      "Epoch 11/100\n",
      "16/16 [==============================] - 0s 7ms/step - loss: 108.5612 - val_loss: 122.4209\n",
      "Epoch 12/100\n",
      "16/16 [==============================] - 0s 7ms/step - loss: 104.5643 - val_loss: 117.4657\n",
      "Epoch 13/100\n",
      "16/16 [==============================] - 0s 7ms/step - loss: 100.3942 - val_loss: 112.2993\n",
      "Epoch 14/100\n",
      "16/16 [==============================] - 0s 7ms/step - loss: 95.9957 - val_loss: 106.6852\n",
      "Epoch 15/100\n",
      "16/16 [==============================] - 0s 7ms/step - loss: 91.3858 - val_loss: 101.1399\n",
      "Epoch 16/100\n",
      "16/16 [==============================] - 0s 7ms/step - loss: 86.7662 - val_loss: 95.1809\n",
      "Epoch 17/100\n",
      "16/16 [==============================] - 0s 7ms/step - loss: 81.8006 - val_loss: 89.2445\n",
      "Epoch 18/100\n",
      "16/16 [==============================] - 0s 6ms/step - loss: 77.1253 - val_loss: 83.4770\n",
      "Epoch 19/100\n",
      "16/16 [==============================] - 0s 7ms/step - loss: 72.4195 - val_loss: 77.4856\n",
      "Epoch 20/100\n",
      "16/16 [==============================] - 0s 7ms/step - loss: 67.4270 - val_loss: 71.7245\n",
      "Epoch 21/100\n",
      "16/16 [==============================] - 0s 7ms/step - loss: 63.1296 - val_loss: 66.6382\n",
      "Epoch 22/100\n",
      "16/16 [==============================] - 0s 7ms/step - loss: 59.1469 - val_loss: 61.9422\n",
      "Epoch 23/100\n",
      "16/16 [==============================] - 0s 7ms/step - loss: 55.4829 - val_loss: 57.4559\n",
      "Epoch 24/100\n",
      "16/16 [==============================] - 0s 8ms/step - loss: 52.2717 - val_loss: 53.9089\n",
      "Epoch 25/100\n",
      "16/16 [==============================] - 0s 6ms/step - loss: 49.5378 - val_loss: 50.6127\n",
      "Epoch 26/100\n",
      "16/16 [==============================] - 0s 7ms/step - loss: 47.3929 - val_loss: 48.2374\n",
      "Epoch 27/100\n",
      "16/16 [==============================] - 0s 7ms/step - loss: 45.5487 - val_loss: 46.0999\n",
      "Epoch 28/100\n",
      "16/16 [==============================] - 0s 8ms/step - loss: 44.1805 - val_loss: 44.6814\n",
      "Epoch 29/100\n",
      "16/16 [==============================] - 0s 6ms/step - loss: 43.1729 - val_loss: 43.4787\n",
      "Epoch 30/100\n",
      "16/16 [==============================] - 0s 10ms/step - loss: 42.4036 - val_loss: 42.5294\n",
      "Epoch 31/100\n",
      "16/16 [==============================] - 0s 7ms/step - loss: 41.7050 - val_loss: 41.6860\n",
      "Epoch 32/100\n",
      "16/16 [==============================] - 0s 6ms/step - loss: 41.2227 - val_loss: 41.0992\n",
      "Epoch 33/100\n",
      "16/16 [==============================] - 0s 6ms/step - loss: 40.9156 - val_loss: 40.6743\n",
      "Epoch 34/100\n",
      "16/16 [==============================] - 0s 6ms/step - loss: 40.7311 - val_loss: 40.4647\n",
      "Epoch 35/100\n",
      "16/16 [==============================] - 0s 6ms/step - loss: 40.5926 - val_loss: 40.2845\n",
      "Epoch 36/100\n",
      "16/16 [==============================] - 0s 6ms/step - loss: 40.5212 - val_loss: 40.2485\n",
      "Epoch 37/100\n",
      "16/16 [==============================] - 0s 6ms/step - loss: 40.4417 - val_loss: 40.0800\n",
      "Epoch 38/100\n",
      "16/16 [==============================] - 0s 7ms/step - loss: 40.3599 - val_loss: 40.0255\n",
      "Epoch 39/100\n",
      "16/16 [==============================] - 0s 7ms/step - loss: 40.3176 - val_loss: 39.9865\n",
      "Epoch 40/100\n",
      "16/16 [==============================] - 0s 7ms/step - loss: 40.2711 - val_loss: 39.9354\n",
      "Epoch 41/100\n",
      "16/16 [==============================] - 0s 6ms/step - loss: 40.2289 - val_loss: 39.8841\n",
      "Epoch 42/100\n",
      "16/16 [==============================] - 0s 7ms/step - loss: 40.1895 - val_loss: 39.8432\n",
      "Epoch 43/100\n",
      "16/16 [==============================] - 0s 6ms/step - loss: 40.1420 - val_loss: 39.7519\n",
      "Epoch 44/100\n",
      "16/16 [==============================] - 0s 6ms/step - loss: 40.0564 - val_loss: 39.6307\n",
      "Epoch 45/100\n",
      "16/16 [==============================] - 0s 6ms/step - loss: 40.0260 - val_loss: 39.5781\n",
      "Epoch 46/100\n",
      "16/16 [==============================] - 0s 6ms/step - loss: 39.9891 - val_loss: 39.5645\n",
      "Epoch 47/100\n",
      "16/16 [==============================] - 0s 8ms/step - loss: 39.9537 - val_loss: 39.5481\n",
      "Epoch 48/100\n",
      "16/16 [==============================] - 0s 7ms/step - loss: 39.9408 - val_loss: 39.5548\n",
      "Epoch 49/100\n",
      "16/16 [==============================] - 0s 8ms/step - loss: 39.9038 - val_loss: 39.5032\n",
      "Epoch 50/100\n",
      "16/16 [==============================] - 0s 8ms/step - loss: 39.8697 - val_loss: 39.4662\n",
      "Epoch 51/100\n",
      "16/16 [==============================] - 0s 7ms/step - loss: 39.8428 - val_loss: 39.4554\n",
      "Epoch 52/100\n",
      "16/16 [==============================] - 0s 8ms/step - loss: 39.8195 - val_loss: 39.4378\n",
      "Epoch 53/100\n",
      "16/16 [==============================] - 0s 7ms/step - loss: 39.8059 - val_loss: 39.4573\n",
      "Epoch 54/100\n",
      "16/16 [==============================] - 0s 6ms/step - loss: 39.7910 - val_loss: 39.4370\n",
      "Epoch 55/100\n",
      "16/16 [==============================] - 0s 6ms/step - loss: 39.7685 - val_loss: 39.4512\n",
      "Epoch 56/100\n",
      "16/16 [==============================] - 0s 6ms/step - loss: 39.7795 - val_loss: 39.4726\n",
      "Epoch 57/100\n",
      "16/16 [==============================] - 0s 6ms/step - loss: 39.7187 - val_loss: 39.3168\n",
      "Epoch 58/100\n",
      "16/16 [==============================] - 0s 6ms/step - loss: 39.6688 - val_loss: 39.2339\n",
      "Epoch 59/100\n",
      "16/16 [==============================] - 0s 7ms/step - loss: 39.6337 - val_loss: 39.1911\n",
      "Epoch 60/100\n",
      "16/16 [==============================] - 0s 6ms/step - loss: 39.6013 - val_loss: 39.1374\n",
      "Epoch 61/100\n",
      "16/16 [==============================] - 0s 7ms/step - loss: 39.6014 - val_loss: 39.0620\n",
      "Epoch 62/100\n",
      "16/16 [==============================] - 0s 7ms/step - loss: 39.5660 - val_loss: 39.0468\n",
      "Epoch 63/100\n",
      "16/16 [==============================] - 0s 8ms/step - loss: 39.5339 - val_loss: 39.0586\n",
      "Epoch 64/100\n",
      "16/16 [==============================] - 0s 7ms/step - loss: 39.5176 - val_loss: 39.0225\n",
      "Epoch 65/100\n",
      "16/16 [==============================] - 0s 6ms/step - loss: 39.4964 - val_loss: 39.0306\n",
      "Epoch 66/100\n",
      "16/16 [==============================] - 0s 7ms/step - loss: 39.4811 - val_loss: 38.9687\n",
      "Epoch 67/100\n",
      "16/16 [==============================] - 0s 7ms/step - loss: 39.4578 - val_loss: 38.9545\n",
      "Epoch 68/100\n",
      "16/16 [==============================] - 0s 7ms/step - loss: 39.4340 - val_loss: 38.9573\n",
      "Epoch 69/100\n",
      "16/16 [==============================] - 0s 6ms/step - loss: 39.4171 - val_loss: 38.9689\n",
      "Epoch 70/100\n",
      "16/16 [==============================] - 0s 7ms/step - loss: 39.4174 - val_loss: 38.9952\n",
      "Epoch 71/100\n",
      "16/16 [==============================] - 0s 7ms/step - loss: 39.3993 - val_loss: 38.9240\n",
      "Epoch 72/100\n",
      "16/16 [==============================] - 0s 6ms/step - loss: 39.3643 - val_loss: 38.9027\n",
      "Epoch 73/100\n",
      "16/16 [==============================] - 0s 6ms/step - loss: 39.3451 - val_loss: 38.8841\n",
      "Epoch 74/100\n",
      "16/16 [==============================] - 0s 7ms/step - loss: 39.3224 - val_loss: 38.8471\n",
      "Epoch 75/100\n",
      "16/16 [==============================] - 0s 7ms/step - loss: 39.3121 - val_loss: 38.8581\n",
      "Epoch 76/100\n",
      "16/16 [==============================] - 0s 6ms/step - loss: 39.2973 - val_loss: 38.7939\n",
      "Epoch 77/100\n",
      "16/16 [==============================] - 0s 6ms/step - loss: 39.2809 - val_loss: 38.8066\n",
      "Epoch 78/100\n",
      "16/16 [==============================] - 0s 6ms/step - loss: 39.2527 - val_loss: 38.8003\n",
      "Epoch 79/100\n",
      "16/16 [==============================] - 0s 7ms/step - loss: 39.2247 - val_loss: 38.7586\n",
      "Epoch 80/100\n",
      "16/16 [==============================] - 0s 6ms/step - loss: 39.2191 - val_loss: 38.7588\n",
      "Epoch 81/100\n"
     ]
    },
    {
     "name": "stdout",
     "output_type": "stream",
     "text": [
      "16/16 [==============================] - 0s 8ms/step - loss: 39.2004 - val_loss: 38.7398\n",
      "Epoch 82/100\n",
      "16/16 [==============================] - 0s 7ms/step - loss: 39.1819 - val_loss: 38.7263\n",
      "Epoch 83/100\n",
      "16/16 [==============================] - 0s 9ms/step - loss: 39.1632 - val_loss: 38.7168\n",
      "Epoch 84/100\n",
      "16/16 [==============================] - 0s 7ms/step - loss: 39.1508 - val_loss: 38.6794\n",
      "Epoch 85/100\n",
      "16/16 [==============================] - 0s 6ms/step - loss: 39.1298 - val_loss: 38.6686\n",
      "Epoch 86/100\n",
      "16/16 [==============================] - 0s 6ms/step - loss: 39.1250 - val_loss: 38.6310\n",
      "Epoch 87/100\n",
      "16/16 [==============================] - 0s 6ms/step - loss: 39.1221 - val_loss: 38.6735\n",
      "Epoch 88/100\n",
      "16/16 [==============================] - 0s 7ms/step - loss: 39.0778 - val_loss: 38.6328\n",
      "Epoch 89/100\n",
      "16/16 [==============================] - 0s 7ms/step - loss: 39.0629 - val_loss: 38.6041\n",
      "Epoch 90/100\n",
      "16/16 [==============================] - 0s 6ms/step - loss: 39.0547 - val_loss: 38.6259\n",
      "Epoch 91/100\n",
      "16/16 [==============================] - 0s 6ms/step - loss: 39.0482 - val_loss: 38.6631\n",
      "Epoch 92/100\n",
      "16/16 [==============================] - 0s 6ms/step - loss: 39.0359 - val_loss: 38.6611\n",
      "Epoch 93/100\n",
      "16/16 [==============================] - 0s 7ms/step - loss: 39.0193 - val_loss: 38.6377\n",
      "Epoch 94/100\n",
      "16/16 [==============================] - 0s 7ms/step - loss: 39.0110 - val_loss: 38.6567\n",
      "Epoch 95/100\n",
      "16/16 [==============================] - 0s 6ms/step - loss: 38.9882 - val_loss: 38.6215\n",
      "Epoch 96/100\n",
      "16/16 [==============================] - 0s 6ms/step - loss: 38.9626 - val_loss: 38.5526\n",
      "Epoch 97/100\n",
      "16/16 [==============================] - 0s 6ms/step - loss: 38.9363 - val_loss: 38.4936\n",
      "Epoch 98/100\n",
      "16/16 [==============================] - 0s 6ms/step - loss: 38.9212 - val_loss: 38.4323\n",
      "Epoch 99/100\n",
      "16/16 [==============================] - 0s 6ms/step - loss: 38.8965 - val_loss: 38.3797\n",
      "Epoch 100/100\n",
      "16/16 [==============================] - 0s 9ms/step - loss: 38.8928 - val_loss: 38.3636\n"
     ]
    },
    {
     "data": {
      "text/plain": [
       "<keras.callbacks.History at 0x7fde0d3553c0>"
      ]
     },
     "execution_count": 59,
     "metadata": {},
     "output_type": "execute_result"
    }
   ],
   "source": [
    "model.compile(loss=\"mse\", optimizer=tf.keras.optimizers.SGD(learning_rate=1e-6, momentum=0.9))\n",
    "model.fit(dataset, epochs=100, validation_data=test_dataset)"
   ]
  },
  {
   "cell_type": "code",
   "execution_count": 69,
   "id": "5c5275a6",
   "metadata": {},
   "outputs": [],
   "source": [
    "def predict_dataset(model, series, window_size):\n",
    "    dataset = tf.data.Dataset.from_tensor_slices(series)\n",
    "    dataset = dataset.window(window_size, shift=1, drop_remainder=True)\n",
    "    dataset = dataset.flat_map(lambda window: window.batch(window_size))\n",
    "\n",
    "    dataset = dataset.batch(32).prefetch(1)\n",
    "    forecast = model.predict(dataset)\n",
    "    \n",
    "    return forecast"
   ]
  },
  {
   "cell_type": "code",
   "execution_count": 70,
   "id": "7273028a",
   "metadata": {},
   "outputs": [
    {
     "data": {
      "text/plain": [
       "((123,), 24)"
      ]
     },
     "execution_count": 70,
     "metadata": {},
     "output_type": "execute_result"
    }
   ],
   "source": [
    "series[505-24: -1].shape, window_size"
   ]
  },
  {
   "cell_type": "code",
   "execution_count": 71,
   "id": "32ad4a4c",
   "metadata": {},
   "outputs": [
    {
     "name": "stdout",
     "output_type": "stream",
     "text": [
      "4/4 [==============================] - 0s 11ms/step\n"
     ]
    }
   ],
   "source": [
    "cnn_forecast = predict_dataset(model, series[505-24: -1], window_size)"
   ]
  },
  {
   "cell_type": "code",
   "execution_count": 72,
   "id": "92871bfd",
   "metadata": {},
   "outputs": [
    {
     "data": {
      "text/plain": [
       "(100, 24, 1)"
      ]
     },
     "execution_count": 72,
     "metadata": {},
     "output_type": "execute_result"
    }
   ],
   "source": [
    "cnn_forecast.shape"
   ]
  },
  {
   "cell_type": "code",
   "execution_count": 73,
   "id": "c0f51da4",
   "metadata": {},
   "outputs": [],
   "source": [
    "results = cnn_forecast[:, -1, 0]"
   ]
  },
  {
   "cell_type": "code",
   "execution_count": 75,
   "id": "9b22f236",
   "metadata": {},
   "outputs": [
    {
     "name": "stdout",
     "output_type": "stream",
     "text": [
      "mae :  3.6517540935516353\n",
      "mse :  17.56209365923502\n"
     ]
    },
    {
     "data": {
      "image/png": "[encoded data removed]",
      "text/plain": [
       "<Figure size 640x480 with 1 Axes>"
      ]
     },
     "metadata": {},
     "output_type": "display_data"
    }
   ],
   "source": [
    "print(\"mae : \", mean_absolute_error(x_test, results))\n",
    "print(\"mse : \", mean_squared_error(x_test, results))\n",
    "\n",
    "plt.plot(time_test, x_test)\n",
    "plt.plot(time_test, results)\n",
    "plt.xlabel('Temps')\n",
    "plt.ylabel('Temperature')\n",
    "plt.grid(True)\n",
    "plt.show()"
   ]
  },
  {
   "cell_type": "markdown",
   "id": "653d8b32",
   "metadata": {},
   "source": [
    "### RNN"
   ]
  },
  {
   "cell_type": "code",
   "execution_count": 78,
   "id": "00d914fa",
   "metadata": {},
   "outputs": [],
   "source": [
    "model = tf.keras.models.Sequential([\n",
    "    tf.keras.layers.SimpleRNN(100, input_shape=[None, 1],return_sequences=True),\n",
    "    tf.keras.layers.SimpleRNN(100),\n",
    "    tf.keras.layers.Dense(1)\n",
    "])"
   ]
  },
  {
   "cell_type": "code",
   "execution_count": null,
   "id": "28fca485",
   "metadata": {},
   "outputs": [],
   "source": []
  },
  {
   "cell_type": "code",
   "execution_count": 79,
   "id": "77be44f7",
   "metadata": {},
   "outputs": [
    {
     "name": "stdout",
     "output_type": "stream",
     "text": [
      "Model: \"sequential_2\"\n",
      "_________________________________________________________________\n",
      " Layer (type)                Output Shape              Param #   \n",
      "=================================================================\n",
      " simple_rnn (SimpleRNN)      (None, None, 100)         10200     \n",
      "                                                                 \n",
      " simple_rnn_1 (SimpleRNN)    (None, 100)               20100     \n",
      "                                                                 \n",
      " dense_6 (Dense)             (None, 1)                 101       \n",
      "                                                                 \n",
      "=================================================================\n",
      "Total params: 30,401\n",
      "Trainable params: 30,401\n",
      "Non-trainable params: 0\n",
      "_________________________________________________________________\n"
     ]
    }
   ],
   "source": [
    "model.summary()"
   ]
  },
  {
   "cell_type": "code",
   "execution_count": 80,
   "id": "5af6db7e",
   "metadata": {},
   "outputs": [
    {
     "name": "stdout",
     "output_type": "stream",
     "text": [
      "Epoch 1/100\n",
      "16/16 [==============================] - 3s 48ms/step - loss: 8.7645 - val_loss: 9.8048\n",
      "Epoch 2/100\n",
      "16/16 [==============================] - 0s 19ms/step - loss: 8.7160 - val_loss: 9.7428\n",
      "Epoch 3/100\n",
      "16/16 [==============================] - 0s 19ms/step - loss: 8.6558 - val_loss: 9.6768\n",
      "Epoch 4/100\n",
      "16/16 [==============================] - 0s 19ms/step - loss: 8.5940 - val_loss: 9.6106\n",
      "Epoch 5/100\n",
      "16/16 [==============================] - 0s 23ms/step - loss: 8.5324 - val_loss: 9.5451\n",
      "Epoch 6/100\n",
      "16/16 [==============================] - 0s 18ms/step - loss: 8.4720 - val_loss: 9.4807\n",
      "Epoch 7/100\n",
      "16/16 [==============================] - 0s 17ms/step - loss: 8.4125 - val_loss: 9.4171\n",
      "Epoch 8/100\n",
      "16/16 [==============================] - 0s 17ms/step - loss: 8.3543 - val_loss: 9.3557\n",
      "Epoch 9/100\n",
      "16/16 [==============================] - 0s 17ms/step - loss: 8.2975 - val_loss: 9.2957\n",
      "Epoch 10/100\n",
      "16/16 [==============================] - 0s 17ms/step - loss: 8.2419 - val_loss: 9.2366\n",
      "Epoch 11/100\n",
      "16/16 [==============================] - 0s 17ms/step - loss: 8.1872 - val_loss: 9.1782\n",
      "Epoch 12/100\n",
      "16/16 [==============================] - 0s 17ms/step - loss: 8.1334 - val_loss: 9.1205\n",
      "Epoch 13/100\n",
      "16/16 [==============================] - 0s 17ms/step - loss: 8.0806 - val_loss: 9.0643\n",
      "Epoch 14/100\n",
      "16/16 [==============================] - 0s 17ms/step - loss: 8.0293 - val_loss: 9.0098\n",
      "Epoch 15/100\n",
      "16/16 [==============================] - 0s 17ms/step - loss: 7.9789 - val_loss: 8.9563\n",
      "Epoch 16/100\n",
      "16/16 [==============================] - 0s 17ms/step - loss: 7.9320 - val_loss: 8.9075\n",
      "Epoch 17/100\n",
      "16/16 [==============================] - 0s 17ms/step - loss: 7.8858 - val_loss: 8.8567\n",
      "Epoch 18/100\n",
      "16/16 [==============================] - 0s 17ms/step - loss: 7.8388 - val_loss: 8.8063\n",
      "Epoch 19/100\n",
      "16/16 [==============================] - 0s 17ms/step - loss: 7.7923 - val_loss: 8.7571\n",
      "Epoch 20/100\n",
      "16/16 [==============================] - 0s 17ms/step - loss: 7.7474 - val_loss: 8.7078\n",
      "Epoch 21/100\n",
      "16/16 [==============================] - 0s 17ms/step - loss: 7.7019 - val_loss: 8.6594\n",
      "Epoch 22/100\n",
      "16/16 [==============================] - 0s 16ms/step - loss: 7.6578 - val_loss: 8.6124\n",
      "Epoch 23/100\n",
      "16/16 [==============================] - 0s 16ms/step - loss: 7.6148 - val_loss: 8.5659\n",
      "Epoch 24/100\n",
      "16/16 [==============================] - 0s 17ms/step - loss: 7.5723 - val_loss: 8.5195\n",
      "Epoch 25/100\n",
      "16/16 [==============================] - 0s 21ms/step - loss: 7.5301 - val_loss: 8.4747\n",
      "Epoch 26/100\n",
      "16/16 [==============================] - 1s 20ms/step - loss: 7.4891 - val_loss: 8.4302\n",
      "Epoch 27/100\n",
      "16/16 [==============================] - 0s 25ms/step - loss: 7.4486 - val_loss: 8.3869\n",
      "Epoch 28/100\n",
      "16/16 [==============================] - 1s 29ms/step - loss: 7.4091 - val_loss: 8.3442\n",
      "Epoch 29/100\n",
      "16/16 [==============================] - 0s 21ms/step - loss: 7.3704 - val_loss: 8.3021\n",
      "Epoch 30/100\n",
      "16/16 [==============================] - 0s 19ms/step - loss: 7.3316 - val_loss: 8.2602\n",
      "Epoch 31/100\n",
      "16/16 [==============================] - 0s 19ms/step - loss: 7.2935 - val_loss: 8.2188\n",
      "Epoch 32/100\n",
      "16/16 [==============================] - 0s 24ms/step - loss: 7.2563 - val_loss: 8.1785\n",
      "Epoch 33/100\n",
      "16/16 [==============================] - 0s 23ms/step - loss: 7.2198 - val_loss: 8.1392\n",
      "Epoch 34/100\n",
      "16/16 [==============================] - 1s 26ms/step - loss: 7.1841 - val_loss: 8.1001\n",
      "Epoch 35/100\n",
      "16/16 [==============================] - 0s 20ms/step - loss: 7.1489 - val_loss: 8.0615\n",
      "Epoch 36/100\n",
      "16/16 [==============================] - 0s 20ms/step - loss: 7.1138 - val_loss: 8.0233\n",
      "Epoch 37/100\n",
      "16/16 [==============================] - 0s 18ms/step - loss: 7.0802 - val_loss: 7.9876\n",
      "Epoch 38/100\n",
      "16/16 [==============================] - 0s 20ms/step - loss: 7.0474 - val_loss: 7.9510\n",
      "Epoch 39/100\n",
      "16/16 [==============================] - 0s 18ms/step - loss: 7.0145 - val_loss: 7.9144\n",
      "Epoch 40/100\n",
      "16/16 [==============================] - 0s 18ms/step - loss: 6.9816 - val_loss: 7.8785\n",
      "Epoch 41/100\n",
      "16/16 [==============================] - 0s 18ms/step - loss: 6.9493 - val_loss: 7.8426\n",
      "Epoch 42/100\n",
      "16/16 [==============================] - 0s 18ms/step - loss: 6.9175 - val_loss: 7.8078\n",
      "Epoch 43/100\n",
      "16/16 [==============================] - 1s 22ms/step - loss: 6.8862 - val_loss: 7.7731\n",
      "Epoch 44/100\n",
      "16/16 [==============================] - 0s 18ms/step - loss: 6.8554 - val_loss: 7.7393\n",
      "Epoch 45/100\n",
      "16/16 [==============================] - 0s 17ms/step - loss: 6.8252 - val_loss: 7.7051\n",
      "Epoch 46/100\n",
      "16/16 [==============================] - 0s 18ms/step - loss: 6.7948 - val_loss: 7.6718\n",
      "Epoch 47/100\n",
      "16/16 [==============================] - 0s 18ms/step - loss: 6.7654 - val_loss: 7.6393\n",
      "Epoch 48/100\n",
      "16/16 [==============================] - 0s 18ms/step - loss: 6.7364 - val_loss: 7.6076\n",
      "Epoch 49/100\n",
      "16/16 [==============================] - 0s 18ms/step - loss: 6.7099 - val_loss: 7.5788\n",
      "Epoch 50/100\n",
      "16/16 [==============================] - 0s 24ms/step - loss: 6.6831 - val_loss: 7.5481\n",
      "Epoch 51/100\n",
      "16/16 [==============================] - 0s 21ms/step - loss: 6.6557 - val_loss: 7.5170\n",
      "Epoch 52/100\n",
      "16/16 [==============================] - 0s 21ms/step - loss: 6.6282 - val_loss: 7.4861\n",
      "Epoch 53/100\n",
      "16/16 [==============================] - 0s 18ms/step - loss: 6.6010 - val_loss: 7.4557\n",
      "Epoch 54/100\n",
      "16/16 [==============================] - 0s 20ms/step - loss: 6.5743 - val_loss: 7.4257\n",
      "Epoch 55/100\n",
      "16/16 [==============================] - 0s 19ms/step - loss: 6.5482 - val_loss: 7.3963\n",
      "Epoch 56/100\n",
      "16/16 [==============================] - 0s 18ms/step - loss: 6.5224 - val_loss: 7.3672\n",
      "Epoch 57/100\n",
      "16/16 [==============================] - 0s 19ms/step - loss: 6.4967 - val_loss: 7.3387\n",
      "Epoch 58/100\n",
      "16/16 [==============================] - 0s 18ms/step - loss: 6.4718 - val_loss: 7.3102\n",
      "Epoch 59/100\n",
      "16/16 [==============================] - 0s 17ms/step - loss: 6.4470 - val_loss: 7.2822\n",
      "Epoch 60/100\n",
      "16/16 [==============================] - 0s 19ms/step - loss: 6.4225 - val_loss: 7.2549\n",
      "Epoch 61/100\n",
      "16/16 [==============================] - 0s 19ms/step - loss: 6.3986 - val_loss: 7.2274\n",
      "Epoch 62/100\n",
      "16/16 [==============================] - 0s 18ms/step - loss: 6.3747 - val_loss: 7.2003\n",
      "Epoch 63/100\n",
      "16/16 [==============================] - 0s 18ms/step - loss: 6.3511 - val_loss: 7.1737\n",
      "Epoch 64/100\n",
      "16/16 [==============================] - 0s 18ms/step - loss: 6.3280 - val_loss: 7.1476\n",
      "Epoch 65/100\n",
      "16/16 [==============================] - 0s 18ms/step - loss: 6.3061 - val_loss: 7.1233\n",
      "Epoch 66/100\n",
      "16/16 [==============================] - 0s 18ms/step - loss: 6.2847 - val_loss: 7.0987\n",
      "Epoch 67/100\n",
      "16/16 [==============================] - 0s 18ms/step - loss: 6.2630 - val_loss: 7.0734\n",
      "Epoch 68/100\n",
      "16/16 [==============================] - 0s 18ms/step - loss: 6.2409 - val_loss: 7.0483\n",
      "Epoch 69/100\n",
      "16/16 [==============================] - 0s 19ms/step - loss: 6.2192 - val_loss: 7.0239\n",
      "Epoch 70/100\n",
      "16/16 [==============================] - 0s 18ms/step - loss: 6.1989 - val_loss: 7.0010\n",
      "Epoch 71/100\n",
      "16/16 [==============================] - 0s 18ms/step - loss: 6.1785 - val_loss: 6.9768\n",
      "Epoch 72/100\n",
      "16/16 [==============================] - 0s 19ms/step - loss: 6.1575 - val_loss: 6.9531\n",
      "Epoch 73/100\n",
      "16/16 [==============================] - 0s 19ms/step - loss: 6.1368 - val_loss: 6.9293\n",
      "Epoch 74/100\n",
      "16/16 [==============================] - 0s 20ms/step - loss: 6.1164 - val_loss: 6.9059\n",
      "Epoch 75/100\n",
      "16/16 [==============================] - 0s 18ms/step - loss: 6.0962 - val_loss: 6.8826\n",
      "Epoch 76/100\n",
      "16/16 [==============================] - 0s 18ms/step - loss: 6.0763 - val_loss: 6.8601\n",
      "Epoch 77/100\n",
      "16/16 [==============================] - 0s 21ms/step - loss: 6.0569 - val_loss: 6.8377\n",
      "Epoch 78/100\n",
      "16/16 [==============================] - 1s 19ms/step - loss: 6.0383 - val_loss: 6.8162\n",
      "Epoch 79/100\n",
      "16/16 [==============================] - 0s 20ms/step - loss: 6.0197 - val_loss: 6.7941\n",
      "Epoch 80/100\n",
      "16/16 [==============================] - 0s 22ms/step - loss: 6.0007 - val_loss: 6.7727\n",
      "Epoch 81/100\n",
      "16/16 [==============================] - 0s 18ms/step - loss: 5.9835 - val_loss: 6.7534\n",
      "Epoch 82/100\n"
     ]
    },
    {
     "name": "stdout",
     "output_type": "stream",
     "text": [
      "16/16 [==============================] - 0s 17ms/step - loss: 5.9671 - val_loss: 6.7348\n",
      "Epoch 83/100\n",
      "16/16 [==============================] - 0s 19ms/step - loss: 5.9500 - val_loss: 6.7137\n",
      "Epoch 84/100\n",
      "16/16 [==============================] - 0s 19ms/step - loss: 5.9320 - val_loss: 6.6923\n",
      "Epoch 85/100\n",
      "16/16 [==============================] - 0s 18ms/step - loss: 5.9138 - val_loss: 6.6714\n",
      "Epoch 86/100\n",
      "16/16 [==============================] - 0s 19ms/step - loss: 5.8959 - val_loss: 6.6506\n",
      "Epoch 87/100\n",
      "16/16 [==============================] - 0s 18ms/step - loss: 5.8784 - val_loss: 6.6299\n",
      "Epoch 88/100\n",
      "16/16 [==============================] - 0s 20ms/step - loss: 5.8609 - val_loss: 6.6095\n",
      "Epoch 89/100\n",
      "16/16 [==============================] - 0s 17ms/step - loss: 5.8437 - val_loss: 6.5894\n",
      "Epoch 90/100\n",
      "16/16 [==============================] - 0s 17ms/step - loss: 5.8266 - val_loss: 6.5695\n",
      "Epoch 91/100\n",
      "16/16 [==============================] - 0s 17ms/step - loss: 5.8098 - val_loss: 6.5497\n",
      "Epoch 92/100\n",
      "16/16 [==============================] - 0s 18ms/step - loss: 5.7930 - val_loss: 6.5299\n",
      "Epoch 93/100\n",
      "16/16 [==============================] - 0s 17ms/step - loss: 5.7765 - val_loss: 6.5103\n",
      "Epoch 94/100\n",
      "16/16 [==============================] - 0s 17ms/step - loss: 5.7606 - val_loss: 6.4922\n",
      "Epoch 95/100\n",
      "16/16 [==============================] - 0s 22ms/step - loss: 5.7449 - val_loss: 6.4733\n",
      "Epoch 96/100\n",
      "16/16 [==============================] - 0s 18ms/step - loss: 5.7290 - val_loss: 6.4544\n",
      "Epoch 97/100\n",
      "16/16 [==============================] - 0s 19ms/step - loss: 5.7131 - val_loss: 6.4356\n",
      "Epoch 98/100\n",
      "16/16 [==============================] - 0s 17ms/step - loss: 5.6973 - val_loss: 6.4169\n",
      "Epoch 99/100\n",
      "16/16 [==============================] - 0s 18ms/step - loss: 5.6818 - val_loss: 6.3982\n",
      "Epoch 100/100\n",
      "16/16 [==============================] - 0s 19ms/step - loss: 5.6662 - val_loss: 6.3801\n"
     ]
    },
    {
     "data": {
      "text/plain": [
       "<keras.callbacks.History at 0x7fde0ee72650>"
      ]
     },
     "execution_count": 80,
     "metadata": {},
     "output_type": "execute_result"
    }
   ],
   "source": [
    "huber = tf.keras.losses.Huber()\n",
    "\n",
    "model.compile(loss=huber, optimizer=tf.keras.optimizers.SGD(learning_rate=1e-6, momentum=0.9))\n",
    "model.fit(dataset, epochs=100, validation_data=test_dataset)"
   ]
  },
  {
   "cell_type": "code",
   "execution_count": 81,
   "id": "b526fe74",
   "metadata": {},
   "outputs": [
    {
     "name": "stdout",
     "output_type": "stream",
     "text": [
      "4/4 [==============================] - 1s 18ms/step\n"
     ]
    }
   ],
   "source": [
    "rnn_forecast = predict_dataset(model, series[505-24: -1], window_size)"
   ]
  },
  {
   "cell_type": "code",
   "execution_count": 83,
   "id": "ccf2ea0a",
   "metadata": {},
   "outputs": [
    {
     "data": {
      "text/plain": [
       "(100, 1)"
      ]
     },
     "execution_count": 83,
     "metadata": {},
     "output_type": "execute_result"
    }
   ],
   "source": [
    "rnn_forecast.shape"
   ]
  },
  {
   "cell_type": "code",
   "execution_count": 84,
   "id": "5f8c4728",
   "metadata": {},
   "outputs": [
    {
     "name": "stdout",
     "output_type": "stream",
     "text": [
      "mae :  6.78739450416565\n",
      "mse :  66.90761054325878\n"
     ]
    },
    {
     "data": {
      "image/png": "[encoded data removed]",
      "text/plain": [
       "<Figure size 640x480 with 1 Axes>"
      ]
     },
     "metadata": {},
     "output_type": "display_data"
    }
   ],
   "source": [
    "results_rnn = rnn_forecast[:, 0]\n",
    "\n",
    "print(\"mae : \", mean_absolute_error(x_test, results_rnn))\n",
    "print(\"mse : \", mean_squared_error(x_test, results_rnn))\n",
    "\n",
    "plt.plot(time_test, x_test)\n",
    "plt.plot(time_test, results_rnn)\n",
    "plt.xlabel('Temps')\n",
    "plt.ylabel('Temperature')\n",
    "plt.grid(True)\n",
    "plt.show()"
   ]
  },
  {
   "cell_type": "markdown",
   "id": "9c78966e",
   "metadata": {},
   "source": [
    "### RNN Normalized"
   ]
  },
  {
   "cell_type": "code",
   "execution_count": 85,
   "id": "955ade70",
   "metadata": {},
   "outputs": [],
   "source": [
    "x_train_scaled = (x_train - x_train.mean()) / x_train.std()\n",
    "x_test_scaled = (x_test - x_train.mean()) / x_train.std()"
   ]
  },
  {
   "cell_type": "code",
   "execution_count": null,
   "id": "fe7ef19f",
   "metadata": {},
   "outputs": [],
   "source": [
    "\n",
    "dataset = windowed_dataset(x_train_scaled, window_size, batch_size)\n",
    "test_dataset = windowed_dataset(x_test_scaled, window_size, batch_size)"
   ]
  },
  {
   "cell_type": "code",
   "execution_count": 86,
   "id": "af4f0ab9",
   "metadata": {},
   "outputs": [
    {
     "name": "stdout",
     "output_type": "stream",
     "text": [
      "Epoch 1/100\n",
      "16/16 [==============================] - 3s 41ms/step - loss: 10.1109 - val_loss: 11.1293\n",
      "Epoch 2/100\n",
      "16/16 [==============================] - 0s 18ms/step - loss: 10.0669 - val_loss: 11.0735\n",
      "Epoch 3/100\n",
      "16/16 [==============================] - 0s 18ms/step - loss: 10.0124 - val_loss: 11.0148\n",
      "Epoch 4/100\n",
      "16/16 [==============================] - 0s 17ms/step - loss: 9.9565 - val_loss: 10.9556\n",
      "Epoch 5/100\n",
      "16/16 [==============================] - 0s 18ms/step - loss: 9.9004 - val_loss: 10.8970\n",
      "Epoch 6/100\n",
      "16/16 [==============================] - 0s 18ms/step - loss: 9.8452 - val_loss: 10.8388\n",
      "Epoch 7/100\n",
      "16/16 [==============================] - 0s 18ms/step - loss: 9.7901 - val_loss: 10.7810\n",
      "Epoch 8/100\n",
      "16/16 [==============================] - 0s 18ms/step - loss: 9.7356 - val_loss: 10.7237\n",
      "Epoch 9/100\n",
      "16/16 [==============================] - 0s 17ms/step - loss: 9.6820 - val_loss: 10.6675\n",
      "Epoch 10/100\n",
      "16/16 [==============================] - 0s 18ms/step - loss: 9.6284 - val_loss: 10.6121\n",
      "Epoch 11/100\n",
      "16/16 [==============================] - 0s 19ms/step - loss: 9.5763 - val_loss: 10.5573\n",
      "Epoch 12/100\n",
      "16/16 [==============================] - 0s 23ms/step - loss: 9.5247 - val_loss: 10.5027\n",
      "Epoch 13/100\n",
      "16/16 [==============================] - 0s 23ms/step - loss: 9.4733 - val_loss: 10.4495\n",
      "Epoch 14/100\n",
      "16/16 [==============================] - 0s 20ms/step - loss: 9.4228 - val_loss: 10.3968\n",
      "Epoch 15/100\n",
      "16/16 [==============================] - 0s 17ms/step - loss: 9.3731 - val_loss: 10.3446\n",
      "Epoch 16/100\n",
      "16/16 [==============================] - 0s 17ms/step - loss: 9.3239 - val_loss: 10.2932\n",
      "Epoch 17/100\n",
      "16/16 [==============================] - 0s 17ms/step - loss: 9.2753 - val_loss: 10.2426\n",
      "Epoch 18/100\n",
      "16/16 [==============================] - 0s 18ms/step - loss: 9.2276 - val_loss: 10.1928\n",
      "Epoch 19/100\n",
      "16/16 [==============================] - 0s 18ms/step - loss: 9.1805 - val_loss: 10.1433\n",
      "Epoch 20/100\n",
      "16/16 [==============================] - 0s 17ms/step - loss: 9.1338 - val_loss: 10.0943\n",
      "Epoch 21/100\n",
      "16/16 [==============================] - 0s 19ms/step - loss: 9.0875 - val_loss: 10.0459\n",
      "Epoch 22/100\n",
      "16/16 [==============================] - 0s 17ms/step - loss: 9.0416 - val_loss: 9.9978\n",
      "Epoch 23/100\n",
      "16/16 [==============================] - 0s 18ms/step - loss: 8.9961 - val_loss: 9.9503\n",
      "Epoch 24/100\n",
      "16/16 [==============================] - 0s 18ms/step - loss: 8.9512 - val_loss: 9.9034\n",
      "Epoch 25/100\n",
      "16/16 [==============================] - 0s 17ms/step - loss: 8.9067 - val_loss: 9.8569\n",
      "Epoch 26/100\n",
      "16/16 [==============================] - 0s 17ms/step - loss: 8.8629 - val_loss: 9.8107\n",
      "Epoch 27/100\n",
      "16/16 [==============================] - 0s 17ms/step - loss: 8.8192 - val_loss: 9.7650\n",
      "Epoch 28/100\n",
      "16/16 [==============================] - 0s 17ms/step - loss: 8.7761 - val_loss: 9.7202\n",
      "Epoch 29/100\n",
      "16/16 [==============================] - 0s 18ms/step - loss: 8.7338 - val_loss: 9.6759\n",
      "Epoch 30/100\n",
      "16/16 [==============================] - 0s 17ms/step - loss: 8.6918 - val_loss: 9.6320\n",
      "Epoch 31/100\n",
      "16/16 [==============================] - 0s 18ms/step - loss: 8.6500 - val_loss: 9.5881\n",
      "Epoch 32/100\n",
      "16/16 [==============================] - 0s 23ms/step - loss: 8.6085 - val_loss: 9.5445\n",
      "Epoch 33/100\n",
      "16/16 [==============================] - 1s 20ms/step - loss: 8.5673 - val_loss: 9.5016\n",
      "Epoch 34/100\n",
      "16/16 [==============================] - 0s 20ms/step - loss: 8.5267 - val_loss: 9.4591\n",
      "Epoch 35/100\n",
      "16/16 [==============================] - 0s 19ms/step - loss: 8.4864 - val_loss: 9.4165\n",
      "Epoch 36/100\n",
      "16/16 [==============================] - 0s 19ms/step - loss: 8.4460 - val_loss: 9.3745\n",
      "Epoch 37/100\n",
      "16/16 [==============================] - 0s 19ms/step - loss: 8.4062 - val_loss: 9.3327\n",
      "Epoch 38/100\n",
      "16/16 [==============================] - 0s 18ms/step - loss: 8.3668 - val_loss: 9.2911\n",
      "Epoch 39/100\n",
      "16/16 [==============================] - 0s 19ms/step - loss: 8.3273 - val_loss: 9.2500\n",
      "Epoch 40/100\n",
      "16/16 [==============================] - 0s 18ms/step - loss: 8.2886 - val_loss: 9.2094\n",
      "Epoch 41/100\n",
      "16/16 [==============================] - 0s 21ms/step - loss: 8.2500 - val_loss: 9.1689\n",
      "Epoch 42/100\n",
      "16/16 [==============================] - 0s 20ms/step - loss: 8.2117 - val_loss: 9.1288\n",
      "Epoch 43/100\n",
      "16/16 [==============================] - 0s 19ms/step - loss: 8.1739 - val_loss: 9.0888\n",
      "Epoch 44/100\n",
      "16/16 [==============================] - 0s 18ms/step - loss: 8.1359 - val_loss: 9.0493\n",
      "Epoch 45/100\n",
      "16/16 [==============================] - 0s 18ms/step - loss: 8.0985 - val_loss: 9.0098\n",
      "Epoch 46/100\n",
      "16/16 [==============================] - 0s 18ms/step - loss: 8.0613 - val_loss: 8.9706\n",
      "Epoch 47/100\n",
      "16/16 [==============================] - 0s 18ms/step - loss: 8.0243 - val_loss: 8.9318\n",
      "Epoch 48/100\n",
      "16/16 [==============================] - 0s 21ms/step - loss: 7.9875 - val_loss: 8.8932\n",
      "Epoch 49/100\n",
      "16/16 [==============================] - 0s 23ms/step - loss: 7.9510 - val_loss: 8.8549\n",
      "Epoch 50/100\n",
      "16/16 [==============================] - 0s 20ms/step - loss: 7.9150 - val_loss: 8.8173\n",
      "Epoch 51/100\n",
      "16/16 [==============================] - 0s 18ms/step - loss: 7.8793 - val_loss: 8.7794\n",
      "Epoch 52/100\n",
      "16/16 [==============================] - 0s 18ms/step - loss: 7.8436 - val_loss: 8.7419\n",
      "Epoch 53/100\n",
      "16/16 [==============================] - 0s 19ms/step - loss: 7.8083 - val_loss: 8.7048\n",
      "Epoch 54/100\n",
      "16/16 [==============================] - 0s 18ms/step - loss: 7.7733 - val_loss: 8.6680\n",
      "Epoch 55/100\n",
      "16/16 [==============================] - 0s 18ms/step - loss: 7.7386 - val_loss: 8.6316\n",
      "Epoch 56/100\n",
      "16/16 [==============================] - 0s 18ms/step - loss: 7.7043 - val_loss: 8.5951\n",
      "Epoch 57/100\n",
      "16/16 [==============================] - 0s 18ms/step - loss: 7.6697 - val_loss: 8.5590\n",
      "Epoch 58/100\n",
      "16/16 [==============================] - 0s 19ms/step - loss: 7.6358 - val_loss: 8.5228\n",
      "Epoch 59/100\n",
      "16/16 [==============================] - 0s 19ms/step - loss: 7.6018 - val_loss: 8.4871\n",
      "Epoch 60/100\n",
      "16/16 [==============================] - 1s 19ms/step - loss: 7.5681 - val_loss: 8.4517\n",
      "Epoch 61/100\n",
      "16/16 [==============================] - 0s 18ms/step - loss: 7.5347 - val_loss: 8.4166\n",
      "Epoch 62/100\n",
      "16/16 [==============================] - 1s 20ms/step - loss: 7.5017 - val_loss: 8.3821\n",
      "Epoch 63/100\n",
      "16/16 [==============================] - 1s 24ms/step - loss: 7.4690 - val_loss: 8.3477\n",
      "Epoch 64/100\n",
      "16/16 [==============================] - 0s 19ms/step - loss: 7.4366 - val_loss: 8.3134\n",
      "Epoch 65/100\n",
      "16/16 [==============================] - 0s 22ms/step - loss: 7.4062 - val_loss: 8.2823\n",
      "Epoch 66/100\n",
      "16/16 [==============================] - 0s 21ms/step - loss: 7.3758 - val_loss: 8.2493\n",
      "Epoch 67/100\n",
      "16/16 [==============================] - 0s 18ms/step - loss: 7.3444 - val_loss: 8.2161\n",
      "Epoch 68/100\n",
      "16/16 [==============================] - 0s 18ms/step - loss: 7.3130 - val_loss: 8.1829\n",
      "Epoch 69/100\n",
      "16/16 [==============================] - 0s 19ms/step - loss: 7.2819 - val_loss: 8.1498\n",
      "Epoch 70/100\n",
      "16/16 [==============================] - 0s 18ms/step - loss: 7.2508 - val_loss: 8.1165\n",
      "Epoch 71/100\n",
      "16/16 [==============================] - 0s 18ms/step - loss: 7.2198 - val_loss: 8.0839\n",
      "Epoch 72/100\n",
      "16/16 [==============================] - 0s 22ms/step - loss: 7.1891 - val_loss: 8.0515\n",
      "Epoch 73/100\n",
      "16/16 [==============================] - 0s 18ms/step - loss: 7.1588 - val_loss: 8.0192\n",
      "Epoch 74/100\n",
      "16/16 [==============================] - 0s 20ms/step - loss: 7.1288 - val_loss: 7.9876\n",
      "Epoch 75/100\n",
      "16/16 [==============================] - 0s 20ms/step - loss: 7.0991 - val_loss: 7.9559\n",
      "Epoch 76/100\n",
      "16/16 [==============================] - 0s 18ms/step - loss: 7.0695 - val_loss: 7.9244\n",
      "Epoch 77/100\n",
      "16/16 [==============================] - 1s 28ms/step - loss: 7.0401 - val_loss: 7.8930\n",
      "Epoch 78/100\n",
      "16/16 [==============================] - 1s 26ms/step - loss: 7.0110 - val_loss: 7.8618\n",
      "Epoch 79/100\n",
      "16/16 [==============================] - 0s 21ms/step - loss: 6.9821 - val_loss: 7.8315\n",
      "Epoch 80/100\n",
      "16/16 [==============================] - 0s 17ms/step - loss: 6.9539 - val_loss: 7.8011\n",
      "Epoch 81/100\n",
      "16/16 [==============================] - 0s 17ms/step - loss: 6.9258 - val_loss: 7.7714\n"
     ]
    },
    {
     "name": "stdout",
     "output_type": "stream",
     "text": [
      "Epoch 82/100\n",
      "16/16 [==============================] - 0s 17ms/step - loss: 6.8980 - val_loss: 7.7413\n",
      "Epoch 83/100\n",
      "16/16 [==============================] - 0s 17ms/step - loss: 6.8702 - val_loss: 7.7118\n",
      "Epoch 84/100\n",
      "16/16 [==============================] - 0s 17ms/step - loss: 6.8429 - val_loss: 7.6823\n",
      "Epoch 85/100\n",
      "16/16 [==============================] - 0s 17ms/step - loss: 6.8155 - val_loss: 7.6531\n",
      "Epoch 86/100\n",
      "16/16 [==============================] - 0s 17ms/step - loss: 6.7886 - val_loss: 7.6242\n",
      "Epoch 87/100\n",
      "16/16 [==============================] - 0s 17ms/step - loss: 6.7618 - val_loss: 7.5955\n",
      "Epoch 88/100\n",
      "16/16 [==============================] - 0s 16ms/step - loss: 6.7353 - val_loss: 7.5668\n",
      "Epoch 89/100\n",
      "16/16 [==============================] - 0s 16ms/step - loss: 6.7089 - val_loss: 7.5384\n",
      "Epoch 90/100\n",
      "16/16 [==============================] - 0s 17ms/step - loss: 6.6829 - val_loss: 7.5102\n",
      "Epoch 91/100\n",
      "16/16 [==============================] - 0s 17ms/step - loss: 6.6570 - val_loss: 7.4824\n",
      "Epoch 92/100\n",
      "16/16 [==============================] - 0s 17ms/step - loss: 6.6314 - val_loss: 7.4543\n",
      "Epoch 93/100\n",
      "16/16 [==============================] - 0s 18ms/step - loss: 6.6055 - val_loss: 7.4269\n",
      "Epoch 94/100\n",
      "16/16 [==============================] - 0s 15ms/step - loss: 6.5805 - val_loss: 7.3993\n",
      "Epoch 95/100\n",
      "16/16 [==============================] - 0s 18ms/step - loss: 6.5553 - val_loss: 7.3720\n",
      "Epoch 96/100\n",
      "16/16 [==============================] - 0s 16ms/step - loss: 6.5304 - val_loss: 7.3451\n",
      "Epoch 97/100\n",
      "16/16 [==============================] - 0s 17ms/step - loss: 6.5059 - val_loss: 7.3185\n",
      "Epoch 98/100\n",
      "16/16 [==============================] - 0s 17ms/step - loss: 6.4815 - val_loss: 7.2922\n",
      "Epoch 99/100\n",
      "16/16 [==============================] - 0s 18ms/step - loss: 6.4576 - val_loss: 7.2659\n",
      "Epoch 100/100\n",
      "16/16 [==============================] - 0s 15ms/step - loss: 6.4339 - val_loss: 7.2403\n"
     ]
    },
    {
     "data": {
      "text/plain": [
       "<keras.callbacks.History at 0x7fde0ebdddb0>"
      ]
     },
     "execution_count": 86,
     "metadata": {},
     "output_type": "execute_result"
    }
   ],
   "source": [
    "model = tf.keras.models.Sequential([\n",
    "    tf.keras.layers.SimpleRNN(100, input_shape=[None, 1],return_sequences=True),\n",
    "    tf.keras.layers.SimpleRNN(100),\n",
    "    tf.keras.layers.Dense(1)\n",
    "])\n",
    "\n",
    "huber = tf.keras.losses.Huber()\n",
    "\n",
    "model.compile(loss=huber, optimizer=tf.keras.optimizers.SGD(learning_rate=1e-6, momentum=0.9))\n",
    "model.fit(dataset, epochs=100, validation_data=test_dataset)"
   ]
  },
  {
   "cell_type": "code",
   "execution_count": 89,
   "id": "58483272",
   "metadata": {},
   "outputs": [],
   "source": [
    "series_scaled = (series - series.mean()) / series.std()"
   ]
  },
  {
   "cell_type": "code",
   "execution_count": 91,
   "id": "dfbad879",
   "metadata": {},
   "outputs": [
    {
     "name": "stdout",
     "output_type": "stream",
     "text": [
      "4/4 [==============================] - 0s 17ms/step\n"
     ]
    }
   ],
   "source": [
    "rnn_forecast = predict_dataset(model, series_scaled[505-24: -1], window_size)\n",
    "\n"
   ]
  },
  {
   "cell_type": "code",
   "execution_count": 93,
   "id": "22233ec8",
   "metadata": {},
   "outputs": [
    {
     "name": "stdout",
     "output_type": "stream",
     "text": [
      "mae :  0.927446162695266\n",
      "mse :  1.1273428386056479\n"
     ]
    },
    {
     "data": {
      "image/png": "[encoded data removed]",
      "text/plain": [
       "<Figure size 640x480 with 1 Axes>"
      ]
     },
     "metadata": {},
     "output_type": "display_data"
    }
   ],
   "source": [
    "results_rnn = rnn_forecast[:, 0]\n",
    "\n",
    "print(\"mae : \", mean_absolute_error(x_test_scaled, results_rnn))\n",
    "print(\"mse : \", mean_squared_error(x_test_scaled, results_rnn))\n",
    "\n",
    "plt.plot(time_test, x_test_scaled)\n",
    "plt.plot(time_test, results_rnn)\n",
    "plt.xlabel('Temps')\n",
    "plt.ylabel('Temperature')\n",
    "plt.grid(True)\n",
    "plt.show()"
   ]
  },
  {
   "cell_type": "markdown",
   "id": "292d5aac",
   "metadata": {},
   "source": [
    "### GRU (Gated Recurent Unit)"
   ]
  },
  {
   "cell_type": "code",
   "execution_count": 94,
   "id": "7cf05bc3",
   "metadata": {},
   "outputs": [
    {
     "name": "stdout",
     "output_type": "stream",
     "text": [
      "Epoch 1/100\n",
      "16/16 [==============================] - 7s 97ms/step - loss: 10.2993 - val_loss: 11.3327\n",
      "Epoch 2/100\n",
      "16/16 [==============================] - 1s 35ms/step - loss: 10.2885 - val_loss: 11.3187\n",
      "Epoch 3/100\n",
      "16/16 [==============================] - 1s 35ms/step - loss: 10.2718 - val_loss: 11.3038\n",
      "Epoch 4/100\n",
      "16/16 [==============================] - 1s 35ms/step - loss: 10.2570 - val_loss: 11.2885\n",
      "Epoch 5/100\n",
      "16/16 [==============================] - 1s 35ms/step - loss: 10.2414 - val_loss: 11.2730\n",
      "Epoch 6/100\n",
      "16/16 [==============================] - 1s 36ms/step - loss: 10.2309 - val_loss: 11.2575\n",
      "Epoch 7/100\n",
      "16/16 [==============================] - 1s 36ms/step - loss: 10.2174 - val_loss: 11.2423\n",
      "Epoch 8/100\n",
      "16/16 [==============================] - 1s 35ms/step - loss: 10.2040 - val_loss: 11.2272\n",
      "Epoch 9/100\n",
      "16/16 [==============================] - 1s 36ms/step - loss: 10.1914 - val_loss: 11.2121\n",
      "Epoch 10/100\n",
      "16/16 [==============================] - 1s 35ms/step - loss: 10.1795 - val_loss: 11.1967\n",
      "Epoch 11/100\n",
      "16/16 [==============================] - 1s 35ms/step - loss: 10.1628 - val_loss: 11.1813\n",
      "Epoch 12/100\n",
      "16/16 [==============================] - 1s 36ms/step - loss: 10.1489 - val_loss: 11.1660\n",
      "Epoch 13/100\n",
      "16/16 [==============================] - 1s 35ms/step - loss: 10.1380 - val_loss: 11.1506\n",
      "Epoch 14/100\n",
      "16/16 [==============================] - 1s 49ms/step - loss: 10.1175 - val_loss: 11.1351\n",
      "Epoch 15/100\n",
      "16/16 [==============================] - 1s 39ms/step - loss: 10.1100 - val_loss: 11.1197\n",
      "Epoch 16/100\n",
      "16/16 [==============================] - 1s 41ms/step - loss: 10.0964 - val_loss: 11.1045\n",
      "Epoch 17/100\n",
      "16/16 [==============================] - 1s 45ms/step - loss: 10.0866 - val_loss: 11.0892\n",
      "Epoch 18/100\n",
      "16/16 [==============================] - 1s 36ms/step - loss: 10.0654 - val_loss: 11.0741\n",
      "Epoch 19/100\n",
      "16/16 [==============================] - 1s 40ms/step - loss: 10.0560 - val_loss: 11.0590\n",
      "Epoch 20/100\n",
      "16/16 [==============================] - 1s 39ms/step - loss: 10.0382 - val_loss: 11.0438\n",
      "Epoch 21/100\n",
      "16/16 [==============================] - 1s 38ms/step - loss: 10.0255 - val_loss: 11.0288\n",
      "Epoch 22/100\n",
      "16/16 [==============================] - 1s 43ms/step - loss: 10.0167 - val_loss: 11.0136\n",
      "Epoch 23/100\n",
      "16/16 [==============================] - 1s 35ms/step - loss: 9.9973 - val_loss: 10.9984\n",
      "Epoch 24/100\n",
      "16/16 [==============================] - 1s 37ms/step - loss: 9.9849 - val_loss: 10.9832\n",
      "Epoch 25/100\n",
      "16/16 [==============================] - 1s 37ms/step - loss: 9.9738 - val_loss: 10.9682\n",
      "Epoch 26/100\n",
      "16/16 [==============================] - 1s 34ms/step - loss: 9.9580 - val_loss: 10.9530\n",
      "Epoch 27/100\n",
      "16/16 [==============================] - 1s 36ms/step - loss: 9.9450 - val_loss: 10.9378\n",
      "Epoch 28/100\n",
      "16/16 [==============================] - 1s 35ms/step - loss: 9.9342 - val_loss: 10.9225\n",
      "Epoch 29/100\n",
      "16/16 [==============================] - 1s 35ms/step - loss: 9.9205 - val_loss: 10.9076\n",
      "Epoch 30/100\n",
      "16/16 [==============================] - 1s 40ms/step - loss: 9.9089 - val_loss: 10.8926\n",
      "Epoch 31/100\n",
      "16/16 [==============================] - 1s 39ms/step - loss: 9.8899 - val_loss: 10.8776\n",
      "Epoch 32/100\n",
      "16/16 [==============================] - 1s 38ms/step - loss: 9.8752 - val_loss: 10.8624\n",
      "Epoch 33/100\n",
      "16/16 [==============================] - 1s 37ms/step - loss: 9.8670 - val_loss: 10.8472\n",
      "Epoch 34/100\n",
      "16/16 [==============================] - 1s 39ms/step - loss: 9.8513 - val_loss: 10.8323\n",
      "Epoch 35/100\n",
      "16/16 [==============================] - 1s 35ms/step - loss: 9.8400 - val_loss: 10.8173\n",
      "Epoch 36/100\n",
      "16/16 [==============================] - 1s 35ms/step - loss: 9.8210 - val_loss: 10.8025\n",
      "Epoch 37/100\n",
      "16/16 [==============================] - 1s 38ms/step - loss: 9.8163 - val_loss: 10.7873\n",
      "Epoch 38/100\n",
      "16/16 [==============================] - 1s 37ms/step - loss: 9.7985 - val_loss: 10.7725\n",
      "Epoch 39/100\n",
      "16/16 [==============================] - 1s 36ms/step - loss: 9.7895 - val_loss: 10.7576\n",
      "Epoch 40/100\n",
      "16/16 [==============================] - 1s 37ms/step - loss: 9.7729 - val_loss: 10.7426\n",
      "Epoch 41/100\n",
      "16/16 [==============================] - 1s 36ms/step - loss: 9.7619 - val_loss: 10.7275\n",
      "Epoch 42/100\n",
      "16/16 [==============================] - 1s 37ms/step - loss: 9.7469 - val_loss: 10.7125\n",
      "Epoch 43/100\n",
      "16/16 [==============================] - 1s 39ms/step - loss: 9.7317 - val_loss: 10.6975\n",
      "Epoch 44/100\n",
      "16/16 [==============================] - 1s 37ms/step - loss: 9.7212 - val_loss: 10.6823\n",
      "Epoch 45/100\n",
      "16/16 [==============================] - 1s 36ms/step - loss: 9.7016 - val_loss: 10.6673\n",
      "Epoch 46/100\n",
      "16/16 [==============================] - 1s 36ms/step - loss: 9.6926 - val_loss: 10.6523\n",
      "Epoch 47/100\n",
      "16/16 [==============================] - 1s 38ms/step - loss: 9.6777 - val_loss: 10.6373\n",
      "Epoch 48/100\n",
      "16/16 [==============================] - 1s 35ms/step - loss: 9.6678 - val_loss: 10.6225\n",
      "Epoch 49/100\n",
      "16/16 [==============================] - 1s 35ms/step - loss: 9.6578 - val_loss: 10.6077\n",
      "Epoch 50/100\n",
      "16/16 [==============================] - 1s 35ms/step - loss: 9.6349 - val_loss: 10.5927\n",
      "Epoch 51/100\n",
      "16/16 [==============================] - 1s 40ms/step - loss: 9.6246 - val_loss: 10.5777\n",
      "Epoch 52/100\n",
      "16/16 [==============================] - 1s 38ms/step - loss: 9.6060 - val_loss: 10.5627\n",
      "Epoch 53/100\n",
      "16/16 [==============================] - 1s 43ms/step - loss: 9.5974 - val_loss: 10.5478\n",
      "Epoch 54/100\n",
      "16/16 [==============================] - 1s 36ms/step - loss: 9.5871 - val_loss: 10.5329\n",
      "Epoch 55/100\n",
      "16/16 [==============================] - 1s 35ms/step - loss: 9.5601 - val_loss: 10.5179\n",
      "Epoch 56/100\n",
      "16/16 [==============================] - 1s 36ms/step - loss: 9.5674 - val_loss: 10.5030\n",
      "Epoch 57/100\n",
      "16/16 [==============================] - 1s 35ms/step - loss: 9.5420 - val_loss: 10.4881\n",
      "Epoch 58/100\n",
      "16/16 [==============================] - 1s 35ms/step - loss: 9.5317 - val_loss: 10.4732\n",
      "Epoch 59/100\n",
      "16/16 [==============================] - 1s 38ms/step - loss: 9.5173 - val_loss: 10.4585\n",
      "Epoch 60/100\n",
      "16/16 [==============================] - 1s 34ms/step - loss: 9.5045 - val_loss: 10.4436\n",
      "Epoch 61/100\n",
      "16/16 [==============================] - 1s 35ms/step - loss: 9.4911 - val_loss: 10.4287\n",
      "Epoch 62/100\n",
      "16/16 [==============================] - 1s 35ms/step - loss: 9.4704 - val_loss: 10.4138\n",
      "Epoch 63/100\n",
      "16/16 [==============================] - 1s 35ms/step - loss: 9.4759 - val_loss: 10.3989\n",
      "Epoch 64/100\n",
      "16/16 [==============================] - 1s 36ms/step - loss: 9.4548 - val_loss: 10.3844\n",
      "Epoch 65/100\n",
      "16/16 [==============================] - 1s 35ms/step - loss: 9.4399 - val_loss: 10.3696\n",
      "Epoch 66/100\n",
      "16/16 [==============================] - 1s 36ms/step - loss: 9.4222 - val_loss: 10.3549\n",
      "Epoch 67/100\n",
      "16/16 [==============================] - 1s 35ms/step - loss: 9.4159 - val_loss: 10.3402\n",
      "Epoch 68/100\n",
      "16/16 [==============================] - 1s 36ms/step - loss: 9.3961 - val_loss: 10.3256\n",
      "Epoch 69/100\n",
      "16/16 [==============================] - 1s 35ms/step - loss: 9.3682 - val_loss: 10.3106\n",
      "Epoch 70/100\n",
      "16/16 [==============================] - 1s 37ms/step - loss: 9.3715 - val_loss: 10.2957\n",
      "Epoch 71/100\n",
      "16/16 [==============================] - 1s 33ms/step - loss: 9.3672 - val_loss: 10.2810\n",
      "Epoch 72/100\n",
      "16/16 [==============================] - 1s 33ms/step - loss: 9.3477 - val_loss: 10.2664\n",
      "Epoch 73/100\n",
      "16/16 [==============================] - 1s 49ms/step - loss: 9.3341 - val_loss: 10.2518\n",
      "Epoch 74/100\n",
      "16/16 [==============================] - 1s 41ms/step - loss: 9.3292 - val_loss: 10.2372\n",
      "Epoch 75/100\n",
      "16/16 [==============================] - 1s 34ms/step - loss: 9.3084 - val_loss: 10.2226\n",
      "Epoch 76/100\n",
      "16/16 [==============================] - 1s 34ms/step - loss: 9.2931 - val_loss: 10.2081\n",
      "Epoch 77/100\n",
      "16/16 [==============================] - 1s 39ms/step - loss: 9.2862 - val_loss: 10.1934\n",
      "Epoch 78/100\n",
      "16/16 [==============================] - 1s 47ms/step - loss: 9.2699 - val_loss: 10.1789\n",
      "Epoch 79/100\n",
      "16/16 [==============================] - 1s 38ms/step - loss: 9.2546 - val_loss: 10.1643\n",
      "Epoch 80/100\n",
      "16/16 [==============================] - 1s 42ms/step - loss: 9.2499 - val_loss: 10.1496\n",
      "Epoch 81/100\n"
     ]
    },
    {
     "name": "stdout",
     "output_type": "stream",
     "text": [
      "16/16 [==============================] - 1s 36ms/step - loss: 9.2235 - val_loss: 10.1351\n",
      "Epoch 82/100\n",
      "16/16 [==============================] - 1s 35ms/step - loss: 9.2372 - val_loss: 10.1206\n",
      "Epoch 83/100\n",
      "16/16 [==============================] - 1s 35ms/step - loss: 9.2012 - val_loss: 10.1061\n",
      "Epoch 84/100\n",
      "16/16 [==============================] - 1s 37ms/step - loss: 9.1849 - val_loss: 10.0915\n",
      "Epoch 85/100\n",
      "16/16 [==============================] - 1s 37ms/step - loss: 9.1652 - val_loss: 10.0769\n",
      "Epoch 86/100\n",
      "16/16 [==============================] - 1s 37ms/step - loss: 9.1637 - val_loss: 10.0622\n",
      "Epoch 87/100\n",
      "16/16 [==============================] - 1s 43ms/step - loss: 9.1565 - val_loss: 10.0476\n",
      "Epoch 88/100\n",
      "16/16 [==============================] - 1s 35ms/step - loss: 9.1305 - val_loss: 10.0330\n",
      "Epoch 89/100\n",
      "16/16 [==============================] - 1s 34ms/step - loss: 9.1352 - val_loss: 10.0188\n",
      "Epoch 90/100\n",
      "16/16 [==============================] - 1s 34ms/step - loss: 9.1239 - val_loss: 10.0042\n",
      "Epoch 91/100\n",
      "16/16 [==============================] - 1s 35ms/step - loss: 9.0897 - val_loss: 9.9896\n",
      "Epoch 92/100\n",
      "16/16 [==============================] - 1s 40ms/step - loss: 9.0909 - val_loss: 9.9751\n",
      "Epoch 93/100\n",
      "16/16 [==============================] - 1s 44ms/step - loss: 9.0699 - val_loss: 9.9606\n",
      "Epoch 94/100\n",
      "16/16 [==============================] - 1s 40ms/step - loss: 9.0585 - val_loss: 9.9459\n",
      "Epoch 95/100\n",
      "16/16 [==============================] - 1s 36ms/step - loss: 9.0478 - val_loss: 9.9316\n",
      "Epoch 96/100\n",
      "16/16 [==============================] - 1s 37ms/step - loss: 9.0366 - val_loss: 9.9172\n",
      "Epoch 97/100\n",
      "16/16 [==============================] - 1s 36ms/step - loss: 9.0395 - val_loss: 9.9027\n",
      "Epoch 98/100\n",
      "16/16 [==============================] - 1s 35ms/step - loss: 9.0089 - val_loss: 9.8885\n",
      "Epoch 99/100\n",
      "16/16 [==============================] - 1s 39ms/step - loss: 8.9997 - val_loss: 9.8741\n",
      "Epoch 100/100\n",
      "16/16 [==============================] - 1s 39ms/step - loss: 8.9839 - val_loss: 9.8598\n"
     ]
    },
    {
     "data": {
      "text/plain": [
       "<keras.callbacks.History at 0x7fddfffbbfd0>"
      ]
     },
     "execution_count": 94,
     "metadata": {},
     "output_type": "execute_result"
    }
   ],
   "source": [
    "model = tf.keras.models.Sequential([\n",
    "    tf.keras.layers.GRU(100, input_shape=[None, 1],return_sequences=True, dropout=0.1),\n",
    "    tf.keras.layers.GRU(100),\n",
    "    tf.keras.layers.Dense(1)\n",
    "])\n",
    "\n",
    "huber = tf.keras.losses.Huber()\n",
    "\n",
    "model.compile(loss=huber, optimizer=tf.keras.optimizers.SGD(learning_rate=1e-6, momentum=0.9))\n",
    "model.fit(dataset, epochs=100, validation_data=test_dataset)"
   ]
  },
  {
   "cell_type": "code",
   "execution_count": 95,
   "id": "89370a4d",
   "metadata": {},
   "outputs": [
    {
     "name": "stdout",
     "output_type": "stream",
     "text": [
      "4/4 [==============================] - 1s 16ms/step\n"
     ]
    }
   ],
   "source": [
    "gru_forecast = predict_dataset(model, series_scaled[505-24: -1], window_size)\n"
   ]
  },
  {
   "cell_type": "code",
   "execution_count": 96,
   "id": "d0f34cef",
   "metadata": {},
   "outputs": [
    {
     "data": {
      "text/plain": [
       "(100, 1)"
      ]
     },
     "execution_count": 96,
     "metadata": {},
     "output_type": "execute_result"
    }
   ],
   "source": [
    "gru_forecast.shape"
   ]
  },
  {
   "cell_type": "code",
   "execution_count": 97,
   "id": "c8c96aa2",
   "metadata": {},
   "outputs": [
    {
     "name": "stdout",
     "output_type": "stream",
     "text": [
      "mae :  0.8457764954211408\n",
      "mse :  0.9469235898056563\n"
     ]
    },
    {
     "data": {
      "image/png": "[encoded data removed]",
      "text/plain": [
       "<Figure size 640x480 with 1 Axes>"
      ]
     },
     "metadata": {},
     "output_type": "display_data"
    }
   ],
   "source": [
    "results_gru = gru_forecast[:, 0]\n",
    "\n",
    "print(\"mae : \", mean_absolute_error(x_test_scaled, results_gru))\n",
    "print(\"mse : \", mean_squared_error(x_test_scaled, results_gru))\n",
    "\n",
    "plt.plot(time_test, x_test_scaled)\n",
    "plt.plot(time_test, results_gru)\n",
    "plt.xlabel('Temps')\n",
    "plt.ylabel('Temperature')\n",
    "plt.grid(True)\n",
    "plt.show()"
   ]
  },
  {
   "cell_type": "markdown",
   "id": "fe2fde2b",
   "metadata": {},
   "source": [
    "### LSTM"
   ]
  },
  {
   "cell_type": "code",
   "execution_count": 98,
   "id": "305325c0",
   "metadata": {},
   "outputs": [
    {
     "name": "stdout",
     "output_type": "stream",
     "text": [
      "Epoch 1/100\n",
      "16/16 [==============================] - 6s 107ms/step - loss: 10.3179 - val_loss: 11.3862\n",
      "Epoch 2/100\n",
      "16/16 [==============================] - 1s 43ms/step - loss: 10.3110 - val_loss: 11.3777\n",
      "Epoch 3/100\n",
      "16/16 [==============================] - 1s 43ms/step - loss: 10.3024 - val_loss: 11.3688\n",
      "Epoch 4/100\n",
      "16/16 [==============================] - 1s 48ms/step - loss: 10.2937 - val_loss: 11.3600\n",
      "Epoch 5/100\n",
      "16/16 [==============================] - 1s 52ms/step - loss: 10.2850 - val_loss: 11.3513\n",
      "Epoch 6/100\n",
      "16/16 [==============================] - 1s 44ms/step - loss: 10.2766 - val_loss: 11.3428\n",
      "Epoch 7/100\n",
      "16/16 [==============================] - 1s 46ms/step - loss: 10.2683 - val_loss: 11.3345\n",
      "Epoch 8/100\n",
      "16/16 [==============================] - 1s 46ms/step - loss: 10.2601 - val_loss: 11.3262\n",
      "Epoch 9/100\n",
      "16/16 [==============================] - 1s 44ms/step - loss: 10.2521 - val_loss: 11.3181\n",
      "Epoch 10/100\n",
      "16/16 [==============================] - 1s 43ms/step - loss: 10.2441 - val_loss: 11.3101\n",
      "Epoch 11/100\n",
      "16/16 [==============================] - 1s 51ms/step - loss: 10.2362 - val_loss: 11.3022\n",
      "Epoch 12/100\n",
      "16/16 [==============================] - 1s 48ms/step - loss: 10.2284 - val_loss: 11.2943\n",
      "Epoch 13/100\n",
      "16/16 [==============================] - 1s 54ms/step - loss: 10.2207 - val_loss: 11.2865\n",
      "Epoch 14/100\n",
      "16/16 [==============================] - 1s 57ms/step - loss: 10.2131 - val_loss: 11.2788\n",
      "Epoch 15/100\n",
      "16/16 [==============================] - 1s 43ms/step - loss: 10.2055 - val_loss: 11.2711\n",
      "Epoch 16/100\n",
      "16/16 [==============================] - 1s 45ms/step - loss: 10.1980 - val_loss: 11.2635\n",
      "Epoch 17/100\n",
      "16/16 [==============================] - 1s 47ms/step - loss: 10.1905 - val_loss: 11.2559\n",
      "Epoch 18/100\n",
      "16/16 [==============================] - 1s 47ms/step - loss: 10.1830 - val_loss: 11.2483\n",
      "Epoch 19/100\n",
      "16/16 [==============================] - 1s 43ms/step - loss: 10.1756 - val_loss: 11.2408\n",
      "Epoch 20/100\n",
      "16/16 [==============================] - 1s 47ms/step - loss: 10.1683 - val_loss: 11.2334\n",
      "Epoch 21/100\n",
      "16/16 [==============================] - 1s 43ms/step - loss: 10.1610 - val_loss: 11.2259\n",
      "Epoch 22/100\n",
      "16/16 [==============================] - 1s 44ms/step - loss: 10.1537 - val_loss: 11.2185\n",
      "Epoch 23/100\n",
      "16/16 [==============================] - 1s 43ms/step - loss: 10.1464 - val_loss: 11.2112\n",
      "Epoch 24/100\n",
      "16/16 [==============================] - 1s 44ms/step - loss: 10.1392 - val_loss: 11.2038\n",
      "Epoch 25/100\n",
      "16/16 [==============================] - 1s 44ms/step - loss: 10.1320 - val_loss: 11.1965\n",
      "Epoch 26/100\n",
      "16/16 [==============================] - 1s 43ms/step - loss: 10.1249 - val_loss: 11.1892\n",
      "Epoch 27/100\n",
      "16/16 [==============================] - 1s 43ms/step - loss: 10.1177 - val_loss: 11.1819\n",
      "Epoch 28/100\n",
      "16/16 [==============================] - 1s 46ms/step - loss: 10.1106 - val_loss: 11.1747\n",
      "Epoch 29/100\n",
      "16/16 [==============================] - 1s 44ms/step - loss: 10.1035 - val_loss: 11.1674\n",
      "Epoch 30/100\n",
      "16/16 [==============================] - 1s 44ms/step - loss: 10.0964 - val_loss: 11.1602\n",
      "Epoch 31/100\n",
      "16/16 [==============================] - 1s 45ms/step - loss: 10.0893 - val_loss: 11.1530\n",
      "Epoch 32/100\n",
      "16/16 [==============================] - 1s 44ms/step - loss: 10.0823 - val_loss: 11.1458\n",
      "Epoch 33/100\n",
      "16/16 [==============================] - 1s 43ms/step - loss: 10.0752 - val_loss: 11.1386\n",
      "Epoch 34/100\n",
      "16/16 [==============================] - 1s 49ms/step - loss: 10.0682 - val_loss: 11.1315\n",
      "Epoch 35/100\n",
      "16/16 [==============================] - 1s 44ms/step - loss: 10.0612 - val_loss: 11.1243\n",
      "Epoch 36/100\n",
      "16/16 [==============================] - 1s 48ms/step - loss: 10.0542 - val_loss: 11.1172\n",
      "Epoch 37/100\n",
      "16/16 [==============================] - 1s 73ms/step - loss: 10.0473 - val_loss: 11.1101\n",
      "Epoch 38/100\n",
      "16/16 [==============================] - 1s 53ms/step - loss: 10.0403 - val_loss: 11.1029\n",
      "Epoch 39/100\n",
      "16/16 [==============================] - 1s 42ms/step - loss: 10.0334 - val_loss: 11.0958\n",
      "Epoch 40/100\n",
      "16/16 [==============================] - 1s 42ms/step - loss: 10.0264 - val_loss: 11.0887\n",
      "Epoch 41/100\n",
      "16/16 [==============================] - 1s 49ms/step - loss: 10.0195 - val_loss: 11.0817\n",
      "Epoch 42/100\n",
      "16/16 [==============================] - 1s 53ms/step - loss: 10.0126 - val_loss: 11.0746\n",
      "Epoch 43/100\n",
      "16/16 [==============================] - 1s 58ms/step - loss: 10.0057 - val_loss: 11.0676\n",
      "Epoch 44/100\n",
      "16/16 [==============================] - 1s 44ms/step - loss: 9.9988 - val_loss: 11.0605\n",
      "Epoch 45/100\n",
      "16/16 [==============================] - 1s 55ms/step - loss: 9.9920 - val_loss: 11.0535\n",
      "Epoch 46/100\n",
      "16/16 [==============================] - 1s 50ms/step - loss: 9.9851 - val_loss: 11.0464\n",
      "Epoch 47/100\n",
      "16/16 [==============================] - 1s 44ms/step - loss: 9.9782 - val_loss: 11.0394\n",
      "Epoch 48/100\n",
      "16/16 [==============================] - 1s 47ms/step - loss: 9.9714 - val_loss: 11.0324\n",
      "Epoch 49/100\n",
      "16/16 [==============================] - 1s 44ms/step - loss: 9.9645 - val_loss: 11.0254\n",
      "Epoch 50/100\n",
      "16/16 [==============================] - 1s 45ms/step - loss: 9.9577 - val_loss: 11.0184\n",
      "Epoch 51/100\n",
      "16/16 [==============================] - 1s 50ms/step - loss: 9.9509 - val_loss: 11.0114\n",
      "Epoch 52/100\n",
      "16/16 [==============================] - 1s 47ms/step - loss: 9.9441 - val_loss: 11.0044\n",
      "Epoch 53/100\n",
      "16/16 [==============================] - 1s 48ms/step - loss: 9.9373 - val_loss: 10.9974\n",
      "Epoch 54/100\n",
      "16/16 [==============================] - 1s 48ms/step - loss: 9.9305 - val_loss: 10.9904\n",
      "Epoch 55/100\n",
      "16/16 [==============================] - 1s 48ms/step - loss: 9.9237 - val_loss: 10.9834\n",
      "Epoch 56/100\n",
      "16/16 [==============================] - 1s 50ms/step - loss: 9.9169 - val_loss: 10.9765\n",
      "Epoch 57/100\n",
      "16/16 [==============================] - 1s 49ms/step - loss: 9.9101 - val_loss: 10.9695\n",
      "Epoch 58/100\n",
      "16/16 [==============================] - 1s 46ms/step - loss: 9.9033 - val_loss: 10.9626\n",
      "Epoch 59/100\n",
      "16/16 [==============================] - 1s 51ms/step - loss: 9.8965 - val_loss: 10.9556\n",
      "Epoch 60/100\n",
      "16/16 [==============================] - 1s 44ms/step - loss: 9.8898 - val_loss: 10.9487\n",
      "Epoch 61/100\n",
      "16/16 [==============================] - 1s 44ms/step - loss: 9.8830 - val_loss: 10.9417\n",
      "Epoch 62/100\n",
      "16/16 [==============================] - 1s 44ms/step - loss: 9.8762 - val_loss: 10.9348\n",
      "Epoch 63/100\n",
      "16/16 [==============================] - 1s 44ms/step - loss: 9.8695 - val_loss: 10.9279\n",
      "Epoch 64/100\n",
      "16/16 [==============================] - 1s 44ms/step - loss: 9.8628 - val_loss: 10.9210\n",
      "Epoch 65/100\n",
      "16/16 [==============================] - 1s 45ms/step - loss: 9.8560 - val_loss: 10.9140\n",
      "Epoch 66/100\n",
      "16/16 [==============================] - 1s 44ms/step - loss: 9.8493 - val_loss: 10.9071\n",
      "Epoch 67/100\n",
      "16/16 [==============================] - 1s 44ms/step - loss: 9.8426 - val_loss: 10.9002\n",
      "Epoch 68/100\n",
      "16/16 [==============================] - 1s 45ms/step - loss: 9.8359 - val_loss: 10.8933\n",
      "Epoch 69/100\n",
      "16/16 [==============================] - 1s 45ms/step - loss: 9.8292 - val_loss: 10.8864\n",
      "Epoch 70/100\n",
      "16/16 [==============================] - 1s 44ms/step - loss: 9.8225 - val_loss: 10.8795\n",
      "Epoch 71/100\n",
      "16/16 [==============================] - 1s 48ms/step - loss: 9.8157 - val_loss: 10.8726\n",
      "Epoch 72/100\n",
      "16/16 [==============================] - 1s 45ms/step - loss: 9.8090 - val_loss: 10.8657\n",
      "Epoch 73/100\n",
      "16/16 [==============================] - 1s 44ms/step - loss: 9.8023 - val_loss: 10.8588\n",
      "Epoch 74/100\n",
      "16/16 [==============================] - 1s 45ms/step - loss: 9.7957 - val_loss: 10.8519\n",
      "Epoch 75/100\n",
      "16/16 [==============================] - 1s 44ms/step - loss: 9.7890 - val_loss: 10.8451\n",
      "Epoch 76/100\n",
      "16/16 [==============================] - 1s 44ms/step - loss: 9.7823 - val_loss: 10.8382\n",
      "Epoch 77/100\n",
      "16/16 [==============================] - 1s 45ms/step - loss: 9.7756 - val_loss: 10.8314\n",
      "Epoch 78/100\n",
      "16/16 [==============================] - 1s 44ms/step - loss: 9.7690 - val_loss: 10.8245\n",
      "Epoch 79/100\n",
      "16/16 [==============================] - 1s 44ms/step - loss: 9.7623 - val_loss: 10.8177\n",
      "Epoch 80/100\n",
      "16/16 [==============================] - 1s 44ms/step - loss: 9.7556 - val_loss: 10.8108\n"
     ]
    },
    {
     "name": "stdout",
     "output_type": "stream",
     "text": [
      "Epoch 81/100\n",
      "16/16 [==============================] - 1s 43ms/step - loss: 9.7490 - val_loss: 10.8039\n",
      "Epoch 82/100\n",
      "16/16 [==============================] - 1s 43ms/step - loss: 9.7423 - val_loss: 10.7971\n",
      "Epoch 83/100\n",
      "16/16 [==============================] - 1s 43ms/step - loss: 9.7357 - val_loss: 10.7902\n",
      "Epoch 84/100\n",
      "16/16 [==============================] - 1s 43ms/step - loss: 9.7290 - val_loss: 10.7834\n",
      "Epoch 85/100\n",
      "16/16 [==============================] - 1s 43ms/step - loss: 9.7223 - val_loss: 10.7765\n",
      "Epoch 86/100\n",
      "16/16 [==============================] - 1s 45ms/step - loss: 9.7157 - val_loss: 10.7697\n",
      "Epoch 87/100\n",
      "16/16 [==============================] - 1s 44ms/step - loss: 9.7091 - val_loss: 10.7629\n",
      "Epoch 88/100\n",
      "16/16 [==============================] - 1s 43ms/step - loss: 9.7025 - val_loss: 10.7560\n",
      "Epoch 89/100\n",
      "16/16 [==============================] - 1s 44ms/step - loss: 9.6958 - val_loss: 10.7492\n",
      "Epoch 90/100\n",
      "16/16 [==============================] - 1s 43ms/step - loss: 9.6892 - val_loss: 10.7424\n",
      "Epoch 91/100\n",
      "16/16 [==============================] - 1s 44ms/step - loss: 9.6825 - val_loss: 10.7355\n",
      "Epoch 92/100\n",
      "16/16 [==============================] - 1s 50ms/step - loss: 9.6759 - val_loss: 10.7287\n",
      "Epoch 93/100\n",
      "16/16 [==============================] - 1s 51ms/step - loss: 9.6693 - val_loss: 10.7219\n",
      "Epoch 94/100\n",
      "16/16 [==============================] - 1s 43ms/step - loss: 9.6627 - val_loss: 10.7150\n",
      "Epoch 95/100\n",
      "16/16 [==============================] - 1s 38ms/step - loss: 9.6561 - val_loss: 10.7082\n",
      "Epoch 96/100\n",
      "16/16 [==============================] - 1s 39ms/step - loss: 9.6494 - val_loss: 10.7014\n",
      "Epoch 97/100\n",
      "16/16 [==============================] - 1s 38ms/step - loss: 9.6428 - val_loss: 10.6946\n",
      "Epoch 98/100\n",
      "16/16 [==============================] - 1s 46ms/step - loss: 9.6362 - val_loss: 10.6878\n",
      "Epoch 99/100\n",
      "16/16 [==============================] - 1s 45ms/step - loss: 9.6296 - val_loss: 10.6809\n",
      "Epoch 100/100\n",
      "16/16 [==============================] - 1s 51ms/step - loss: 9.6230 - val_loss: 10.6741\n"
     ]
    },
    {
     "data": {
      "text/plain": [
       "<keras.callbacks.History at 0x7fddff96a2c0>"
      ]
     },
     "execution_count": 98,
     "metadata": {},
     "output_type": "execute_result"
    }
   ],
   "source": [
    "model = tf.keras.models.Sequential([\n",
    "    tf.keras.layers.LSTM(100, input_shape=[None, 1],return_sequences=True),\n",
    "    tf.keras.layers.LSTM(100),\n",
    "    tf.keras.layers.Dense(1)\n",
    "])\n",
    "\n",
    "huber = tf.keras.losses.Huber()\n",
    "\n",
    "model.compile(loss=huber, optimizer=tf.keras.optimizers.SGD(learning_rate=1e-6, momentum=0.9))\n",
    "model.fit(dataset, epochs=100, validation_data=test_dataset)"
   ]
  },
  {
   "cell_type": "code",
   "execution_count": 99,
   "id": "49150cdc",
   "metadata": {},
   "outputs": [
    {
     "name": "stdout",
     "output_type": "stream",
     "text": [
      "4/4 [==============================] - 1s 20ms/step\n"
     ]
    }
   ],
   "source": [
    "lstm_forecast = predict_dataset(model, series_scaled[505-24: -1], window_size)\n"
   ]
  },
  {
   "cell_type": "code",
   "execution_count": 100,
   "id": "231df9ca",
   "metadata": {},
   "outputs": [
    {
     "name": "stdout",
     "output_type": "stream",
     "text": [
      "mae :  0.8723170290458563\n",
      "mse :  1.0037110297052145\n"
     ]
    },
    {
     "data": {
      "image/png": "[encoded data removed]",
      "text/plain": [
       "<Figure size 640x480 with 1 Axes>"
      ]
     },
     "metadata": {},
     "output_type": "display_data"
    }
   ],
   "source": [
    "results_lstm = lstm_forecast[:, 0]\n",
    "\n",
    "print(\"mae : \", mean_absolute_error(x_test_scaled, results_lstm))\n",
    "print(\"mse : \", mean_squared_error(x_test_scaled, results_lstm))\n",
    "\n",
    "plt.plot(time_test, x_test_scaled)\n",
    "plt.plot(time_test, results_lstm)\n",
    "plt.xlabel('Temps')\n",
    "plt.ylabel('Temperature')\n",
    "plt.grid(True)\n",
    "plt.show()"
   ]
  },
  {
   "cell_type": "code",
   "execution_count": null,
   "id": "5fe66c2d",
   "metadata": {},
   "outputs": [],
   "source": []
  }
 ],
 "metadata": {
  "kernelspec": {
   "display_name": "Python 3 (ipykernel)",
   "language": "python",
   "name": "python3"
  },
  "language_info": {
   "codemirror_mode": {
    "name": "ipython",
    "version": 3
   },
   "file_extension": ".py",
   "mimetype": "text/x-python",
   "name": "python",
   "nbconvert_exporter": "python",
   "pygments_lexer": "ipython3",
   "version": "3.10.12"
  }
 },
 "nbformat": 4,
 "nbformat_minor": 5
}
