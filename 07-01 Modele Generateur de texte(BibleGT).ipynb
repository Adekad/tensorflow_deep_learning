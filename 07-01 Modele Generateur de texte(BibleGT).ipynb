{
 "cells": [
  {
   "cell_type": "code",
   "execution_count": 1,
   "id": "3d8238b3",
   "metadata": {},
   "outputs": [],
   "source": [
    "folder = \"../data_deep_learning/Bible_fr.txt\"\n"
   ]
  },
  {
   "cell_type": "code",
   "execution_count": 2,
   "id": "b7cdbb67",
   "metadata": {},
   "outputs": [],
   "source": [
    "with open(folder, \"r\") as f:\n",
    "    lines = f.readlines()"
   ]
  },
  {
   "cell_type": "code",
   "execution_count": 3,
   "id": "0b962bb0",
   "metadata": {},
   "outputs": [
    {
     "data": {
      "text/plain": [
       "41899"
      ]
     },
     "execution_count": 3,
     "metadata": {},
     "output_type": "execute_result"
    }
   ],
   "source": [
    "len(lines)"
   ]
  },
  {
   "cell_type": "code",
   "execution_count": 4,
   "id": "b08da7e9",
   "metadata": {},
   "outputs": [
    {
     "data": {
      "text/plain": [
       "'\\n'"
      ]
     },
     "execution_count": 4,
     "metadata": {},
     "output_type": "execute_result"
    }
   ],
   "source": [
    "lines[41898]"
   ]
  },
  {
   "cell_type": "code",
   "execution_count": 5,
   "id": "d2ff95e9",
   "metadata": {},
   "outputs": [
    {
     "data": {
      "text/plain": [
       "'L’Éternel Dieu prit l’homme, et le plaça dans le jardin d’Éden pour le cultiver et pour le garder.\\n'"
      ]
     },
     "execution_count": 5,
     "metadata": {},
     "output_type": "execute_result"
    }
   ],
   "source": [
    "lines[45]"
   ]
  },
  {
   "cell_type": "markdown",
   "id": "664fb7d2",
   "metadata": {},
   "source": [
    "### Nettoyage du corpus"
   ]
  },
  {
   "cell_type": "code",
   "execution_count": 6,
   "id": "5bf5e9ec",
   "metadata": {},
   "outputs": [],
   "source": [
    "corpus = []\n",
    "\n",
    "for line in lines:\n",
    "    line = line.split(\"\\n\")[0]\n",
    "    line = line.lower()\n",
    "    if line:\n",
    "        corpus.append(line)\n",
    "    "
   ]
  },
  {
   "cell_type": "code",
   "execution_count": 7,
   "id": "34fb087c",
   "metadata": {},
   "outputs": [
    {
     "data": {
      "text/plain": [
       "31055"
      ]
     },
     "execution_count": 7,
     "metadata": {},
     "output_type": "execute_result"
    }
   ],
   "source": [
    "len(corpus)"
   ]
  },
  {
   "cell_type": "code",
   "execution_count": 8,
   "id": "9b8d5ff6",
   "metadata": {},
   "outputs": [],
   "source": [
    "corpus = corpus[:7000]"
   ]
  },
  {
   "cell_type": "markdown",
   "id": "accec4f7",
   "metadata": {},
   "source": [
    "### Tokenisation"
   ]
  },
  {
   "cell_type": "code",
   "execution_count": 9,
   "id": "77b7d4cb",
   "metadata": {},
   "outputs": [
    {
     "data": {
      "text/plain": [
       "'l’éternel dieu prit l’homme, et le plaça dans le jardin d’éden pour le cultiver et pour le garder.'"
      ]
     },
     "execution_count": 9,
     "metadata": {},
     "output_type": "execute_result"
    }
   ],
   "source": [
    "corpus[45]"
   ]
  },
  {
   "cell_type": "code",
   "execution_count": 10,
   "id": "2bc42663",
   "metadata": {},
   "outputs": [
    {
     "name": "stderr",
     "output_type": "stream",
     "text": [
      "2024-02-07 16:31:37.872279: I tensorflow/core/platform/cpu_feature_guard.cc:193] This TensorFlow binary is optimized with oneAPI Deep Neural Network Library (oneDNN) to use the following CPU instructions in performance-critical operations:  AVX2 FMA\n",
      "To enable them in other operations, rebuild TensorFlow with the appropriate compiler flags.\n",
      "2024-02-07 16:31:43.839022: W tensorflow/compiler/xla/stream_executor/platform/default/dso_loader.cc:64] Could not load dynamic library 'libcudart.so.11.0'; dlerror: libcudart.so.11.0: cannot open shared object file: No such file or directory\n",
      "2024-02-07 16:31:43.839089: I tensorflow/compiler/xla/stream_executor/cuda/cudart_stub.cc:29] Ignore above cudart dlerror if you do not have a GPU set up on your machine.\n",
      "2024-02-07 16:31:59.895571: W tensorflow/compiler/xla/stream_executor/platform/default/dso_loader.cc:64] Could not load dynamic library 'libnvinfer.so.7'; dlerror: libnvinfer.so.7: cannot open shared object file: No such file or directory\n",
      "2024-02-07 16:31:59.896160: W tensorflow/compiler/xla/stream_executor/platform/default/dso_loader.cc:64] Could not load dynamic library 'libnvinfer_plugin.so.7'; dlerror: libnvinfer_plugin.so.7: cannot open shared object file: No such file or directory\n",
      "2024-02-07 16:31:59.896216: W tensorflow/compiler/tf2tensorrt/utils/py_utils.cc:38] TF-TRT Warning: Cannot dlopen some TensorRT libraries. If you would like to use Nvidia GPU with TensorRT, please make sure the missing libraries mentioned above are installed properly.\n"
     ]
    }
   ],
   "source": [
    "from tensorflow.keras.preprocessing.text import Tokenizer\n",
    "tokenizer = Tokenizer()"
   ]
  },
  {
   "cell_type": "code",
   "execution_count": 11,
   "id": "7f7a5bb9",
   "metadata": {},
   "outputs": [
    {
     "data": {
      "text/plain": [
       "7000"
      ]
     },
     "execution_count": 11,
     "metadata": {},
     "output_type": "execute_result"
    }
   ],
   "source": [
    "len(corpus)"
   ]
  },
  {
   "cell_type": "code",
   "execution_count": 12,
   "id": "e5b2453e",
   "metadata": {},
   "outputs": [],
   "source": [
    "tokenizer.fit_on_texts(corpus)"
   ]
  },
  {
   "cell_type": "code",
   "execution_count": 15,
   "id": "6818a9c5",
   "metadata": {},
   "outputs": [
    {
     "data": {
      "text/plain": [
       "9420"
      ]
     },
     "execution_count": 15,
     "metadata": {},
     "output_type": "execute_result"
    }
   ],
   "source": [
    "len(tokenizer.word_index)"
   ]
  },
  {
   "cell_type": "code",
   "execution_count": 16,
   "id": "b8e8939d",
   "metadata": {},
   "outputs": [],
   "source": [
    "seq = tokenizer.texts_to_sequences([corpus[3]])[0]"
   ]
  },
  {
   "cell_type": "code",
   "execution_count": 17,
   "id": "697026b3",
   "metadata": {},
   "outputs": [
    {
     "data": {
      "text/plain": [
       "[27, 279, 10, 4, 1840, 78, 1102, 1, 27, 2660, 4, 1840, 2284, 5, 1542]"
      ]
     },
     "execution_count": 17,
     "metadata": {},
     "output_type": "execute_result"
    }
   ],
   "source": [
    "seq"
   ]
  },
  {
   "cell_type": "code",
   "execution_count": 20,
   "id": "47fa65bf",
   "metadata": {},
   "outputs": [
    {
     "name": "stdout",
     "output_type": "stream",
     "text": [
      "[27, 279]\n",
      "[27, 279, 10]\n",
      "[27, 279, 10, 4]\n",
      "[27, 279, 10, 4, 1840]\n",
      "[27, 279, 10, 4, 1840, 78]\n",
      "[27, 279, 10, 4, 1840, 78, 1102]\n",
      "[27, 279, 10, 4, 1840, 78, 1102, 1]\n",
      "[27, 279, 10, 4, 1840, 78, 1102, 1, 27]\n",
      "[27, 279, 10, 4, 1840, 78, 1102, 1, 27, 2660]\n",
      "[27, 279, 10, 4, 1840, 78, 1102, 1, 27, 2660, 4]\n",
      "[27, 279, 10, 4, 1840, 78, 1102, 1, 27, 2660, 4, 1840]\n",
      "[27, 279, 10, 4, 1840, 78, 1102, 1, 27, 2660, 4, 1840, 2284]\n",
      "[27, 279, 10, 4, 1840, 78, 1102, 1, 27, 2660, 4, 1840, 2284, 5]\n",
      "[27, 279, 10, 4, 1840, 78, 1102, 1, 27, 2660, 4, 1840, 2284, 5, 1542]\n"
     ]
    }
   ],
   "source": [
    "for i in range(1, len(seq)):\n",
    "    print(seq[:i+1])"
   ]
  },
  {
   "cell_type": "code",
   "execution_count": 13,
   "id": "73e4627d",
   "metadata": {},
   "outputs": [],
   "source": [
    "sequences = tokenizer.texts_to_sequences(corpus)"
   ]
  },
  {
   "cell_type": "code",
   "execution_count": 14,
   "id": "844d72f1",
   "metadata": {},
   "outputs": [],
   "source": [
    "input_sequences = []\n",
    "\n",
    "for seq in sequences:\n",
    "    for i in range(1, len(seq)):\n",
    "        data_line = seq[:i+1]\n",
    "        input_sequences.append(data_line)"
   ]
  },
  {
   "cell_type": "code",
   "execution_count": 15,
   "id": "f80538ad",
   "metadata": {},
   "outputs": [
    {
     "data": {
      "text/plain": [
       "163770"
      ]
     },
     "execution_count": 15,
     "metadata": {},
     "output_type": "execute_result"
    }
   ],
   "source": [
    "len(input_sequences)"
   ]
  },
  {
   "cell_type": "code",
   "execution_count": 16,
   "id": "16adfc94",
   "metadata": {},
   "outputs": [
    {
     "data": {
      "text/plain": [
       "66"
      ]
     },
     "execution_count": 16,
     "metadata": {},
     "output_type": "execute_result"
    }
   ],
   "source": [
    "max([len(x) for x in input_sequences])"
   ]
  },
  {
   "cell_type": "code",
   "execution_count": 21,
   "id": "eddfeb5f",
   "metadata": {},
   "outputs": [
    {
     "data": {
      "text/plain": [
       "[[29, 2046, 27, 1541, 5, 549, 1, 4, 91],\n",
       " [4, 91],\n",
       " [4, 91, 78],\n",
       " [4, 91, 78, 5561],\n",
       " [4, 91, 78, 5561, 1]]"
      ]
     },
     "execution_count": 21,
     "metadata": {},
     "output_type": "execute_result"
    }
   ],
   "source": [
    "input_sequences[7: 12] # [7: 12] 7 à 12"
   ]
  },
  {
   "cell_type": "code",
   "execution_count": 17,
   "id": "4b1f1e99",
   "metadata": {},
   "outputs": [],
   "source": [
    "from tensorflow.keras.preprocessing.sequence import pad_sequences"
   ]
  },
  {
   "cell_type": "code",
   "execution_count": 24,
   "id": "3ac81dce",
   "metadata": {},
   "outputs": [],
   "source": [
    "input_sequences = pad_sequences(input_sequences, \n",
    "              padding=\"pre\", \n",
    "              maxlen=66)"
   ]
  },
  {
   "cell_type": "code",
   "execution_count": 25,
   "id": "81379b1d",
   "metadata": {},
   "outputs": [
    {
     "data": {
      "text/plain": [
       "array([[   0,    0,    0,    0,    0,    0,    0,    0,    0,    0,    0,\n",
       "           0,    0,    0,    0,    0,    0,    0,    0,    0,    0,    0,\n",
       "           0,    0,    0,    0,    0,    0,    0,    0,    0,    0,    0,\n",
       "           0,    0,    0,    0,    0,    0,    0,    0,    0,    0,    0,\n",
       "           0,    0,    0,    0,    0,    0,    0,    0,    0,    0,    0,\n",
       "           0,    0,   29, 2046,   27, 1541,    5,  549,    1,    4,   91],\n",
       "       [   0,    0,    0,    0,    0,    0,    0,    0,    0,    0,    0,\n",
       "           0,    0,    0,    0,    0,    0,    0,    0,    0,    0,    0,\n",
       "           0,    0,    0,    0,    0,    0,    0,    0,    0,    0,    0,\n",
       "           0,    0,    0,    0,    0,    0,    0,    0,    0,    0,    0,\n",
       "           0,    0,    0,    0,    0,    0,    0,    0,    0,    0,    0,\n",
       "           0,    0,    0,    0,    0,    0,    0,    0,    0,    4,   91],\n",
       "       [   0,    0,    0,    0,    0,    0,    0,    0,    0,    0,    0,\n",
       "           0,    0,    0,    0,    0,    0,    0,    0,    0,    0,    0,\n",
       "           0,    0,    0,    0,    0,    0,    0,    0,    0,    0,    0,\n",
       "           0,    0,    0,    0,    0,    0,    0,    0,    0,    0,    0,\n",
       "           0,    0,    0,    0,    0,    0,    0,    0,    0,    0,    0,\n",
       "           0,    0,    0,    0,    0,    0,    0,    0,    4,   91,   78],\n",
       "       [   0,    0,    0,    0,    0,    0,    0,    0,    0,    0,    0,\n",
       "           0,    0,    0,    0,    0,    0,    0,    0,    0,    0,    0,\n",
       "           0,    0,    0,    0,    0,    0,    0,    0,    0,    0,    0,\n",
       "           0,    0,    0,    0,    0,    0,    0,    0,    0,    0,    0,\n",
       "           0,    0,    0,    0,    0,    0,    0,    0,    0,    0,    0,\n",
       "           0,    0,    0,    0,    0,    0,    0,    4,   91,   78, 5561],\n",
       "       [   0,    0,    0,    0,    0,    0,    0,    0,    0,    0,    0,\n",
       "           0,    0,    0,    0,    0,    0,    0,    0,    0,    0,    0,\n",
       "           0,    0,    0,    0,    0,    0,    0,    0,    0,    0,    0,\n",
       "           0,    0,    0,    0,    0,    0,    0,    0,    0,    0,    0,\n",
       "           0,    0,    0,    0,    0,    0,    0,    0,    0,    0,    0,\n",
       "           0,    0,    0,    0,    0,    0,    4,   91,   78, 5561,    1]],\n",
       "      dtype=int32)"
      ]
     },
     "execution_count": 25,
     "metadata": {},
     "output_type": "execute_result"
    }
   ],
   "source": [
    "input_sequences[7: 12]"
   ]
  },
  {
   "cell_type": "markdown",
   "id": "4a3f852e",
   "metadata": {},
   "source": [
    "### Creating x_train et y_train"
   ]
  },
  {
   "cell_type": "code",
   "execution_count": 26,
   "id": "949a6510",
   "metadata": {},
   "outputs": [
    {
     "data": {
      "text/plain": [
       "(163770, 66)"
      ]
     },
     "execution_count": 26,
     "metadata": {},
     "output_type": "execute_result"
    }
   ],
   "source": [
    "input_sequences.shape"
   ]
  },
  {
   "cell_type": "code",
   "execution_count": 27,
   "id": "4026ae51",
   "metadata": {},
   "outputs": [],
   "source": [
    "x_train = input_sequences[:, :-1]  # numpy array\n",
    "y_train = input_sequences[:, -1]  # numpy array"
   ]
  },
  {
   "cell_type": "code",
   "execution_count": 40,
   "id": "60b56515",
   "metadata": {},
   "outputs": [
    {
     "data": {
      "text/plain": [
       "((163770, 65), (163770,))"
      ]
     },
     "execution_count": 40,
     "metadata": {},
     "output_type": "execute_result"
    }
   ],
   "source": [
    "x_train.shape, y_train.shape"
   ]
  },
  {
   "cell_type": "code",
   "execution_count": 39,
   "id": "b670fc03",
   "metadata": {},
   "outputs": [
    {
     "data": {
      "text/plain": [
       "array([[   0,    0,    0, ...,    0,    0,   29],\n",
       "       [   0,    0,    0, ...,    0,   29, 2046],\n",
       "       [   0,    0,    0, ...,   29, 2046,   27],\n",
       "       ...,\n",
       "       [   0,    0,    0, ..., 1372,   41,   24],\n",
       "       [   0,    0,    0, ...,   41,   24,   10],\n",
       "       [   0,    0,    0, ...,   24,   10,  475]], dtype=int32)"
      ]
     },
     "execution_count": 39,
     "metadata": {},
     "output_type": "execute_result"
    }
   ],
   "source": [
    "x_train"
   ]
  },
  {
   "cell_type": "code",
   "execution_count": 36,
   "id": "0acd166f",
   "metadata": {},
   "outputs": [
    {
     "data": {
      "text/plain": [
       "array([2046,   27, 1541, ...,   10,  475,   11], dtype=int32)"
      ]
     },
     "execution_count": 36,
     "metadata": {},
     "output_type": "execute_result"
    }
   ],
   "source": [
    "y_train"
   ]
  },
  {
   "cell_type": "code",
   "execution_count": 41,
   "id": "59999703",
   "metadata": {},
   "outputs": [],
   "source": [
    "import tensorflow as tf"
   ]
  },
  {
   "cell_type": "code",
   "execution_count": 42,
   "id": "7192c3b0",
   "metadata": {},
   "outputs": [
    {
     "data": {
      "text/plain": [
       "array([[0., 0., 0., 0., 1.],\n",
       "       [0., 0., 1., 0., 0.],\n",
       "       [0., 1., 0., 0., 0.]], dtype=float32)"
      ]
     },
     "execution_count": 42,
     "metadata": {},
     "output_type": "execute_result"
    }
   ],
   "source": [
    "tf.keras.utils.to_categorical([4, 2, 1])"
   ]
  },
  {
   "cell_type": "code",
   "execution_count": 43,
   "id": "21caf777",
   "metadata": {},
   "outputs": [],
   "source": [
    "# One Hot Encoding\n",
    "y_train = tf.keras.utils.to_categorical(y_train)"
   ]
  },
  {
   "cell_type": "code",
   "execution_count": 44,
   "id": "edb61c02",
   "metadata": {},
   "outputs": [
    {
     "data": {
      "text/plain": [
       "(163770, 9421)"
      ]
     },
     "execution_count": 44,
     "metadata": {},
     "output_type": "execute_result"
    }
   ],
   "source": [
    "y_train.shape"
   ]
  },
  {
   "cell_type": "markdown",
   "id": "07f4aaa5",
   "metadata": {},
   "source": [
    "### Modeling"
   ]
  },
  {
   "cell_type": "code",
   "execution_count": 45,
   "id": "2ae4fee8",
   "metadata": {},
   "outputs": [],
   "source": [
    "import numpy as np"
   ]
  },
  {
   "cell_type": "code",
   "execution_count": 46,
   "id": "a7415463",
   "metadata": {},
   "outputs": [
    {
     "data": {
      "text/plain": [
       "9.851996546912787"
      ]
     },
     "execution_count": 46,
     "metadata": {},
     "output_type": "execute_result"
    }
   ],
   "source": [
    "vocab_size = 9421\n",
    "embedding_dim = np.power(vocab_size, 1/4)"
   ]
  },
  {
   "cell_type": "code",
   "execution_count": 48,
   "id": "eb4be993",
   "metadata": {},
   "outputs": [],
   "source": [
    "embedding_dim = 10"
   ]
  },
  {
   "cell_type": "code",
   "execution_count": 49,
   "id": "aa8b23f7",
   "metadata": {},
   "outputs": [],
   "source": [
    "model = tf.keras.models.Sequential(\n",
    "    [\n",
    "        tf.keras.layers.Embedding(vocab_size, embedding_dim),\n",
    "        tf.keras.layers.Bidirectional(tf.keras.layers.LSTM(16)), \n",
    "        tf.keras.layers.Dense(vocab_size, activation='softmax') # Une classification sur chacun des mots de vocab_size\n",
    "        # Un peu comme sur le Fashion MNIST ou on devait prédire 9classes(labels)\n",
    "    ]\n",
    ")\n",
    "\n",
    "model.compile(optimizer=\"adam\", loss=\"categorical_crossentropy\", metrics=[\"accuracy\"])"
   ]
  },
  {
   "cell_type": "code",
   "execution_count": 50,
   "id": "7618ec4e",
   "metadata": {},
   "outputs": [
    {
     "name": "stdout",
     "output_type": "stream",
     "text": [
      "Model: \"sequential_1\"\n",
      "_________________________________________________________________\n",
      " Layer (type)                Output Shape              Param #   \n",
      "=================================================================\n",
      " embedding_1 (Embedding)     (None, None, 10)          94210     \n",
      "                                                                 \n",
      " bidirectional_1 (Bidirectio  (None, 32)               3456      \n",
      " nal)                                                            \n",
      "                                                                 \n",
      " dense_1 (Dense)             (None, 9421)              310893    \n",
      "                                                                 \n",
      "=================================================================\n",
      "Total params: 408,559\n",
      "Trainable params: 408,559\n",
      "Non-trainable params: 0\n",
      "_________________________________________________________________\n"
     ]
    }
   ],
   "source": [
    "model.summary()"
   ]
  },
  {
   "cell_type": "code",
   "execution_count": null,
   "id": "089e1706",
   "metadata": {},
   "outputs": [],
   "source": [
    "h = model.fit(x_train, y_train, epochs=20)"
   ]
  },
  {
   "cell_type": "code",
   "execution_count": null,
   "id": "d975f51e",
   "metadata": {},
   "outputs": [],
   "source": []
  },
  {
   "cell_type": "code",
   "execution_count": null,
   "id": "6edd432a",
   "metadata": {},
   "outputs": [],
   "source": []
  }
 ],
 "metadata": {
  "kernelspec": {
   "display_name": "Python 3 (ipykernel)",
   "language": "python",
   "name": "python3"
  },
  "language_info": {
   "codemirror_mode": {
    "name": "ipython",
    "version": 3
   },
   "file_extension": ".py",
   "mimetype": "text/x-python",
   "name": "python",
   "nbconvert_exporter": "python",
   "pygments_lexer": "ipython3",
   "version": "3.10.12"
  }
 },
 "nbformat": 4,
 "nbformat_minor": 5
}
