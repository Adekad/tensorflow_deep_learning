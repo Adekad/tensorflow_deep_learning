{
 "cells": [
  {
   "cell_type": "code",
   "execution_count": 1,
   "id": "768d89c5",
   "metadata": {},
   "outputs": [],
   "source": [
    "import pandas as pd\n",
    "import numpy as np"
   ]
  },
  {
   "cell_type": "code",
   "execution_count": 2,
   "id": "2f1e65a4",
   "metadata": {},
   "outputs": [],
   "source": [
    "def erreur(x, w, y):\n",
    "  y_model = model(x, w)\n",
    "\n",
    "  distance = (y - y_model) **2\n",
    "\n",
    "  return np.sum(distance)"
   ]
  },
  {
   "cell_type": "code",
   "execution_count": 3,
   "id": "a6bbcd5e",
   "metadata": {},
   "outputs": [],
   "source": [
    "#  Nouvelle erreur\n",
    "def erreur(X, W, Y, B):\n",
    "    \n",
    "    M = np.dot(X, W)  \n",
    "    P = M + B\n",
    "    L = np.mean((Y - P) **2)\n",
    "    \n",
    "    return L\n",
    "    "
   ]
  },
  {
   "cell_type": "code",
   "execution_count": 4,
   "id": "fb431a74",
   "metadata": {},
   "outputs": [],
   "source": [
    "X = np.array([\n",
    "    [2, 3, -2],\n",
    "    [4, 5, -1],\n",
    "    [-5, 2, 3],\n",
    "    [0, 5, 4]\n",
    "])"
   ]
  },
  {
   "cell_type": "code",
   "execution_count": 5,
   "id": "82f6bcb8",
   "metadata": {},
   "outputs": [],
   "source": [
    "Y = np.array([\n",
    "    [2],\n",
    "    [5],\n",
    "    [6],\n",
    "    [3]\n",
    "])"
   ]
  },
  {
   "cell_type": "code",
   "execution_count": 6,
   "id": "3e985cbc",
   "metadata": {},
   "outputs": [
    {
     "data": {
      "text/plain": [
       "(4, 1)"
      ]
     },
     "execution_count": 6,
     "metadata": {},
     "output_type": "execute_result"
    }
   ],
   "source": [
    "Y.shape"
   ]
  },
  {
   "cell_type": "code",
   "execution_count": 7,
   "id": "46c7fc31",
   "metadata": {},
   "outputs": [],
   "source": [
    "W = np.array([\n",
    "    [0.02],\n",
    "    [18],\n",
    "    [15]\n",
    "])"
   ]
  },
  {
   "cell_type": "code",
   "execution_count": 8,
   "id": "05861eb1",
   "metadata": {},
   "outputs": [
    {
     "data": {
      "text/plain": [
       "(3, 1)"
      ]
     },
     "execution_count": 8,
     "metadata": {},
     "output_type": "execute_result"
    }
   ],
   "source": [
    "W.shape"
   ]
  },
  {
   "cell_type": "code",
   "execution_count": 9,
   "id": "069fbffb",
   "metadata": {},
   "outputs": [],
   "source": [
    "B = 0.5"
   ]
  },
  {
   "cell_type": "code",
   "execution_count": 10,
   "id": "38d3188c",
   "metadata": {},
   "outputs": [
    {
     "data": {
      "text/plain": [
       "8232.7495"
      ]
     },
     "execution_count": 10,
     "metadata": {},
     "output_type": "execute_result"
    }
   ],
   "source": [
    "erreur(X, W , Y, B)"
   ]
  },
  {
   "cell_type": "code",
   "execution_count": 11,
   "id": "6ad165cd",
   "metadata": {},
   "outputs": [],
   "source": [
    "params = {\"W\": W, \"B\": B}"
   ]
  },
  {
   "cell_type": "code",
   "execution_count": 12,
   "id": "f5be82ab",
   "metadata": {},
   "outputs": [],
   "source": [
    "#  Nouvelle erreur\n",
    "def erreur(X, Y, para):\n",
    "    \n",
    "    info = {}\n",
    "    \n",
    "    M = np.dot(X, para[\"W\"]) \n",
    "    info[\"M\"] = M\n",
    "    \n",
    "    P = M + para[\"B\"]\n",
    "    info[\"P\"] = P\n",
    "    \n",
    "    L = np.mean((Y - P) **2)\n",
    "    \n",
    "    info[\"X\"] = X\n",
    "    info[\"Y\"] = Y\n",
    "    \n",
    "    return L, info\n",
    "    "
   ]
  },
  {
   "cell_type": "code",
   "execution_count": 13,
   "id": "0606977a",
   "metadata": {},
   "outputs": [],
   "source": [
    "loss, info = erreur(X, Y, params)"
   ]
  },
  {
   "cell_type": "code",
   "execution_count": 14,
   "id": "5979298a",
   "metadata": {},
   "outputs": [
    {
     "data": {
      "text/plain": [
       "8232.7495"
      ]
     },
     "execution_count": 14,
     "metadata": {},
     "output_type": "execute_result"
    }
   ],
   "source": [
    "loss"
   ]
  },
  {
   "cell_type": "code",
   "execution_count": 15,
   "id": "37995b0f",
   "metadata": {},
   "outputs": [
    {
     "data": {
      "text/plain": [
       "{'M': array([[ 24.04],\n",
       "        [ 75.08],\n",
       "        [ 80.9 ],\n",
       "        [150.  ]]),\n",
       " 'P': array([[ 24.54],\n",
       "        [ 75.58],\n",
       "        [ 81.4 ],\n",
       "        [150.5 ]]),\n",
       " 'X': array([[ 2,  3, -2],\n",
       "        [ 4,  5, -1],\n",
       "        [-5,  2,  3],\n",
       "        [ 0,  5,  4]]),\n",
       " 'Y': array([[2],\n",
       "        [5],\n",
       "        [6],\n",
       "        [3]])}"
      ]
     },
     "execution_count": 15,
     "metadata": {},
     "output_type": "execute_result"
    }
   ],
   "source": [
    "info"
   ]
  },
  {
   "cell_type": "code",
   "execution_count": null,
   "id": "f69b3400",
   "metadata": {},
   "outputs": [],
   "source": [
    "#  Juste pour voir et comparer avec gradient\n",
    "def erreur(X, Y, para):\n",
    "    \n",
    "    info = {}\n",
    "    \n",
    "    M = np.dot(X, para[\"W\"]) \n",
    "    info[\"M\"] = M\n",
    "    \n",
    "    P = M + para[\"B\"]\n",
    "    info[\"P\"] = P\n",
    "    \n",
    "    L = np.mean((Y - P) **2)\n",
    "    \n",
    "    info[\"X\"] = X\n",
    "    info[\"Y\"] = Y\n",
    "    \n",
    "    return L, info\n",
    "    "
   ]
  },
  {
   "cell_type": "code",
   "execution_count": 16,
   "id": "83293fb2",
   "metadata": {},
   "outputs": [],
   "source": [
    "def gradient(info, params):  # La fonction gradient sert à identifier dans quel sens(réduire ou augmenter) trouver le bon le poids W et le Biais B\n",
    "    #  Application de la regle Chain Rule (la dérivé d'une fonction composée est la dérivée successive des fonctions qui la composent)\n",
    "    grads = {}\n",
    "    \n",
    "    dL_dP = -2 * (info['Y'] - info['P'])  # (4,1)\n",
    "    dP_dM = 1  #  (1,)\n",
    "    dM_dW = info['X'].T  #  (3,4)\n",
    "    \n",
    "    dL_dW = np.dot(dM_dW, dL_dP) * dP_dM\n",
    "    grads['W'] = dL_dW\n",
    "    \n",
    "    dP_dB = 1\n",
    "    \n",
    "    dL_dB = dL_dP * dP_dB  # (4, 1) * 1\n",
    "    \n",
    "    dL_dB = np.sum(dL_dB)\n",
    "    grads['B'] = dL_dB\n",
    "    \n",
    "    return grads\n",
    "        "
   ]
  },
  {
   "cell_type": "code",
   "execution_count": 17,
   "id": "da21a350",
   "metadata": {},
   "outputs": [],
   "source": [
    "grads = gradient(info, params)"
   ]
  },
  {
   "cell_type": "code",
   "execution_count": 18,
   "id": "5cab4e69",
   "metadata": {},
   "outputs": [
    {
     "data": {
      "text/plain": [
       "{'W': array([[ 0.02],\n",
       "        [18.  ],\n",
       "        [15.  ]]),\n",
       " 'B': 0.5}"
      ]
     },
     "execution_count": 18,
     "metadata": {},
     "output_type": "execute_result"
    }
   ],
   "source": [
    "params"
   ]
  },
  {
   "cell_type": "code",
   "execution_count": 19,
   "id": "e6967baa",
   "metadata": {},
   "outputs": [
    {
     "data": {
      "text/plain": [
       "{'W': array([[ -99.2 ],\n",
       "        [2617.64],\n",
       "        [1401.08]]),\n",
       " 'B': 632.04}"
      ]
     },
     "execution_count": 19,
     "metadata": {},
     "output_type": "execute_result"
    }
   ],
   "source": [
    "grads"
   ]
  },
  {
   "cell_type": "code",
   "execution_count": 20,
   "id": "f6249af3",
   "metadata": {},
   "outputs": [],
   "source": [
    "params['W'] = params['W'] - 0.01 * grads['W']\n",
    "params['B'] = params['B'] - 0.01 * grads['B']\n"
   ]
  },
  {
   "cell_type": "code",
   "execution_count": 21,
   "id": "5ea5e1ea",
   "metadata": {},
   "outputs": [
    {
     "data": {
      "text/plain": [
       "{'W': array([[ 1.012 ],\n",
       "        [-8.1764],\n",
       "        [ 0.9892]]),\n",
       " 'B': -5.820399999999999}"
      ]
     },
     "execution_count": 21,
     "metadata": {},
     "output_type": "execute_result"
    }
   ],
   "source": [
    "params"
   ]
  },
  {
   "cell_type": "code",
   "execution_count": 22,
   "id": "bbb0a561",
   "metadata": {},
   "outputs": [
    {
     "data": {
      "text/plain": [
       "1604.6036749200002"
      ]
     },
     "execution_count": 22,
     "metadata": {},
     "output_type": "execute_result"
    }
   ],
   "source": [
    "new_loss, info = erreur(X, Y, params)\n",
    "new_loss"
   ]
  },
  {
   "cell_type": "code",
   "execution_count": 23,
   "id": "660bd081",
   "metadata": {},
   "outputs": [],
   "source": [
    "learning_rate = 0.01\n",
    "\n",
    "for p in params:\n",
    "    params[p] = params[p] - learning_rate * grads[p]"
   ]
  },
  {
   "cell_type": "code",
   "execution_count": 24,
   "id": "f3a4493c",
   "metadata": {},
   "outputs": [],
   "source": [
    "def train(X, Y, params, epoch, learning_rate):  # Entrainer notre modele sur plusieur epoch\n",
    "    error = []\n",
    "    for i in range(epoch):        \n",
    "        # Forward\n",
    "        loss, info = erreur(X, Y, params)\n",
    "        error.append(loss)\n",
    "        print(f'Epoch {i+1}......... loss : {loss}')\n",
    "        \n",
    "        # Backward\n",
    "        grads = gradient(info, params)\n",
    "        \n",
    "        # Update        \n",
    "        for p in params:\n",
    "            params[p] = params[p] - learning_rate * grads[p]\n",
    "            \n",
    "    return params, error "
   ]
  },
  {
   "cell_type": "code",
   "execution_count": 25,
   "id": "b1fe6b35",
   "metadata": {},
   "outputs": [
    {
     "data": {
      "text/plain": [
       "array([[ 2,  3, -2],\n",
       "       [ 4,  5, -1],\n",
       "       [-5,  2,  3],\n",
       "       [ 0,  5,  4]])"
      ]
     },
     "execution_count": 25,
     "metadata": {},
     "output_type": "execute_result"
    }
   ],
   "source": [
    "X"
   ]
  },
  {
   "cell_type": "code",
   "execution_count": 26,
   "id": "2e07d89f",
   "metadata": {},
   "outputs": [
    {
     "data": {
      "text/plain": [
       "array([[2],\n",
       "       [5],\n",
       "       [6],\n",
       "       [3]])"
      ]
     },
     "execution_count": 26,
     "metadata": {},
     "output_type": "execute_result"
    }
   ],
   "source": [
    "Y"
   ]
  },
  {
   "cell_type": "code",
   "execution_count": 32,
   "id": "09294099",
   "metadata": {},
   "outputs": [
    {
     "name": "stdout",
     "output_type": "stream",
     "text": [
      "Epoch 1......... loss : 1.073135838760768\n",
      "Epoch 2......... loss : 1.0727209847479504\n",
      "Epoch 3......... loss : 1.0723062911098455\n",
      "Epoch 4......... loss : 1.0718917577844544\n",
      "Epoch 5......... loss : 1.0714773847098058\n",
      "Epoch 6......... loss : 1.0710631718239485\n",
      "Epoch 7......... loss : 1.0706491190649565\n",
      "Epoch 8......... loss : 1.070235226370927\n",
      "Epoch 9......... loss : 1.0698214936799821\n",
      "Epoch 10......... loss : 1.0694079209302694\n",
      "Epoch 11......... loss : 1.0689945080599572\n",
      "Epoch 12......... loss : 1.0685812550072395\n",
      "Epoch 13......... loss : 1.068168161710334\n",
      "Epoch 14......... loss : 1.0677552281074816\n",
      "Epoch 15......... loss : 1.0673424541369474\n",
      "Epoch 16......... loss : 1.0669298397370213\n",
      "Epoch 17......... loss : 1.0665173848460152\n",
      "Epoch 18......... loss : 1.0661050894022677\n",
      "Epoch 19......... loss : 1.06569295334414\n",
      "Epoch 20......... loss : 1.0652809766100126\n",
      "Epoch 21......... loss : 1.0648691591382988\n",
      "Epoch 22......... loss : 1.064457500867427\n",
      "Epoch 23......... loss : 1.0640460017358557\n",
      "Epoch 24......... loss : 1.0636346616820627\n",
      "Epoch 25......... loss : 1.0632234806445517\n",
      "Epoch 26......... loss : 1.0628124585618526\n",
      "Epoch 27......... loss : 1.0624015953725134\n",
      "Epoch 28......... loss : 1.0619908910151101\n",
      "Epoch 29......... loss : 1.0615803454282422\n",
      "Epoch 30......... loss : 1.0611699585505303\n",
      "Epoch 31......... loss : 1.0607597303206213\n",
      "Epoch 32......... loss : 1.0603496606771854\n",
      "Epoch 33......... loss : 1.0599397495589151\n",
      "Epoch 34......... loss : 1.059529996904529\n",
      "Epoch 35......... loss : 1.0591204026527676\n",
      "Epoch 36......... loss : 1.058710966742393\n",
      "Epoch 37......... loss : 1.058301689112196\n",
      "Epoch 38......... loss : 1.0578925697009887\n",
      "Epoch 39......... loss : 1.057483608447605\n",
      "Epoch 40......... loss : 1.0570748052909051\n"
     ]
    }
   ],
   "source": [
    "params, error = train(X, Y, params, epoch=40, learning_rate=0.01)"
   ]
  },
  {
   "cell_type": "code",
   "execution_count": 33,
   "id": "db497708",
   "metadata": {},
   "outputs": [],
   "source": [
    "import matplotlib.pyplot as plt"
   ]
  },
  {
   "cell_type": "code",
   "execution_count": 34,
   "id": "b8792290",
   "metadata": {},
   "outputs": [
    {
     "data": {
      "image/png": "[encoded data removed]",
      "text/plain": [
       "<Figure size 640x480 with 1 Axes>"
      ]
     },
     "metadata": {},
     "output_type": "display_data"
    }
   ],
   "source": [
    "plt.plot(list(range(40)), error)\n",
    "plt.xlabel('Epochs')\n",
    "plt.ylabel('Loss')\n",
    "plt.show()"
   ]
  },
  {
   "cell_type": "code",
   "execution_count": 38,
   "id": "9be2f99a",
   "metadata": {},
   "outputs": [],
   "source": [
    "def predict(X, params):\n",
    "    \n",
    "    M = np.dot(X, params['W'])  \n",
    "    P = M + params['B']\n",
    "    # L = np.mean((Y - P) **2)\n",
    "    \n",
    "    return P"
   ]
  },
  {
   "cell_type": "code",
   "execution_count": 39,
   "id": "7dc69aaf",
   "metadata": {},
   "outputs": [],
   "source": [
    "prediction = predict(X, params)"
   ]
  },
  {
   "cell_type": "code",
   "execution_count": 40,
   "id": "0adf3fbf",
   "metadata": {},
   "outputs": [
    {
     "data": {
      "text/plain": [
       "array([[3.30068906],\n",
       "       [3.69025168],\n",
       "       [5.4659713 ],\n",
       "       [3.73092084]])"
      ]
     },
     "execution_count": 40,
     "metadata": {},
     "output_type": "execute_result"
    }
   ],
   "source": [
    "prediction"
   ]
  },
  {
   "cell_type": "code",
   "execution_count": 41,
   "id": "4769e63b",
   "metadata": {},
   "outputs": [
    {
     "data": {
      "text/plain": [
       "array([[2],\n",
       "       [5],\n",
       "       [6],\n",
       "       [3]])"
      ]
     },
     "execution_count": 41,
     "metadata": {},
     "output_type": "execute_result"
    }
   ],
   "source": [
    "Y"
   ]
  },
  {
   "cell_type": "code",
   "execution_count": null,
   "id": "54a02ea2",
   "metadata": {},
   "outputs": [],
   "source": []
  }
 ],
 "metadata": {
  "kernelspec": {
   "display_name": "Python 3 (ipykernel)",
   "language": "python",
   "name": "python3"
  },
  "language_info": {
   "codemirror_mode": {
    "name": "ipython",
    "version": 3
   },
   "file_extension": ".py",
   "mimetype": "text/x-python",
   "name": "python",
   "nbconvert_exporter": "python",
   "pygments_lexer": "ipython3",
   "version": "3.10.12"
  }
 },
 "nbformat": 4,
 "nbformat_minor": 5
}
