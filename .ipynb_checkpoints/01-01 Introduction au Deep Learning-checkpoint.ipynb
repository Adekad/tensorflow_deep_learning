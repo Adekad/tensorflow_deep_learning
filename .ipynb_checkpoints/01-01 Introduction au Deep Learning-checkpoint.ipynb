{
 "cells": [
  {
   "cell_type": "code",
   "execution_count": null,
   "metadata": {
    "id": "SPUwbC-Xp5cD"
   },
   "outputs": [],
   "source": [
    "import tensorflow as tf\n",
    "from tensorflow.keras.models import Sequential\n",
    "from tensorflow.keras.layers import Dense\n",
    "from tensorflow.keras.optimizers import SGD"
   ]
  },
  {
   "cell_type": "code",
   "execution_count": null,
   "metadata": {
    "id": "6tnFWK2E9bWc"
   },
   "outputs": [],
   "source": [
    "import pandas as pd\n",
    "import numpy as np\n",
    "\n",
    "data_url = \"http://lib.stat.cmu.edu/datasets/boston\"\n",
    "raw_df = pd.read_csv(data_url, sep=\"\\s+\", skiprows=22, header=None)\n",
    "data = np.hstack([raw_df.values[::2, :], raw_df.values[1::2, :2]])\n",
    "target = raw_df.values[1::2, 2]\n",
    "data = data\n",
    "target = target\n",
    "\n",
    "# Scaling the data\n",
    "from sklearn.preprocessing import StandardScaler\n",
    "s = StandardScaler()\n",
    "data = s.fit_transform(data)\n",
    "target = target.reshape((-1, 1))\n",
    "\n",
    "from sklearn.model_selection import train_test_split\n",
    "X_train, X_test, y_train, y_test = train_test_split(data, target, test_size=0.3, random_state=80718)"
   ]
  },
  {
   "cell_type": "code",
   "execution_count": null,
   "metadata": {
    "colab": {
     "base_uri": "https://localhost:8080/"
    },
    "executionInfo": {
     "elapsed": 464,
     "status": "ok",
     "timestamp": 1687224365140,
     "user": {
      "displayName": "Kevin Degila",
      "userId": "02447322191644424226"
     },
     "user_tz": -60
    },
    "id": "7QkFmods-Ax-",
    "outputId": "78c37bad-636d-44a3-ccbd-dbfae0aa35c4"
   },
   "outputs": [
    {
     "data": {
      "text/plain": [
       "(506, 13)"
      ]
     },
     "execution_count": 3,
     "metadata": {},
     "output_type": "execute_result"
    }
   ],
   "source": [
    "data.shape"
   ]
  },
  {
   "cell_type": "code",
   "execution_count": null,
   "metadata": {
    "colab": {
     "base_uri": "https://localhost:8080/"
    },
    "executionInfo": {
     "elapsed": 6405,
     "status": "ok",
     "timestamp": 1687224541984,
     "user": {
      "displayName": "Kevin Degila",
      "userId": "02447322191644424226"
     },
     "user_tz": -60
    },
    "id": "x62VHASR9dzo",
    "outputId": "062994e9-db9a-4911-8e2d-9ddb059a9665"
   },
   "outputs": [
    {
     "name": "stdout",
     "output_type": "stream",
     "text": [
      "Epoch 1/50\n",
      "12/12 [==============================] - 1s 15ms/step - loss: 22.2078 - val_loss: 21.5207\n",
      "Epoch 2/50\n",
      "12/12 [==============================] - 0s 6ms/step - loss: 22.1485 - val_loss: 21.4590\n",
      "Epoch 3/50\n",
      "12/12 [==============================] - 0s 4ms/step - loss: 22.0872 - val_loss: 21.4028\n",
      "Epoch 4/50\n",
      "12/12 [==============================] - 0s 5ms/step - loss: 22.0305 - val_loss: 21.3550\n",
      "Epoch 5/50\n",
      "12/12 [==============================] - 0s 6ms/step - loss: 21.9840 - val_loss: 21.3158\n",
      "Epoch 6/50\n",
      "12/12 [==============================] - 0s 6ms/step - loss: 21.9470 - val_loss: 21.2835\n",
      "Epoch 7/50\n",
      "12/12 [==============================] - 0s 5ms/step - loss: 21.9167 - val_loss: 21.2541\n",
      "Epoch 8/50\n",
      "12/12 [==============================] - 0s 5ms/step - loss: 21.8916 - val_loss: 21.2322\n",
      "Epoch 9/50\n",
      "12/12 [==============================] - 0s 4ms/step - loss: 21.8715 - val_loss: 21.2141\n",
      "Epoch 10/50\n",
      "12/12 [==============================] - 0s 6ms/step - loss: 21.8552 - val_loss: 21.1993\n",
      "Epoch 11/50\n",
      "12/12 [==============================] - 0s 5ms/step - loss: 21.8420 - val_loss: 21.1871\n",
      "Epoch 12/50\n",
      "12/12 [==============================] - 0s 5ms/step - loss: 21.8308 - val_loss: 21.1771\n",
      "Epoch 13/50\n",
      "12/12 [==============================] - 0s 5ms/step - loss: 21.8214 - val_loss: 21.1685\n",
      "Epoch 14/50\n",
      "12/12 [==============================] - 0s 6ms/step - loss: 21.8134 - val_loss: 21.1610\n",
      "Epoch 15/50\n",
      "12/12 [==============================] - 0s 6ms/step - loss: 21.8066 - val_loss: 21.1544\n",
      "Epoch 16/50\n",
      "12/12 [==============================] - 0s 5ms/step - loss: 21.8007 - val_loss: 21.1489\n",
      "Epoch 17/50\n",
      "12/12 [==============================] - 0s 6ms/step - loss: 21.7957 - val_loss: 21.1442\n",
      "Epoch 18/50\n",
      "12/12 [==============================] - 0s 5ms/step - loss: 21.7912 - val_loss: 21.1401\n",
      "Epoch 19/50\n",
      "12/12 [==============================] - 0s 5ms/step - loss: 21.7873 - val_loss: 21.1362\n",
      "Epoch 20/50\n",
      "12/12 [==============================] - 0s 4ms/step - loss: 21.7838 - val_loss: 21.1328\n",
      "Epoch 21/50\n",
      "12/12 [==============================] - 0s 5ms/step - loss: 21.7807 - val_loss: 21.1299\n",
      "Epoch 22/50\n",
      "12/12 [==============================] - 0s 5ms/step - loss: 21.7779 - val_loss: 21.1271\n",
      "Epoch 23/50\n",
      "12/12 [==============================] - 0s 6ms/step - loss: 21.7752 - val_loss: 21.1246\n",
      "Epoch 24/50\n",
      "12/12 [==============================] - 0s 5ms/step - loss: 21.7729 - val_loss: 21.1223\n",
      "Epoch 25/50\n",
      "12/12 [==============================] - 0s 5ms/step - loss: 21.7708 - val_loss: 21.1203\n",
      "Epoch 26/50\n",
      "12/12 [==============================] - 0s 6ms/step - loss: 21.7689 - val_loss: 21.1183\n",
      "Epoch 27/50\n",
      "12/12 [==============================] - 0s 5ms/step - loss: 21.7671 - val_loss: 21.1165\n",
      "Epoch 28/50\n",
      "12/12 [==============================] - 0s 5ms/step - loss: 21.7655 - val_loss: 21.1150\n",
      "Epoch 29/50\n",
      "12/12 [==============================] - 0s 6ms/step - loss: 21.7640 - val_loss: 21.1134\n",
      "Epoch 30/50\n",
      "12/12 [==============================] - 0s 5ms/step - loss: 21.7626 - val_loss: 21.1120\n",
      "Epoch 31/50\n",
      "12/12 [==============================] - 0s 5ms/step - loss: 21.7612 - val_loss: 21.1107\n",
      "Epoch 32/50\n",
      "12/12 [==============================] - 0s 7ms/step - loss: 21.7600 - val_loss: 21.1095\n",
      "Epoch 33/50\n",
      "12/12 [==============================] - 0s 5ms/step - loss: 21.7589 - val_loss: 21.1084\n",
      "Epoch 34/50\n",
      "12/12 [==============================] - 0s 6ms/step - loss: 21.7578 - val_loss: 21.1074\n",
      "Epoch 35/50\n",
      "12/12 [==============================] - 0s 5ms/step - loss: 21.7569 - val_loss: 21.1064\n",
      "Epoch 36/50\n",
      "12/12 [==============================] - 0s 6ms/step - loss: 21.7560 - val_loss: 21.1056\n",
      "Epoch 37/50\n",
      "12/12 [==============================] - 0s 6ms/step - loss: 21.7551 - val_loss: 21.1047\n",
      "Epoch 38/50\n",
      "12/12 [==============================] - 0s 6ms/step - loss: 21.7543 - val_loss: 21.1039\n",
      "Epoch 39/50\n",
      "12/12 [==============================] - 0s 6ms/step - loss: 21.7536 - val_loss: 21.1031\n",
      "Epoch 40/50\n",
      "12/12 [==============================] - 0s 6ms/step - loss: 21.7529 - val_loss: 21.1024\n",
      "Epoch 41/50\n",
      "12/12 [==============================] - 0s 6ms/step - loss: 21.7522 - val_loss: 21.1018\n",
      "Epoch 42/50\n",
      "12/12 [==============================] - 0s 6ms/step - loss: 21.7516 - val_loss: 21.1011\n",
      "Epoch 43/50\n",
      "12/12 [==============================] - 0s 4ms/step - loss: 21.7510 - val_loss: 21.1005\n",
      "Epoch 44/50\n",
      "12/12 [==============================] - 0s 5ms/step - loss: 21.7504 - val_loss: 21.1000\n",
      "Epoch 45/50\n",
      "12/12 [==============================] - 0s 5ms/step - loss: 21.7498 - val_loss: 21.0994\n",
      "Epoch 46/50\n",
      "12/12 [==============================] - 0s 4ms/step - loss: 21.7493 - val_loss: 21.0989\n",
      "Epoch 47/50\n",
      "12/12 [==============================] - 0s 7ms/step - loss: 21.7488 - val_loss: 21.0984\n",
      "Epoch 48/50\n",
      "12/12 [==============================] - 0s 5ms/step - loss: 21.7483 - val_loss: 21.0979\n",
      "Epoch 49/50\n",
      "12/12 [==============================] - 0s 6ms/step - loss: 21.7479 - val_loss: 21.0975\n",
      "Epoch 50/50\n",
      "12/12 [==============================] - 0s 6ms/step - loss: 21.7474 - val_loss: 21.0971\n"
     ]
    }
   ],
   "source": [
    "lr = Sequential([Dense(units=1, activation='relu')])\n",
    "lr.compile(optimizer=SGD(learning_rate=0.1), loss='mse')\n",
    "history = lr.fit(X_train, y_train, epochs=50, validation_data=(X_test, y_test))"
   ]
  },
  {
   "cell_type": "code",
   "execution_count": null,
   "metadata": {
    "colab": {
     "base_uri": "https://localhost:8080/"
    },
    "executionInfo": {
     "elapsed": 8,
     "status": "ok",
     "timestamp": 1687183344200,
     "user": {
      "displayName": "Kevin Degila",
      "userId": "02447322191644424226"
     },
     "user_tz": -60
    },
    "id": "4uI4DG0r9maQ",
    "outputId": "5d3e7375-a9a8-47ac-e0ea-408bb49807bd"
   },
   "outputs": [
    {
     "data": {
      "text/plain": [
       "<keras.engine.sequential.Sequential at 0x7ff5ad75ab90>"
      ]
     },
     "execution_count": 5,
     "metadata": {},
     "output_type": "execute_result"
    }
   ],
   "source": [
    "lr"
   ]
  },
  {
   "cell_type": "markdown",
   "metadata": {
    "id": "G1MdmS3M-qfa"
   },
   "source": [
    "# Premier Exemple d'apprentissage"
   ]
  },
  {
   "cell_type": "code",
   "execution_count": null,
   "metadata": {
    "id": "iaVMzBnv9r2R"
   },
   "outputs": [],
   "source": [
    "import numpy as np\n",
    "import pandas as pd\n",
    "import matplotlib.pyplot as plt"
   ]
  },
  {
   "cell_type": "code",
   "execution_count": null,
   "metadata": {
    "colab": {
     "base_uri": "https://localhost:8080/",
     "height": 112
    },
    "executionInfo": {
     "elapsed": 17,
     "status": "ok",
     "timestamp": 1687184110595,
     "user": {
      "displayName": "Kevin Degila",
      "userId": "02447322191644424226"
     },
     "user_tz": -60
    },
    "id": "AZYcRgDUAaWN",
    "outputId": "90094744-253d-4652-fabf-918d34e58004"
   },
   "outputs": [
    {
     "data": {
      "text/html": [
       "\n",
       "  <div id=\"df-9ad21b93-cd7f-40a3-bae2-525b44b00156\">\n",
       "    <div class=\"colab-df-container\">\n",
       "      <div>\n",
       "<style scoped>\n",
       "    .dataframe tbody tr th:only-of-type {\n",
       "        vertical-align: middle;\n",
       "    }\n",
       "\n",
       "    .dataframe tbody tr th {\n",
       "        vertical-align: top;\n",
       "    }\n",
       "\n",
       "    .dataframe thead th {\n",
       "        text-align: right;\n",
       "    }\n",
       "</style>\n",
       "<table border=\"1\" class=\"dataframe\">\n",
       "  <thead>\n",
       "    <tr style=\"text-align: right;\">\n",
       "      <th></th>\n",
       "      <th>n_chambres</th>\n",
       "      <th>prix</th>\n",
       "    </tr>\n",
       "  </thead>\n",
       "  <tbody>\n",
       "    <tr>\n",
       "      <th>0</th>\n",
       "      <td>2</td>\n",
       "      <td>10</td>\n",
       "    </tr>\n",
       "    <tr>\n",
       "      <th>1</th>\n",
       "      <td>4</td>\n",
       "      <td>20</td>\n",
       "    </tr>\n",
       "  </tbody>\n",
       "</table>\n",
       "</div>\n",
       "      <button class=\"colab-df-convert\" onclick=\"convertToInteractive('df-9ad21b93-cd7f-40a3-bae2-525b44b00156')\"\n",
       "              title=\"Convert this dataframe to an interactive table.\"\n",
       "              style=\"display:none;\">\n",
       "        \n",
       "  <svg xmlns=\"http://www.w3.org/2000/svg\" height=\"24px\"viewBox=\"0 0 24 24\"\n",
       "       width=\"24px\">\n",
       "    <path d=\"M0 0h24v24H0V0z\" fill=\"none\"/>\n",
       "    <path d=\"M18.56 5.44l.94 2.06.94-2.06 2.06-.94-2.06-.94-.94-2.06-.94 2.06-2.06.94zm-11 1L8.5 8.5l.94-2.06 2.06-.94-2.06-.94L8.5 2.5l-.94 2.06-2.06.94zm10 10l.94 2.06.94-2.06 2.06-.94-2.06-.94-.94-2.06-.94 2.06-2.06.94z\"/><path d=\"M17.41 7.96l-1.37-1.37c-.4-.4-.92-.59-1.43-.59-.52 0-1.04.2-1.43.59L10.3 9.45l-7.72 7.72c-.78.78-.78 2.05 0 2.83L4 21.41c.39.39.9.59 1.41.59.51 0 1.02-.2 1.41-.59l7.78-7.78 2.81-2.81c.8-.78.8-2.07 0-2.86zM5.41 20L4 18.59l7.72-7.72 1.47 1.35L5.41 20z\"/>\n",
       "  </svg>\n",
       "      </button>\n",
       "      \n",
       "  <style>\n",
       "    .colab-df-container {\n",
       "      display:flex;\n",
       "      flex-wrap:wrap;\n",
       "      gap: 12px;\n",
       "    }\n",
       "\n",
       "    .colab-df-convert {\n",
       "      background-color: #E8F0FE;\n",
       "      border: none;\n",
       "      border-radius: 50%;\n",
       "      cursor: pointer;\n",
       "      display: none;\n",
       "      fill: #1967D2;\n",
       "      height: 32px;\n",
       "      padding: 0 0 0 0;\n",
       "      width: 32px;\n",
       "    }\n",
       "\n",
       "    .colab-df-convert:hover {\n",
       "      background-color: #E2EBFA;\n",
       "      box-shadow: 0px 1px 2px rgba(60, 64, 67, 0.3), 0px 1px 3px 1px rgba(60, 64, 67, 0.15);\n",
       "      fill: #174EA6;\n",
       "    }\n",
       "\n",
       "    [theme=dark] .colab-df-convert {\n",
       "      background-color: #3B4455;\n",
       "      fill: #D2E3FC;\n",
       "    }\n",
       "\n",
       "    [theme=dark] .colab-df-convert:hover {\n",
       "      background-color: #434B5C;\n",
       "      box-shadow: 0px 1px 3px 1px rgba(0, 0, 0, 0.15);\n",
       "      filter: drop-shadow(0px 1px 2px rgba(0, 0, 0, 0.3));\n",
       "      fill: #FFFFFF;\n",
       "    }\n",
       "  </style>\n",
       "\n",
       "      <script>\n",
       "        const buttonEl =\n",
       "          document.querySelector('#df-9ad21b93-cd7f-40a3-bae2-525b44b00156 button.colab-df-convert');\n",
       "        buttonEl.style.display =\n",
       "          google.colab.kernel.accessAllowed ? 'block' : 'none';\n",
       "\n",
       "        async function convertToInteractive(key) {\n",
       "          const element = document.querySelector('#df-9ad21b93-cd7f-40a3-bae2-525b44b00156');\n",
       "          const dataTable =\n",
       "            await google.colab.kernel.invokeFunction('convertToInteractive',\n",
       "                                                     [key], {});\n",
       "          if (!dataTable) return;\n",
       "\n",
       "          const docLinkHtml = 'Like what you see? Visit the ' +\n",
       "            '<a target=\"_blank\" href=https://colab.research.google.com/notebooks/data_table.ipynb>data table notebook</a>'\n",
       "            + ' to learn more about interactive tables.';\n",
       "          element.innerHTML = '';\n",
       "          dataTable['output_type'] = 'display_data';\n",
       "          await google.colab.output.renderOutput(dataTable, element);\n",
       "          const docLink = document.createElement('div');\n",
       "          docLink.innerHTML = docLinkHtml;\n",
       "          element.appendChild(docLink);\n",
       "        }\n",
       "      </script>\n",
       "    </div>\n",
       "  </div>\n",
       "  "
      ],
      "text/plain": [
       "   n_chambres  prix\n",
       "0           2    10\n",
       "1           4    20"
      ]
     },
     "execution_count": 9,
     "metadata": {},
     "output_type": "execute_result"
    }
   ],
   "source": [
    "data = pd.DataFrame([ {\"n_chambres\" : 2, \"prix\" : 10}, {\"n_chambres\" : 4, \"prix\" : 20}])\n",
    "data"
   ]
  },
  {
   "cell_type": "code",
   "execution_count": null,
   "metadata": {
    "colab": {
     "base_uri": "https://localhost:8080/",
     "height": 430
    },
    "executionInfo": {
     "elapsed": 362,
     "status": "ok",
     "timestamp": 1687184188050,
     "user": {
      "displayName": "Kevin Degila",
      "userId": "02447322191644424226"
     },
     "user_tz": -60
    },
    "id": "6-KHhlu6Am6q",
    "outputId": "a832e1d4-6b2a-4ac3-bf54-482db914b11e"
   },
   "outputs": [
    {
     "data": {
      "image/png": "[encoded data removed]",
      "text/plain": [
       "<Figure size 640x480 with 1 Axes>"
      ]
     },
     "metadata": {},
     "output_type": "display_data"
    }
   ],
   "source": [
    "plt.scatter(data[\"n_chambres\"], data['prix'], c=\"r\")\n",
    "plt.show()"
   ]
  },
  {
   "cell_type": "markdown",
   "metadata": {
    "id": "dQW2iX1gBCWe"
   },
   "source": [
    "prix = 5 * n_chambres"
   ]
  },
  {
   "cell_type": "code",
   "execution_count": null,
   "metadata": {
    "colab": {
     "base_uri": "https://localhost:8080/",
     "height": 449
    },
    "executionInfo": {
     "elapsed": 663,
     "status": "ok",
     "timestamp": 1687184314308,
     "user": {
      "displayName": "Kevin Degila",
      "userId": "02447322191644424226"
     },
     "user_tz": -60
    },
    "id": "zTD7v0Y8A42w",
    "outputId": "d4ef2f92-3b3a-42d5-e44f-3c5cb656a25a"
   },
   "outputs": [
    {
     "data": {
      "image/png": "[encoded data removed]",
      "text/plain": [
       "<Figure size 640x480 with 1 Axes>"
      ]
     },
     "metadata": {},
     "output_type": "display_data"
    }
   ],
   "source": [
    "# y = 5 x\n",
    "\n",
    "plt.scatter(data[\"n_chambres\"], data['prix'], c=\"r\")\n",
    "plt.plot(data[\"n_chambres\"], data['prix'])\n",
    "plt.xlabel('Nombre de chambrees')\n",
    "plt.ylabel('Prix')\n",
    "plt.show()"
   ]
  },
  {
   "cell_type": "code",
   "execution_count": null,
   "metadata": {
    "id": "ApD4vOclBYlL"
   },
   "outputs": [],
   "source": [
    "# entree  + instruction = sortie\n",
    "\n",
    "# entree + sortie  == instruction ou les regles\n",
    "\n",
    "# y= 5 x  model"
   ]
  },
  {
   "cell_type": "code",
   "execution_count": null,
   "metadata": {
    "colab": {
     "base_uri": "https://localhost:8080/",
     "height": 363
    },
    "executionInfo": {
     "elapsed": 499,
     "status": "ok",
     "timestamp": 1687184483752,
     "user": {
      "displayName": "Kevin Degila",
      "userId": "02447322191644424226"
     },
     "user_tz": -60
    },
    "id": "C5jxi7X_CBZw",
    "outputId": "dd6cc875-e33b-42a7-dd74-73e6450a4f82"
   },
   "outputs": [
    {
     "data": {
      "text/html": [
       "\n",
       "  <div id=\"df-49b604a8-51a2-4d66-b762-653f396eaf3c\">\n",
       "    <div class=\"colab-df-container\">\n",
       "      <div>\n",
       "<style scoped>\n",
       "    .dataframe tbody tr th:only-of-type {\n",
       "        vertical-align: middle;\n",
       "    }\n",
       "\n",
       "    .dataframe tbody tr th {\n",
       "        vertical-align: top;\n",
       "    }\n",
       "\n",
       "    .dataframe thead th {\n",
       "        text-align: right;\n",
       "    }\n",
       "</style>\n",
       "<table border=\"1\" class=\"dataframe\">\n",
       "  <thead>\n",
       "    <tr style=\"text-align: right;\">\n",
       "      <th></th>\n",
       "      <th>n_chambres</th>\n",
       "      <th>prix</th>\n",
       "    </tr>\n",
       "  </thead>\n",
       "  <tbody>\n",
       "    <tr>\n",
       "      <th>0</th>\n",
       "      <td>2</td>\n",
       "      <td>10.0</td>\n",
       "    </tr>\n",
       "    <tr>\n",
       "      <th>1</th>\n",
       "      <td>4</td>\n",
       "      <td>20.0</td>\n",
       "    </tr>\n",
       "    <tr>\n",
       "      <th>2</th>\n",
       "      <td>3</td>\n",
       "      <td>15.0</td>\n",
       "    </tr>\n",
       "    <tr>\n",
       "      <th>3</th>\n",
       "      <td>3</td>\n",
       "      <td>20.0</td>\n",
       "    </tr>\n",
       "    <tr>\n",
       "      <th>4</th>\n",
       "      <td>1</td>\n",
       "      <td>3.5</td>\n",
       "    </tr>\n",
       "    <tr>\n",
       "      <th>5</th>\n",
       "      <td>6</td>\n",
       "      <td>31.0</td>\n",
       "    </tr>\n",
       "    <tr>\n",
       "      <th>6</th>\n",
       "      <td>5</td>\n",
       "      <td>33.0</td>\n",
       "    </tr>\n",
       "    <tr>\n",
       "      <th>7</th>\n",
       "      <td>8</td>\n",
       "      <td>36.0</td>\n",
       "    </tr>\n",
       "    <tr>\n",
       "      <th>8</th>\n",
       "      <td>7</td>\n",
       "      <td>50.0</td>\n",
       "    </tr>\n",
       "    <tr>\n",
       "      <th>9</th>\n",
       "      <td>9</td>\n",
       "      <td>42.0</td>\n",
       "    </tr>\n",
       "  </tbody>\n",
       "</table>\n",
       "</div>\n",
       "      <button class=\"colab-df-convert\" onclick=\"convertToInteractive('df-49b604a8-51a2-4d66-b762-653f396eaf3c')\"\n",
       "              title=\"Convert this dataframe to an interactive table.\"\n",
       "              style=\"display:none;\">\n",
       "        \n",
       "  <svg xmlns=\"http://www.w3.org/2000/svg\" height=\"24px\"viewBox=\"0 0 24 24\"\n",
       "       width=\"24px\">\n",
       "    <path d=\"M0 0h24v24H0V0z\" fill=\"none\"/>\n",
       "    <path d=\"M18.56 5.44l.94 2.06.94-2.06 2.06-.94-2.06-.94-.94-2.06-.94 2.06-2.06.94zm-11 1L8.5 8.5l.94-2.06 2.06-.94-2.06-.94L8.5 2.5l-.94 2.06-2.06.94zm10 10l.94 2.06.94-2.06 2.06-.94-2.06-.94-.94-2.06-.94 2.06-2.06.94z\"/><path d=\"M17.41 7.96l-1.37-1.37c-.4-.4-.92-.59-1.43-.59-.52 0-1.04.2-1.43.59L10.3 9.45l-7.72 7.72c-.78.78-.78 2.05 0 2.83L4 21.41c.39.39.9.59 1.41.59.51 0 1.02-.2 1.41-.59l7.78-7.78 2.81-2.81c.8-.78.8-2.07 0-2.86zM5.41 20L4 18.59l7.72-7.72 1.47 1.35L5.41 20z\"/>\n",
       "  </svg>\n",
       "      </button>\n",
       "      \n",
       "  <style>\n",
       "    .colab-df-container {\n",
       "      display:flex;\n",
       "      flex-wrap:wrap;\n",
       "      gap: 12px;\n",
       "    }\n",
       "\n",
       "    .colab-df-convert {\n",
       "      background-color: #E8F0FE;\n",
       "      border: none;\n",
       "      border-radius: 50%;\n",
       "      cursor: pointer;\n",
       "      display: none;\n",
       "      fill: #1967D2;\n",
       "      height: 32px;\n",
       "      padding: 0 0 0 0;\n",
       "      width: 32px;\n",
       "    }\n",
       "\n",
       "    .colab-df-convert:hover {\n",
       "      background-color: #E2EBFA;\n",
       "      box-shadow: 0px 1px 2px rgba(60, 64, 67, 0.3), 0px 1px 3px 1px rgba(60, 64, 67, 0.15);\n",
       "      fill: #174EA6;\n",
       "    }\n",
       "\n",
       "    [theme=dark] .colab-df-convert {\n",
       "      background-color: #3B4455;\n",
       "      fill: #D2E3FC;\n",
       "    }\n",
       "\n",
       "    [theme=dark] .colab-df-convert:hover {\n",
       "      background-color: #434B5C;\n",
       "      box-shadow: 0px 1px 3px 1px rgba(0, 0, 0, 0.15);\n",
       "      filter: drop-shadow(0px 1px 2px rgba(0, 0, 0, 0.3));\n",
       "      fill: #FFFFFF;\n",
       "    }\n",
       "  </style>\n",
       "\n",
       "      <script>\n",
       "        const buttonEl =\n",
       "          document.querySelector('#df-49b604a8-51a2-4d66-b762-653f396eaf3c button.colab-df-convert');\n",
       "        buttonEl.style.display =\n",
       "          google.colab.kernel.accessAllowed ? 'block' : 'none';\n",
       "\n",
       "        async function convertToInteractive(key) {\n",
       "          const element = document.querySelector('#df-49b604a8-51a2-4d66-b762-653f396eaf3c');\n",
       "          const dataTable =\n",
       "            await google.colab.kernel.invokeFunction('convertToInteractive',\n",
       "                                                     [key], {});\n",
       "          if (!dataTable) return;\n",
       "\n",
       "          const docLinkHtml = 'Like what you see? Visit the ' +\n",
       "            '<a target=\"_blank\" href=https://colab.research.google.com/notebooks/data_table.ipynb>data table notebook</a>'\n",
       "            + ' to learn more about interactive tables.';\n",
       "          element.innerHTML = '';\n",
       "          dataTable['output_type'] = 'display_data';\n",
       "          await google.colab.output.renderOutput(dataTable, element);\n",
       "          const docLink = document.createElement('div');\n",
       "          docLink.innerHTML = docLinkHtml;\n",
       "          element.appendChild(docLink);\n",
       "        }\n",
       "      </script>\n",
       "    </div>\n",
       "  </div>\n",
       "  "
      ],
      "text/plain": [
       "   n_chambres  prix\n",
       "0           2  10.0\n",
       "1           4  20.0\n",
       "2           3  15.0\n",
       "3           3  20.0\n",
       "4           1   3.5\n",
       "5           6  31.0\n",
       "6           5  33.0\n",
       "7           8  36.0\n",
       "8           7  50.0\n",
       "9           9  42.0"
      ]
     },
     "execution_count": 12,
     "metadata": {},
     "output_type": "execute_result"
    }
   ],
   "source": [
    "data = pd.DataFrame([ {\"n_chambres\" : 2, \"prix\" : 10}, {\"n_chambres\" : 4, \"prix\" : 20},\n",
    "                    {\"n_chambres\" : 3, \"prix\" : 15},\n",
    "                     {\"n_chambres\" : 3, \"prix\" : 20},\n",
    "                     {\"n_chambres\" : 1, \"prix\" : 3.5},\n",
    "                    {\"n_chambres\" : 6, \"prix\" : 31},\n",
    "                     {\"n_chambres\" : 5, \"prix\" : 33},\n",
    "                    {\"n_chambres\" : 8, \"prix\" : 36},\n",
    "                    {\"n_chambres\" : 7, \"prix\" : 50},\n",
    "                    {\"n_chambres\" : 9, \"prix\" : 42},\n",
    "                    ])\n",
    "data"
   ]
  },
  {
   "cell_type": "code",
   "execution_count": null,
   "metadata": {
    "colab": {
     "base_uri": "https://localhost:8080/",
     "height": 449
    },
    "executionInfo": {
     "elapsed": 700,
     "status": "ok",
     "timestamp": 1687184590122,
     "user": {
      "displayName": "Kevin Degila",
      "userId": "02447322191644424226"
     },
     "user_tz": -60
    },
    "id": "gk7BI11hCCD5",
    "outputId": "750962c7-512c-464e-b7f1-37f6ba01a008"
   },
   "outputs": [
    {
     "data": {
      "image/png": "[encoded data removed]",
      "text/plain": [
       "<Figure size 640x480 with 1 Axes>"
      ]
     },
     "metadata": {},
     "output_type": "display_data"
    }
   ],
   "source": [
    "plt.scatter(data[\"n_chambres\"], data['prix'], c=\"r\")\n",
    "plt.plot(data[\"n_chambres\"], data['n_chambres'] * 5)\n",
    "plt.xlabel('Nombre de chambrees')\n",
    "plt.ylabel('Prix')\n",
    "plt.show()"
   ]
  },
  {
   "cell_type": "code",
   "execution_count": null,
   "metadata": {
    "id": "h9QSA1CRE6CJ"
   },
   "outputs": [],
   "source": [
    "x = n_chambres\n",
    "y = Prix"
   ]
  },
  {
   "cell_type": "code",
   "execution_count": null,
   "metadata": {
    "id": "Zmuxl5zzE_8B"
   },
   "outputs": [],
   "source": []
  },
  {
   "cell_type": "code",
   "execution_count": null,
   "metadata": {
    "id": "Pt4aMErFCOAB"
   },
   "outputs": [],
   "source": [
    "def model(x, w):\n",
    "  return w * x"
   ]
  },
  {
   "cell_type": "code",
   "execution_count": null,
   "metadata": {
    "colab": {
     "base_uri": "https://localhost:8080/"
    },
    "executionInfo": {
     "elapsed": 346,
     "status": "ok",
     "timestamp": 1687185292526,
     "user": {
      "displayName": "Kevin Degila",
      "userId": "02447322191644424226"
     },
     "user_tz": -60
    },
    "id": "5SQVSPNPFDZt",
    "outputId": "fd01eb7a-5ba7-41e8-a7ca-abaabd551480"
   },
   "outputs": [
    {
     "data": {
      "text/plain": [
       "15"
      ]
     },
     "execution_count": 17,
     "metadata": {},
     "output_type": "execute_result"
    }
   ],
   "source": [
    "model(x=3, w=5) # y= 5x"
   ]
  },
  {
   "cell_type": "code",
   "execution_count": null,
   "metadata": {
    "colab": {
     "base_uri": "https://localhost:8080/"
    },
    "executionInfo": {
     "elapsed": 9,
     "status": "ok",
     "timestamp": 1687185327717,
     "user": {
      "displayName": "Kevin Degila",
      "userId": "02447322191644424226"
     },
     "user_tz": -60
    },
    "id": "Cdv3ygTYFHjY",
    "outputId": "6b97d8ac-b58f-4a94-a7c1-f7093935282b"
   },
   "outputs": [
    {
     "data": {
      "text/plain": [
       "18"
      ]
     },
     "execution_count": 19,
     "metadata": {},
     "output_type": "execute_result"
    }
   ],
   "source": [
    "# y= 6x\n",
    "model(x=3, w=6)"
   ]
  },
  {
   "cell_type": "code",
   "execution_count": null,
   "metadata": {
    "id": "lpXfytPYFO40"
   },
   "outputs": [],
   "source": [
    "def erreur(x, w, y):\n",
    "  y_model = model(x, w)\n",
    "\n",
    "  distance = (y - y_model) **2\n",
    "\n",
    "  return np.sum(distance)"
   ]
  },
  {
   "cell_type": "code",
   "execution_count": null,
   "metadata": {
    "id": "zNuB_cbLFnO-"
   },
   "outputs": [],
   "source": [
    "x = 6, y = 54\n",
    "\n",
    "# y = 5x, w = 5\n",
    "\n"
   ]
  },
  {
   "cell_type": "code",
   "execution_count": null,
   "metadata": {
    "id": "0cYt4U05Fxim"
   },
   "outputs": [],
   "source": [
    "erreur(x=6, w=5, y=54)"
   ]
  },
  {
   "cell_type": "code",
   "execution_count": null,
   "metadata": {
    "id": "41abRrAvF5G9"
   },
   "outputs": [],
   "source": [
    "y_model = 5 * 6 = 30\n",
    "\n",
    "distance = (54 - 30)**2"
   ]
  },
  {
   "cell_type": "code",
   "execution_count": null,
   "metadata": {
    "colab": {
     "base_uri": "https://localhost:8080/"
    },
    "executionInfo": {
     "elapsed": 343,
     "status": "ok",
     "timestamp": 1687185742303,
     "user": {
      "displayName": "Kevin Degila",
      "userId": "02447322191644424226"
     },
     "user_tz": -60
    },
    "id": "_un4BtCJG09N",
    "outputId": "7a05d9a9-655b-438a-9969-7d981f9c3a64"
   },
   "outputs": [
    {
     "data": {
      "text/plain": [
       "array([2, 4, 3, 3, 1, 6, 5, 8, 7, 9])"
      ]
     },
     "execution_count": 21,
     "metadata": {},
     "output_type": "execute_result"
    }
   ],
   "source": [
    "data['n_chambres'].values"
   ]
  },
  {
   "cell_type": "code",
   "execution_count": null,
   "metadata": {
    "id": "KMMvRKIcGrr4"
   },
   "outputs": [],
   "source": [
    "n_chambres = data['n_chambres'].values\n",
    "prix = data['prix'].values"
   ]
  },
  {
   "cell_type": "code",
   "execution_count": null,
   "metadata": {
    "colab": {
     "base_uri": "https://localhost:8080/"
    },
    "executionInfo": {
     "elapsed": 7,
     "status": "ok",
     "timestamp": 1687185795656,
     "user": {
      "displayName": "Kevin Degila",
      "userId": "02447322191644424226"
     },
     "user_tz": -60
    },
    "id": "MT-Y3SBCG7d3",
    "outputId": "ea0e47f6-8ad9-4747-c9d5-e96ef09d12da"
   },
   "outputs": [
    {
     "data": {
      "text/plain": [
       "342.25"
      ]
     },
     "execution_count": 23,
     "metadata": {},
     "output_type": "execute_result"
    }
   ],
   "source": [
    "erreur(x=n_chambres, w=5, y=prix) # y = 5 x"
   ]
  },
  {
   "cell_type": "code",
   "execution_count": null,
   "metadata": {
    "colab": {
     "base_uri": "https://localhost:8080/",
     "height": 449
    },
    "executionInfo": {
     "elapsed": 440,
     "status": "ok",
     "timestamp": 1687185899560,
     "user": {
      "displayName": "Kevin Degila",
      "userId": "02447322191644424226"
     },
     "user_tz": -60
    },
    "id": "OFplYoAUHXDD",
    "outputId": "7b41688b-5a11-4d88-de46-c5deeee68656"
   },
   "outputs": [
    {
     "data": {
      "image/png": "[encoded data removed]",
      "text/plain": [
       "<Figure size 640x480 with 1 Axes>"
      ]
     },
     "metadata": {},
     "output_type": "display_data"
    }
   ],
   "source": [
    "plt.scatter(data[\"n_chambres\"], data['prix'], c=\"r\")\n",
    "plt.plot(data[\"n_chambres\"], data['n_chambres'] * 5)\n",
    "plt.plot(data[\"n_chambres\"], data['n_chambres'] * 4)\n",
    "plt.xlabel('Nombre de chambrees')\n",
    "plt.ylabel('Prix')\n",
    "plt.show()"
   ]
  },
  {
   "cell_type": "code",
   "execution_count": null,
   "metadata": {
    "colab": {
     "base_uri": "https://localhost:8080/"
    },
    "executionInfo": {
     "elapsed": 568,
     "status": "ok",
     "timestamp": 1687185934800,
     "user": {
      "displayName": "Kevin Degila",
      "userId": "02447322191644424226"
     },
     "user_tz": -60
    },
    "id": "RxSsThL0HCX3",
    "outputId": "c43c900e-d271-45e8-9c47-e177ee8bb348"
   },
   "outputs": [
    {
     "data": {
      "text/plain": [
       "847.25"
      ]
     },
     "execution_count": 25,
     "metadata": {},
     "output_type": "execute_result"
    }
   ],
   "source": [
    "erreur(x=n_chambres, w=4, y=prix)"
   ]
  },
  {
   "cell_type": "code",
   "execution_count": null,
   "metadata": {
    "colab": {
     "base_uri": "https://localhost:8080/",
     "height": 449
    },
    "executionInfo": {
     "elapsed": 1001,
     "status": "ok",
     "timestamp": 1687185964138,
     "user": {
      "displayName": "Kevin Degila",
      "userId": "02447322191644424226"
     },
     "user_tz": -60
    },
    "id": "v4pmkBl7HkSD",
    "outputId": "45649449-37fe-46dc-d509-140a7cf91a5a"
   },
   "outputs": [
    {
     "data": {
      "image/png": "[encoded data removed]",
      "text/plain": [
       "<Figure size 640x480 with 1 Axes>"
      ]
     },
     "metadata": {},
     "output_type": "display_data"
    }
   ],
   "source": [
    "plt.scatter(data[\"n_chambres\"], data['prix'], c=\"r\")\n",
    "plt.plot(data[\"n_chambres\"], data['n_chambres'] * 5)\n",
    "plt.plot(data[\"n_chambres\"], data['n_chambres'] * 4)\n",
    "plt.plot(data[\"n_chambres\"], data['n_chambres'] * 6)\n",
    "plt.xlabel('Nombre de chambrees')\n",
    "plt.ylabel('Prix')\n",
    "plt.show()"
   ]
  },
  {
   "cell_type": "code",
   "execution_count": null,
   "metadata": {
    "colab": {
     "base_uri": "https://localhost:8080/"
    },
    "executionInfo": {
     "elapsed": 8,
     "status": "ok",
     "timestamp": 1687185987461,
     "user": {
      "displayName": "Kevin Degila",
      "userId": "02447322191644424226"
     },
     "user_tz": -60
    },
    "id": "590yFe48HrW-",
    "outputId": "ee6dc50d-9d10-4b0f-9251-b105baa75019"
   },
   "outputs": [
    {
     "data": {
      "text/plain": [
       "425.25"
      ]
     },
     "execution_count": 27,
     "metadata": {},
     "output_type": "execute_result"
    }
   ],
   "source": [
    "erreur(x=n_chambres, w=6, y=prix)"
   ]
  },
  {
   "cell_type": "code",
   "execution_count": null,
   "metadata": {
    "colab": {
     "base_uri": "https://localhost:8080/"
    },
    "executionInfo": {
     "elapsed": 5,
     "status": "ok",
     "timestamp": 1687186053791,
     "user": {
      "displayName": "Kevin Degila",
      "userId": "02447322191644424226"
     },
     "user_tz": -60
    },
    "id": "WOJLxYz4HxP3",
    "outputId": "af83b5e8-a41d-4166-cd41-4c1af59f2875"
   },
   "outputs": [
    {
     "data": {
      "text/plain": [
       "366.2899999999999"
      ]
     },
     "execution_count": 28,
     "metadata": {},
     "output_type": "execute_result"
    }
   ],
   "source": [
    "erreur(x=n_chambres, w=4.9, y=prix)"
   ]
  },
  {
   "cell_type": "code",
   "execution_count": null,
   "metadata": {
    "colab": {
     "base_uri": "https://localhost:8080/"
    },
    "executionInfo": {
     "elapsed": 7,
     "status": "ok",
     "timestamp": 1687186080830,
     "user": {
      "displayName": "Kevin Degila",
      "userId": "02447322191644424226"
     },
     "user_tz": -60
    },
    "id": "PgmUxzuZIBgN",
    "outputId": "4681ae79-0563-471f-9d37-f70b6beb8018"
   },
   "outputs": [
    {
     "data": {
      "text/plain": [
       "324.0900000000001"
      ]
     },
     "execution_count": 29,
     "metadata": {},
     "output_type": "execute_result"
    }
   ],
   "source": [
    "erreur(x=n_chambres, w=5.1, y=prix)"
   ]
  },
  {
   "cell_type": "code",
   "execution_count": null,
   "metadata": {
    "colab": {
     "base_uri": "https://localhost:8080/",
     "height": 449
    },
    "executionInfo": {
     "elapsed": 15,
     "status": "ok",
     "timestamp": 1687186107322,
     "user": {
      "displayName": "Kevin Degila",
      "userId": "02447322191644424226"
     },
     "user_tz": -60
    },
    "id": "cCgRHJgHIIGo",
    "outputId": "ed1153f8-78b8-4d56-f784-d92e2db1729a"
   },
   "outputs": [
    {
     "data": {
      "image/png": "[encoded data removed]",
      "text/plain": [
       "<Figure size 640x480 with 1 Axes>"
      ]
     },
     "metadata": {},
     "output_type": "display_data"
    }
   ],
   "source": [
    "plt.scatter(data[\"n_chambres\"], data['prix'], c=\"r\")\n",
    "plt.plot(data[\"n_chambres\"], data['n_chambres'] * 5)\n",
    "plt.plot(data[\"n_chambres\"], data['n_chambres'] * 5.1)\n",
    "\n",
    "plt.xlabel('Nombre de chambrees')\n",
    "plt.ylabel('Prix')\n",
    "plt.show()"
   ]
  },
  {
   "cell_type": "code",
   "execution_count": null,
   "metadata": {
    "colab": {
     "base_uri": "https://localhost:8080/"
    },
    "executionInfo": {
     "elapsed": 7,
     "status": "ok",
     "timestamp": 1687186130685,
     "user": {
      "displayName": "Kevin Degila",
      "userId": "02447322191644424226"
     },
     "user_tz": -60
    },
    "id": "gNIsfFrOIOVm",
    "outputId": "440e97dd-e2c1-4626-cef0-0843ad0b2f85"
   },
   "outputs": [
    {
     "data": {
      "text/plain": [
       "311.81000000000006"
      ]
     },
     "execution_count": 31,
     "metadata": {},
     "output_type": "execute_result"
    }
   ],
   "source": [
    "erreur(x=n_chambres, w=5.2, y=prix) #y=5.2 x"
   ]
  },
  {
   "cell_type": "code",
   "execution_count": null,
   "metadata": {
    "colab": {
     "base_uri": "https://localhost:8080/"
    },
    "executionInfo": {
     "elapsed": 6,
     "status": "ok",
     "timestamp": 1687186160371,
     "user": {
      "displayName": "Kevin Degila",
      "userId": "02447322191644424226"
     },
     "user_tz": -60
    },
    "id": "6zA-LgepIUPw",
    "outputId": "34c0b033-06b1-42de-ce8e-12b43e13aa5c"
   },
   "outputs": [
    {
     "data": {
      "text/plain": [
       "305.4099999999999"
      ]
     },
     "execution_count": 33,
     "metadata": {},
     "output_type": "execute_result"
    }
   ],
   "source": [
    "erreur(x=n_chambres, w=5.3, y=prix)"
   ]
  },
  {
   "cell_type": "code",
   "execution_count": null,
   "metadata": {
    "colab": {
     "base_uri": "https://localhost:8080/"
    },
    "executionInfo": {
     "elapsed": 395,
     "status": "ok",
     "timestamp": 1687186170671,
     "user": {
      "displayName": "Kevin Degila",
      "userId": "02447322191644424226"
     },
     "user_tz": -60
    },
    "id": "0DM4Vtu2Ias_",
    "outputId": "9b80781a-153c-4ad2-d414-40cf072a336d"
   },
   "outputs": [
    {
     "data": {
      "text/plain": [
       "304.88999999999993"
      ]
     },
     "execution_count": 34,
     "metadata": {},
     "output_type": "execute_result"
    }
   ],
   "source": [
    "erreur(x=n_chambres, w=5.4, y=prix) #y = 5.4x"
   ]
  },
  {
   "cell_type": "code",
   "execution_count": null,
   "metadata": {
    "colab": {
     "base_uri": "https://localhost:8080/"
    },
    "executionInfo": {
     "elapsed": 7,
     "status": "ok",
     "timestamp": 1687186179288,
     "user": {
      "displayName": "Kevin Degila",
      "userId": "02447322191644424226"
     },
     "user_tz": -60
    },
    "id": "VikNvs9dId67",
    "outputId": "80f6d431-6890-40db-8cba-f114aeb4a62d"
   },
   "outputs": [
    {
     "data": {
      "text/plain": [
       "310.25"
      ]
     },
     "execution_count": 35,
     "metadata": {},
     "output_type": "execute_result"
    }
   ],
   "source": [
    "erreur(x=n_chambres, w=5.5, y=prix)"
   ]
  },
  {
   "cell_type": "code",
   "execution_count": null,
   "metadata": {
    "colab": {
     "base_uri": "https://localhost:8080/"
    },
    "executionInfo": {
     "elapsed": 8,
     "status": "ok",
     "timestamp": 1687186190140,
     "user": {
      "displayName": "Kevin Degila",
      "userId": "02447322191644424226"
     },
     "user_tz": -60
    },
    "id": "g5nd9B0UIgJF",
    "outputId": "8f814bcf-e349-4387-8d79-3c9d36bffd12"
   },
   "outputs": [
    {
     "data": {
      "text/plain": [
       "321.49"
      ]
     },
     "execution_count": 36,
     "metadata": {},
     "output_type": "execute_result"
    }
   ],
   "source": [
    "erreur(x=n_chambres, w=5.6, y=prix)"
   ]
  },
  {
   "cell_type": "code",
   "execution_count": null,
   "metadata": {
    "colab": {
     "base_uri": "https://localhost:8080/",
     "height": 449
    },
    "executionInfo": {
     "elapsed": 640,
     "status": "ok",
     "timestamp": 1687186209415,
     "user": {
      "displayName": "Kevin Degila",
      "userId": "02447322191644424226"
     },
     "user_tz": -60
    },
    "id": "QMr85EyQIisz",
    "outputId": "43254d92-010d-45cb-dbcd-f56faae3ca8e"
   },
   "outputs": [
    {
     "data": {
      "image/png": "[encoded data removed]",
      "text/plain": [
       "<Figure size 640x480 with 1 Axes>"
      ]
     },
     "metadata": {},
     "output_type": "display_data"
    }
   ],
   "source": [
    "plt.scatter(data[\"n_chambres\"], data['prix'], c=\"r\")\n",
    "plt.plot(data[\"n_chambres\"], data['n_chambres'] * 5)\n",
    "plt.plot(data[\"n_chambres\"], data['n_chambres'] * 5.4)\n",
    "\n",
    "plt.xlabel('Nombre de chambrees')\n",
    "plt.ylabel('Prix')\n",
    "plt.show()"
   ]
  },
  {
   "cell_type": "code",
   "execution_count": null,
   "metadata": {
    "id": "OBRE_A4jInWS"
   },
   "outputs": [],
   "source": [
    "possible_w = np.arange(-20, 20, 0.001)"
   ]
  },
  {
   "cell_type": "code",
   "execution_count": null,
   "metadata": {
    "colab": {
     "base_uri": "https://localhost:8080/"
    },
    "executionInfo": {
     "elapsed": 354,
     "status": "ok",
     "timestamp": 1687186292946,
     "user": {
      "displayName": "Kevin Degila",
      "userId": "02447322191644424226"
     },
     "user_tz": -60
    },
    "id": "-Oqcg6YGI6uX",
    "outputId": "62d171cb-fde1-4f0e-a794-c81bdbdd34ee"
   },
   "outputs": [
    {
     "data": {
      "text/plain": [
       "array([-20.   , -19.999, -19.998, ...,  19.997,  19.998,  19.999])"
      ]
     },
     "execution_count": 39,
     "metadata": {},
     "output_type": "execute_result"
    }
   ],
   "source": [
    "possible_w"
   ]
  },
  {
   "cell_type": "code",
   "execution_count": null,
   "metadata": {
    "colab": {
     "base_uri": "https://localhost:8080/"
    },
    "executionInfo": {
     "elapsed": 10,
     "status": "ok",
     "timestamp": 1687186370315,
     "user": {
      "displayName": "Kevin Degila",
      "userId": "02447322191644424226"
     },
     "user_tz": -60
    },
    "id": "p2DM9qBLJNIt",
    "outputId": "e1d0f867-7271-4743-9773-6373c4414024"
   },
   "outputs": [
    {
     "data": {
      "text/plain": [
       "40000"
      ]
     },
     "execution_count": 41,
     "metadata": {},
     "output_type": "execute_result"
    }
   ],
   "source": [
    "possible_w.size"
   ]
  },
  {
   "cell_type": "code",
   "execution_count": null,
   "metadata": {
    "id": "Dr4_0PwlI7yX"
   },
   "outputs": [],
   "source": [
    "errors = []\n",
    "\n",
    "for d in possible_w:\n",
    "  e = erreur(x=n_chambres, w=d, y=prix)\n",
    "  errors.append(e)"
   ]
  },
  {
   "cell_type": "code",
   "execution_count": null,
   "metadata": {
    "colab": {
     "base_uri": "https://localhost:8080/",
     "height": 449
    },
    "executionInfo": {
     "elapsed": 359,
     "status": "ok",
     "timestamp": 1687186418001,
     "user": {
      "displayName": "Kevin Degila",
      "userId": "02447322191644424226"
     },
     "user_tz": -60
    },
    "id": "qMjUPaioJLRv",
    "outputId": "bd424c31-7bdb-4b14-fa0a-7cfa6e10648a"
   },
   "outputs": [
    {
     "data": {
      "image/png": "[encoded data removed]",
      "text/plain": [
       "<Figure size 640x480 with 1 Axes>"
      ]
     },
     "metadata": {},
     "output_type": "display_data"
    }
   ],
   "source": [
    "plt.plot(possible_w, errors)\n",
    "plt.xlabel('les w possible')\n",
    "plt.ylabel('erreur')\n",
    "plt.show()"
   ]
  },
  {
   "cell_type": "code",
   "execution_count": null,
   "metadata": {
    "colab": {
     "base_uri": "https://localhost:8080/"
    },
    "executionInfo": {
     "elapsed": 7,
     "status": "ok",
     "timestamp": 1687186464103,
     "user": {
      "displayName": "Kevin Degila",
      "userId": "02447322191644424226"
     },
     "user_tz": -60
    },
    "id": "f-ihZ7BQJZZ3",
    "outputId": "b6cad6c4-2484-4772-dd23-b197e2850cbd"
   },
   "outputs": [
    {
     "data": {
      "text/plain": [
       "304.3920140000027"
      ]
     },
     "execution_count": 43,
     "metadata": {},
     "output_type": "execute_result"
    }
   ],
   "source": [
    "np.array(errors).min()"
   ]
  },
  {
   "cell_type": "code",
   "execution_count": null,
   "metadata": {
    "colab": {
     "base_uri": "https://localhost:8080/"
    },
    "executionInfo": {
     "elapsed": 387,
     "status": "ok",
     "timestamp": 1687186509361,
     "user": {
      "displayName": "Kevin Degila",
      "userId": "02447322191644424226"
     },
     "user_tz": -60
    },
    "id": "46-XtlqNJloQ",
    "outputId": "31a8627f-0d18-4ade-d2ac-7238fede6c81"
   },
   "outputs": [
    {
     "data": {
      "text/plain": [
       "25359"
      ]
     },
     "execution_count": 44,
     "metadata": {},
     "output_type": "execute_result"
    }
   ],
   "source": [
    "np.argmin(errors)"
   ]
  },
  {
   "cell_type": "code",
   "execution_count": null,
   "metadata": {
    "colab": {
     "base_uri": "https://localhost:8080/"
    },
    "executionInfo": {
     "elapsed": 3,
     "status": "ok",
     "timestamp": 1687186523205,
     "user": {
      "displayName": "Kevin Degila",
      "userId": "02447322191644424226"
     },
     "user_tz": -60
    },
    "id": "gocKNF2bJwZP",
    "outputId": "4264c1e8-ca4f-4f1c-c5ad-f2dd8ffa19f0"
   },
   "outputs": [
    {
     "data": {
      "text/plain": [
       "5.359000000030992"
      ]
     },
     "execution_count": 45,
     "metadata": {},
     "output_type": "execute_result"
    }
   ],
   "source": [
    "possible_w[25359]"
   ]
  },
  {
   "cell_type": "markdown",
   "metadata": {
    "id": "3Qtuk97TJz9c"
   },
   "source": [
    "Modele y = w * x (ici le w est le poids(weight)) ici on s'atelera à trouver le bon w\n",
    "\n",
    "Erreur ou loss (à diminuer) (fonction perte)\n",
    "\n",
    "Modifier w en fonction de l'erreur et selon un pas\n",
    "\n",
    "Pas : vitesse d'apprentissage ou le Learning Rate\n",
    "\n",
    "Modele y = w * x + b (ici b est appelé le biais qui nous servira de base line)"
   ]
  },
  {
   "cell_type": "code",
   "execution_count": null,
   "metadata": {},
   "outputs": [],
   "source": []
  }
 ],
 "metadata": {
  "colab": {
   "authorship_tag": "ABX9TyPFVs+93oRbAoIk9v5hcozQ",
   "provenance": []
  },
  "kernelspec": {
   "display_name": "Python 3 (ipykernel)",
   "language": "python",
   "name": "python3"
  },
  "language_info": {
   "codemirror_mode": {
    "name": "ipython",
    "version": 3
   },
   "file_extension": ".py",
   "mimetype": "text/x-python",
   "name": "python",
   "nbconvert_exporter": "python",
   "pygments_lexer": "ipython3",
   "version": "3.10.12"
  }
 },
 "nbformat": 4,
 "nbformat_minor": 1
}
