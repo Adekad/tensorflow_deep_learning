{
 "cells": [
  {
   "cell_type": "code",
   "execution_count": 1,
   "id": "08d8165d",
   "metadata": {},
   "outputs": [],
   "source": [
    "import numpy as np\n",
    "import matplotlib.pyplot as plt"
   ]
  },
  {
   "cell_type": "code",
   "execution_count": 2,
   "id": "4d85cf1a",
   "metadata": {},
   "outputs": [],
   "source": [
    "# La fonction sigmoid introduit une non linéarité et qui permet une normalisation de la donnée (résultat toujours entre 0 et 1)\n",
    "\n",
    "def sigmoid(x):\n",
    "    return 1 / (1 + np.exp(-x))"
   ]
  },
  {
   "cell_type": "code",
   "execution_count": 3,
   "id": "8ebdb862",
   "metadata": {},
   "outputs": [
    {
     "data": {
      "image/png": "[encoded data removed]",
      "text/plain": [
       "<Figure size 640x480 with 1 Axes>"
      ]
     },
     "metadata": {},
     "output_type": "display_data"
    }
   ],
   "source": [
    "X = np.arange(-10, 10, 0.01)\n",
    "\n",
    "plt.plot(X, sigmoid(X))\n",
    "plt.show()"
   ]
  },
  {
   "cell_type": "code",
   "execution_count": 4,
   "id": "bbf54e02",
   "metadata": {},
   "outputs": [],
   "source": [
    "# La dérivé de la fonction sigmoid\n",
    "\n",
    "#ds_dx = sigmoid(x) * (1 - sigmoid(x))\n"
   ]
  },
  {
   "cell_type": "markdown",
   "id": "a0914626",
   "metadata": {},
   "source": [
    "###  Model avec sigmoid"
   ]
  },
  {
   "cell_type": "code",
   "execution_count": 5,
   "id": "70a0f4a9",
   "metadata": {},
   "outputs": [],
   "source": [
    " #  Nouvelle erreur\n",
    "def erreur(X, Y, para):\n",
    "    \n",
    "    info = {}\n",
    "    \n",
    "    M1 = np.dot(X, para[\"W1\"]) \n",
    "    \n",
    "    N1 = M1 + para[\"B1\"]  # Premiere regression linéaire. W1 B1 pour la transformation\n",
    "    \n",
    "    S1 = sigmoid(N1)  # Premiere regression linéaire passée à Sigmoid. Sigmoid pour la non linéarité\n",
    "    \n",
    "    M2 = np.dot(S1, para[\"W2\"])  # Le S1 devient le X(les caractéristiques) lors du produit matricielle avec le poids W2\n",
    "    \n",
    "    P = M2 + para[\"B2\"]  # Deuxieme regression linéaire. W2 B2 pour la prédiction\n",
    "    \n",
    "    L = np.mean((Y - P) **2)  # Loss\n",
    "    \n",
    "    info[\"M1\"] = M1\n",
    "    info[\"M2\"] = M2\n",
    "    info[\"N1\"] = N1\n",
    "    info[\"S1\"] = S1\n",
    "    info[\"P\"] = P\n",
    "    info[\"X\"] = X\n",
    "    info[\"Y\"] = Y\n",
    "    \n",
    "    return L, info\n",
    "    "
   ]
  },
  {
   "cell_type": "code",
   "execution_count": 6,
   "id": "599131f7",
   "metadata": {},
   "outputs": [],
   "source": [
    "def gradient(info, params):\n",
    "\n",
    "  dL_dP =  -2 * (info['Y'] - info['P'])\n",
    "\n",
    "  dP_dM2 = 1\n",
    "  dL_dM2 = dL_dP * dP_dM2\n",
    "\n",
    "  dP_dB2 = 1\n",
    "  dL_dB2 = dL_dP * dP_dB2\n",
    "  dL_dB2 = dL_dB2.sum()\n",
    "\n",
    "  dM2_dW2 = info['S1'].T\n",
    "  dL_dW2 = np.dot(dM2_dW2, dL_dP)\n",
    "\n",
    "  dM2_dS1 = params['W2'].T\n",
    "  dL_dS1 = np.dot(dL_dM2, dM2_dS1)\n",
    "\n",
    "  dS1_dN1 = sigmoid(info['N1']) * (1- sigmoid(info['N1']))\n",
    "  dL_dN1 = dL_dS1 * dS1_dN1\n",
    "\n",
    "  dN1_dB1 = 1\n",
    "  dN1_dM1 = 1\n",
    "\n",
    "  dL_dB1 = (dL_dN1 * dN1_dB1).sum()\n",
    "  dL_dB1 = dL_dB1.sum()\n",
    "  dL_dM1 = dL_dN1 * dN1_dM1\n",
    "\n",
    "  dM1_dW1 = info['X'].T\n",
    "  dL_dW1 = np.dot(dM1_dW1, dL_dM1)\n",
    "\n",
    "\n",
    "  grads = {}\n",
    "  grads['W1'] = dL_dW1\n",
    "  grads['B1'] = dL_dB1\n",
    "  grads['W2'] = dL_dW2\n",
    "  grads['B2'] = dL_dB2\n",
    "\n",
    "\n",
    "  return grads"
   ]
  },
  {
   "cell_type": "code",
   "execution_count": 7,
   "id": "7b5ae6ef",
   "metadata": {},
   "outputs": [],
   "source": [
    "def train(X, Y, epoch, learning_rate):\n",
    "    \n",
    "    # Weight initialization\n",
    "    np.random.seed(42)\n",
    "    \n",
    "    n_features = X.shape[1]\n",
    "    n_features_transformer = n_features  # Pour faire la transformation\n",
    "    \n",
    "    params = {}\n",
    "    \n",
    "    params['W1'] = np.random.randn(n_features, n_features_transformer)\n",
    "    params['B1'] = np.random.randn(1, n_features_transformer)\n",
    "    \n",
    "    params['W2'] = np.random.randn(n_features_transformer, 1)\n",
    "    params['B2'] = np.random.randn(1, 1)\n",
    "    \n",
    "    error = []\n",
    "    for i in range(epoch):        \n",
    "        # Forward\n",
    "        loss, info = erreur(X, Y, params)\n",
    "        error.append(loss)\n",
    "        print(f'Epoch {i+1}......... loss : {loss}')\n",
    "        \n",
    "        # Backward\n",
    "        grads = gradient(info, params)\n",
    "        \n",
    "        # Update        \n",
    "        for p in params:\n",
    "            params[p] = params[p] - learning_rate * grads[p]\n",
    "            \n",
    "    return params, error "
   ]
  },
  {
   "cell_type": "markdown",
   "id": "29c8148e",
   "metadata": {},
   "source": [
    "### Application au Boston DataSet"
   ]
  },
  {
   "cell_type": "code",
   "execution_count": 9,
   "id": "17cb68ef",
   "metadata": {},
   "outputs": [],
   "source": [
    "#  Session 2 section 43\n",
    "import pandas as pd\n",
    "\n",
    "url = \"./boston.txt\"\n",
    "raw_df = pd.read_csv(url, sep=\"\\s+\", skiprows=22, header=None)\n",
    "data = np.hstack([raw_df.values[::2, :], raw_df.values[1::2, :2]])\n",
    "target = raw_df.values[1::2, 2]\n",
    "\n",
    "data = data\n",
    "target = target\n",
    "\n",
    "X = data\n",
    "Y = target.reshape(506, 1)\n",
    "\n",
    "from sklearn.model_selection import train_test_split\n",
    "X_train, X_test, Y_train, Y_test = train_test_split(X, Y, test_size=0.25, random_state=0)\n",
    "\n",
    "from sklearn.preprocessing import StandardScaler\n",
    "scaler = StandardScaler()\n",
    "X_train = scaler.fit_transform(X_train)\n",
    "X_test = scaler.transform(X_test)"
   ]
  },
  {
   "cell_type": "code",
   "execution_count": 31,
   "id": "f491d986",
   "metadata": {},
   "outputs": [
    {
     "name": "stdout",
     "output_type": "stream",
     "text": [
      "Epoch 1......... loss : 658.747187918459\n",
      "Epoch 2......... loss : 316.44766059771706\n",
      "Epoch 3......... loss : 146.35897763244253\n",
      "Epoch 4......... loss : 82.98098923499902\n",
      "Epoch 5......... loss : 68.35175174571944\n",
      "Epoch 6......... loss : 59.099938754114376\n",
      "Epoch 7......... loss : 52.848049640679776\n",
      "Epoch 8......... loss : 48.24316588017366\n",
      "Epoch 9......... loss : 44.552616047851274\n",
      "Epoch 10......... loss : 41.40657272295135\n",
      "Epoch 11......... loss : 38.637047839447305\n",
      "Epoch 12......... loss : 36.17364981596073\n",
      "Epoch 13......... loss : 33.984919505188465\n",
      "Epoch 14......... loss : 32.05087042751796\n",
      "Epoch 15......... loss : 30.35311201541545\n",
      "Epoch 16......... loss : 28.872256752189937\n",
      "Epoch 17......... loss : 27.586432686377982\n",
      "Epoch 18......... loss : 26.47042063610581\n",
      "Epoch 19......... loss : 25.497382293226696\n",
      "Epoch 20......... loss : 24.64185962740159\n",
      "Epoch 21......... loss : 23.881719477544156\n",
      "Epoch 22......... loss : 23.198779748676067\n",
      "Epoch 23......... loss : 22.57865305000392\n",
      "Epoch 24......... loss : 22.010206420102637\n",
      "Epoch 25......... loss : 21.48492119253305\n",
      "Epoch 26......... loss : 20.996309480844612\n",
      "Epoch 27......... loss : 20.53939820041109\n",
      "Epoch 28......... loss : 20.11027144124558\n",
      "Epoch 29......... loss : 19.705720809731776\n",
      "Epoch 30......... loss : 19.32303991975327\n",
      "Epoch 31......... loss : 18.95992799058574\n",
      "Epoch 32......... loss : 18.614438091934378\n",
      "Epoch 33......... loss : 18.284928876737087\n",
      "Epoch 34......... loss : 17.970009325452054\n",
      "Epoch 35......... loss : 17.668481304623597\n",
      "Epoch 36......... loss : 17.37928764421183\n",
      "Epoch 37......... loss : 17.101471848460726\n",
      "Epoch 38......... loss : 16.83415425589317\n",
      "Epoch 39......... loss : 16.57653005397167\n",
      "Epoch 40......... loss : 16.327895550258294\n",
      "Epoch 41......... loss : 16.087704795289646\n",
      "Epoch 42......... loss : 15.855639869123157\n",
      "Epoch 43......... loss : 15.631644464704701\n",
      "Epoch 44......... loss : 15.415855738698712\n",
      "Epoch 45......... loss : 15.208429461216303\n",
      "Epoch 46......... loss : 15.009360490210028\n",
      "Epoch 47......... loss : 14.818415454393103\n",
      "Epoch 48......... loss : 14.635185068978188\n",
      "Epoch 49......... loss : 14.459178139963546\n",
      "Epoch 50......... loss : 14.28989438903519\n",
      "Epoch 51......... loss : 14.126861793377502\n",
      "Epoch 52......... loss : 13.969649033156216\n",
      "Epoch 53......... loss : 13.817865824928694\n",
      "Epoch 54......... loss : 13.67115904865822\n",
      "Epoch 55......... loss : 13.529208301391035\n",
      "Epoch 56......... loss : 13.391722130177698\n",
      "Epoch 57......... loss : 13.25843513296008\n",
      "Epoch 58......... loss : 13.129105731981442\n",
      "Epoch 59......... loss : 13.003514344831862\n",
      "Epoch 60......... loss : 12.881461721727407\n",
      "Epoch 61......... loss : 12.762767301614836\n",
      "Epoch 62......... loss : 12.64726752644713\n",
      "Epoch 63......... loss : 12.534814123087322\n",
      "Epoch 64......... loss : 12.425272405814821\n",
      "Epoch 65......... loss : 12.318519665392268\n",
      "Epoch 66......... loss : 12.214443696482315\n",
      "Epoch 67......... loss : 12.112941482741856\n",
      "Epoch 68......... loss : 12.013918022626285\n",
      "Epoch 69......... loss : 11.917285252523799\n",
      "Epoch 70......... loss : 11.822961018979143\n",
      "Epoch 71......... loss : 11.730868069510269\n",
      "Epoch 72......... loss : 11.640933066761308\n",
      "Epoch 73......... loss : 11.553085666501612\n",
      "Epoch 74......... loss : 11.467257724336472\n",
      "Epoch 75......... loss : 11.383382694040828\n",
      "Epoch 76......... loss : 11.30139525946894\n",
      "Epoch 77......... loss : 11.221231201702333\n",
      "Epoch 78......... loss : 11.142827471212552\n",
      "Epoch 79......... loss : 11.066122402355434\n",
      "Epoch 80......... loss : 10.991056008620964\n",
      "Epoch 81......... loss : 10.91757028744464\n",
      "Epoch 82......... loss : 10.845609500398764\n",
      "Epoch 83......... loss : 10.775120378876231\n",
      "Epoch 84......... loss : 10.706052271769316\n",
      "Epoch 85......... loss : 10.638357187538716\n",
      "Epoch 86......... loss : 10.571989807352775\n",
      "Epoch 87......... loss : 10.506907370582988\n",
      "Epoch 88......... loss : 10.443069613557274\n",
      "Epoch 89......... loss : 10.38043850837688\n",
      "Epoch 90......... loss : 10.318978230561246\n",
      "Epoch 91......... loss : 10.258654704806398\n",
      "Epoch 92......... loss : 10.199435797958438\n",
      "Epoch 93......... loss : 10.141290479034904\n",
      "Epoch 94......... loss : 10.084189721366013\n",
      "Epoch 95......... loss : 10.02810476277134\n",
      "Epoch 96......... loss : 9.97301023868717\n",
      "Epoch 97......... loss : 9.91888081701452\n",
      "Epoch 98......... loss : 9.8657031989743\n",
      "Epoch 99......... loss : 9.813476453133756\n",
      "Epoch 100......... loss : 9.762275519534986\n"
     ]
    }
   ],
   "source": [
    "params, error = train(X_train, Y_train, epoch=100, learning_rate=0.000125)"
   ]
  },
  {
   "cell_type": "code",
   "execution_count": 33,
   "id": "43264b80",
   "metadata": {},
   "outputs": [
    {
     "data": {
      "image/png": "[encoded data removed]",
      "text/plain": [
       "<Figure size 640x480 with 1 Axes>"
      ]
     },
     "metadata": {},
     "output_type": "display_data"
    }
   ],
   "source": [
    "import matplotlib.pyplot as plt\n",
    "\n",
    "plt.plot(list(range(100)), error)\n",
    "plt.xlabel('Epochs')\n",
    "plt.ylabel('Loss')\n",
    "plt.show()"
   ]
  },
  {
   "cell_type": "markdown",
   "id": "3a60de38",
   "metadata": {},
   "source": [
    "### Evaluation du modèle"
   ]
  },
  {
   "cell_type": "code",
   "execution_count": 34,
   "id": "fe9a8a2c",
   "metadata": {},
   "outputs": [],
   "source": [
    "#  Nouvelle erreur\n",
    "def predict(X, params):\n",
    "    \n",
    "    M1 = np.dot(X, params[\"W1\"]) \n",
    "    \n",
    "    N1 = M1 + params[\"B1\"]  # Premiere regression linéaire. W1 B1 pour la transformation\n",
    "    \n",
    "    S1 = sigmoid(N1)  # Premiere regression linéaire passée à Sigmoid. Sigmoid pour la non linéarité\n",
    "    \n",
    "    M2 = np.dot(S1, params[\"W2\"])  # Le S1 devient le X(les caractéristiques) lors du produit matricielle avec le poids W2\n",
    "    \n",
    "    P = M2 + params[\"B2\"]  # Deuxieme regression linéaire. W2 B2 pour la prédiction\n",
    "    \n",
    "    return P\n",
    "    "
   ]
  },
  {
   "cell_type": "code",
   "execution_count": 35,
   "id": "f9a3d0c8",
   "metadata": {},
   "outputs": [],
   "source": [
    "def mse(y, pred):  #  mean squared error\n",
    "    return np.mean((y-pred)**2)\n",
    "\n",
    "def rmse(y, pred):\n",
    "    return np.sqrt(mse(y, pred))\n",
    "\n",
    "def mae(y, pred): #  mean absolute error, erreur moyenne absolue\n",
    "    return np.mean(np.abs(y - pred))"
   ]
  },
  {
   "cell_type": "code",
   "execution_count": 36,
   "id": "246c67e4",
   "metadata": {},
   "outputs": [
    {
     "name": "stdout",
     "output_type": "stream",
     "text": [
      "rmse:  4.674577460715093\n",
      "mae:  3.0712876103107822\n"
     ]
    }
   ],
   "source": [
    "preds = predict(X_test, params)\n",
    "score_rmse = rmse(Y_test, preds)\n",
    "score_mae = mae(Y_test, preds)\n",
    "\n",
    "print(\"rmse: \", score_rmse)\n",
    "print(\"mae: \", score_mae)"
   ]
  },
  {
   "cell_type": "code",
   "execution_count": null,
   "id": "9ba9e949",
   "metadata": {},
   "outputs": [],
   "source": []
  }
 ],
 "metadata": {
  "kernelspec": {
   "display_name": "Python 3 (ipykernel)",
   "language": "python",
   "name": "python3"
  },
  "language_info": {
   "codemirror_mode": {
    "name": "ipython",
    "version": 3
   },
   "file_extension": ".py",
   "mimetype": "text/x-python",
   "name": "python",
   "nbconvert_exporter": "python",
   "pygments_lexer": "ipython3",
   "version": "3.10.4"
  }
 },
 "nbformat": 4,
 "nbformat_minor": 5
}
