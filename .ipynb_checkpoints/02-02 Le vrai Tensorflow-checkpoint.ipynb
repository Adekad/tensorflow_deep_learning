{
 "cells": [
  {
   "cell_type": "code",
   "execution_count": 1,
   "id": "01b5a582",
   "metadata": {},
   "outputs": [],
   "source": [
    "import pandas as pd\n",
    "import numpy as np\n",
    "\n",
    "url = \"./boston.txt\"\n",
    "raw_df = pd.read_csv(url, sep=\"\\s+\", skiprows=22, header=None)\n",
    "data = np.hstack([raw_df.values[::2, :], raw_df.values[1::2, :2]])\n",
    "target = raw_df.values[1::2, 2]\n",
    "\n",
    "data = data\n",
    "target = target\n",
    "\n",
    "X = data\n",
    "Y = target.reshape(506, 1)\n",
    "\n",
    "from sklearn.model_selection import train_test_split\n",
    "X_train, X_test, Y_train, Y_test = train_test_split(X, Y, test_size=0.25, random_state=0)\n",
    "\n",
    "from sklearn.preprocessing import StandardScaler\n",
    "scaler = StandardScaler()\n",
    "X_train = scaler.fit_transform(X_train)\n",
    "X_test = scaler.transform(X_test)"
   ]
  },
  {
   "cell_type": "code",
   "execution_count": 4,
   "id": "a54663a4",
   "metadata": {},
   "outputs": [],
   "source": [
    "from tensorflow.keras.models import Sequential  #Notre classe Model  \n",
    "# Nous permet de créer des modeles sequentiels(y a des models non sequentiels)\n",
    "from tensorflow.keras.layers import Dense\n",
    "# Dans layers on a plusieurs types de couche(couches densements connectées et des couches qui ne sont pas forcément connectées à tous les elts de la couche qui vient avant )\n",
    "from tensorflow.keras.optimizers import SGD \n",
    "# On a plusieurs type d'optimizer"
   ]
  },
  {
   "cell_type": "code",
   "execution_count": 8,
   "id": "dba9ad2d",
   "metadata": {},
   "outputs": [
    {
     "name": "stderr",
     "output_type": "stream",
     "text": [
      "2024-01-14 18:07:31.015274: W tensorflow/compiler/xla/stream_executor/platform/default/dso_loader.cc:64] Could not load dynamic library 'libcuda.so.1'; dlerror: libcuda.so.1: cannot open shared object file: No such file or directory\n",
      "2024-01-14 18:07:31.015312: W tensorflow/compiler/xla/stream_executor/cuda/cuda_driver.cc:265] failed call to cuInit: UNKNOWN ERROR (303)\n",
      "2024-01-14 18:07:31.015351: I tensorflow/compiler/xla/stream_executor/cuda/cuda_diagnostics.cc:156] kernel driver does not appear to be running on this host (elimson-HP-250-G7-Notebook-PC): /proc/driver/nvidia/version does not exist\n",
      "2024-01-14 18:07:31.015693: I tensorflow/core/platform/cpu_feature_guard.cc:193] This TensorFlow binary is optimized with oneAPI Deep Neural Network Library (oneDNN) to use the following CPU instructions in performance-critical operations:  AVX2 FMA\n",
      "To enable them in other operations, rebuild TensorFlow with the appropriate compiler flags.\n"
     ]
    }
   ],
   "source": [
    "model = Sequential([Dense(units=13, activation=\"sigmoid\"), \n",
    "               Dense(units=8, activation=\"sigmoid\"),\n",
    "               Dense(units=5, activation=\"sigmoid\"),\n",
    "               Dense(units=1)\n",
    "              ])\n"
   ]
  },
  {
   "cell_type": "code",
   "execution_count": 9,
   "id": "4e669d18",
   "metadata": {},
   "outputs": [
    {
     "name": "stdout",
     "output_type": "stream",
     "text": [
      "Epoch 1/20\n",
      "12/12 [==============================] - 1s 37ms/step - loss: 302.5593 - val_loss: 123.0184\n",
      "Epoch 2/20\n",
      "12/12 [==============================] - 0s 9ms/step - loss: 103.3974 - val_loss: 83.6023\n",
      "Epoch 3/20\n",
      "12/12 [==============================] - 0s 7ms/step - loss: 86.3719 - val_loss: 81.3346\n",
      "Epoch 4/20\n",
      "12/12 [==============================] - 0s 8ms/step - loss: 85.0254 - val_loss: 81.0554\n",
      "Epoch 5/20\n",
      "12/12 [==============================] - 0s 7ms/step - loss: 84.3788 - val_loss: 80.5736\n",
      "Epoch 6/20\n",
      "12/12 [==============================] - 0s 8ms/step - loss: 83.7403 - val_loss: 80.0198\n",
      "Epoch 7/20\n",
      "12/12 [==============================] - 0s 7ms/step - loss: 82.2351 - val_loss: 78.3060\n",
      "Epoch 8/20\n",
      "12/12 [==============================] - 0s 7ms/step - loss: 79.3009 - val_loss: 75.1204\n",
      "Epoch 9/20\n",
      "12/12 [==============================] - 0s 8ms/step - loss: 72.7724 - val_loss: 69.9932\n",
      "Epoch 10/20\n",
      "12/12 [==============================] - 0s 7ms/step - loss: 63.6258 - val_loss: 64.1133\n",
      "Epoch 11/20\n",
      "12/12 [==============================] - 0s 8ms/step - loss: 54.3755 - val_loss: 59.5019\n",
      "Epoch 12/20\n",
      "12/12 [==============================] - 0s 7ms/step - loss: 46.9267 - val_loss: 55.2877\n",
      "Epoch 13/20\n",
      "12/12 [==============================] - 0s 6ms/step - loss: 41.1873 - val_loss: 49.8044\n",
      "Epoch 14/20\n",
      "12/12 [==============================] - 0s 6ms/step - loss: 36.4523 - val_loss: 44.8135\n",
      "Epoch 15/20\n",
      "12/12 [==============================] - 0s 6ms/step - loss: 32.8946 - val_loss: 41.5729\n",
      "Epoch 16/20\n",
      "12/12 [==============================] - 0s 6ms/step - loss: 30.3195 - val_loss: 39.9090\n",
      "Epoch 17/20\n",
      "12/12 [==============================] - 0s 7ms/step - loss: 27.6886 - val_loss: 36.2996\n",
      "Epoch 18/20\n",
      "12/12 [==============================] - 0s 6ms/step - loss: 26.1510 - val_loss: 34.4010\n",
      "Epoch 19/20\n",
      "12/12 [==============================] - 0s 6ms/step - loss: 24.5840 - val_loss: 35.0683\n",
      "Epoch 20/20\n",
      "12/12 [==============================] - 0s 6ms/step - loss: 23.3279 - val_loss: 32.8950\n"
     ]
    }
   ],
   "source": [
    "model.compile(loss=\"mse\", optimizer=SGD(learning_rate=0.01))\n",
    "h = model.fit(X_train, Y_train, epochs=20, validation_data=(X_test, Y_test))"
   ]
  },
  {
   "cell_type": "code",
   "execution_count": 10,
   "id": "be420044",
   "metadata": {},
   "outputs": [
    {
     "data": {
      "text/plain": [
       "{'loss': [302.5592956542969,\n",
       "  103.3974380493164,\n",
       "  86.37186431884766,\n",
       "  85.0253677368164,\n",
       "  84.37883758544922,\n",
       "  83.74027252197266,\n",
       "  82.2350845336914,\n",
       "  79.3009033203125,\n",
       "  72.77242279052734,\n",
       "  63.625823974609375,\n",
       "  54.375545501708984,\n",
       "  46.92669677734375,\n",
       "  41.187320709228516,\n",
       "  36.45231246948242,\n",
       "  32.894569396972656,\n",
       "  30.31949234008789,\n",
       "  27.688554763793945,\n",
       "  26.15101432800293,\n",
       "  24.583953857421875,\n",
       "  23.327943801879883],\n",
       " 'val_loss': [123.01839447021484,\n",
       "  83.60231018066406,\n",
       "  81.33460235595703,\n",
       "  81.05537414550781,\n",
       "  80.57355499267578,\n",
       "  80.0197982788086,\n",
       "  78.30603790283203,\n",
       "  75.12039184570312,\n",
       "  69.99319458007812,\n",
       "  64.11331176757812,\n",
       "  59.501861572265625,\n",
       "  55.287696838378906,\n",
       "  49.80436325073242,\n",
       "  44.81349182128906,\n",
       "  41.57292556762695,\n",
       "  39.90901184082031,\n",
       "  36.29956817626953,\n",
       "  34.401004791259766,\n",
       "  35.06825256347656,\n",
       "  32.89497756958008]}"
      ]
     },
     "execution_count": 10,
     "metadata": {},
     "output_type": "execute_result"
    }
   ],
   "source": [
    "h.history"
   ]
  },
  {
   "cell_type": "code",
   "execution_count": 11,
   "id": "ba102fc7",
   "metadata": {},
   "outputs": [],
   "source": [
    "import matplotlib.pyplot as plt\n",
    "\n",
    "def plot_learning_curv(history):    \n",
    "    plt.plot(list(range(len(history[\"loss\"]))), history[\"loss\"])\n",
    "    plt.plot(list(range(len(history[\"val_loss\"]))), history[\"val_loss\"])\n",
    "    \n",
    "    plt.xlabel('Epochs')\n",
    "    plt.ylabel('Loss')\n",
    "    plt.title(\"Learning Curve\")\n",
    "    plt.show()"
   ]
  },
  {
   "cell_type": "code",
   "execution_count": 12,
   "id": "7151d510",
   "metadata": {},
   "outputs": [
    {
     "data": {
      "image/png": "[encoded data removed]",
      "text/plain": [
       "<Figure size 640x480 with 1 Axes>"
      ]
     },
     "metadata": {},
     "output_type": "display_data"
    }
   ],
   "source": [
    "plot_learning_curv(h.history)"
   ]
  },
  {
   "cell_type": "code",
   "execution_count": 14,
   "id": "41744d24",
   "metadata": {},
   "outputs": [
    {
     "name": "stdout",
     "output_type": "stream",
     "text": [
      "Model: \"sequential\"\n",
      "_________________________________________________________________\n",
      " Layer (type)                Output Shape              Param #   \n",
      "=================================================================\n",
      " dense (Dense)               (None, 13)                182       \n",
      "                                                                 \n",
      " dense_1 (Dense)             (None, 8)                 112       \n",
      "                                                                 \n",
      " dense_2 (Dense)             (None, 5)                 45        \n",
      "                                                                 \n",
      " dense_3 (Dense)             (None, 1)                 6         \n",
      "                                                                 \n",
      "=================================================================\n",
      "Total params: 345\n",
      "Trainable params: 345\n",
      "Non-trainable params: 0\n",
      "_________________________________________________________________\n"
     ]
    }
   ],
   "source": [
    "model.summary()  \n",
    "# W1(13, 13) B1(1, 13) = 13*13 + 13 = 182\n",
    "# W2(13, 8) B1(1, 8) = 13*8 + 8 = 112"
   ]
  },
  {
   "cell_type": "code",
   "execution_count": 15,
   "id": "8f295aa5",
   "metadata": {},
   "outputs": [],
   "source": [
    "# Sauvegarde du modele\n",
    "model.save(\"model.h5\")"
   ]
  },
  {
   "cell_type": "code",
   "execution_count": 16,
   "id": "d460bfa0",
   "metadata": {},
   "outputs": [],
   "source": [
    "# Charger le modele\n",
    "from tensorflow.keras.models import load_model"
   ]
  },
  {
   "cell_type": "code",
   "execution_count": 17,
   "id": "62b65375",
   "metadata": {},
   "outputs": [],
   "source": [
    "new_model = load_model(\"model.h5\")"
   ]
  },
  {
   "cell_type": "code",
   "execution_count": 18,
   "id": "c82db7f9",
   "metadata": {},
   "outputs": [
    {
     "name": "stdout",
     "output_type": "stream",
     "text": [
      "Model: \"sequential\"\n",
      "_________________________________________________________________\n",
      " Layer (type)                Output Shape              Param #   \n",
      "=================================================================\n",
      " dense (Dense)               (None, 13)                182       \n",
      "                                                                 \n",
      " dense_1 (Dense)             (None, 8)                 112       \n",
      "                                                                 \n",
      " dense_2 (Dense)             (None, 5)                 45        \n",
      "                                                                 \n",
      " dense_3 (Dense)             (None, 1)                 6         \n",
      "                                                                 \n",
      "=================================================================\n",
      "Total params: 345\n",
      "Trainable params: 345\n",
      "Non-trainable params: 0\n",
      "_________________________________________________________________\n"
     ]
    }
   ],
   "source": [
    "new_model.summary()"
   ]
  },
  {
   "cell_type": "code",
   "execution_count": 19,
   "id": "73e61145",
   "metadata": {},
   "outputs": [
    {
     "name": "stdout",
     "output_type": "stream",
     "text": [
      "4/4 [==============================] - 0s 4ms/step\n"
     ]
    }
   ],
   "source": [
    "# Utiliser ce modele pour faire des prédictions\n",
    "P = new_model.predict(X_test)  # Contrib"
   ]
  },
  {
   "cell_type": "code",
   "execution_count": 20,
   "id": "0f6f6d19",
   "metadata": {},
   "outputs": [
    {
     "data": {
      "text/plain": [
       "(127, 1)"
      ]
     },
     "execution_count": 20,
     "metadata": {},
     "output_type": "execute_result"
    }
   ],
   "source": [
    "P.shape"
   ]
  },
  {
   "cell_type": "code",
   "execution_count": 22,
   "id": "ab7ff6fb",
   "metadata": {},
   "outputs": [
    {
     "name": "stdout",
     "output_type": "stream",
     "text": [
      "4/4 [==============================] - 0s 3ms/step - loss: 32.8950\n"
     ]
    },
    {
     "data": {
      "text/plain": [
       "32.89497756958008"
      ]
     },
     "execution_count": 22,
     "metadata": {},
     "output_type": "execute_result"
    }
   ],
   "source": [
    "new_model.evaluate(X_test, Y_test)  # Contrib "
   ]
  },
  {
   "cell_type": "code",
   "execution_count": null,
   "id": "2a692a7e",
   "metadata": {},
   "outputs": [],
   "source": []
  }
 ],
 "metadata": {
  "kernelspec": {
   "display_name": "Python 3 (ipykernel)",
   "language": "python",
   "name": "python3"
  },
  "language_info": {
   "codemirror_mode": {
    "name": "ipython",
    "version": 3
   },
   "file_extension": ".py",
   "mimetype": "text/x-python",
   "name": "python",
   "nbconvert_exporter": "python",
   "pygments_lexer": "ipython3",
   "version": "3.10.12"
  }
 },
 "nbformat": 4,
 "nbformat_minor": 5
}
