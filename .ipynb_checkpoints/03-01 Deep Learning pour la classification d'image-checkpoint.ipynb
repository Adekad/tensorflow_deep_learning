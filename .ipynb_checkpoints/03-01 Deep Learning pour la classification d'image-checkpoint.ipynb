{
 "cells": [
  {
   "cell_type": "code",
   "execution_count": 1,
   "id": "1336e99b",
   "metadata": {},
   "outputs": [
    {
     "name": "stderr",
     "output_type": "stream",
     "text": [
      "2024-01-22 11:10:35.690980: I tensorflow/core/platform/cpu_feature_guard.cc:193] This TensorFlow binary is optimized with oneAPI Deep Neural Network Library (oneDNN) to use the following CPU instructions in performance-critical operations:  AVX2 FMA\n",
      "To enable them in other operations, rebuild TensorFlow with the appropriate compiler flags.\n",
      "2024-01-22 11:10:41.577690: W tensorflow/compiler/xla/stream_executor/platform/default/dso_loader.cc:64] Could not load dynamic library 'libcudart.so.11.0'; dlerror: libcudart.so.11.0: cannot open shared object file: No such file or directory\n",
      "2024-01-22 11:10:41.577772: I tensorflow/compiler/xla/stream_executor/cuda/cudart_stub.cc:29] Ignore above cudart dlerror if you do not have a GPU set up on your machine.\n",
      "2024-01-22 11:11:03.102053: W tensorflow/compiler/xla/stream_executor/platform/default/dso_loader.cc:64] Could not load dynamic library 'libnvinfer.so.7'; dlerror: libnvinfer.so.7: cannot open shared object file: No such file or directory\n",
      "2024-01-22 11:11:03.102770: W tensorflow/compiler/xla/stream_executor/platform/default/dso_loader.cc:64] Could not load dynamic library 'libnvinfer_plugin.so.7'; dlerror: libnvinfer_plugin.so.7: cannot open shared object file: No such file or directory\n",
      "2024-01-22 11:11:03.102842: W tensorflow/compiler/tf2tensorrt/utils/py_utils.cc:38] TF-TRT Warning: Cannot dlopen some TensorRT libraries. If you would like to use Nvidia GPU with TensorRT, please make sure the missing libraries mentioned above are installed properly.\n"
     ]
    }
   ],
   "source": [
    "import tensorflow as tf"
   ]
  },
  {
   "cell_type": "code",
   "execution_count": 2,
   "id": "28c62e37",
   "metadata": {},
   "outputs": [],
   "source": [
    "data = tf.keras.datasets.fashion_mnist\n",
    "(training_images, training_labels), (test_images, test_labels) = data.load_data()"
   ]
  },
  {
   "cell_type": "markdown",
   "id": "62b0f8e8",
   "metadata": {},
   "source": [
    "### Exploration de la donnée"
   ]
  },
  {
   "cell_type": "code",
   "execution_count": 3,
   "id": "61d95617",
   "metadata": {},
   "outputs": [
    {
     "data": {
      "text/plain": [
       "(60000, 28, 28)"
      ]
     },
     "execution_count": 3,
     "metadata": {},
     "output_type": "execute_result"
    }
   ],
   "source": [
    "training_images.shape # 28, 28 longueur largeur de l'image"
   ]
  },
  {
   "cell_type": "code",
   "execution_count": 4,
   "id": "d718dfd4",
   "metadata": {},
   "outputs": [
    {
     "data": {
      "text/plain": [
       "array([[[0, 0, 0, ..., 0, 0, 0],\n",
       "        [0, 0, 0, ..., 0, 0, 0],\n",
       "        [0, 0, 0, ..., 0, 0, 0],\n",
       "        ...,\n",
       "        [0, 0, 0, ..., 0, 0, 0],\n",
       "        [0, 0, 0, ..., 0, 0, 0],\n",
       "        [0, 0, 0, ..., 0, 0, 0]],\n",
       "\n",
       "       [[0, 0, 0, ..., 0, 0, 0],\n",
       "        [0, 0, 0, ..., 0, 0, 0],\n",
       "        [0, 0, 0, ..., 0, 0, 0],\n",
       "        ...,\n",
       "        [0, 0, 0, ..., 0, 0, 0],\n",
       "        [0, 0, 0, ..., 0, 0, 0],\n",
       "        [0, 0, 0, ..., 0, 0, 0]],\n",
       "\n",
       "       [[0, 0, 0, ..., 0, 0, 0],\n",
       "        [0, 0, 0, ..., 0, 0, 0],\n",
       "        [0, 0, 0, ..., 0, 0, 0],\n",
       "        ...,\n",
       "        [0, 0, 0, ..., 0, 0, 0],\n",
       "        [0, 0, 0, ..., 0, 0, 0],\n",
       "        [0, 0, 0, ..., 0, 0, 0]],\n",
       "\n",
       "       ...,\n",
       "\n",
       "       [[0, 0, 0, ..., 0, 0, 0],\n",
       "        [0, 0, 0, ..., 0, 0, 0],\n",
       "        [0, 0, 0, ..., 0, 0, 0],\n",
       "        ...,\n",
       "        [0, 0, 0, ..., 0, 0, 0],\n",
       "        [0, 0, 0, ..., 0, 0, 0],\n",
       "        [0, 0, 0, ..., 0, 0, 0]],\n",
       "\n",
       "       [[0, 0, 0, ..., 0, 0, 0],\n",
       "        [0, 0, 0, ..., 0, 0, 0],\n",
       "        [0, 0, 0, ..., 0, 0, 0],\n",
       "        ...,\n",
       "        [0, 0, 0, ..., 0, 0, 0],\n",
       "        [0, 0, 0, ..., 0, 0, 0],\n",
       "        [0, 0, 0, ..., 0, 0, 0]],\n",
       "\n",
       "       [[0, 0, 0, ..., 0, 0, 0],\n",
       "        [0, 0, 0, ..., 0, 0, 0],\n",
       "        [0, 0, 0, ..., 0, 0, 0],\n",
       "        ...,\n",
       "        [0, 0, 0, ..., 0, 0, 0],\n",
       "        [0, 0, 0, ..., 0, 0, 0],\n",
       "        [0, 0, 0, ..., 0, 0, 0]]], dtype=uint8)"
      ]
     },
     "execution_count": 4,
     "metadata": {},
     "output_type": "execute_result"
    }
   ],
   "source": [
    "training_images"
   ]
  },
  {
   "cell_type": "code",
   "execution_count": 5,
   "id": "d45cec43",
   "metadata": {},
   "outputs": [
    {
     "data": {
      "text/plain": [
       "(10000, 28, 28)"
      ]
     },
     "execution_count": 5,
     "metadata": {},
     "output_type": "execute_result"
    }
   ],
   "source": [
    "test_images.shape"
   ]
  },
  {
   "cell_type": "code",
   "execution_count": 6,
   "id": "945ad468",
   "metadata": {},
   "outputs": [
    {
     "data": {
      "text/plain": [
       "array([9, 0, 0, ..., 3, 0, 5], dtype=uint8)"
      ]
     },
     "execution_count": 6,
     "metadata": {},
     "output_type": "execute_result"
    }
   ],
   "source": [
    "training_labels"
   ]
  },
  {
   "cell_type": "code",
   "execution_count": 7,
   "id": "fa8a5415",
   "metadata": {},
   "outputs": [
    {
     "data": {
      "text/plain": [
       "(60000,)"
      ]
     },
     "execution_count": 7,
     "metadata": {},
     "output_type": "execute_result"
    }
   ],
   "source": [
    "training_labels.shape"
   ]
  },
  {
   "cell_type": "code",
   "execution_count": 8,
   "id": "07863fad",
   "metadata": {},
   "outputs": [
    {
     "data": {
      "text/plain": [
       "['t-shirt/top',\n",
       " 'trouser',\n",
       " 'pullover',\n",
       " 'dress',\n",
       " 'coat',\n",
       " 'sandals',\n",
       " 'shirt',\n",
       " 'sneaker',\n",
       " 'bag',\n",
       " 'ankle boot']"
      ]
     },
     "execution_count": 8,
     "metadata": {},
     "output_type": "execute_result"
    }
   ],
   "source": [
    "labels = [\"t-shirt/top\", \"trouser\", \"pullover\", \"dress\", \"coat\", \"sandals\", \"shirt\",\n",
    "         \"sneaker\", \"bag\", \"ankle boot\"]\n",
    "\n",
    "labels"
   ]
  },
  {
   "cell_type": "code",
   "execution_count": 9,
   "id": "37655e5c",
   "metadata": {},
   "outputs": [
    {
     "data": {
      "text/plain": [
       "array([[  0,   0,   0,   1,   0,   0,   0,   0,   0,  34, 148, 202, 107,\n",
       "         84, 162, 198,  90,  26,   0,   0,   0,   0,   0,   0,   0,   0,\n",
       "          0,   0],\n",
       "       [  0,   0,   0,   0,   0,   0,  21, 107, 166, 168, 152, 204, 238,\n",
       "        248, 237, 190, 142, 178, 158,  98,  17,   0,   0,   0,   0,   0,\n",
       "          0,   0],\n",
       "       [  0,   0,   0,   1,   0,  55, 188, 140, 131, 121, 119, 116, 146,\n",
       "        157, 132, 115, 136, 125, 140, 143, 181,  51,   0,   0,   0,   0,\n",
       "          0,   0],\n",
       "       [  0,   0,   0,   0,   0, 167, 134, 113, 130, 134, 140, 132, 125,\n",
       "        125, 131, 135, 130, 133, 131, 115, 135, 163,   6,   0,   0,   0,\n",
       "          0,   0],\n",
       "       [  0,   0,   0,   0,  58, 148, 133, 124, 134, 128, 135, 128, 133,\n",
       "        130, 133, 137, 138, 130, 124, 130, 133, 147,  82,   0,   1,   0,\n",
       "          0,   0],\n",
       "       [  0,   0,   0,   0,  86, 148, 158, 139, 124, 120, 131, 134, 132,\n",
       "        134, 124, 134, 132, 137, 126, 137, 136, 146, 114,   0,   0,   0,\n",
       "          0,   0],\n",
       "       [  0,   0,   0,   0, 112, 141, 174, 143, 117, 134, 130, 128, 131,\n",
       "        136, 134, 128, 128, 131, 106, 187, 149, 147, 143,   0,   0,   0,\n",
       "          0,   0],\n",
       "       [  0,   0,   0,   0, 134, 151, 167, 154, 114, 134, 138, 139, 135,\n",
       "        135, 130, 130, 124, 129, 119, 229, 141, 145, 164,   0,   0,   0,\n",
       "          0,   0],\n",
       "       [  0,   0,   0,   0, 136, 154, 169, 157, 109, 147, 140, 137, 137,\n",
       "        136, 142, 141, 139, 129, 123, 201, 146, 138, 172,  21,   0,   0,\n",
       "          0,   0],\n",
       "       [  0,   0,   0,   0, 145, 158, 171, 175, 111, 136, 145, 136, 135,\n",
       "        138, 137, 143, 146, 140, 122, 184, 167, 136, 170,  58,   0,   0,\n",
       "          0,   0],\n",
       "       [  0,   0,   0,   0, 151, 155, 189, 183, 120, 135, 132, 136, 135,\n",
       "        133, 128, 130, 134, 120, 153, 230, 156, 135, 167,  83,   0,   0,\n",
       "          0,   0],\n",
       "       [  0,   0,   0,   1, 166, 151, 208, 175, 116, 142, 144, 138, 149,\n",
       "        133, 131, 137, 140, 119, 126, 206, 198, 141, 166, 101,   0,   0,\n",
       "          0,   0],\n",
       "       [  0,   0,   0,   6, 169, 146, 237, 187, 104, 131, 136, 149, 147,\n",
       "        137, 137, 137, 132, 137, 113, 166, 206, 151, 162, 126,   0,   0,\n",
       "          0,   0],\n",
       "       [  0,   0,   0,  20, 180, 136, 231, 214, 105, 134, 140, 139, 136,\n",
       "        137, 136, 148, 134, 149, 111, 139, 255, 151, 158, 147,   0,   0,\n",
       "          0,   0],\n",
       "       [  0,   0,   0,  33, 184, 109, 217, 182, 105, 124, 143, 131, 135,\n",
       "        137, 139, 138, 131, 142, 132,  99, 249, 162, 157, 172,   0,   0,\n",
       "          0,   0],\n",
       "       [  0,   0,   0,  35, 180, 112, 233, 143, 109, 133, 145, 146, 142,\n",
       "        142, 139, 141, 135, 141, 152, 101, 205, 163, 154, 170,   0,   0,\n",
       "          0,   0],\n",
       "       [  0,   0,   0,  42, 183, 123, 217, 117, 126, 137, 140, 134, 137,\n",
       "        135, 143, 141, 133, 133, 149, 107, 166, 176, 153, 169,  14,   0,\n",
       "          0,   0],\n",
       "       [  0,   0,   0,  48, 175, 147, 210, 101, 119, 136, 142, 137, 142,\n",
       "        139, 147, 142, 146, 126, 138, 102, 131, 197, 161, 183,  32,   0,\n",
       "          0,   0],\n",
       "       [  0,   0,   0,  56, 165, 163, 213,  74, 126, 138, 149, 133, 133,\n",
       "        132, 141, 134, 142, 132, 132, 126, 117, 193, 162, 172,  39,   0,\n",
       "          0,   0],\n",
       "       [  0,   0,   0,  62, 157, 165, 227,  39, 135, 138, 136, 142, 146,\n",
       "        143, 136, 138, 134, 141, 134, 116,  78, 197, 171, 156,  44,   0,\n",
       "          0,   0],\n",
       "       [  0,   0,   0,  65, 162, 169, 245,  39, 140, 133, 133, 128, 132,\n",
       "        134, 143, 145, 134, 133, 134, 128,  36, 208, 172, 151,  55,   0,\n",
       "          0,   0],\n",
       "       [  0,   0,   0,  72, 147, 168, 244,  25, 142, 137, 138, 133, 128,\n",
       "        132, 147, 145, 135, 136, 133, 131,  26, 207, 173, 149,  67,   0,\n",
       "          0,   0],\n",
       "       [  0,   0,   0,  68, 153, 179, 250,  11, 135, 134, 139, 133, 136,\n",
       "        140, 140, 143, 145, 140, 131, 126,  32, 207, 175, 136,  73,   0,\n",
       "          0,   0],\n",
       "       [  0,   0,   0,  61, 155, 180, 252,  23, 151, 132, 131, 133, 133,\n",
       "        129, 135, 140, 132, 139, 132, 139,  38, 221, 174, 135,  77,   0,\n",
       "          0,   0],\n",
       "       [  0,   0,   0,  18, 147, 187, 185,   3, 173, 153, 151, 150, 153,\n",
       "        150, 150, 153, 148, 151, 146, 161,   4, 184, 175, 136,  37,   0,\n",
       "          0,   0],\n",
       "       [  0,   0,   0,   0, 150, 204,  76,   0, 213, 165, 167, 170, 172,\n",
       "        171, 169, 170, 172, 167, 160, 202,   0, 107, 196, 152,   0,   0,\n",
       "          0,   0],\n",
       "       [  0,   0,   0,   0, 123, 162,  41,   2, 153, 124, 133, 136, 141,\n",
       "        135, 132, 134, 139, 144, 141, 132,   0,  67, 153, 142,   0,   0,\n",
       "          0,   0],\n",
       "       [  0,   0,   0,   0,   0,   0,   0,   0,   0,   0,   0,   0,   0,\n",
       "          0,   0,   0,   0,   0,   0,   0,   0,   0,   0,   0,   0,   0,\n",
       "          0,   0]], dtype=uint8)"
      ]
     },
     "execution_count": 9,
     "metadata": {},
     "output_type": "execute_result"
    }
   ],
   "source": [
    "training_images[45]"
   ]
  },
  {
   "cell_type": "code",
   "execution_count": 10,
   "id": "d9eb21f6",
   "metadata": {},
   "outputs": [
    {
     "data": {
      "text/plain": [
       "(0, 255)"
      ]
     },
     "execution_count": 10,
     "metadata": {},
     "output_type": "execute_result"
    }
   ],
   "source": [
    "training_images.min(), training_images.max()"
   ]
  },
  {
   "cell_type": "code",
   "execution_count": 11,
   "id": "61b42419",
   "metadata": {},
   "outputs": [
    {
     "data": {
      "image/png": "[encoded data removed]",
      "text/plain": [
       "<Figure size 640x480 with 1 Axes>"
      ]
     },
     "metadata": {},
     "output_type": "display_data"
    }
   ],
   "source": [
    "import matplotlib.pyplot as plt\n",
    "plt.imshow(training_images[45])\n",
    "plt.title(labels[training_labels[45]])\n",
    "plt.show()"
   ]
  },
  {
   "cell_type": "code",
   "execution_count": 12,
   "id": "1c788088",
   "metadata": {},
   "outputs": [
    {
     "data": {
      "text/plain": [
       "2"
      ]
     },
     "execution_count": 12,
     "metadata": {},
     "output_type": "execute_result"
    }
   ],
   "source": [
    "training_labels[45]"
   ]
  },
  {
   "cell_type": "code",
   "execution_count": 13,
   "id": "8d311599",
   "metadata": {},
   "outputs": [
    {
     "data": {
      "text/plain": [
       "(0, 9)"
      ]
     },
     "execution_count": 13,
     "metadata": {},
     "output_type": "execute_result"
    }
   ],
   "source": [
    "training_labels.min(), training_labels.max()"
   ]
  },
  {
   "cell_type": "code",
   "execution_count": 14,
   "id": "8f3aa960",
   "metadata": {},
   "outputs": [
    {
     "data": {
      "text/plain": [
       "'pullover'"
      ]
     },
     "execution_count": 14,
     "metadata": {},
     "output_type": "execute_result"
    }
   ],
   "source": [
    "labels[2]"
   ]
  },
  {
   "cell_type": "code",
   "execution_count": 15,
   "id": "a998f525",
   "metadata": {},
   "outputs": [
    {
     "data": {
      "image/png": "[encoded data removed]",
      "text/plain": [
       "<Figure size 640x480 with 1 Axes>"
      ]
     },
     "metadata": {},
     "output_type": "display_data"
    }
   ],
   "source": [
    "import matplotlib.pyplot as plt\n",
    "plt.imshow(training_images[12345])\n",
    "plt.title(labels[training_labels[12345]])\n",
    "plt.show()"
   ]
  },
  {
   "cell_type": "markdown",
   "id": "b68f6d6d",
   "metadata": {},
   "source": [
    "### Flatten (Applatir l'images)"
   ]
  },
  {
   "cell_type": "code",
   "execution_count": 16,
   "id": "9a5814a3",
   "metadata": {},
   "outputs": [],
   "source": [
    "     # A  B  C\n",
    "#De  # D  E  F    passer à [A, B, C, D, E, F, G, H, I]\n",
    "     # G  H  I"
   ]
  },
  {
   "cell_type": "code",
   "execution_count": 39,
   "id": "8f047eff",
   "metadata": {},
   "outputs": [
    {
     "data": {
      "text/plain": [
       "(60000, 28, 28)"
      ]
     },
     "execution_count": 39,
     "metadata": {},
     "output_type": "execute_result"
    }
   ],
   "source": [
    "training_images.shape"
   ]
  },
  {
   "cell_type": "code",
   "execution_count": 40,
   "id": "dc8648d3",
   "metadata": {},
   "outputs": [],
   "source": [
    "a_training_images = training_images.reshape((60000, 28*28))\n",
    "a_test_images = test_images.reshape((-1, 28*28))"
   ]
  },
  {
   "cell_type": "code",
   "execution_count": 41,
   "id": "7f268fe7",
   "metadata": {},
   "outputs": [
    {
     "data": {
      "text/plain": [
       "((60000, 784), (10000, 784))"
      ]
     },
     "execution_count": 41,
     "metadata": {},
     "output_type": "execute_result"
    }
   ],
   "source": [
    "a_training_images.shape, a_test_images.shape"
   ]
  },
  {
   "cell_type": "markdown",
   "id": "72d63df9",
   "metadata": {},
   "source": [
    "### One Hot Encoding"
   ]
  },
  {
   "cell_type": "code",
   "execution_count": 20,
   "id": "617a532e",
   "metadata": {},
   "outputs": [],
   "source": [
    "#   Pays à catégoriser par\n",
    "# |        |      |\n",
    "# | France |  0   |\n",
    "# | USA    |  1   |\n",
    "# | Mali   |  2   |\n",
    "# |        |      |\n",
    "#\n",
    "# Donc pour 5 personnes on prédit les valeurs\n",
    "#\n",
    "#  a) Mohamed 1\n",
    "#  b) Bill    2\n",
    "#  c) Ahmed   0\n",
    "#  d) Elimson 0\n",
    "#  e) Bignon  1\n",
    "#\n",
    "#  Pays =  France  |  USA  |  Mali\n",
    "#\n",
    "#   a)  =     0    |  1    |   0\n",
    "#   b)  =     0    |  0    |   1\n",
    "#   c)  =     0    |  0    |   0\n",
    "#   d)  =     0    |  0    |   0\n",
    "#   e)  =     0    |  1    |   0\n"
   ]
  },
  {
   "cell_type": "code",
   "execution_count": 21,
   "id": "6f179060",
   "metadata": {},
   "outputs": [],
   "source": [
    "import numpy as np\n",
    "\n",
    "x = np.array([1, 2, 1, 0, 3])"
   ]
  },
  {
   "cell_type": "code",
   "execution_count": 22,
   "id": "154db519",
   "metadata": {},
   "outputs": [
    {
     "data": {
      "text/plain": [
       "array([[0., 1., 0., 0.],\n",
       "       [0., 0., 1., 0.],\n",
       "       [0., 1., 0., 0.],\n",
       "       [1., 0., 0., 0.],\n",
       "       [0., 0., 0., 1.]], dtype=float32)"
      ]
     },
     "execution_count": 22,
     "metadata": {},
     "output_type": "execute_result"
    }
   ],
   "source": [
    "tf.keras.utils.to_categorical(x)"
   ]
  },
  {
   "cell_type": "code",
   "execution_count": 23,
   "id": "90d242bd",
   "metadata": {},
   "outputs": [
    {
     "data": {
      "text/plain": [
       "(60000,)"
      ]
     },
     "execution_count": 23,
     "metadata": {},
     "output_type": "execute_result"
    }
   ],
   "source": [
    "training_labels.shape"
   ]
  },
  {
   "cell_type": "code",
   "execution_count": 24,
   "id": "7770178a",
   "metadata": {},
   "outputs": [
    {
     "data": {
      "text/plain": [
       "(60000, 10)"
      ]
     },
     "execution_count": 24,
     "metadata": {},
     "output_type": "execute_result"
    }
   ],
   "source": [
    "training_labels = tf.keras.utils.to_categorical(training_labels)\n",
    "test_labels = tf.keras.utils.to_categorical(test_labels)\n",
    "\n",
    "training_labels.shape"
   ]
  },
  {
   "cell_type": "code",
   "execution_count": 25,
   "id": "9ca1b553",
   "metadata": {},
   "outputs": [
    {
     "data": {
      "text/plain": [
       "array([0., 0., 1., 0., 0., 0., 0., 0., 0., 0.], dtype=float32)"
      ]
     },
     "execution_count": 25,
     "metadata": {},
     "output_type": "execute_result"
    }
   ],
   "source": [
    "training_labels[45]"
   ]
  },
  {
   "cell_type": "markdown",
   "id": "99841e0e",
   "metadata": {},
   "source": [
    "### La fonction Softmax (pour maximiser le loss)"
   ]
  },
  {
   "cell_type": "code",
   "execution_count": 26,
   "id": "73916db9",
   "metadata": {},
   "outputs": [],
   "source": [
    "def Softmax(vect):\n",
    "    r = np.exp(np.array(vect))\n",
    "    return r/sum(r)"
   ]
  },
  {
   "cell_type": "code",
   "execution_count": 27,
   "id": "9dca1a5d",
   "metadata": {},
   "outputs": [],
   "source": [
    "output = [6, 3, 2]"
   ]
  },
  {
   "cell_type": "code",
   "execution_count": 28,
   "id": "777b2970",
   "metadata": {},
   "outputs": [
    {
     "data": {
      "text/plain": [
       "0.5454545454545454"
      ]
     },
     "execution_count": 28,
     "metadata": {},
     "output_type": "execute_result"
    }
   ],
   "source": [
    "6/(6+3+2)"
   ]
  },
  {
   "cell_type": "code",
   "execution_count": 29,
   "id": "8138d44b",
   "metadata": {},
   "outputs": [
    {
     "data": {
      "text/plain": [
       "0.2727272727272727"
      ]
     },
     "execution_count": 29,
     "metadata": {},
     "output_type": "execute_result"
    }
   ],
   "source": [
    "3/(6+3+2)"
   ]
  },
  {
   "cell_type": "code",
   "execution_count": 30,
   "id": "8cc96409",
   "metadata": {},
   "outputs": [
    {
     "data": {
      "text/plain": [
       "0.18181818181818182"
      ]
     },
     "execution_count": 30,
     "metadata": {},
     "output_type": "execute_result"
    }
   ],
   "source": [
    "2/(6+3+2)"
   ]
  },
  {
   "cell_type": "code",
   "execution_count": 31,
   "id": "6a0aba84",
   "metadata": {},
   "outputs": [
    {
     "data": {
      "text/plain": [
       "1.0"
      ]
     },
     "execution_count": 31,
     "metadata": {},
     "output_type": "execute_result"
    }
   ],
   "source": [
    "6/(6+3+2) + 3/(6+3+2) + 2/(6+3+2)"
   ]
  },
  {
   "cell_type": "code",
   "execution_count": 32,
   "id": "5dc40e14",
   "metadata": {},
   "outputs": [
    {
     "data": {
      "text/plain": [
       "array([0.93623955, 0.04661262, 0.01714783])"
      ]
     },
     "execution_count": 32,
     "metadata": {},
     "output_type": "execute_result"
    }
   ],
   "source": [
    "Softmax(output)\n",
    "# On agrandi l'élément qui est le plus important\n",
    "# On a maximiser la probabilité de la bonne classe et minimiser celle des mauvaises classes"
   ]
  },
  {
   "cell_type": "markdown",
   "id": "faa9d323",
   "metadata": {},
   "source": [
    "### Normalisation de la donnée"
   ]
  },
  {
   "cell_type": "code",
   "execution_count": 42,
   "id": "6d4b392e",
   "metadata": {},
   "outputs": [
    {
     "data": {
      "text/plain": [
       "(0, 255)"
      ]
     },
     "execution_count": 42,
     "metadata": {},
     "output_type": "execute_result"
    }
   ],
   "source": [
    "# On a souvent des images avec valeur de pixels plus élevée\n",
    "a_training_images.min(), a_training_images.max()"
   ]
  },
  {
   "cell_type": "code",
   "execution_count": 43,
   "id": "c20ab5ee",
   "metadata": {},
   "outputs": [],
   "source": [
    "# Normalisation afin qu'on soit entre 0 et 1\n",
    "a_training_images = a_training_images / 255.0\n",
    "a_test_images = a_test_images / 255.0"
   ]
  },
  {
   "cell_type": "code",
   "execution_count": 44,
   "id": "a85dc351",
   "metadata": {},
   "outputs": [
    {
     "data": {
      "text/plain": [
       "(0.0, 1.0)"
      ]
     },
     "execution_count": 44,
     "metadata": {},
     "output_type": "execute_result"
    }
   ],
   "source": [
    "a_training_images.min(), a_training_images.max()"
   ]
  },
  {
   "cell_type": "markdown",
   "id": "46e6d299",
   "metadata": {},
   "source": [
    "### Notre premier modele"
   ]
  },
  {
   "cell_type": "code",
   "execution_count": 48,
   "id": "da80bda9",
   "metadata": {},
   "outputs": [
    {
     "name": "stdout",
     "output_type": "stream",
     "text": [
      "Epoch 1/5\n",
      "1875/1875 [==============================] - 12s 6ms/step - loss: 0.0898 - accuracy: 0.2292 - val_loss: 0.0877 - val_accuracy: 0.3466\n",
      "Epoch 2/5\n",
      "1875/1875 [==============================] - 11s 6ms/step - loss: 0.0858 - accuracy: 0.4162 - val_loss: 0.0840 - val_accuracy: 0.4512\n",
      "Epoch 3/5\n",
      "1875/1875 [==============================] - 11s 6ms/step - loss: 0.0818 - accuracy: 0.4720 - val_loss: 0.0797 - val_accuracy: 0.4998\n",
      "Epoch 4/5\n",
      "1875/1875 [==============================] - 11s 6ms/step - loss: 0.0773 - accuracy: 0.5361 - val_loss: 0.0750 - val_accuracy: 0.5886\n",
      "Epoch 5/5\n",
      "1875/1875 [==============================] - 11s 6ms/step - loss: 0.0724 - accuracy: 0.5897 - val_loss: 0.0701 - val_accuracy: 0.5859\n"
     ]
    }
   ],
   "source": [
    "from tensorflow.keras.models import Sequential  #Notre classe Model  \n",
    "from tensorflow.keras.layers import Dense\n",
    "from tensorflow.keras.optimizers import SGD \n",
    "\n",
    "model = Sequential([Dense(units=784, activation=\"sigmoid\"), \n",
    "               Dense(units=10, activation=\"softmax\"),\n",
    "              ])\n",
    "# Dernière couche avec 10 neurones parce que après le One Hot Encoding on a 10 classe à prédire\n",
    "# L'activation softmax \n",
    "\n",
    "# Dans les cas de classification, la manière de calculer le loss(mse) n'est pas vraiment la meilleure option pour évaluer l'efficacité de notre modele\n",
    "# Dans ce cas on utilise le pourcentage de bonne classification Acccuracy.\n",
    "# Exp: [ 0, 1, 0, 1, 1]. Accuracy = 3/5\n",
    "model.compile(loss=\"mse\", optimizer=SGD(learning_rate=0.01), metrics=[\"accuracy\"])\n",
    "h = model.fit(a_training_images, training_labels, epochs=5, validation_data=(a_test_images, test_labels))"
   ]
  },
  {
   "cell_type": "code",
   "execution_count": 50,
   "id": "3f4dd52b",
   "metadata": {},
   "outputs": [],
   "source": [
    "import matplotlib.pyplot as plt\n",
    "\n",
    "def plot_learning_curv(history):    \n",
    "    plt.plot(list(range(len(history[\"accuracy\"]))), history[\"accuracy\"])\n",
    "    plt.plot(list(range(len(history[\"val_accuracy\"]))), history[\"val_accuracy\"])\n",
    "    \n",
    "    plt.xlabel('Epochs')\n",
    "    plt.ylabel('accuracy')\n",
    "    plt.title(\"Learning Curve\")\n",
    "    plt.show()\n",
    "    "
   ]
  },
  {
   "cell_type": "code",
   "execution_count": 52,
   "id": "3132b3e8",
   "metadata": {},
   "outputs": [
    {
     "data": {
      "image/png": "[encoded data removed]",
      "text/plain": [
       "<Figure size 640x480 with 1 Axes>"
      ]
     },
     "metadata": {},
     "output_type": "display_data"
    }
   ],
   "source": [
    "plot_learning_curv(h.history)"
   ]
  },
  {
   "cell_type": "markdown",
   "id": "aff852e7",
   "metadata": {},
   "source": [
    "### MSE vs Cross-entropy ou Log loss"
   ]
  },
  {
   "cell_type": "code",
   "execution_count": 98,
   "id": "b0bf8681",
   "metadata": {},
   "outputs": [],
   "source": [
    "def mse(target, prediction):\n",
    "    loss = (target - prediction) ** 2\n",
    "    return loss"
   ]
  },
  {
   "cell_type": "code",
   "execution_count": 102,
   "id": "edfb4c9e",
   "metadata": {},
   "outputs": [],
   "source": [
    "def log_loss(target, prediction):\n",
    "    # if target == 1:        \n",
    "    loss = - 1 * np.log(prediction)\n",
    "    # elif target == 0:\n",
    "    #     loss = - 1 * np.log(1 - prediction)\n",
    "    return loss"
   ]
  },
  {
   "cell_type": "code",
   "execution_count": 103,
   "id": "206032d6",
   "metadata": {},
   "outputs": [
    {
     "data": {
      "text/plain": [
       "array([0.  , 0.01, 0.02, 0.03, 0.04, 0.05, 0.06, 0.07, 0.08, 0.09, 0.1 ,\n",
       "       0.11, 0.12, 0.13, 0.14, 0.15, 0.16, 0.17, 0.18, 0.19, 0.2 , 0.21,\n",
       "       0.22, 0.23, 0.24, 0.25, 0.26, 0.27, 0.28, 0.29, 0.3 , 0.31, 0.32,\n",
       "       0.33, 0.34, 0.35, 0.36, 0.37, 0.38, 0.39, 0.4 , 0.41, 0.42, 0.43,\n",
       "       0.44, 0.45, 0.46, 0.47, 0.48, 0.49, 0.5 , 0.51, 0.52, 0.53, 0.54,\n",
       "       0.55, 0.56, 0.57, 0.58, 0.59, 0.6 , 0.61, 0.62, 0.63, 0.64, 0.65,\n",
       "       0.66, 0.67, 0.68, 0.69, 0.7 , 0.71, 0.72, 0.73, 0.74, 0.75, 0.76,\n",
       "       0.77, 0.78, 0.79, 0.8 , 0.81, 0.82, 0.83, 0.84, 0.85, 0.86, 0.87,\n",
       "       0.88, 0.89, 0.9 , 0.91, 0.92, 0.93, 0.94, 0.95, 0.96, 0.97, 0.98,\n",
       "       0.99])"
      ]
     },
     "execution_count": 103,
     "metadata": {},
     "output_type": "execute_result"
    }
   ],
   "source": [
    "prediction = np.arange(0, 1, 0.01)\n",
    "prediction"
   ]
  },
  {
   "cell_type": "code",
   "execution_count": 104,
   "id": "10c9a746",
   "metadata": {},
   "outputs": [
    {
     "data": {
      "text/plain": [
       "array([1., 1., 1., 1., 1., 1., 1., 1., 1., 1., 1., 1., 1., 1., 1., 1., 1.,\n",
       "       1., 1., 1., 1., 1., 1., 1., 1., 1., 1., 1., 1., 1., 1., 1., 1., 1.,\n",
       "       1., 1., 1., 1., 1., 1., 1., 1., 1., 1., 1., 1., 1., 1., 1., 1., 1.,\n",
       "       1., 1., 1., 1., 1., 1., 1., 1., 1., 1., 1., 1., 1., 1., 1., 1., 1.,\n",
       "       1., 1., 1., 1., 1., 1., 1., 1., 1., 1., 1., 1., 1., 1., 1., 1., 1.,\n",
       "       1., 1., 1., 1., 1., 1., 1., 1., 1., 1., 1., 1., 1., 1., 1.])"
      ]
     },
     "execution_count": 104,
     "metadata": {},
     "output_type": "execute_result"
    }
   ],
   "source": [
    "target = np.ones_like(prediction)\n",
    "# np.zeros_like\n",
    "target"
   ]
  },
  {
   "cell_type": "code",
   "execution_count": 105,
   "id": "ad1fef16",
   "metadata": {},
   "outputs": [
    {
     "name": "stderr",
     "output_type": "stream",
     "text": [
      "/tmp/ipykernel_3707/2272373943.py:3: RuntimeWarning: divide by zero encountered in log\n",
      "  loss = - 1 * np.log(prediction)\n"
     ]
    }
   ],
   "source": [
    "loss_mse = mse(target, prediction)\n",
    "loss_ce = log_loss(target, prediction)"
   ]
  },
  {
   "cell_type": "code",
   "execution_count": 106,
   "id": "b1ad66e5",
   "metadata": {},
   "outputs": [
    {
     "data": {
      "image/png": "[encoded data removed]",
      "text/plain": [
       "<Figure size 640x480 with 1 Axes>"
      ]
     },
     "metadata": {},
     "output_type": "display_data"
    }
   ],
   "source": [
    "plt.plot(prediction, loss_mse, c=\"red\", label=\"MSE\")\n",
    "plt.plot(prediction, loss_ce, c=\"blue\", label=\"Cross Entropy\")\n",
    "plt.xlabel(\"Prediction\")\n",
    "plt.ylabel(\"Loss\")\n",
    "plt.legend(loc=\"upper right\")\n",
    "plt.show()"
   ]
  },
  {
   "cell_type": "code",
   "execution_count": null,
   "id": "e11409ea",
   "metadata": {},
   "outputs": [],
   "source": []
  }
 ],
 "metadata": {
  "kernelspec": {
   "display_name": "Python 3 (ipykernel)",
   "language": "python",
   "name": "python3"
  },
  "language_info": {
   "codemirror_mode": {
    "name": "ipython",
    "version": 3
   },
   "file_extension": ".py",
   "mimetype": "text/x-python",
   "name": "python",
   "nbconvert_exporter": "python",
   "pygments_lexer": "ipython3",
   "version": "3.10.12"
  }
 },
 "nbformat": 4,
 "nbformat_minor": 5
}
