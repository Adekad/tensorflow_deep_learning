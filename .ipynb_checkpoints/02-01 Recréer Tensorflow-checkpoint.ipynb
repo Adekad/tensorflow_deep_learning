{
 "cells": [
  {
   "cell_type": "markdown",
   "id": "3b8f79e6",
   "metadata": {},
   "source": [
    "## Recréer Tensorflow"
   ]
  },
  {
   "cell_type": "code",
   "execution_count": 2,
   "id": "31e0e50c",
   "metadata": {},
   "outputs": [],
   "source": [
    "import numpy as np"
   ]
  },
  {
   "cell_type": "code",
   "execution_count": 3,
   "id": "b79baa8f",
   "metadata": {},
   "outputs": [],
   "source": [
    "class Boite():\n",
    "    \n",
    "    def __init__(self):        \n",
    "        pass\n",
    "    \n",
    "    def forward(self, inputs):\n",
    "        self.inputs = inputs\n",
    "        self.output = self.operation()\n",
    "        return self.output\n",
    "    \n",
    "    def backward(self, deriv_out):        \n",
    "        assert deriv_out.shape == self.output.shape, f\"Le shape de la dérivé output reçu {deriv_out.shape} est différent de celui de output {self.output.shape}\"\n",
    "        \n",
    "        self.deriv_inp = self.gradient(deriv_out)\n",
    "        assert self.deriv_inp.shape == self.inputs.shape, f\"Le shape de la dérivé input de sortir {self.deriv_inp.shape} est différent de celui de input {self.inputs.shape}\"\n",
    "        \n",
    "        return self.deriv_inp\n",
    "    \n",
    "    def operation(self):\n",
    "        pass\n",
    "    \n",
    "    def gradient(self, deriv_out):\n",
    "        pass"
   ]
  },
  {
   "cell_type": "code",
   "execution_count": 4,
   "id": "28e4785c",
   "metadata": {},
   "outputs": [],
   "source": [
    "class BoiteParam():  \n",
    "    # Pour grad et grad_param parce que les classent qui hériteront de BoiteParam sont fait d'une operation(soit prod Matriciel, soit addition). et faut calculer le gradient de chacun de ces 2 paramettre\n",
    "    \n",
    "    def __init__(self, param):        \n",
    "        self.param = param\n",
    "    \n",
    "    def forward(self, inputs):\n",
    "        self.inputs = inputs\n",
    "        self.output = self.operation()\n",
    "        return self.output\n",
    "    \n",
    "    def backward(self, deriv_out):        \n",
    "        assert deriv_out.shape == self.output.shape, f\"Le shape de la dérivé output reçu {deriv_out.shape} est différent de celui de output {self.output.shape}\"\n",
    "        \n",
    "        self.deriv_inp = self.gradient(deriv_out)        \n",
    "        assert self.deriv_inp.shape == self.inputs.shape, f\"Le shape de la dérivé input de sortir {self.deriv_inp.shape} est différent de celui de input {self.input.shape}\"\n",
    "        \n",
    "        self.deriv_param = self.gradient_param(deriv_out)\n",
    "        # S'assurer que la dérivé de param et param aient le même shape\n",
    "        assert self.deriv_param.shape == self.param.shape, f\"Le shape de la dérivé de param {self.deriv_param.shape} est différent de celui de param {self.param.shape}\"\n",
    "        return self.deriv_inp\n",
    "    \n",
    "    def operation(self):\n",
    "        pass\n",
    "    \n",
    "    def gradient(self, deriv_out):  # La dérivé par rapport à l'input\n",
    "        pass\n",
    "    \n",
    "    def gradient_param(self, deriv_out):  # La dérivé par rapport aux parametres\n",
    "        pass"
   ]
  },
  {
   "cell_type": "markdown",
   "id": "5db3bd58",
   "metadata": {},
   "source": [
    "### La classe Dot"
   ]
  },
  {
   "cell_type": "code",
   "execution_count": 5,
   "id": "62cf5c4b",
   "metadata": {},
   "outputs": [],
   "source": [
    "class Dot(BoiteParam):\n",
    "    def __init__(self, weight):        \n",
    "        super().__init__(weight)\n",
    "        \n",
    "    def operation(self):  # M = X.W(produit matriciel)\n",
    "        return np.dot(self.inputs, self.param)\n",
    "    \n",
    "    def gradient(self, deriv_out):  # dM_dX = W.T (dM_dX :deriv de M par rapport à X)  # La dérivé par rapport à l'input\n",
    "        # la derivé d'un produit Matriciel est la transposé\n",
    "        # Maintenant la transposé * l'entré du gradient(vu qu'on est en backward ça fait les dérivés antérieurs)\n",
    "        return np.dot(deriv_out, self.param.T)\n",
    "    \n",
    "    def gradient_param(self, deriv_out):  # dM_dW = X.T  # La dérivé par rapport aux parametres\n",
    "        return np.dot( self.inputs.T, deriv_out)\n",
    "    \n",
    "    def __repr__(self):\n",
    "        return \"DotProduct\""
   ]
  },
  {
   "cell_type": "code",
   "execution_count": 6,
   "id": "0ade0964",
   "metadata": {},
   "outputs": [
    {
     "data": {
      "text/plain": [
       "(4, 3)"
      ]
     },
     "execution_count": 6,
     "metadata": {},
     "output_type": "execute_result"
    }
   ],
   "source": [
    "X = np.array([[ 2,  3, -2],\n",
    "       [ 4,  5, -1],\n",
    "       [-5,  2,  3],\n",
    "       [ 0,  5,  4]])\n",
    "X.shape"
   ]
  },
  {
   "cell_type": "code",
   "execution_count": 7,
   "id": "b89fe18d",
   "metadata": {},
   "outputs": [
    {
     "data": {
      "text/plain": [
       "(3, 1)"
      ]
     },
     "execution_count": 7,
     "metadata": {},
     "output_type": "execute_result"
    }
   ],
   "source": [
    "W = np.array([[ 0.49671415],\n",
    " [-0.1382643 ],\n",
    " [ 0.64768854]])\n",
    "W.shape"
   ]
  },
  {
   "cell_type": "code",
   "execution_count": 8,
   "id": "7648757d",
   "metadata": {},
   "outputs": [
    {
     "data": {
      "text/plain": [
       "array([[-0.71674168],\n",
       "       [ 0.64784656],\n",
       "       [-0.81703373],\n",
       "       [ 1.89943266]])"
      ]
     },
     "execution_count": 8,
     "metadata": {},
     "output_type": "execute_result"
    }
   ],
   "source": [
    "np.dot(X, W)"
   ]
  },
  {
   "cell_type": "code",
   "execution_count": 9,
   "id": "7473b9a2",
   "metadata": {},
   "outputs": [
    {
     "data": {
      "text/plain": [
       "array([[-0.71674168],\n",
       "       [ 0.64784656],\n",
       "       [-0.81703373],\n",
       "       [ 1.89943266]])"
      ]
     },
     "execution_count": 9,
     "metadata": {},
     "output_type": "execute_result"
    }
   ],
   "source": [
    "M = Dot(weight=W)\n",
    "output = M.forward(X)\n",
    "output"
   ]
  },
  {
   "cell_type": "code",
   "execution_count": 10,
   "id": "c3bf11d6",
   "metadata": {},
   "outputs": [
    {
     "data": {
      "text/plain": [
       "DotProduct"
      ]
     },
     "execution_count": 10,
     "metadata": {},
     "output_type": "execute_result"
    }
   ],
   "source": [
    "M"
   ]
  },
  {
   "cell_type": "code",
   "execution_count": 11,
   "id": "eaf9f27c",
   "metadata": {},
   "outputs": [
    {
     "data": {
      "text/plain": [
       "array([[-0.67795547],\n",
       "       [-0.11943094],\n",
       "       [ 1.12312353],\n",
       "       [ 0.83051325]])"
      ]
     },
     "execution_count": 11,
     "metadata": {},
     "output_type": "execute_result"
    }
   ],
   "source": [
    "d_out = np.random.randn(4, 1)\n",
    "d_out"
   ]
  },
  {
   "cell_type": "code",
   "execution_count": 12,
   "id": "f64b939e",
   "metadata": {},
   "outputs": [
    {
     "data": {
      "text/plain": [
       "array([[-0.33675008,  0.09373704, -0.43910399],\n",
       "       [-0.05932304,  0.01651304, -0.07735405],\n",
       "       [ 0.55787135, -0.15528789,  0.72743424],\n",
       "       [ 0.41252768, -0.11483033,  0.53791392]])"
      ]
     },
     "execution_count": 12,
     "metadata": {},
     "output_type": "execute_result"
    }
   ],
   "source": [
    "M.backward(d_out)"
   ]
  },
  {
   "cell_type": "markdown",
   "id": "4afe49d2",
   "metadata": {},
   "source": [
    "### La classe ADD"
   ]
  },
  {
   "cell_type": "code",
   "execution_count": 13,
   "id": "916ddc66",
   "metadata": {},
   "outputs": [],
   "source": [
    "class Add(BoiteParam):\n",
    "    def __init__(self, biais):        \n",
    "        super().__init__(biais)\n",
    "        \n",
    "    def operation(self):  # P = M + B\n",
    "        return self.inputs + self.param\n",
    "    \n",
    "    def gradient(self, deriv_out):  # dP_dB = 1 (1,)\n",
    "        # afin de reshape on utilise np.ones_like\n",
    "        return np.ones_like(self.inputs) * deriv_out\n",
    "    \n",
    "    def gradient_param(self, deriv_out):  # dP_dM = 1 shape: (1,)\n",
    "        r = np.ones_like(self.param) * deriv_out\n",
    "        return r.sum(axis=0).reshape(1, self.param.shape[1])\n",
    "    \n",
    "    def __repr__(self):\n",
    "        return \"AddBiais\""
   ]
  },
  {
   "cell_type": "code",
   "execution_count": 14,
   "id": "498b5baa",
   "metadata": {},
   "outputs": [
    {
     "data": {
      "text/plain": [
       "array([[0.07644685]])"
      ]
     },
     "execution_count": 14,
     "metadata": {},
     "output_type": "execute_result"
    }
   ],
   "source": [
    "b = np.random.rand(1, 1)\n",
    "b"
   ]
  },
  {
   "cell_type": "code",
   "execution_count": 15,
   "id": "b10f4fbc",
   "metadata": {},
   "outputs": [
    {
     "data": {
      "text/plain": [
       "AddBiais"
      ]
     },
     "execution_count": 15,
     "metadata": {},
     "output_type": "execute_result"
    }
   ],
   "source": [
    "B = Add(biais=b)\n",
    "B"
   ]
  },
  {
   "cell_type": "code",
   "execution_count": 16,
   "id": "9c998e3b",
   "metadata": {},
   "outputs": [
    {
     "data": {
      "text/plain": [
       "array([[-0.64029483],\n",
       "       [ 0.72429341],\n",
       "       [-0.74058688],\n",
       "       [ 1.97587951]])"
      ]
     },
     "execution_count": 16,
     "metadata": {},
     "output_type": "execute_result"
    }
   ],
   "source": [
    "out_b = B.forward(output)\n",
    "out_b"
   ]
  },
  {
   "cell_type": "code",
   "execution_count": 17,
   "id": "57b79da4",
   "metadata": {},
   "outputs": [
    {
     "data": {
      "text/plain": [
       "array([[-0.67795547],\n",
       "       [-0.11943094],\n",
       "       [ 1.12312353],\n",
       "       [ 0.83051325]])"
      ]
     },
     "execution_count": 17,
     "metadata": {},
     "output_type": "execute_result"
    }
   ],
   "source": [
    "d_out"
   ]
  },
  {
   "cell_type": "code",
   "execution_count": 18,
   "id": "e469d470",
   "metadata": {},
   "outputs": [
    {
     "data": {
      "text/plain": [
       "array([[-0.67795547],\n",
       "       [-0.11943094],\n",
       "       [ 1.12312353],\n",
       "       [ 0.83051325]])"
      ]
     },
     "execution_count": 18,
     "metadata": {},
     "output_type": "execute_result"
    }
   ],
   "source": [
    "B.backward(d_out)"
   ]
  },
  {
   "cell_type": "markdown",
   "id": "66ba591a",
   "metadata": {},
   "source": [
    "### La classe Sigmoid"
   ]
  },
  {
   "cell_type": "code",
   "execution_count": 19,
   "id": "02652222",
   "metadata": {},
   "outputs": [],
   "source": [
    "class Sigmoid(Boite):\n",
    "    def __init__(self):        \n",
    "        super().__init__()\n",
    "        \n",
    "    def operation(self):\n",
    "        return 1 / (1 + np.exp(-1 * self.inputs))\n",
    "    \n",
    "    def gradient(self, deriv_out):\n",
    "        return (self.output * (1 - self.output)) * deriv_out\n",
    "    \n",
    "    def __repr__(self):\n",
    "        return \"Sigmoid\""
   ]
  },
  {
   "cell_type": "code",
   "execution_count": 20,
   "id": "ac046190",
   "metadata": {},
   "outputs": [
    {
     "data": {
      "text/plain": [
       "Sigmoid"
      ]
     },
     "execution_count": 20,
     "metadata": {},
     "output_type": "execute_result"
    }
   ],
   "source": [
    "sig = Sigmoid()\n",
    "sig"
   ]
  },
  {
   "cell_type": "code",
   "execution_count": 21,
   "id": "99bc0019",
   "metadata": {},
   "outputs": [
    {
     "data": {
      "text/plain": [
       "array([[0.3451799 ],\n",
       "       [0.67355175],\n",
       "       [0.32287582],\n",
       "       [0.87824123]])"
      ]
     },
     "execution_count": 21,
     "metadata": {},
     "output_type": "execute_result"
    }
   ],
   "source": [
    "out_sig = sig.forward(out_b)\n",
    "out_sig"
   ]
  },
  {
   "cell_type": "code",
   "execution_count": 22,
   "id": "7f2aae9f",
   "metadata": {},
   "outputs": [
    {
     "data": {
      "text/plain": [
       "array([[-0.15323877],\n",
       "       [-0.02626045],\n",
       "       [ 0.24554516],\n",
       "       [ 0.08880975]])"
      ]
     },
     "execution_count": 22,
     "metadata": {},
     "output_type": "execute_result"
    }
   ],
   "source": [
    "sig.backward(d_out)"
   ]
  },
  {
   "cell_type": "markdown",
   "id": "64e3ebbd",
   "metadata": {},
   "source": [
    "### La Classe Loss"
   ]
  },
  {
   "cell_type": "code",
   "execution_count": 23,
   "id": "8cc6ba6e",
   "metadata": {},
   "outputs": [],
   "source": [
    "class Loss():\n",
    "    \n",
    "    def __init__(self):\n",
    "        pass\n",
    "    \n",
    "    def forward(self, prediction, target): \n",
    "        assert target.shape == prediction.shape\n",
    "        self.target = target\n",
    "        self.prediction = prediction\n",
    "        loss = np.mean((self.target - self.prediction) **2) \n",
    "        return loss\n",
    "    \n",
    "    def backward(self):\n",
    "        \n",
    "        self.deriv_loss = -2 * (self.target - self.prediction)\n",
    "        assert self.deriv_loss.shape == self.prediction.shape, f\"Le shape de la dérivé du loss est de {self.deriv_loss.shape} est différent de celui de la prediction {self.prediction.shape}\"\n",
    "        \n",
    "        return self.deriv_loss\n",
    "    \n",
    "    def __repr__(self):\n",
    "        return \"loss\""
   ]
  },
  {
   "cell_type": "code",
   "execution_count": 24,
   "id": "616b64cd",
   "metadata": {},
   "outputs": [
    {
     "data": {
      "text/plain": [
       "array([[ 2,  3, -2],\n",
       "       [ 4,  5, -1],\n",
       "       [-5,  2,  3],\n",
       "       [ 0,  5,  4]])"
      ]
     },
     "execution_count": 24,
     "metadata": {},
     "output_type": "execute_result"
    }
   ],
   "source": [
    "X"
   ]
  },
  {
   "cell_type": "code",
   "execution_count": 25,
   "id": "e9549560",
   "metadata": {},
   "outputs": [
    {
     "data": {
      "text/plain": [
       "(4, 3)"
      ]
     },
     "execution_count": 25,
     "metadata": {},
     "output_type": "execute_result"
    }
   ],
   "source": [
    "X.shape"
   ]
  },
  {
   "cell_type": "code",
   "execution_count": 26,
   "id": "fc3480d6",
   "metadata": {},
   "outputs": [
    {
     "data": {
      "text/plain": [
       "array([[ 2.26983511],\n",
       "       [ 1.26019145],\n",
       "       [ 0.59821539],\n",
       "       [-1.00064104]])"
      ]
     },
     "execution_count": 26,
     "metadata": {},
     "output_type": "execute_result"
    }
   ],
   "source": [
    "Y = np.random.randn(4, 1)\n",
    "Y"
   ]
  },
  {
   "cell_type": "code",
   "execution_count": 27,
   "id": "d1835adb",
   "metadata": {},
   "outputs": [
    {
     "data": {
      "text/plain": [
       "array([[0.3451799 ],\n",
       "       [0.67355175],\n",
       "       [0.32287582],\n",
       "       [0.87824123]])"
      ]
     },
     "execution_count": 27,
     "metadata": {},
     "output_type": "execute_result"
    }
   ],
   "source": [
    "# La prédiction c'est la sortir de sigmoid\n",
    "P = out_sig\n",
    "P"
   ]
  },
  {
   "cell_type": "code",
   "execution_count": 28,
   "id": "5ca5853f",
   "metadata": {},
   "outputs": [],
   "source": [
    "mse = Loss()"
   ]
  },
  {
   "cell_type": "code",
   "execution_count": 29,
   "id": "1d421e36",
   "metadata": {},
   "outputs": [
    {
     "data": {
      "text/plain": [
       "1.9136135647077452"
      ]
     },
     "execution_count": 29,
     "metadata": {},
     "output_type": "execute_result"
    }
   ],
   "source": [
    "mse.forward(Y, P)"
   ]
  },
  {
   "cell_type": "code",
   "execution_count": 30,
   "id": "b4eb141f",
   "metadata": {},
   "outputs": [
    {
     "data": {
      "text/plain": [
       "array([[ 3.84931042],\n",
       "       [ 1.17327939],\n",
       "       [ 0.55067913],\n",
       "       [-3.75776453]])"
      ]
     },
     "execution_count": 30,
     "metadata": {},
     "output_type": "execute_result"
    }
   ],
   "source": [
    "mse.backward()"
   ]
  },
  {
   "cell_type": "markdown",
   "id": "7b31183b",
   "metadata": {},
   "source": [
    "### La classe Dense"
   ]
  },
  {
   "cell_type": "code",
   "execution_count": 62,
   "id": "4d6e9d38",
   "metadata": {},
   "outputs": [],
   "source": [
    "# Dense parce que les couches sont densements connectées\n",
    "# Chaque neurone est une régression linéaire**\n",
    "\n",
    "class Dense():  # Ici Dense représente une couche\n",
    "    \n",
    "    def __init__(self, neurons, activation=None):\n",
    "        self.neurons = neurons\n",
    "        self.activation = activation  # Pour sigmoid. En sachant que sigmoid n'est pas appliqué à la dernière couche\n",
    "        self.param = []  # Pour stocker weight et biais\n",
    "        self.suite = []  # Pour stocker nos opération successives(une Couche)\n",
    "        self.init = True  # Pour que weight et biais(build) ne soient initialisés qu'une seul fois\n",
    "        \n",
    "    def build(self, inputs):\n",
    "        # Weight & Biais initialization aléatoire\n",
    "        np.random.seed(42)\n",
    "        \n",
    "        self.weight = np.random.randn(inputs.shape[1], self.neurons)\n",
    "        self.biais = np.random.randn(1, self.neurons)\n",
    "        \n",
    "        # Sauvegarde du weight & biais\n",
    "        self.param.append(self.weight)\n",
    "        self.param.append(self.biais)\n",
    "        \n",
    "        # Construction de la suite d'opération\n",
    "        self.suite = [Dot(self.param[0]), Add(self.param[1])]\n",
    "        if self.activation:\n",
    "            self.suite.append(self.activation)\n",
    "        \n",
    "        \n",
    "    def forward(self, inputs):\n",
    "        if self.init:\n",
    "            self.build(inputs)\n",
    "            self.init = False\n",
    "            \n",
    "        for boite in self.suite:\n",
    "            inputs = boite.forward(inputs)\n",
    "            \n",
    "        self.output = inputs\n",
    "        \n",
    "        return self.output\n",
    "    \n",
    "    \n",
    "    def backward(self, deriv_out):        \n",
    "        assert deriv_out.shape == self.output.shape\n",
    "        \n",
    "        for Boite in reversed(self.suite):  # self.suite[::-1]\n",
    "            deriv_out = Boite.backward(deriv_out)\n",
    "        \n",
    "        deriv_input = deriv_out\n",
    "        self.get_deriv_param()\n",
    "        return deriv_input\n",
    "    \n",
    "    \n",
    "    def get_deriv_param(self):  # Sauvegarde des deriv_params\n",
    "        self.deriv_params = []\n",
    "        \n",
    "        for boite in self.suite:\n",
    "            if issubclass(boite.__class__, BoiteParam):\n",
    "                self.deriv_params.append(boite.deriv_param)\n",
    "    \n",
    "    def __repr__(self):\n",
    "        r = f\"DenseLayer(neurones = {self.neurons})\"\n",
    "        if self.activation:\n",
    "            r += \" avec Sigmoid\"\n",
    "            \n",
    "        return r\n",
    "    "
   ]
  },
  {
   "cell_type": "code",
   "execution_count": 63,
   "id": "8a28d720",
   "metadata": {},
   "outputs": [],
   "source": [
    "sigmoid = Sigmoid()"
   ]
  },
  {
   "cell_type": "code",
   "execution_count": 64,
   "id": "16dd9510",
   "metadata": {},
   "outputs": [
    {
     "data": {
      "text/plain": [
       "DenseLayer(neurones = 2) avec Sigmoid"
      ]
     },
     "execution_count": 64,
     "metadata": {},
     "output_type": "execute_result"
    }
   ],
   "source": [
    "couche = Dense(neurons=2, activation=sigmoid)\n",
    "couche"
   ]
  },
  {
   "cell_type": "code",
   "execution_count": 34,
   "id": "92393821",
   "metadata": {},
   "outputs": [
    {
     "data": {
      "text/plain": [
       "array([[ 2,  3, -2],\n",
       "       [ 4,  5, -1],\n",
       "       [-5,  2,  3],\n",
       "       [ 0,  5,  4]])"
      ]
     },
     "execution_count": 34,
     "metadata": {},
     "output_type": "execute_result"
    }
   ],
   "source": [
    "X"
   ]
  },
  {
   "cell_type": "code",
   "execution_count": 35,
   "id": "d88cf34c",
   "metadata": {},
   "outputs": [
    {
     "data": {
      "text/plain": [
       "array([[0.99320003, 0.99604286],\n",
       "       [0.99912347, 0.99968533],\n",
       "       [0.42276305, 0.97817014],\n",
       "       [0.97978765, 0.99941659]])"
      ]
     },
     "execution_count": 35,
     "metadata": {},
     "output_type": "execute_result"
    }
   ],
   "source": [
    "couche.forward(X)"
   ]
  },
  {
   "cell_type": "code",
   "execution_count": 36,
   "id": "ea258e1a",
   "metadata": {},
   "outputs": [
    {
     "data": {
      "text/plain": [
       "array([[-0.46947439,  0.54256004],\n",
       "       [-0.46341769, -0.46572975],\n",
       "       [ 0.24196227, -1.91328024],\n",
       "       [-1.72491783, -0.56228753]])"
      ]
     },
     "execution_count": 36,
     "metadata": {},
     "output_type": "execute_result"
    }
   ],
   "source": [
    "out_c = np.random.randn(4, 2)\n",
    "out_c"
   ]
  },
  {
   "cell_type": "code",
   "execution_count": 37,
   "id": "8638a8e8",
   "metadata": {},
   "outputs": [
    {
     "data": {
      "text/plain": [
       "[array([[ 0.49671415, -0.1382643 ],\n",
       "        [ 0.64768854,  1.52302986],\n",
       "        [-0.23415337, -0.23413696]]),\n",
       " array([[1.57921282, 0.76743473]])]"
      ]
     },
     "execution_count": 37,
     "metadata": {},
     "output_type": "execute_result"
    }
   ],
   "source": [
    "couche.param"
   ]
  },
  {
   "cell_type": "code",
   "execution_count": 38,
   "id": "9b5ffd3d",
   "metadata": {},
   "outputs": [
    {
     "data": {
      "text/plain": [
       "array([[-0.00187061,  0.00120335,  0.00024173],\n",
       "       [-0.00018133, -0.00048599,  0.00012933],\n",
       "       [ 0.03497832, -0.02397904, -0.00426045],\n",
       "       [-0.0169224 , -0.02262434,  0.00807543]])"
      ]
     },
     "execution_count": 38,
     "metadata": {},
     "output_type": "execute_result"
    }
   ],
   "source": [
    "couche.backward(out_c)"
   ]
  },
  {
   "cell_type": "code",
   "execution_count": 75,
   "id": "7bf22df0",
   "metadata": {},
   "outputs": [],
   "source": [
    "from copy import deepcopy"
   ]
  },
  {
   "cell_type": "markdown",
   "id": "a22cb654",
   "metadata": {},
   "source": [
    "### La classe Model"
   ]
  },
  {
   "cell_type": "code",
   "execution_count": 76,
   "id": "524756d6",
   "metadata": {},
   "outputs": [],
   "source": [
    "class Model():\n",
    "    \n",
    "    def __init__(self, layers):\n",
    "        self.layers = layers\n",
    "        self.compiled = False\n",
    "        \n",
    "    def forward(self, inputs):\n",
    "        for layer in self.layers:\n",
    "            inputs = layer.forward(inputs)\n",
    "            \n",
    "        self.output = inputs\n",
    "        \n",
    "        return self.output\n",
    "\n",
    "    def backward(self, loss_deriv):\n",
    "        assert loss_deriv.shape == self.output.shape\n",
    "        \n",
    "        for layer in reversed(self.layers):  # self.suite[::-1]\n",
    "            loss_deriv = layer.backward(loss_deriv)\n",
    "             \n",
    "        return None\n",
    "    \n",
    "    def get_params(self):\n",
    "        #self.params = []\n",
    "        \n",
    "        for layer in self.layers:\n",
    "            #self.params.append(layer.param)\n",
    "            yield from layer.param  # yield from permet de récup les elts d'une liste un à un\n",
    "            \n",
    "            \n",
    "        #return self.params\n",
    "    \n",
    "    \n",
    "    def get_deriv_params(self):\n",
    "        #self.deriv_params = []\n",
    "        \n",
    "        for layer in self.layers:\n",
    "            #self.deriv_params.append(layer.deriv_params)\n",
    "            yield from layer.deriv_params  # yield from permet de récup les elts d'une liste un à un\n",
    "            \n",
    "        #return self.deriv_params\n",
    "    \n",
    "    \n",
    "    def update(self):  # Update des parametres\n",
    "        \n",
    "        for param, deriv_param in zip(self.get_params(), self.get_deriv_params()):  # Zip permet d'avoir les éléments 2 à 2\n",
    "            # [1, 2, 3] & [4, 5, 6] en [1,4] [2, 5] [3, 6]\n",
    "            assert param.shape == deriv_param.shape\n",
    "            param -= self.learning_rate * deriv_param\n",
    "    \n",
    "    def compile(self, loss, learning_rate): #  Initialisation du loss\n",
    "        self.loss = loss\n",
    "        self.learning_rate = learning_rate\n",
    "        self.compiled = True\n",
    "    \n",
    "    \n",
    "    def fit(self, X, Y, epochs, validation_data=None):  # Pour entrainer sur plusieurs epochs\n",
    "        # Validation_data pour la validation sur les données tests X_test, Y_test\n",
    "        \n",
    "        if validation_data:\n",
    "            assert len(validation_data) == 2\n",
    "            assert validation_data[0].shape[1] == X.shape[1]\n",
    "            assert validation_data[1].shape[1] == Y.shape[1]\n",
    "            \n",
    "        self.history = {\"loss\": []}\n",
    "        if validation_data:\n",
    "            self.history[\"val_loss\"] = []          \n",
    "        \n",
    "        \n",
    "        if not self.compiled:\n",
    "            raise NotImplementedError('Pas de loss et de learning_rate: Compilez')\n",
    "        \n",
    "        for epoch in range(epochs):\n",
    "            # Forward\n",
    "            prediction = self.forward(X)  # Contrib\n",
    "            loss = self.loss.forward(prediction, Y)\n",
    "            self.history[\"loss\"].append(loss)\n",
    "            \n",
    "            # Validation\n",
    "            if validation_data:                \n",
    "                val_preds = self.forward(validation_data[0])  # Contrib\n",
    "                val_loss = self.loss.forward(val_preds, validation_data[1])\n",
    "                self.history[\"val_loss\"].append(val_loss)\n",
    "            \n",
    "            affich = f'Epoch {epoch+1}......... loss : {loss}'\n",
    "            if validation_data:\n",
    "                affich += f'..... - val_loss : {val_loss}'               \n",
    "                \n",
    "            print(affich)\n",
    "            \n",
    "\n",
    "            #  backward\n",
    "            loss_deriv = self.loss.backward()\n",
    "            self.backward(loss_deriv)\n",
    "            \n",
    "            #  update\n",
    "            self.update()\n",
    "        \n",
    "        return self.history\n",
    "    \n",
    "    def save_model(self, file):  # Sauvegarder notre model sous forme de fichier\n",
    "        model_save = deepcopy(self)\n",
    "        \n",
    "        import pickle\n",
    "        with open(file, \"wb\") as f:\n",
    "            pickle.dump(model_save, f)        \n",
    "            \n",
    "    \n",
    "    def __repr__(self):\n",
    "        r = \"Layers........\"\n",
    "        for layer in reversed(self.layers):\n",
    "            r += f\" \\n {str(layer)}\"\n",
    "        return r\n",
    "    "
   ]
  },
  {
   "cell_type": "code",
   "execution_count": 40,
   "id": "315d420e",
   "metadata": {},
   "outputs": [
    {
     "data": {
      "text/plain": [
       "Layers........ \n",
       " DenseLayer(neurones = 1) \n",
       " DenseLayer(neurones = 3) avec Sigmoid"
      ]
     },
     "execution_count": 40,
     "metadata": {},
     "output_type": "execute_result"
    }
   ],
   "source": [
    "model = Model(layers=[Dense(neurons=3, activation=sigmoid), Dense(neurons=1)])\n",
    "model"
   ]
  },
  {
   "cell_type": "code",
   "execution_count": 41,
   "id": "814423f8",
   "metadata": {},
   "outputs": [
    {
     "data": {
      "text/plain": [
       "array([[ 2,  3, -2],\n",
       "       [ 4,  5, -1],\n",
       "       [-5,  2,  3],\n",
       "       [ 0,  5,  4]])"
      ]
     },
     "execution_count": 41,
     "metadata": {},
     "output_type": "execute_result"
    }
   ],
   "source": [
    "X"
   ]
  },
  {
   "cell_type": "code",
   "execution_count": 42,
   "id": "836b34e2",
   "metadata": {},
   "outputs": [
    {
     "data": {
      "text/plain": [
       "array([[2.47005633],\n",
       "       [2.53479834],\n",
       "       [1.89807891],\n",
       "       [1.92678186]])"
      ]
     },
     "execution_count": 42,
     "metadata": {},
     "output_type": "execute_result"
    }
   ],
   "source": [
    "model.forward(X)"
   ]
  },
  {
   "cell_type": "code",
   "execution_count": 43,
   "id": "549a69b5",
   "metadata": {},
   "outputs": [
    {
     "data": {
      "text/plain": [
       "array([[ 2.26983511],\n",
       "       [ 1.26019145],\n",
       "       [ 0.59821539],\n",
       "       [-1.00064104]])"
      ]
     },
     "execution_count": 43,
     "metadata": {},
     "output_type": "execute_result"
    }
   ],
   "source": [
    "Y"
   ]
  },
  {
   "cell_type": "code",
   "execution_count": 44,
   "id": "0bb8cd1c",
   "metadata": {},
   "outputs": [
    {
     "data": {
      "text/plain": [
       "array([[-0.23415337],\n",
       "       [-0.23413696],\n",
       "       [ 1.57921282],\n",
       "       [ 0.76743473]])"
      ]
     },
     "execution_count": 44,
     "metadata": {},
     "output_type": "execute_result"
    }
   ],
   "source": [
    "loss_deriv = np.random.randn(4, 1)\n",
    "loss_deriv"
   ]
  },
  {
   "cell_type": "code",
   "execution_count": 45,
   "id": "f38e9c19",
   "metadata": {},
   "outputs": [],
   "source": [
    "model.backward(loss_deriv)"
   ]
  },
  {
   "cell_type": "markdown",
   "id": "149b2a3c",
   "metadata": {},
   "source": [
    "### Update des parametres"
   ]
  },
  {
   "cell_type": "code",
   "execution_count": 46,
   "id": "1034e70e",
   "metadata": {},
   "outputs": [
    {
     "data": {
      "text/plain": [
       "DotProduct"
      ]
     },
     "execution_count": 46,
     "metadata": {},
     "output_type": "execute_result"
    }
   ],
   "source": [
    "M"
   ]
  },
  {
   "cell_type": "code",
   "execution_count": 47,
   "id": "7f27a030",
   "metadata": {},
   "outputs": [
    {
     "data": {
      "text/plain": [
       "array([[ 0.49671415],\n",
       "       [-0.1382643 ],\n",
       "       [ 0.64768854]])"
      ]
     },
     "execution_count": 47,
     "metadata": {},
     "output_type": "execute_result"
    }
   ],
   "source": [
    "M.param"
   ]
  },
  {
   "cell_type": "code",
   "execution_count": 48,
   "id": "b7b9ffe2",
   "metadata": {},
   "outputs": [
    {
     "data": {
      "text/plain": [
       "array([[-7.44925233],\n",
       "       [ 3.7677922 ],\n",
       "       [ 8.16676547]])"
      ]
     },
     "execution_count": 48,
     "metadata": {},
     "output_type": "execute_result"
    }
   ],
   "source": [
    "M.deriv_param"
   ]
  },
  {
   "cell_type": "code",
   "execution_count": 49,
   "id": "c1467a1b",
   "metadata": {},
   "outputs": [
    {
     "data": {
      "text/plain": [
       "DenseLayer(neurones = 2) avec Sigmoid"
      ]
     },
     "execution_count": 49,
     "metadata": {},
     "output_type": "execute_result"
    }
   ],
   "source": [
    "couche"
   ]
  },
  {
   "cell_type": "code",
   "execution_count": 50,
   "id": "6ac636b4",
   "metadata": {},
   "outputs": [
    {
     "data": {
      "text/plain": [
       "[array([[ 0.49671415, -0.1382643 ],\n",
       "        [ 0.64768854,  1.52302986],\n",
       "        [-0.23415337, -0.23413696]]),\n",
       " array([[1.57921282, 0.76743473]])]"
      ]
     },
     "execution_count": 50,
     "metadata": {},
     "output_type": "execute_result"
    }
   ],
   "source": [
    "couche.param"
   ]
  },
  {
   "cell_type": "code",
   "execution_count": 51,
   "id": "099c21fc",
   "metadata": {},
   "outputs": [
    {
     "data": {
      "text/plain": [
       "[array([[-0.30320043,  0.20796531],\n",
       "        [-0.06424681, -0.07766607],\n",
       "        [ 0.04724885, -0.1280065 ]]),\n",
       " array([[ 0.02131064, -0.03919074]])]"
      ]
     },
     "execution_count": 51,
     "metadata": {},
     "output_type": "execute_result"
    }
   ],
   "source": [
    "couche.deriv_params"
   ]
  },
  {
   "cell_type": "code",
   "execution_count": 52,
   "id": "e87da829",
   "metadata": {},
   "outputs": [],
   "source": [
    "# model.get_params()"
   ]
  },
  {
   "cell_type": "code",
   "execution_count": 53,
   "id": "062998c0",
   "metadata": {},
   "outputs": [],
   "source": [
    "# model.get_deriv_params()"
   ]
  },
  {
   "cell_type": "code",
   "execution_count": 54,
   "id": "04a6b7bd",
   "metadata": {},
   "outputs": [
    {
     "data": {
      "text/plain": [
       "array([[ 2,  3, -2],\n",
       "       [ 4,  5, -1],\n",
       "       [-5,  2,  3],\n",
       "       [ 0,  5,  4]])"
      ]
     },
     "execution_count": 54,
     "metadata": {},
     "output_type": "execute_result"
    }
   ],
   "source": [
    "X"
   ]
  },
  {
   "cell_type": "code",
   "execution_count": 55,
   "id": "16a00471",
   "metadata": {},
   "outputs": [
    {
     "data": {
      "text/plain": [
       "array([[ 2.26983511],\n",
       "       [ 1.26019145],\n",
       "       [ 0.59821539],\n",
       "       [-1.00064104]])"
      ]
     },
     "execution_count": 55,
     "metadata": {},
     "output_type": "execute_result"
    }
   ],
   "source": [
    "Y"
   ]
  },
  {
   "cell_type": "code",
   "execution_count": 56,
   "id": "b8e9406f",
   "metadata": {},
   "outputs": [
    {
     "name": "stdout",
     "output_type": "stream",
     "text": [
      "1.4178888417388604\n"
     ]
    }
   ],
   "source": [
    "model = Model(layers=[Dense(neurons=2, activation=sigmoid), Dense(neurons=1)])\n",
    "\n",
    "#  forward\n",
    "P = model.forward(X)\n",
    "mse = Loss()\n",
    "loss = mse.forward(P, Y)\n",
    "print(loss)\n",
    "\n",
    "#  backward\n",
    "loss_deriv = mse.backward()\n",
    "model.backward(loss_deriv)"
   ]
  },
  {
   "cell_type": "code",
   "execution_count": 57,
   "id": "c609202f",
   "metadata": {},
   "outputs": [
    {
     "ename": "AttributeError",
     "evalue": "'Model' object has no attribute 'learning_rate'",
     "output_type": "error",
     "traceback": [
      "\u001b[0;31m---------------------------------------------------------------------------\u001b[0m",
      "\u001b[0;31mAttributeError\u001b[0m                            Traceback (most recent call last)",
      "Cell \u001b[0;32mIn[57], line 1\u001b[0m\n\u001b[0;32m----> 1\u001b[0m \u001b[43mmodel\u001b[49m\u001b[38;5;241;43m.\u001b[39;49m\u001b[43mupdate\u001b[49m\u001b[43m(\u001b[49m\u001b[43m)\u001b[49m\n",
      "Cell \u001b[0;32mIn[39], line 49\u001b[0m, in \u001b[0;36mModel.update\u001b[0;34m(self)\u001b[0m\n\u001b[1;32m     46\u001b[0m \u001b[38;5;28;01mfor\u001b[39;00m param, deriv_param \u001b[38;5;129;01min\u001b[39;00m \u001b[38;5;28mzip\u001b[39m(\u001b[38;5;28mself\u001b[39m\u001b[38;5;241m.\u001b[39mget_params(), \u001b[38;5;28mself\u001b[39m\u001b[38;5;241m.\u001b[39mget_deriv_params()):  \u001b[38;5;66;03m# Zip permet d'avoir les éléments 2 à 2\u001b[39;00m\n\u001b[1;32m     47\u001b[0m     \u001b[38;5;66;03m# [1, 2, 3] & [4, 5, 6] en [1,4] [2, 5] [3, 6]\u001b[39;00m\n\u001b[1;32m     48\u001b[0m     \u001b[38;5;28;01massert\u001b[39;00m param\u001b[38;5;241m.\u001b[39mshape \u001b[38;5;241m==\u001b[39m deriv_param\u001b[38;5;241m.\u001b[39mshape\n\u001b[0;32m---> 49\u001b[0m     param \u001b[38;5;241m-\u001b[39m\u001b[38;5;241m=\u001b[39m \u001b[38;5;28;43mself\u001b[39;49m\u001b[38;5;241;43m.\u001b[39;49m\u001b[43mlearning_rate\u001b[49m \u001b[38;5;241m*\u001b[39m deriv_param\n",
      "\u001b[0;31mAttributeError\u001b[0m: 'Model' object has no attribute 'learning_rate'"
     ]
    }
   ],
   "source": [
    "model.update()"
   ]
  },
  {
   "cell_type": "code",
   "execution_count": 57,
   "id": "2c4c2cc5",
   "metadata": {},
   "outputs": [
    {
     "name": "stdout",
     "output_type": "stream",
     "text": [
      "4.336579070378138\n"
     ]
    }
   ],
   "source": [
    "\n",
    "#  forward\n",
    "P = model.forward(X)\n",
    "mse = Loss()\n",
    "loss = mse.forward(P, Y)\n",
    "print(loss)\n"
   ]
  },
  {
   "cell_type": "markdown",
   "id": "7fd20a69",
   "metadata": {},
   "source": [
    "### Test de la fonction fit"
   ]
  },
  {
   "cell_type": "code",
   "execution_count": 59,
   "id": "e023441c",
   "metadata": {},
   "outputs": [
    {
     "name": "stdout",
     "output_type": "stream",
     "text": [
      "Epoch 1......... loss : 1.4178888417388604\n",
      "Epoch 2......... loss : 1.4089180282355822\n",
      "Epoch 3......... loss : 1.4034302960846796\n",
      "Epoch 4......... loss : 1.400051365450056\n",
      "Epoch 5......... loss : 1.3979502214214676\n",
      "Epoch 6......... loss : 1.396623556755967\n",
      "Epoch 7......... loss : 1.3957661510787358\n",
      "Epoch 8......... loss : 1.3951927086036302\n",
      "Epoch 9......... loss : 1.3947906258708875\n",
      "Epoch 10......... loss : 1.3944914034426215\n"
     ]
    },
    {
     "data": {
      "text/plain": [
       "{'loss': [1.4178888417388604,\n",
       "  1.4089180282355822,\n",
       "  1.4034302960846796,\n",
       "  1.400051365450056,\n",
       "  1.3979502214214676,\n",
       "  1.396623556755967,\n",
       "  1.3957661510787358,\n",
       "  1.3951927086036302,\n",
       "  1.3947906258708875,\n",
       "  1.3944914034426215]}"
      ]
     },
     "execution_count": 59,
     "metadata": {},
     "output_type": "execute_result"
    }
   ],
   "source": [
    "model = Model(layers=[Dense(neurons=2, activation=sigmoid), Dense(neurons=1)])\n",
    "\n",
    "mse = Loss()\n",
    "model.compile(loss=mse, learning_rate=0.01)\n",
    "model.fit(X, Y, epochs=10)"
   ]
  },
  {
   "cell_type": "markdown",
   "id": "58c0bf47",
   "metadata": {},
   "source": [
    "### Comparaison avec Tensorflow"
   ]
  },
  {
   "cell_type": "code",
   "execution_count": 60,
   "id": "048284dd",
   "metadata": {},
   "outputs": [
    {
     "name": "stderr",
     "output_type": "stream",
     "text": [
      "2024-01-14 16:26:13.584041: I tensorflow/core/platform/cpu_feature_guard.cc:193] This TensorFlow binary is optimized with oneAPI Deep Neural Network Library (oneDNN) to use the following CPU instructions in performance-critical operations:  AVX2 FMA\n",
      "To enable them in other operations, rebuild TensorFlow with the appropriate compiler flags.\n",
      "2024-01-14 16:26:13.792200: W tensorflow/compiler/xla/stream_executor/platform/default/dso_loader.cc:64] Could not load dynamic library 'libcudart.so.11.0'; dlerror: libcudart.so.11.0: cannot open shared object file: No such file or directory\n",
      "2024-01-14 16:26:13.792237: I tensorflow/compiler/xla/stream_executor/cuda/cudart_stub.cc:29] Ignore above cudart dlerror if you do not have a GPU set up on your machine.\n",
      "2024-01-14 16:26:14.655872: W tensorflow/compiler/xla/stream_executor/platform/default/dso_loader.cc:64] Could not load dynamic library 'libnvinfer.so.7'; dlerror: libnvinfer.so.7: cannot open shared object file: No such file or directory\n",
      "2024-01-14 16:26:14.656061: W tensorflow/compiler/xla/stream_executor/platform/default/dso_loader.cc:64] Could not load dynamic library 'libnvinfer_plugin.so.7'; dlerror: libnvinfer_plugin.so.7: cannot open shared object file: No such file or directory\n",
      "2024-01-14 16:26:14.656081: W tensorflow/compiler/tf2tensorrt/utils/py_utils.cc:38] TF-TRT Warning: Cannot dlopen some TensorRT libraries. If you would like to use Nvidia GPU with TensorRT, please make sure the missing libraries mentioned above are installed properly.\n"
     ]
    },
    {
     "name": "stdout",
     "output_type": "stream",
     "text": [
      "Epoch 1/10\n"
     ]
    },
    {
     "name": "stderr",
     "output_type": "stream",
     "text": [
      "2024-01-14 16:26:15.890643: W tensorflow/compiler/xla/stream_executor/platform/default/dso_loader.cc:64] Could not load dynamic library 'libcuda.so.1'; dlerror: libcuda.so.1: cannot open shared object file: No such file or directory\n",
      "2024-01-14 16:26:15.890677: W tensorflow/compiler/xla/stream_executor/cuda/cuda_driver.cc:265] failed call to cuInit: UNKNOWN ERROR (303)\n",
      "2024-01-14 16:26:15.890714: I tensorflow/compiler/xla/stream_executor/cuda/cuda_diagnostics.cc:156] kernel driver does not appear to be running on this host (elimson-HP-250-G7-Notebook-PC): /proc/driver/nvidia/version does not exist\n",
      "2024-01-14 16:26:15.890979: I tensorflow/core/platform/cpu_feature_guard.cc:193] This TensorFlow binary is optimized with oneAPI Deep Neural Network Library (oneDNN) to use the following CPU instructions in performance-critical operations:  AVX2 FMA\n",
      "To enable them in other operations, rebuild TensorFlow with the appropriate compiler flags.\n"
     ]
    },
    {
     "name": "stdout",
     "output_type": "stream",
     "text": [
      "1/1 [==============================] - 0s 475ms/step - loss: 1.8651\n",
      "Epoch 2/10\n",
      "1/1 [==============================] - 0s 103ms/step - loss: 1.6483\n",
      "Epoch 3/10\n",
      "1/1 [==============================] - 0s 7ms/step - loss: 1.4532\n",
      "Epoch 4/10\n",
      "1/1 [==============================] - 0s 7ms/step - loss: 1.2739\n",
      "Epoch 5/10\n",
      "1/1 [==============================] - 0s 8ms/step - loss: 1.1103\n",
      "Epoch 6/10\n",
      "1/1 [==============================] - 0s 8ms/step - loss: 0.9687\n",
      "Epoch 7/10\n",
      "1/1 [==============================] - 0s 9ms/step - loss: 0.8600\n",
      "Epoch 8/10\n",
      "1/1 [==============================] - 0s 9ms/step - loss: 0.7833\n",
      "Epoch 9/10\n",
      "1/1 [==============================] - 0s 7ms/step - loss: 0.7283\n",
      "Epoch 10/10\n",
      "1/1 [==============================] - 0s 8ms/step - loss: 0.6872\n"
     ]
    }
   ],
   "source": [
    "import tensorflow as tf\n",
    "from tensorflow.keras.models import Sequential\n",
    "from tensorflow.keras.layers import Dense\n",
    "from tensorflow.keras.optimizers import SGD\n",
    "\n",
    "lr = Sequential([Dense(units=2, activation='sigmoid'), Dense(units=2)])\n",
    "lr.compile(optimizer=SGD(learning_rate=0.1), loss='mse')\n",
    "history = lr.fit(X, Y, epochs=10)\n"
   ]
  },
  {
   "cell_type": "markdown",
   "id": "4dfb61b7",
   "metadata": {},
   "source": [
    "### Validation"
   ]
  },
  {
   "cell_type": "code",
   "execution_count": 65,
   "id": "0cc6ff39",
   "metadata": {},
   "outputs": [
    {
     "name": "stdout",
     "output_type": "stream",
     "text": [
      "Epoch 1......... loss : 1.4178888417388604..... - val_loss : 1.4178888417388604\n",
      "Epoch 2......... loss : 1.4089180282355822..... - val_loss : 1.4089180282355822\n",
      "Epoch 3......... loss : 1.4034302960846796..... - val_loss : 1.4034302960846796\n",
      "Epoch 4......... loss : 1.400051365450056..... - val_loss : 1.400051365450056\n",
      "Epoch 5......... loss : 1.3979502214214676..... - val_loss : 1.3979502214214676\n",
      "Epoch 6......... loss : 1.396623556755967..... - val_loss : 1.396623556755967\n",
      "Epoch 7......... loss : 1.3957661510787358..... - val_loss : 1.3957661510787358\n",
      "Epoch 8......... loss : 1.3951927086036302..... - val_loss : 1.3951927086036302\n",
      "Epoch 9......... loss : 1.3947906258708875..... - val_loss : 1.3947906258708875\n",
      "Epoch 10......... loss : 1.3944914034426215..... - val_loss : 1.3944914034426215\n"
     ]
    }
   ],
   "source": [
    "model = Model(layers=[Dense(neurons=2, activation=sigmoid), Dense(neurons=1)])\n",
    "\n",
    "mse = Loss()\n",
    "model.compile(loss=mse, learning_rate=0.01)\n",
    "h = model.fit(X, Y, epochs=10, validation_data=(X, Y))"
   ]
  },
  {
   "cell_type": "markdown",
   "id": "d897b9d5",
   "metadata": {},
   "source": [
    "### Test sur le boston dataset"
   ]
  },
  {
   "cell_type": "code",
   "execution_count": 66,
   "id": "d3890dd0",
   "metadata": {},
   "outputs": [],
   "source": [
    "#  Session 2 section 43\n",
    "import pandas as pd\n",
    "\n",
    "url = \"./boston.txt\"\n",
    "raw_df = pd.read_csv(url, sep=\"\\s+\", skiprows=22, header=None)\n",
    "data = np.hstack([raw_df.values[::2, :], raw_df.values[1::2, :2]])\n",
    "target = raw_df.values[1::2, 2]\n",
    "\n",
    "data = data\n",
    "target = target\n",
    "\n",
    "X = data\n",
    "Y = target.reshape(506, 1)\n",
    "\n",
    "from sklearn.model_selection import train_test_split\n",
    "X_train, X_test, Y_train, Y_test = train_test_split(X, Y, test_size=0.25, random_state=0)\n",
    "\n",
    "from sklearn.preprocessing import StandardScaler\n",
    "scaler = StandardScaler()\n",
    "X_train = scaler.fit_transform(X_train)\n",
    "X_test = scaler.transform(X_test)"
   ]
  },
  {
   "cell_type": "code",
   "execution_count": 67,
   "id": "f6bb505a",
   "metadata": {},
   "outputs": [
    {
     "data": {
      "text/plain": [
       "((379, 13), (379, 1))"
      ]
     },
     "execution_count": 67,
     "metadata": {},
     "output_type": "execute_result"
    }
   ],
   "source": [
    "X_train.shape, Y_train.shape"
   ]
  },
  {
   "cell_type": "code",
   "execution_count": 68,
   "id": "65c87995",
   "metadata": {},
   "outputs": [
    {
     "data": {
      "text/plain": [
       "((127, 13), (127, 1))"
      ]
     },
     "execution_count": 68,
     "metadata": {},
     "output_type": "execute_result"
    }
   ],
   "source": [
    "X_test.shape, Y_test.shape"
   ]
  },
  {
   "cell_type": "markdown",
   "id": "7185ef03",
   "metadata": {},
   "source": [
    "### Regression linéaire simple"
   ]
  },
  {
   "cell_type": "code",
   "execution_count": 74,
   "id": "c241f907",
   "metadata": {},
   "outputs": [
    {
     "name": "stdout",
     "output_type": "stream",
     "text": [
      "Epoch 1......... loss : 712.1743316753176..... - val_loss : 671.7547143671588\n",
      "Epoch 2......... loss : 384.0837028693358..... - val_loss : 383.82786822291087\n",
      "Epoch 3......... loss : 247.75414344252928..... - val_loss : 229.1941295737599\n",
      "Epoch 4......... loss : 148.3806303920543..... - val_loss : 144.19534190777878\n",
      "Epoch 5......... loss : 103.89520896898965..... - val_loss : 96.47739842280843\n",
      "Epoch 6......... loss : 71.33479105168065..... - val_loss : 69.15302180485378\n",
      "Epoch 7......... loss : 55.97937743045081..... - val_loss : 53.20253156199875\n",
      "Epoch 8......... loss : 44.69041961018085..... - val_loss : 43.70966230146516\n",
      "Epoch 9......... loss : 39.11541183660613..... - val_loss : 37.94536623883121\n",
      "Epoch 10......... loss : 35.00552004305203..... - val_loss : 34.3691118394618\n",
      "Epoch 11......... loss : 32.86685286102087..... - val_loss : 32.09754754821056\n",
      "Epoch 12......... loss : 31.27998033095609..... - val_loss : 30.616578716256143\n",
      "Epoch 13......... loss : 30.39111885607059..... - val_loss : 29.622717392182356\n",
      "Epoch 14......... loss : 29.716242894637325..... - val_loss : 28.93430154637416\n",
      "Epoch 15......... loss : 29.293243882027436..... - val_loss : 28.44108945283857\n",
      "Epoch 16......... loss : 28.95482063865208..... - val_loss : 28.075249108343932\n",
      "Epoch 17......... loss : 28.7089786277432..... - val_loss : 27.79444481334606\n",
      "Epoch 18......... loss : 28.497466286622565..... - val_loss : 27.571855135441425\n",
      "Epoch 19......... loss : 28.321231946325064..... - val_loss : 27.390212568490785\n",
      "Epoch 20......... loss : 28.160012267263177..... - val_loss : 27.238204534604474\n",
      "Epoch 21......... loss : 28.013601705576395..... - val_loss : 27.10827654993127\n",
      "Epoch 22......... loss : 27.875042004989993..... - val_loss : 26.995276952012357\n",
      "Epoch 23......... loss : 27.74416729188687..... - val_loss : 26.895611914363833\n",
      "Epoch 24......... loss : 27.618652933103757..... - val_loss : 26.806712942523752\n",
      "Epoch 25......... loss : 27.498454618593712..... - val_loss : 26.726697569350943\n",
      "Epoch 26......... loss : 27.382818478029847..... - val_loss : 26.654150638874846\n",
      "Epoch 27......... loss : 27.271736860497047..... - val_loss : 26.587981576323592\n",
      "Epoch 28......... loss : 27.16495168322497..... - val_loss : 26.527330004354646\n",
      "Epoch 29......... loss : 27.062434602101924..... - val_loss : 26.471502428119276\n",
      "Epoch 30......... loss : 26.9640574302144..... - val_loss : 26.419929095745758\n"
     ]
    }
   ],
   "source": [
    "zodel = Model([Dense(neurons=1)])\n",
    "\n",
    "mse = Loss()\n",
    "zodel.compile(loss=mse, learning_rate=0.001)\n",
    "h = zodel.fit(X_train, Y_train, epochs=30, validation_data=(X_test, Y_test))"
   ]
  },
  {
   "cell_type": "code",
   "execution_count": 70,
   "id": "0cf9e51f",
   "metadata": {},
   "outputs": [
    {
     "data": {
      "text/plain": [
       "dict_keys(['loss', 'val_loss'])"
      ]
     },
     "execution_count": 70,
     "metadata": {},
     "output_type": "execute_result"
    }
   ],
   "source": [
    "h.keys()"
   ]
  },
  {
   "cell_type": "code",
   "execution_count": 71,
   "id": "0ebf7d30",
   "metadata": {},
   "outputs": [],
   "source": [
    "import matplotlib.pyplot as plt\n",
    "\n",
    "def plot_learning_curv(history):    \n",
    "    plt.plot(list(range(len(history[\"loss\"]))), history[\"loss\"])\n",
    "    plt.plot(list(range(len(history[\"val_loss\"]))), history[\"val_loss\"])\n",
    "    \n",
    "    plt.xlabel('Epochs')\n",
    "    plt.ylabel('Loss')\n",
    "    plt.title(\"Learning Curve\")\n",
    "    plt.show()"
   ]
  },
  {
   "cell_type": "code",
   "execution_count": 72,
   "id": "01e28ac3",
   "metadata": {
    "scrolled": true
   },
   "outputs": [
    {
     "data": {
      "image/png": "[encoded data removed]",
      "text/plain": [
       "<Figure size 640x480 with 1 Axes>"
      ]
     },
     "metadata": {},
     "output_type": "display_data"
    }
   ],
   "source": [
    "plot_learning_curv(h)"
   ]
  },
  {
   "cell_type": "markdown",
   "id": "934a3e2b",
   "metadata": {},
   "source": [
    "### Deep Neural Network"
   ]
  },
  {
   "cell_type": "code",
   "execution_count": 77,
   "id": "e088db20",
   "metadata": {},
   "outputs": [
    {
     "data": {
      "text/plain": [
       "Layers........ \n",
       " DenseLayer(neurones = 1) \n",
       " DenseLayer(neurones = 13) avec Sigmoid"
      ]
     },
     "execution_count": 77,
     "metadata": {},
     "output_type": "execute_result"
    }
   ],
   "source": [
    "sigmoid = Sigmoid()\n",
    "model = Model([Dense(neurons=13, activation=sigmoid), Dense(neurons=1)])\n",
    "model"
   ]
  },
  {
   "cell_type": "code",
   "execution_count": 78,
   "id": "35960918",
   "metadata": {},
   "outputs": [
    {
     "name": "stdout",
     "output_type": "stream",
     "text": [
      "Epoch 1......... loss : 609.4535263872165..... - val_loss : 594.285047596059\n",
      "Epoch 2......... loss : 494.7172454598782..... - val_loss : 479.0339597155269\n",
      "Epoch 3......... loss : 403.8643944989146..... - val_loss : 388.125852443045\n",
      "Epoch 4......... loss : 331.0559254119759..... - val_loss : 315.67394558965\n",
      "Epoch 5......... loss : 272.44802631944543..... - val_loss : 257.80096535791387\n",
      "Epoch 6......... loss : 225.32104126553727..... - val_loss : 211.7461595039089\n",
      "Epoch 7......... loss : 187.60578616146617..... - val_loss : 175.37471756759948\n",
      "Epoch 8......... loss : 157.62037539699094..... - val_loss : 146.91491099254424\n",
      "Epoch 9......... loss : 133.9379615740088..... - val_loss : 124.84238208175846\n",
      "Epoch 10......... loss : 115.33306807953525..... - val_loss : 107.84460906755527\n",
      "Epoch 11......... loss : 100.76383198721742..... - val_loss : 94.8136613248053\n",
      "Epoch 12......... loss : 89.36281102397759..... - val_loss : 84.83959359519152\n",
      "Epoch 13......... loss : 80.42414713510476..... - val_loss : 77.19470874462637\n",
      "Epoch 14......... loss : 73.38501999017595..... - val_loss : 71.30927122086527\n",
      "Epoch 15......... loss : 67.80394933610259..... - val_loss : 66.74384710569032\n",
      "Epoch 16......... loss : 63.338980777709935..... - val_loss : 63.16320594326976\n",
      "Epoch 17......... loss : 59.72772046662133..... - val_loss : 60.31410463055445\n",
      "Epoch 18......... loss : 56.77014011013003..... - val_loss : 58.00697905732569\n",
      "Epoch 19......... loss : 54.314382766974546..... - val_loss : 56.10095172821895\n",
      "Epoch 20......... loss : 52.245467403626975..... - val_loss : 54.49191732965117\n",
      "Epoch 21......... loss : 50.47654447278566..... - val_loss : 53.1034202822021\n",
      "Epoch 22......... loss : 48.942161999056076..... - val_loss : 51.87970350441654\n",
      "Epoch 23......... loss : 47.59303981617112..... - val_loss : 50.780330560710794\n",
      "Epoch 24......... loss : 46.392019075413714..... - val_loss : 49.776027668240474\n",
      "Epoch 25......... loss : 45.31096948445956..... - val_loss : 48.84553815905314\n",
      "Epoch 26......... loss : 44.32847517552106..... - val_loss : 47.97331299490986\n",
      "Epoch 27......... loss : 43.4281343598411..... - val_loss : 47.147866866640136\n",
      "Epoch 28......... loss : 42.59732683484983..... - val_loss : 46.36064944995507\n",
      "Epoch 29......... loss : 41.82632768413527..... - val_loss : 45.605311093475684\n",
      "Epoch 30......... loss : 41.10766782791384..... - val_loss : 44.87726565591287\n",
      "Epoch 31......... loss : 40.43565769907934..... - val_loss : 44.17345671665201\n",
      "Epoch 32......... loss : 39.80600064159016..... - val_loss : 43.49221408000989\n",
      "Epoch 33......... loss : 39.215436372136075..... - val_loss : 42.83306654260564\n",
      "Epoch 34......... loss : 38.6613841238386..... - val_loss : 42.19640255910404\n",
      "Epoch 35......... loss : 38.14160148197..... - val_loss : 41.582977151351066\n",
      "Epoch 36......... loss : 37.65391501487248..... - val_loss : 40.99340130420351\n",
      "Epoch 37......... loss : 37.19607734993321..... - val_loss : 40.427797681822355\n",
      "Epoch 38......... loss : 36.765757738138504..... - val_loss : 39.88571176993216\n",
      "Epoch 39......... loss : 36.36061993592687..... - val_loss : 39.366225827214805\n",
      "Epoch 40......... loss : 35.9784234656955..... - val_loss : 38.868155209383524\n",
      "Epoch 41......... loss : 35.617102700902..... - val_loss : 38.390229029964544\n",
      "Epoch 42......... loss : 35.27480708792659..... - val_loss : 37.93121150658964\n",
      "Epoch 43......... loss : 34.94990589755357..... - val_loss : 37.489960848761314\n",
      "Epoch 44......... loss : 34.64096896707942..... - val_loss : 37.06544069044981\n",
      "Epoch 45......... loss : 34.34673549473888..... - val_loss : 36.656703391349964\n",
      "Epoch 46......... loss : 34.06608054688218..... - val_loss : 36.26286278090327\n",
      "Epoch 47......... loss : 33.79798576157045..... - val_loss : 35.8830693990944\n",
      "Epoch 48......... loss : 33.54151756594019..... - val_loss : 35.51649538738862\n",
      "Epoch 49......... loss : 33.295813469490774..... - val_loss : 35.1623304451514\n",
      "Epoch 50......... loss : 33.06007504271835..... - val_loss : 34.81978629766011\n",
      "Epoch 51......... loss : 32.83356527482038..... - val_loss : 34.48810562414441\n",
      "Epoch 52......... loss : 32.61560802327613..... - val_loss : 34.166571869850216\n",
      "Epoch 53......... loss : 32.40558784871422..... - val_loss : 33.85451772047728\n",
      "Epoch 54......... loss : 32.202949254775206..... - val_loss : 33.551331322479314\n",
      "Epoch 55......... loss : 32.007194946988..... - val_loss : 33.25646015967647\n",
      "Epoch 56......... loss : 31.817883087859673..... - val_loss : 32.96941282770702\n",
      "Epoch 57......... loss : 31.634623681634665..... - val_loss : 32.68975895187364\n",
      "Epoch 58......... loss : 31.457074246267982..... - val_loss : 32.41712736155871\n",
      "Epoch 59......... loss : 31.28493489871303..... - val_loss : 32.151202510159074\n",
      "Epoch 60......... loss : 31.11794294998327..... - val_loss : 31.89171910094423\n",
      "Epoch 61......... loss : 30.955867111220783..... - val_loss : 31.63845498126893\n",
      "Epoch 62......... loss : 30.798501459312636..... - val_loss : 31.391222584969668\n",
      "Epoch 63......... loss : 30.645659386547436..... - val_loss : 31.149859473979227\n",
      "Epoch 64......... loss : 30.497167833436613..... - val_loss : 30.914218762685792\n",
      "Epoch 65......... loss : 30.352862142074976..... - val_loss : 30.68416031040627\n",
      "Epoch 66......... loss : 30.212581843342793..... - val_loss : 30.45954348544016\n",
      "Epoch 67......... loss : 30.076167599880154..... - val_loss : 30.240222049671715\n",
      "Epoch 68......... loss : 29.943459387228504..... - val_loss : 30.026041357434682\n",
      "Epoch 69......... loss : 29.81429584334349..... - val_loss : 29.81683770707524\n",
      "Epoch 70......... loss : 29.688514589159947..... - val_loss : 29.612439416054652\n",
      "Epoch 71......... loss : 29.565953245530167..... - val_loss : 29.41266905566337\n",
      "Epoch 72......... loss : 29.446450851868157..... - val_loss : 29.217346276557524\n",
      "Epoch 73......... loss : 29.3298494201223..... - val_loss : 29.026290745082914\n",
      "Epoch 74......... loss : 29.2159954161379..... - val_loss : 28.839324845115105\n",
      "Epoch 75......... loss : 29.104741029809762..... - val_loss : 28.656275939766143\n",
      "Epoch 76......... loss : 28.99594516068419..... - val_loss : 28.47697810555209\n",
      "Epoch 77......... loss : 28.889474098142035..... - val_loss : 28.301273337410766\n",
      "Epoch 78......... loss : 28.785201911977875..... - val_loss : 28.12901227622496\n",
      "Epoch 79......... loss : 28.683010591008..... - val_loss : 27.96005453707506\n",
      "Epoch 80......... loss : 28.582789977236505..... - val_loss : 27.7942687240216\n",
      "Epoch 81......... loss : 28.48443754459485..... - val_loss : 27.63153221298081\n",
      "Epoch 82......... loss : 28.38785806754813..... - val_loss : 27.47173077380462\n",
      "Epoch 83......... loss : 28.292963218445838..... - val_loss : 27.314758089862796\n",
      "Epoch 84......... loss : 28.19967112514306..... - val_loss : 27.16051522061794\n",
      "Epoch 85......... loss : 28.10790591323169..... - val_loss : 27.00891004114925\n",
      "Epoch 86......... loss : 28.01759725079982..... - val_loss : 26.859856682858847\n",
      "Epoch 87......... loss : 27.92867990823961..... - val_loss : 26.713274991787337\n",
      "Epoch 88......... loss : 27.841093341289376..... - val_loss : 26.56909001493585\n",
      "Epoch 89......... loss : 27.75478130214716..... - val_loss : 26.427231520499202\n",
      "Epoch 90......... loss : 27.669691480994977..... - val_loss : 26.287633554686362\n",
      "Epoch 91......... loss : 27.58577517847407..... - val_loss : 26.15023403557705\n",
      "Epoch 92......... loss : 27.5029870084069..... - val_loss : 26.014974383004574\n",
      "Epoch 93......... loss : 27.421284629242212..... - val_loss : 25.881799182570322\n",
      "Epoch 94......... loss : 27.340628502200172..... - val_loss : 25.750655881423725\n",
      "Epoch 95......... loss : 27.26098167382669..... - val_loss : 25.62149451325792\n",
      "Epoch 96......... loss : 27.18230958056549..... - val_loss : 25.4942674499789\n",
      "Epoch 97......... loss : 27.10457987296989..... - val_loss : 25.36892917763184\n",
      "Epoch 98......... loss : 27.027762257267355..... - val_loss : 25.245436094358304\n",
      "Epoch 99......... loss : 26.951828352129755..... - val_loss : 25.12374632837613\n",
      "Epoch 100......... loss : 26.87675155867179..... - val_loss : 25.003819574193948\n",
      "Epoch 101......... loss : 26.80250694188499..... - val_loss : 24.885616945477768\n",
      "Epoch 102......... loss : 26.72907112190448..... - val_loss : 24.76910084317046\n",
      "Epoch 103......... loss : 26.656422173695486..... - val_loss : 24.654234837620933\n",
      "Epoch 104......... loss : 26.584539533929245..... - val_loss : 24.540983563608503\n",
      "Epoch 105......... loss : 26.513403913993365..... - val_loss : 24.429312627250923\n",
      "Epoch 106......... loss : 26.442997218245473..... - val_loss : 24.31918852386517\n",
      "Epoch 107......... loss : 26.37330246677077..... - val_loss : 24.210578565912243\n",
      "Epoch 108......... loss : 26.30430372204368..... - val_loss : 24.10345082020478\n",
      "Epoch 109......... loss : 26.235986019018913..... - val_loss : 23.997774053593595\n",
      "Epoch 110......... loss : 26.16833529828923..... - val_loss : 23.893517686379237\n",
      "Epoch 111......... loss : 26.101338342044805..... - val_loss : 23.79065175272151\n",
      "Epoch 112......... loss : 26.0349827126528..... - val_loss : 23.68914686734416\n",
      "Epoch 113......... loss : 25.969256693745816..... - val_loss : 23.588974197858512\n",
      "Epoch 114......... loss : 25.904149233764535..... - val_loss : 23.49010544205569\n",
      "Epoch 115......... loss : 25.83964989194355..... - val_loss : 23.39251280954827\n",
      "Epoch 116......... loss : 25.77574878676168..... - val_loss : 23.296169007174143\n",
      "Epoch 117......... loss : 25.712436546898793..... - val_loss : 23.201047227611557\n",
      "Epoch 118......... loss : 25.64970426475255..... - val_loss : 23.107121140692442\n",
      "Epoch 119......... loss : 25.587543452570834..... - val_loss : 23.014364886941628\n",
      "Epoch 120......... loss : 25.525946001251373..... - val_loss : 22.922753072911924\n",
      "Epoch 121......... loss : 25.46490414184905..... - val_loss : 22.83226076792713\n",
      "Epoch 122......... loss : 25.404410409816638..... - val_loss : 22.74286350188819\n",
      "Epoch 123......... loss : 25.344457611986456..... - val_loss : 22.65453726384\n",
      "Epoch 124......... loss : 25.28503879627986..... - val_loss : 22.567258501036637\n",
      "Epoch 125......... loss : 25.226147224110633..... - val_loss : 22.48100411828211\n",
      "Epoch 126......... loss : 25.16777634542719..... - val_loss : 22.39575147736038\n",
      "Epoch 127......... loss : 25.10991977631833..... - val_loss : 22.31147839640187\n",
      "Epoch 128......... loss : 25.05257127908885..... - val_loss : 22.22816314906518\n",
      "Epoch 129......... loss : 24.9957247446948..... - val_loss : 22.145784463440464\n",
      "Epoch 130......... loss : 24.93937417741419..... - val_loss : 22.064321520605528\n",
      "Epoch 131......... loss : 24.88351368161772..... - val_loss : 21.983753952787616\n",
      "Epoch 132......... loss : 24.82813745049533..... - val_loss : 21.904061841102322\n",
      "Epoch 133......... loss : 24.773239756588698..... - val_loss : 21.8252257128568\n",
      "Epoch 134......... loss : 24.718814943976415..... - val_loss : 21.74722653841746\n",
      "Epoch 135......... loss : 24.664857421957816..... - val_loss : 21.670045727652816\n",
      "Epoch 136......... loss : 24.61136166008277..... - val_loss : 21.59366512597048\n",
      "Epoch 137......... loss : 24.558322184378078..... - val_loss : 21.51806700997318\n",
      "Epoch 138......... loss : 24.505733574626102..... - val_loss : 21.443234082763546\n",
      "Epoch 139......... loss : 24.453590462557475..... - val_loss : 21.369149468929805\n",
      "Epoch 140......... loss : 24.401887530827313..... - val_loss : 21.295796709246424\n",
      "Epoch 141......... loss : 24.350619512652397..... - val_loss : 21.223159755123795\n",
      "Epoch 142......... loss : 24.299781191995653..... - val_loss : 21.151222962841146\n",
      "Epoch 143......... loss : 24.249367404193457..... - val_loss : 21.079971087595062\n",
      "Epoch 144......... loss : 24.19937303693042..... - val_loss : 21.00938927739476\n",
      "Epoch 145......... loss : 24.149793031475543..... - val_loss : 20.939463066832875\n",
      "Epoch 146......... loss : 24.100622384102994..... - val_loss : 20.870178370758428\n",
      "Epoch 147......... loss : 24.051856147629017..... - val_loss : 20.801521477875614\n",
      "Epoch 148......... loss : 24.00348943300558..... - val_loss : 20.733479044290082\n",
      "Epoch 149......... loss : 23.955517410918613..... - val_loss : 20.66603808702128\n",
      "Epoch 150......... loss : 23.907935313346876..... - val_loss : 20.59918597749719\n"
     ]
    }
   ],
   "source": [
    "mse = Loss()\n",
    "model.compile(loss=mse, learning_rate=0.0001)\n",
    "h = model.fit(X_train, Y_train, epochs=150, validation_data=(X_test, Y_test))"
   ]
  },
  {
   "cell_type": "code",
   "execution_count": 79,
   "id": "a0c60a26",
   "metadata": {},
   "outputs": [
    {
     "data": {
      "image/png": "[encoded data removed]",
      "text/plain": [
       "<Figure size 640x480 with 1 Axes>"
      ]
     },
     "metadata": {},
     "output_type": "display_data"
    }
   ],
   "source": [
    "plot_learning_curv(h)"
   ]
  },
  {
   "cell_type": "markdown",
   "id": "51d3bf11",
   "metadata": {},
   "source": [
    "### Sauvegarde du Modele"
   ]
  },
  {
   "cell_type": "code",
   "execution_count": 80,
   "id": "b3bbad19",
   "metadata": {},
   "outputs": [
    {
     "name": "stdout",
     "output_type": "stream",
     "text": [
      "Epoch 1......... loss : 609.4535263872165..... - val_loss : 594.285047596059\n",
      "Epoch 2......... loss : 494.7172454598782..... - val_loss : 479.0339597155269\n",
      "Epoch 3......... loss : 403.8643944989146..... - val_loss : 388.125852443045\n",
      "Epoch 4......... loss : 331.0559254119759..... - val_loss : 315.67394558965\n",
      "Epoch 5......... loss : 272.44802631944543..... - val_loss : 257.80096535791387\n",
      "Epoch 6......... loss : 225.32104126553727..... - val_loss : 211.7461595039089\n",
      "Epoch 7......... loss : 187.60578616146617..... - val_loss : 175.37471756759948\n",
      "Epoch 8......... loss : 157.62037539699094..... - val_loss : 146.91491099254424\n",
      "Epoch 9......... loss : 133.9379615740088..... - val_loss : 124.84238208175846\n",
      "Epoch 10......... loss : 115.33306807953525..... - val_loss : 107.84460906755527\n"
     ]
    }
   ],
   "source": [
    "sigmoid = Sigmoid()\n",
    "model = Model([Dense(neurons=13, activation=sigmoid), Dense(neurons=1)])\n",
    "\n",
    "mse = Loss()\n",
    "model.compile(loss=mse, learning_rate=0.0001)\n",
    "h = model.fit(X_train, Y_train, epochs=10, validation_data=(X_test, Y_test))"
   ]
  },
  {
   "cell_type": "code",
   "execution_count": 81,
   "id": "8029f0db",
   "metadata": {},
   "outputs": [],
   "source": [
    "model.save_model('model.file')"
   ]
  },
  {
   "cell_type": "markdown",
   "id": "63186bf5",
   "metadata": {},
   "source": [
    "### Charger le modele"
   ]
  },
  {
   "cell_type": "code",
   "execution_count": 82,
   "id": "fd5a0488",
   "metadata": {},
   "outputs": [],
   "source": [
    "import pickle\n",
    "\n",
    "def load_model(file):\n",
    "    with open(file, 'rb') as f:\n",
    "        model_load = pickle.load(f)\n",
    "    return model_load"
   ]
  },
  {
   "cell_type": "code",
   "execution_count": 83,
   "id": "3a4e2d13",
   "metadata": {},
   "outputs": [
    {
     "data": {
      "text/plain": [
       "Layers........ \n",
       " DenseLayer(neurones = 1) \n",
       " DenseLayer(neurones = 13) avec Sigmoid"
      ]
     },
     "execution_count": 83,
     "metadata": {},
     "output_type": "execute_result"
    }
   ],
   "source": [
    "model_charge = load_model(\"model.file\")\n",
    "model_charge  # Utilisable pour faire des prédictions"
   ]
  },
  {
   "cell_type": "code",
   "execution_count": null,
   "id": "d2ed6952",
   "metadata": {},
   "outputs": [],
   "source": []
  }
 ],
 "metadata": {
  "kernelspec": {
   "display_name": "Python 3 (ipykernel)",
   "language": "python",
   "name": "python3"
  },
  "language_info": {
   "codemirror_mode": {
    "name": "ipython",
    "version": 3
   },
   "file_extension": ".py",
   "mimetype": "text/x-python",
   "name": "python",
   "nbconvert_exporter": "python",
   "pygments_lexer": "ipython3",
   "version": "3.10.12"
  }
 },
 "nbformat": 4,
 "nbformat_minor": 5
}
