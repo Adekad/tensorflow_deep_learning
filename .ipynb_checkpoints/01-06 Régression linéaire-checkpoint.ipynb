{
 "cells": [
  {
   "cell_type": "code",
   "execution_count": 7,
   "id": "af91b975",
   "metadata": {},
   "outputs": [
    {
     "data": {
      "text/plain": [
       "array([24. , 21.6, 34.7, 33.4, 36.2, 28.7, 22.9, 27.1, 16.5, 18.9, 15. ,\n",
       "       18.9, 21.7, 20.4, 18.2, 19.9, 23.1, 17.5, 20.2, 18.2, 13.6, 19.6,\n",
       "       15.2, 14.5, 15.6, 13.9, 16.6, 14.8, 18.4, 21. , 12.7, 14.5, 13.2,\n",
       "       13.1, 13.5, 18.9, 20. , 21. , 24.7, 30.8, 34.9, 26.6, 25.3, 24.7,\n",
       "       21.2, 19.3, 20. , 16.6, 14.4, 19.4, 19.7, 20.5, 25. , 23.4, 18.9,\n",
       "       35.4, 24.7, 31.6, 23.3, 19.6, 18.7, 16. , 22.2, 25. , 33. , 23.5,\n",
       "       19.4, 22. , 17.4, 20.9, 24.2, 21.7, 22.8, 23.4, 24.1, 21.4, 20. ,\n",
       "       20.8, 21.2, 20.3, 28. , 23.9, 24.8, 22.9, 23.9, 26.6, 22.5, 22.2,\n",
       "       23.6, 28.7, 22.6, 22. , 22.9, 25. , 20.6, 28.4, 21.4, 38.7, 43.8,\n",
       "       33.2, 27.5, 26.5, 18.6, 19.3, 20.1, 19.5, 19.5, 20.4, 19.8, 19.4,\n",
       "       21.7, 22.8, 18.8, 18.7, 18.5, 18.3, 21.2, 19.2, 20.4, 19.3, 22. ,\n",
       "       20.3, 20.5, 17.3, 18.8, 21.4, 15.7, 16.2, 18. , 14.3, 19.2, 19.6,\n",
       "       23. , 18.4, 15.6, 18.1, 17.4, 17.1, 13.3, 17.8, 14. , 14.4, 13.4,\n",
       "       15.6, 11.8, 13.8, 15.6, 14.6, 17.8, 15.4, 21.5, 19.6, 15.3, 19.4,\n",
       "       17. , 15.6, 13.1, 41.3, 24.3, 23.3, 27. , 50. , 50. , 50. , 22.7,\n",
       "       25. , 50. , 23.8, 23.8, 22.3, 17.4, 19.1, 23.1, 23.6, 22.6, 29.4,\n",
       "       23.2, 24.6, 29.9, 37.2, 39.8, 36.2, 37.9, 32.5, 26.4, 29.6, 50. ,\n",
       "       32. , 29.8, 34.9, 37. , 30.5, 36.4, 31.1, 29.1, 50. , 33.3, 30.3,\n",
       "       34.6, 34.9, 32.9, 24.1, 42.3, 48.5, 50. , 22.6, 24.4, 22.5, 24.4,\n",
       "       20. , 21.7, 19.3, 22.4, 28.1, 23.7, 25. , 23.3, 28.7, 21.5, 23. ,\n",
       "       26.7, 21.7, 27.5, 30.1, 44.8, 50. , 37.6, 31.6, 46.7, 31.5, 24.3,\n",
       "       31.7, 41.7, 48.3, 29. , 24. , 25.1, 31.5, 23.7, 23.3, 22. , 20.1,\n",
       "       22.2, 23.7, 17.6, 18.5, 24.3, 20.5, 24.5, 26.2, 24.4, 24.8, 29.6,\n",
       "       42.8, 21.9, 20.9, 44. , 50. , 36. , 30.1, 33.8, 43.1, 48.8, 31. ,\n",
       "       36.5, 22.8, 30.7, 50. , 43.5, 20.7, 21.1, 25.2, 24.4, 35.2, 32.4,\n",
       "       32. , 33.2, 33.1, 29.1, 35.1, 45.4, 35.4, 46. , 50. , 32.2, 22. ,\n",
       "       20.1, 23.2, 22.3, 24.8, 28.5, 37.3, 27.9, 23.9, 21.7, 28.6, 27.1,\n",
       "       20.3, 22.5, 29. , 24.8, 22. , 26.4, 33.1, 36.1, 28.4, 33.4, 28.2,\n",
       "       22.8, 20.3, 16.1, 22.1, 19.4, 21.6, 23.8, 16.2, 17.8, 19.8, 23.1,\n",
       "       21. , 23.8, 23.1, 20.4, 18.5, 25. , 24.6, 23. , 22.2, 19.3, 22.6,\n",
       "       19.8, 17.1, 19.4, 22.2, 20.7, 21.1, 19.5, 18.5, 20.6, 19. , 18.7,\n",
       "       32.7, 16.5, 23.9, 31.2, 17.5, 17.2, 23.1, 24.5, 26.6, 22.9, 24.1,\n",
       "       18.6, 30.1, 18.2, 20.6, 17.8, 21.7, 22.7, 22.6, 25. , 19.9, 20.8,\n",
       "       16.8, 21.9, 27.5, 21.9, 23.1, 50. , 50. , 50. , 50. , 50. , 13.8,\n",
       "       13.8, 15. , 13.9, 13.3, 13.1, 10.2, 10.4, 10.9, 11.3, 12.3,  8.8,\n",
       "        7.2, 10.5,  7.4, 10.2, 11.5, 15.1, 23.2,  9.7, 13.8, 12.7, 13.1,\n",
       "       12.5,  8.5,  5. ,  6.3,  5.6,  7.2, 12.1,  8.3,  8.5,  5. , 11.9,\n",
       "       27.9, 17.2, 27.5, 15. , 17.2, 17.9, 16.3,  7. ,  7.2,  7.5, 10.4,\n",
       "        8.8,  8.4, 16.7, 14.2, 20.8, 13.4, 11.7,  8.3, 10.2, 10.9, 11. ,\n",
       "        9.5, 14.5, 14.1, 16.1, 14.3, 11.7, 13.4,  9.6,  8.7,  8.4, 12.8,\n",
       "       10.5, 17.1, 18.4, 15.4, 10.8, 11.8, 14.9, 12.6, 14.1, 13. , 13.4,\n",
       "       15.2, 16.1, 17.8, 14.9, 14.1, 12.7, 13.5, 14.9, 20. , 16.4, 17.7,\n",
       "       19.5, 20.2, 21.4, 19.9, 19. , 19.1, 19.1, 20.1, 19.9, 19.6, 23.2,\n",
       "       29.8, 13.8, 13.3, 16.7, 12. , 14.6, 21.4, 23. , 23.7, 25. , 21.8,\n",
       "       20.6, 21.2, 19.1, 20.6, 15.2,  7. ,  8.1, 13.6, 20.1, 21.8, 24.5,\n",
       "       23.1, 19.7, 18.3, 21.2, 17.5, 16.8, 22.4, 20.6, 23.9, 22. , 11.9])"
      ]
     },
     "execution_count": 7,
     "metadata": {},
     "output_type": "execute_result"
    }
   ],
   "source": [
    "import pandas as pd\n",
    "import numpy as np\n",
    "\n",
    "# Section 2 Session 34\n",
    "\n",
    "url = \"./boston.txt\"\n",
    "raw_df = pd.read_csv(url, sep=\"\\s+\", skiprows=22, header=None)\n",
    "data = np.hstack([raw_df.values[::2, :], raw_df.values[1::2, :2]])\n",
    "target = raw_df.values[1::2, 2]\n",
    "\n",
    "data = data\n",
    "target = target\n",
    "target"
   ]
  },
  {
   "cell_type": "code",
   "execution_count": 2,
   "id": "73284877",
   "metadata": {},
   "outputs": [
    {
     "data": {
      "text/plain": [
       "array([[6.3200e-03, 1.8000e+01, 2.3100e+00, ..., 1.5300e+01, 3.9690e+02,\n",
       "        4.9800e+00],\n",
       "       [2.7310e-02, 0.0000e+00, 7.0700e+00, ..., 1.7800e+01, 3.9690e+02,\n",
       "        9.1400e+00],\n",
       "       [2.7290e-02, 0.0000e+00, 7.0700e+00, ..., 1.7800e+01, 3.9283e+02,\n",
       "        4.0300e+00],\n",
       "       ...,\n",
       "       [6.0760e-02, 0.0000e+00, 1.1930e+01, ..., 2.1000e+01, 3.9690e+02,\n",
       "        5.6400e+00],\n",
       "       [1.0959e-01, 0.0000e+00, 1.1930e+01, ..., 2.1000e+01, 3.9345e+02,\n",
       "        6.4800e+00],\n",
       "       [4.7410e-02, 0.0000e+00, 1.1930e+01, ..., 2.1000e+01, 3.9690e+02,\n",
       "        7.8800e+00]])"
      ]
     },
     "execution_count": 2,
     "metadata": {},
     "output_type": "execute_result"
    }
   ],
   "source": [
    "data"
   ]
  },
  {
   "cell_type": "code",
   "execution_count": 3,
   "id": "cd1172c8",
   "metadata": {},
   "outputs": [
    {
     "data": {
      "text/plain": [
       "(506, 13)"
      ]
     },
     "execution_count": 3,
     "metadata": {},
     "output_type": "execute_result"
    }
   ],
   "source": [
    "data.shape"
   ]
  },
  {
   "cell_type": "code",
   "execution_count": 4,
   "id": "52c39fc5",
   "metadata": {},
   "outputs": [
    {
     "data": {
      "text/plain": [
       "(506,)"
      ]
     },
     "execution_count": 4,
     "metadata": {},
     "output_type": "execute_result"
    }
   ],
   "source": [
    "target.shape"
   ]
  },
  {
   "cell_type": "code",
   "execution_count": 9,
   "id": "781181b4",
   "metadata": {},
   "outputs": [
    {
     "data": {
      "text/plain": [
       "array([[24. ],\n",
       "       [21.6],\n",
       "       [34.7],\n",
       "       [33.4],\n",
       "       [36.2],\n",
       "       [28.7],\n",
       "       [22.9],\n",
       "       [27.1],\n",
       "       [16.5],\n",
       "       [18.9],\n",
       "       [15. ],\n",
       "       [18.9],\n",
       "       [21.7],\n",
       "       [20.4],\n",
       "       [18.2],\n",
       "       [19.9],\n",
       "       [23.1],\n",
       "       [17.5],\n",
       "       [20.2],\n",
       "       [18.2],\n",
       "       [13.6],\n",
       "       [19.6],\n",
       "       [15.2],\n",
       "       [14.5],\n",
       "       [15.6],\n",
       "       [13.9],\n",
       "       [16.6],\n",
       "       [14.8],\n",
       "       [18.4],\n",
       "       [21. ],\n",
       "       [12.7],\n",
       "       [14.5],\n",
       "       [13.2],\n",
       "       [13.1],\n",
       "       [13.5],\n",
       "       [18.9],\n",
       "       [20. ],\n",
       "       [21. ],\n",
       "       [24.7],\n",
       "       [30.8],\n",
       "       [34.9],\n",
       "       [26.6],\n",
       "       [25.3],\n",
       "       [24.7],\n",
       "       [21.2],\n",
       "       [19.3],\n",
       "       [20. ],\n",
       "       [16.6],\n",
       "       [14.4],\n",
       "       [19.4],\n",
       "       [19.7],\n",
       "       [20.5],\n",
       "       [25. ],\n",
       "       [23.4],\n",
       "       [18.9],\n",
       "       [35.4],\n",
       "       [24.7],\n",
       "       [31.6],\n",
       "       [23.3],\n",
       "       [19.6],\n",
       "       [18.7],\n",
       "       [16. ],\n",
       "       [22.2],\n",
       "       [25. ],\n",
       "       [33. ],\n",
       "       [23.5],\n",
       "       [19.4],\n",
       "       [22. ],\n",
       "       [17.4],\n",
       "       [20.9],\n",
       "       [24.2],\n",
       "       [21.7],\n",
       "       [22.8],\n",
       "       [23.4],\n",
       "       [24.1],\n",
       "       [21.4],\n",
       "       [20. ],\n",
       "       [20.8],\n",
       "       [21.2],\n",
       "       [20.3],\n",
       "       [28. ],\n",
       "       [23.9],\n",
       "       [24.8],\n",
       "       [22.9],\n",
       "       [23.9],\n",
       "       [26.6],\n",
       "       [22.5],\n",
       "       [22.2],\n",
       "       [23.6],\n",
       "       [28.7],\n",
       "       [22.6],\n",
       "       [22. ],\n",
       "       [22.9],\n",
       "       [25. ],\n",
       "       [20.6],\n",
       "       [28.4],\n",
       "       [21.4],\n",
       "       [38.7],\n",
       "       [43.8],\n",
       "       [33.2],\n",
       "       [27.5],\n",
       "       [26.5],\n",
       "       [18.6],\n",
       "       [19.3],\n",
       "       [20.1],\n",
       "       [19.5],\n",
       "       [19.5],\n",
       "       [20.4],\n",
       "       [19.8],\n",
       "       [19.4],\n",
       "       [21.7],\n",
       "       [22.8],\n",
       "       [18.8],\n",
       "       [18.7],\n",
       "       [18.5],\n",
       "       [18.3],\n",
       "       [21.2],\n",
       "       [19.2],\n",
       "       [20.4],\n",
       "       [19.3],\n",
       "       [22. ],\n",
       "       [20.3],\n",
       "       [20.5],\n",
       "       [17.3],\n",
       "       [18.8],\n",
       "       [21.4],\n",
       "       [15.7],\n",
       "       [16.2],\n",
       "       [18. ],\n",
       "       [14.3],\n",
       "       [19.2],\n",
       "       [19.6],\n",
       "       [23. ],\n",
       "       [18.4],\n",
       "       [15.6],\n",
       "       [18.1],\n",
       "       [17.4],\n",
       "       [17.1],\n",
       "       [13.3],\n",
       "       [17.8],\n",
       "       [14. ],\n",
       "       [14.4],\n",
       "       [13.4],\n",
       "       [15.6],\n",
       "       [11.8],\n",
       "       [13.8],\n",
       "       [15.6],\n",
       "       [14.6],\n",
       "       [17.8],\n",
       "       [15.4],\n",
       "       [21.5],\n",
       "       [19.6],\n",
       "       [15.3],\n",
       "       [19.4],\n",
       "       [17. ],\n",
       "       [15.6],\n",
       "       [13.1],\n",
       "       [41.3],\n",
       "       [24.3],\n",
       "       [23.3],\n",
       "       [27. ],\n",
       "       [50. ],\n",
       "       [50. ],\n",
       "       [50. ],\n",
       "       [22.7],\n",
       "       [25. ],\n",
       "       [50. ],\n",
       "       [23.8],\n",
       "       [23.8],\n",
       "       [22.3],\n",
       "       [17.4],\n",
       "       [19.1],\n",
       "       [23.1],\n",
       "       [23.6],\n",
       "       [22.6],\n",
       "       [29.4],\n",
       "       [23.2],\n",
       "       [24.6],\n",
       "       [29.9],\n",
       "       [37.2],\n",
       "       [39.8],\n",
       "       [36.2],\n",
       "       [37.9],\n",
       "       [32.5],\n",
       "       [26.4],\n",
       "       [29.6],\n",
       "       [50. ],\n",
       "       [32. ],\n",
       "       [29.8],\n",
       "       [34.9],\n",
       "       [37. ],\n",
       "       [30.5],\n",
       "       [36.4],\n",
       "       [31.1],\n",
       "       [29.1],\n",
       "       [50. ],\n",
       "       [33.3],\n",
       "       [30.3],\n",
       "       [34.6],\n",
       "       [34.9],\n",
       "       [32.9],\n",
       "       [24.1],\n",
       "       [42.3],\n",
       "       [48.5],\n",
       "       [50. ],\n",
       "       [22.6],\n",
       "       [24.4],\n",
       "       [22.5],\n",
       "       [24.4],\n",
       "       [20. ],\n",
       "       [21.7],\n",
       "       [19.3],\n",
       "       [22.4],\n",
       "       [28.1],\n",
       "       [23.7],\n",
       "       [25. ],\n",
       "       [23.3],\n",
       "       [28.7],\n",
       "       [21.5],\n",
       "       [23. ],\n",
       "       [26.7],\n",
       "       [21.7],\n",
       "       [27.5],\n",
       "       [30.1],\n",
       "       [44.8],\n",
       "       [50. ],\n",
       "       [37.6],\n",
       "       [31.6],\n",
       "       [46.7],\n",
       "       [31.5],\n",
       "       [24.3],\n",
       "       [31.7],\n",
       "       [41.7],\n",
       "       [48.3],\n",
       "       [29. ],\n",
       "       [24. ],\n",
       "       [25.1],\n",
       "       [31.5],\n",
       "       [23.7],\n",
       "       [23.3],\n",
       "       [22. ],\n",
       "       [20.1],\n",
       "       [22.2],\n",
       "       [23.7],\n",
       "       [17.6],\n",
       "       [18.5],\n",
       "       [24.3],\n",
       "       [20.5],\n",
       "       [24.5],\n",
       "       [26.2],\n",
       "       [24.4],\n",
       "       [24.8],\n",
       "       [29.6],\n",
       "       [42.8],\n",
       "       [21.9],\n",
       "       [20.9],\n",
       "       [44. ],\n",
       "       [50. ],\n",
       "       [36. ],\n",
       "       [30.1],\n",
       "       [33.8],\n",
       "       [43.1],\n",
       "       [48.8],\n",
       "       [31. ],\n",
       "       [36.5],\n",
       "       [22.8],\n",
       "       [30.7],\n",
       "       [50. ],\n",
       "       [43.5],\n",
       "       [20.7],\n",
       "       [21.1],\n",
       "       [25.2],\n",
       "       [24.4],\n",
       "       [35.2],\n",
       "       [32.4],\n",
       "       [32. ],\n",
       "       [33.2],\n",
       "       [33.1],\n",
       "       [29.1],\n",
       "       [35.1],\n",
       "       [45.4],\n",
       "       [35.4],\n",
       "       [46. ],\n",
       "       [50. ],\n",
       "       [32.2],\n",
       "       [22. ],\n",
       "       [20.1],\n",
       "       [23.2],\n",
       "       [22.3],\n",
       "       [24.8],\n",
       "       [28.5],\n",
       "       [37.3],\n",
       "       [27.9],\n",
       "       [23.9],\n",
       "       [21.7],\n",
       "       [28.6],\n",
       "       [27.1],\n",
       "       [20.3],\n",
       "       [22.5],\n",
       "       [29. ],\n",
       "       [24.8],\n",
       "       [22. ],\n",
       "       [26.4],\n",
       "       [33.1],\n",
       "       [36.1],\n",
       "       [28.4],\n",
       "       [33.4],\n",
       "       [28.2],\n",
       "       [22.8],\n",
       "       [20.3],\n",
       "       [16.1],\n",
       "       [22.1],\n",
       "       [19.4],\n",
       "       [21.6],\n",
       "       [23.8],\n",
       "       [16.2],\n",
       "       [17.8],\n",
       "       [19.8],\n",
       "       [23.1],\n",
       "       [21. ],\n",
       "       [23.8],\n",
       "       [23.1],\n",
       "       [20.4],\n",
       "       [18.5],\n",
       "       [25. ],\n",
       "       [24.6],\n",
       "       [23. ],\n",
       "       [22.2],\n",
       "       [19.3],\n",
       "       [22.6],\n",
       "       [19.8],\n",
       "       [17.1],\n",
       "       [19.4],\n",
       "       [22.2],\n",
       "       [20.7],\n",
       "       [21.1],\n",
       "       [19.5],\n",
       "       [18.5],\n",
       "       [20.6],\n",
       "       [19. ],\n",
       "       [18.7],\n",
       "       [32.7],\n",
       "       [16.5],\n",
       "       [23.9],\n",
       "       [31.2],\n",
       "       [17.5],\n",
       "       [17.2],\n",
       "       [23.1],\n",
       "       [24.5],\n",
       "       [26.6],\n",
       "       [22.9],\n",
       "       [24.1],\n",
       "       [18.6],\n",
       "       [30.1],\n",
       "       [18.2],\n",
       "       [20.6],\n",
       "       [17.8],\n",
       "       [21.7],\n",
       "       [22.7],\n",
       "       [22.6],\n",
       "       [25. ],\n",
       "       [19.9],\n",
       "       [20.8],\n",
       "       [16.8],\n",
       "       [21.9],\n",
       "       [27.5],\n",
       "       [21.9],\n",
       "       [23.1],\n",
       "       [50. ],\n",
       "       [50. ],\n",
       "       [50. ],\n",
       "       [50. ],\n",
       "       [50. ],\n",
       "       [13.8],\n",
       "       [13.8],\n",
       "       [15. ],\n",
       "       [13.9],\n",
       "       [13.3],\n",
       "       [13.1],\n",
       "       [10.2],\n",
       "       [10.4],\n",
       "       [10.9],\n",
       "       [11.3],\n",
       "       [12.3],\n",
       "       [ 8.8],\n",
       "       [ 7.2],\n",
       "       [10.5],\n",
       "       [ 7.4],\n",
       "       [10.2],\n",
       "       [11.5],\n",
       "       [15.1],\n",
       "       [23.2],\n",
       "       [ 9.7],\n",
       "       [13.8],\n",
       "       [12.7],\n",
       "       [13.1],\n",
       "       [12.5],\n",
       "       [ 8.5],\n",
       "       [ 5. ],\n",
       "       [ 6.3],\n",
       "       [ 5.6],\n",
       "       [ 7.2],\n",
       "       [12.1],\n",
       "       [ 8.3],\n",
       "       [ 8.5],\n",
       "       [ 5. ],\n",
       "       [11.9],\n",
       "       [27.9],\n",
       "       [17.2],\n",
       "       [27.5],\n",
       "       [15. ],\n",
       "       [17.2],\n",
       "       [17.9],\n",
       "       [16.3],\n",
       "       [ 7. ],\n",
       "       [ 7.2],\n",
       "       [ 7.5],\n",
       "       [10.4],\n",
       "       [ 8.8],\n",
       "       [ 8.4],\n",
       "       [16.7],\n",
       "       [14.2],\n",
       "       [20.8],\n",
       "       [13.4],\n",
       "       [11.7],\n",
       "       [ 8.3],\n",
       "       [10.2],\n",
       "       [10.9],\n",
       "       [11. ],\n",
       "       [ 9.5],\n",
       "       [14.5],\n",
       "       [14.1],\n",
       "       [16.1],\n",
       "       [14.3],\n",
       "       [11.7],\n",
       "       [13.4],\n",
       "       [ 9.6],\n",
       "       [ 8.7],\n",
       "       [ 8.4],\n",
       "       [12.8],\n",
       "       [10.5],\n",
       "       [17.1],\n",
       "       [18.4],\n",
       "       [15.4],\n",
       "       [10.8],\n",
       "       [11.8],\n",
       "       [14.9],\n",
       "       [12.6],\n",
       "       [14.1],\n",
       "       [13. ],\n",
       "       [13.4],\n",
       "       [15.2],\n",
       "       [16.1],\n",
       "       [17.8],\n",
       "       [14.9],\n",
       "       [14.1],\n",
       "       [12.7],\n",
       "       [13.5],\n",
       "       [14.9],\n",
       "       [20. ],\n",
       "       [16.4],\n",
       "       [17.7],\n",
       "       [19.5],\n",
       "       [20.2],\n",
       "       [21.4],\n",
       "       [19.9],\n",
       "       [19. ],\n",
       "       [19.1],\n",
       "       [19.1],\n",
       "       [20.1],\n",
       "       [19.9],\n",
       "       [19.6],\n",
       "       [23.2],\n",
       "       [29.8],\n",
       "       [13.8],\n",
       "       [13.3],\n",
       "       [16.7],\n",
       "       [12. ],\n",
       "       [14.6],\n",
       "       [21.4],\n",
       "       [23. ],\n",
       "       [23.7],\n",
       "       [25. ],\n",
       "       [21.8],\n",
       "       [20.6],\n",
       "       [21.2],\n",
       "       [19.1],\n",
       "       [20.6],\n",
       "       [15.2],\n",
       "       [ 7. ],\n",
       "       [ 8.1],\n",
       "       [13.6],\n",
       "       [20.1],\n",
       "       [21.8],\n",
       "       [24.5],\n",
       "       [23.1],\n",
       "       [19.7],\n",
       "       [18.3],\n",
       "       [21.2],\n",
       "       [17.5],\n",
       "       [16.8],\n",
       "       [22.4],\n",
       "       [20.6],\n",
       "       [23.9],\n",
       "       [22. ],\n",
       "       [11.9]])"
      ]
     },
     "execution_count": 9,
     "metadata": {},
     "output_type": "execute_result"
    }
   ],
   "source": [
    "X = data\n",
    "Y = target.reshape(506, 1)\n",
    "Y"
   ]
  },
  {
   "cell_type": "markdown",
   "id": "5d9f3ee8",
   "metadata": {},
   "source": [
    "## Train test split"
   ]
  },
  {
   "cell_type": "code",
   "execution_count": 6,
   "id": "d1436ab9",
   "metadata": {},
   "outputs": [],
   "source": [
    "# Cela revient à partager notre jeu de données en 2(1 pour l'entrainement de notre modele et 1 pour les tests)\n",
    "\n",
    "from sklearn.model_selection import train_test_split"
   ]
  },
  {
   "cell_type": "code",
   "execution_count": 7,
   "id": "2abb2fec",
   "metadata": {},
   "outputs": [],
   "source": [
    "X_train, X_test, Y_train, Y_test = train_test_split(X, Y, test_size=0.25, random_state=0)"
   ]
  },
  {
   "cell_type": "code",
   "execution_count": 8,
   "id": "181288dc",
   "metadata": {},
   "outputs": [
    {
     "data": {
      "text/plain": [
       "(379, 13)"
      ]
     },
     "execution_count": 8,
     "metadata": {},
     "output_type": "execute_result"
    }
   ],
   "source": [
    "X_train.shape"
   ]
  },
  {
   "cell_type": "code",
   "execution_count": 9,
   "id": "65d5012d",
   "metadata": {},
   "outputs": [
    {
     "data": {
      "text/plain": [
       "(127, 13)"
      ]
     },
     "execution_count": 9,
     "metadata": {},
     "output_type": "execute_result"
    }
   ],
   "source": [
    "X_test.shape"
   ]
  },
  {
   "cell_type": "markdown",
   "id": "81559439",
   "metadata": {},
   "source": [
    "## Standard scaler"
   ]
  },
  {
   "cell_type": "code",
   "execution_count": 10,
   "id": "eeddb9a1",
   "metadata": {},
   "outputs": [],
   "source": [
    "from sklearn.preprocessing import StandardScaler"
   ]
  },
  {
   "cell_type": "code",
   "execution_count": 11,
   "id": "28c92faf",
   "metadata": {},
   "outputs": [
    {
     "data": {
      "text/plain": [
       "69.8686786502943"
      ]
     },
     "execution_count": 11,
     "metadata": {},
     "output_type": "execute_result"
    }
   ],
   "source": [
    "X_train.mean()"
   ]
  },
  {
   "cell_type": "code",
   "execution_count": 12,
   "id": "89dc9752",
   "metadata": {},
   "outputs": [
    {
     "data": {
      "text/plain": [
       "144.73648530555536"
      ]
     },
     "execution_count": 12,
     "metadata": {},
     "output_type": "execute_result"
    }
   ],
   "source": [
    "X_train.std()"
   ]
  },
  {
   "cell_type": "code",
   "execution_count": 13,
   "id": "0c7e2dad",
   "metadata": {},
   "outputs": [],
   "source": [
    "scaler = StandardScaler()\n",
    "X_train = scaler.fit_transform(X_train)\n",
    "X_test = scaler.transform(X_test)"
   ]
  },
  {
   "cell_type": "code",
   "execution_count": 14,
   "id": "e70d51c0",
   "metadata": {},
   "outputs": [
    {
     "data": {
      "text/plain": [
       "1.545253788039268e-15"
      ]
     },
     "execution_count": 14,
     "metadata": {},
     "output_type": "execute_result"
    }
   ],
   "source": [
    "X_train.mean()"
   ]
  },
  {
   "cell_type": "code",
   "execution_count": 16,
   "id": "e4c7c599",
   "metadata": {},
   "outputs": [
    {
     "data": {
      "text/plain": [
       "1.0000000000000004"
      ]
     },
     "execution_count": 16,
     "metadata": {},
     "output_type": "execute_result"
    }
   ],
   "source": [
    "X_train.std()"
   ]
  },
  {
   "cell_type": "markdown",
   "id": "4100d423",
   "metadata": {},
   "source": [
    "## Entrainement du model"
   ]
  },
  {
   "cell_type": "code",
   "execution_count": 17,
   "id": "70fdf52a",
   "metadata": {},
   "outputs": [],
   "source": [
    "#  Nouvelle erreur\n",
    "def erreur(X, Y, para):\n",
    "    \n",
    "    info = {}\n",
    "    \n",
    "    M = np.dot(X, para[\"W\"]) \n",
    "    info[\"M\"] = M\n",
    "    \n",
    "    P = M + para[\"B\"]\n",
    "    info[\"P\"] = P\n",
    "    \n",
    "    L = np.mean((Y - P) **2)\n",
    "    \n",
    "    info[\"X\"] = X\n",
    "    info[\"Y\"] = Y\n",
    "    \n",
    "    return L, info\n",
    "    "
   ]
  },
  {
   "cell_type": "code",
   "execution_count": 18,
   "id": "2c285512",
   "metadata": {},
   "outputs": [],
   "source": [
    "def gradient(info, params):\n",
    "    grads = {}\n",
    "    \n",
    "    dL_dP = -2 * (info['Y'] - info['P'])  # (4,1)\n",
    "    dP_dM = 1  #  (1,)\n",
    "    dM_dW = info['X'].T  #  (3,4)\n",
    "    \n",
    "    dL_dW = np.dot(dM_dW, dL_dP) * dP_dM\n",
    "    grads['W'] = dL_dW\n",
    "    \n",
    "    dP_dB = 1\n",
    "    \n",
    "    dL_dB = dL_dP * dP_dB  # (4, 1) * 1\n",
    "    \n",
    "    dL_dB = np.sum(dL_dB)\n",
    "    grads['B'] = dL_dB\n",
    "    \n",
    "    return grads\n",
    "        "
   ]
  },
  {
   "cell_type": "code",
   "execution_count": 19,
   "id": "5156d0e6",
   "metadata": {},
   "outputs": [],
   "source": [
    "def train(X, Y, epoch, learning_rate):\n",
    "    \n",
    "    # Weight initialization\n",
    "    np.random.seed(42)\n",
    "    \n",
    "    n_features = X.shape[1]\n",
    "    \n",
    "    params = {}\n",
    "    \n",
    "    #  Initialisation aléatoire du poids et du Biais\n",
    "    params['W'] = np.random.randn(n_features, 1)\n",
    "    params['B'] = np.random.randn(1, 1)\n",
    "    \n",
    "    error = []\n",
    "    for i in range(epoch):        \n",
    "        # Forward\n",
    "        loss, info = erreur(X, Y, params)\n",
    "        error.append(loss)\n",
    "        print(f'Epoch {i+1}......... loss : {loss}')\n",
    "        \n",
    "        # Backward\n",
    "        grads = gradient(info, params)\n",
    "        \n",
    "        # Update        \n",
    "        for p in params:\n",
    "            params[p] = params[p] - learning_rate * grads[p]\n",
    "            \n",
    "    return params, error "
   ]
  },
  {
   "cell_type": "code",
   "execution_count": 10,
   "id": "65f6a104",
   "metadata": {},
   "outputs": [
    {
     "data": {
      "text/plain": [
       "array([[ 2.39675995],\n",
       "       [-0.97023136],\n",
       "       [ 0.23742605],\n",
       "       [-0.19894471],\n",
       "       [-0.59144668],\n",
       "       [-1.14838417],\n",
       "       [ 2.26081626],\n",
       "       [-1.09705228],\n",
       "       [ 1.14635874],\n",
       "       [ 1.78739907],\n",
       "       [-0.60716728],\n",
       "       [-0.45697175],\n",
       "       [-1.20160105]])"
      ]
     },
     "execution_count": 10,
     "metadata": {},
     "output_type": "execute_result"
    }
   ],
   "source": [
    "np.random.randn(X.shape[1], 1)"
   ]
  },
  {
   "cell_type": "code",
   "execution_count": 21,
   "id": "76b506a4",
   "metadata": {},
   "outputs": [
    {
     "name": "stdout",
     "output_type": "stream",
     "text": [
      "Epoch 1......... loss : 712.1743316753176\n",
      "Epoch 2......... loss : 576.9266828543414\n",
      "Epoch 3......... loss : 485.858491899185\n",
      "Epoch 4......... loss : 415.2086742559719\n",
      "Epoch 5......... loss : 356.9632229723388\n",
      "Epoch 6......... loss : 307.84342137397\n",
      "Epoch 7......... loss : 266.08549083943615\n",
      "Epoch 8......... loss : 230.48512859031536\n",
      "Epoch 9......... loss : 200.10246942244535\n",
      "Epoch 10......... loss : 174.16135658526716\n",
      "Epoch 11......... loss : 152.00725038460388\n",
      "Epoch 12......... loss : 133.0840641810185\n",
      "Epoch 13......... loss : 116.91811788815627\n",
      "Epoch 14......... loss : 103.1055392228527\n",
      "Epoch 15......... loss : 91.30184176600252\n",
      "Epoch 16......... loss : 81.21313594214138\n",
      "Epoch 17......... loss : 72.58866623374146\n",
      "Epoch 18......... loss : 65.21445904094307\n",
      "Epoch 19......... loss : 58.90791093686188\n",
      "Epoch 20......... loss : 53.51317628743457\n",
      "Epoch 21......... loss : 48.89723533426671\n",
      "Epoch 22......... loss : 44.94654186494025\n",
      "Epoch 23......... loss : 41.56416469328747\n",
      "Epoch 24......... loss : 38.66734994534333\n",
      "Epoch 25......... loss : 36.18544199214979\n",
      "Epoch 26......... loss : 34.05811009190945\n",
      "Epoch 27......... loss : 32.23383564908883\n",
      "Epoch 28......... loss : 30.668621674541736\n",
      "Epoch 29......... loss : 29.32489171394951\n",
      "Epoch 30......... loss : 28.17055035055097\n",
      "Epoch 31......... loss : 27.178181508474616\n",
      "Epoch 32......... loss : 26.32436429220324\n",
      "Epoch 33......... loss : 25.589089086896347\n",
      "Epoch 34......... loss : 24.955259190901447\n",
      "Epoch 35......... loss : 24.408265421638085\n",
      "Epoch 36......... loss : 23.935622985122276\n",
      "Epoch 37......... loss : 23.526661475334265\n",
      "Epoch 38......... loss : 23.17226021293382\n",
      "Epoch 39......... loss : 22.86462227796757\n",
      "Epoch 40......... loss : 22.59708156753494\n",
      "Epoch 41......... loss : 22.363938041857786\n",
      "Epoch 42......... loss : 22.1603170321004\n",
      "Epoch 43......... loss : 21.982049088718636\n",
      "Epoch 44......... loss : 21.825567365501144\n",
      "Epoch 45......... loss : 21.68781997493991\n",
      "Epoch 46......... loss : 21.56619512632209\n",
      "Epoch 47......... loss : 21.458457178506563\n",
      "Epoch 48......... loss : 21.36269201286263\n",
      "Epoch 49......... loss : 21.277260365230358\n",
      "Epoch 50......... loss : 21.200757954915026\n"
     ]
    }
   ],
   "source": [
    "params, error = train(X_train, Y_train, epoch=50, learning_rate=0.0001)"
   ]
  },
  {
   "cell_type": "code",
   "execution_count": 22,
   "id": "d862d07e",
   "metadata": {},
   "outputs": [
    {
     "data": {
      "image/png": "[encoded data removed]",
      "text/plain": [
       "<Figure size 640x480 with 1 Axes>"
      ]
     },
     "metadata": {},
     "output_type": "display_data"
    }
   ],
   "source": [
    "import matplotlib.pyplot as plt\n",
    "\n",
    "plt.plot(list(range(50)), error)\n",
    "plt.xlabel('Epochs')\n",
    "plt.ylabel('Loss')\n",
    "plt.show()"
   ]
  },
  {
   "cell_type": "markdown",
   "id": "0cd609f9",
   "metadata": {},
   "source": [
    "## Evaluation sur les données test"
   ]
  },
  {
   "cell_type": "code",
   "execution_count": 23,
   "id": "4cbf3a46",
   "metadata": {},
   "outputs": [],
   "source": [
    "#  Nouvelle prédiction \n",
    "def predict(X, params):\n",
    "    \n",
    "    M = np.dot(X, params['W'] )  \n",
    "    P = M + params['B']\n",
    "    \n",
    "    return P\n",
    "    "
   ]
  },
  {
   "cell_type": "code",
   "execution_count": 26,
   "id": "40c1d53a",
   "metadata": {},
   "outputs": [],
   "source": [
    "def mse(y, pred):  #  mean squared error\n",
    "    return np.mean((y-pred)**2)\n",
    "\n",
    "def rmse(y, pred):\n",
    "    return np.sqrt(mse(y, pred))\n",
    "\n",
    "def mae(y, pred): #  mean absolute error, erreur moyenne absolue\n",
    "    return np.mean(np.abs(y - pred))"
   ]
  },
  {
   "cell_type": "code",
   "execution_count": 27,
   "id": "6341f6fa",
   "metadata": {},
   "outputs": [
    {
     "name": "stdout",
     "output_type": "stream",
     "text": [
      "rmse:  5.789353683592818\n",
      "mae:  3.767565256108071\n"
     ]
    }
   ],
   "source": [
    "preds = predict(X_test, params)\n",
    "score_rmse = rmse(Y_test, preds)\n",
    "score_mae = mae(Y_test, preds)\n",
    "\n",
    "print(\"rmse: \", score_rmse)\n",
    "print(\"mae: \", score_mae)"
   ]
  },
  {
   "cell_type": "code",
   "execution_count": 28,
   "id": "b3d2958d",
   "metadata": {},
   "outputs": [
    {
     "data": {
      "text/plain": [
       "4.60442808119695"
      ]
     },
     "execution_count": 28,
     "metadata": {},
     "output_type": "execute_result"
    }
   ],
   "source": [
    "np.sqrt(21.200757954915026)"
   ]
  },
  {
   "cell_type": "code",
   "execution_count": 34,
   "id": "90bc80e8",
   "metadata": {},
   "outputs": [],
   "source": [
    "rmse_train = 4.6 \n",
    "rmse_test = 5.78  \n",
    "# Overfitting(quand la perfomance sur les données d'entrainement est supérieur à celle des données de test)"
   ]
  },
  {
   "cell_type": "code",
   "execution_count": 35,
   "id": "46d3dc42",
   "metadata": {},
   "outputs": [
    {
     "data": {
      "text/plain": [
       "{'W': array([[-0.61301264],\n",
       "        [ 0.3831569 ],\n",
       "        [-0.33512567],\n",
       "        [ 0.75907099],\n",
       "        [-0.99290619],\n",
       "        [ 3.1112321 ],\n",
       "        [ 0.24618677],\n",
       "        [-1.28640179],\n",
       "        [ 0.15130188],\n",
       "        [-0.18963709],\n",
       "        [-2.1719948 ],\n",
       "        [ 0.74003657],\n",
       "        [-3.34785879]]),\n",
       " 'B': array([[22.13243641]])}"
      ]
     },
     "execution_count": 35,
     "metadata": {},
     "output_type": "execute_result"
    }
   ],
   "source": [
    "params   #  Le W le plus élevé correspond à la caractéristique la plus importante"
   ]
  },
  {
   "cell_type": "markdown",
   "id": "4f7c6444",
   "metadata": {},
   "source": [
    "### Comparaison avec sklearn"
   ]
  },
  {
   "cell_type": "code",
   "execution_count": 36,
   "id": "581687c7",
   "metadata": {},
   "outputs": [],
   "source": [
    "from sklearn.linear_model import LinearRegression"
   ]
  },
  {
   "cell_type": "code",
   "execution_count": 38,
   "id": "e9010604",
   "metadata": {},
   "outputs": [
    {
     "name": "stdout",
     "output_type": "stream",
     "text": [
      "rmse:  5.4573111595640516\n",
      "mae:  3.6683301481357136\n"
     ]
    }
   ],
   "source": [
    "model = LinearRegression()\n",
    "model.fit(X_train, Y_train)\n",
    "\n",
    "preds = model.predict(X_test)\n",
    "score_rmse = rmse(Y_test, preds)\n",
    "score_mae = mae(Y_test, preds)\n",
    "\n",
    "print(\"rmse: \", score_rmse)\n",
    "print(\"mae: \", score_mae)"
   ]
  },
  {
   "cell_type": "code",
   "execution_count": null,
   "id": "bb114912",
   "metadata": {},
   "outputs": [],
   "source": []
  }
 ],
 "metadata": {
  "kernelspec": {
   "display_name": "Python 3 (ipykernel)",
   "language": "python",
   "name": "python3"
  },
  "language_info": {
   "codemirror_mode": {
    "name": "ipython",
    "version": 3
   },
   "file_extension": ".py",
   "mimetype": "text/x-python",
   "name": "python",
   "nbconvert_exporter": "python",
   "pygments_lexer": "ipython3",
   "version": "3.10.12"
  }
 },
 "nbformat": 4,
 "nbformat_minor": 5
}
