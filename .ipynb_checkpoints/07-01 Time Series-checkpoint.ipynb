{
 "cells": [
  {
   "cell_type": "markdown",
   "id": "0fe43533-026f-4dbf-937c-a163c261747e",
   "metadata": {},
   "source": [
    "## Les Séries Temporelles "
   ]
  },
  {
   "cell_type": "markdown",
   "id": "f0ec3bc6-d439-4a7a-aabd-7f9df7f8a0cb",
   "metadata": {},
   "source": [
    "### Import Data"
   ]
  },
  {
   "cell_type": "code",
   "execution_count": 1,
   "id": "a515576a-95a7-4f39-847e-48626b215fd2",
   "metadata": {},
   "outputs": [],
   "source": [
    "data = \"../data_deep_learning/station.csv\""
   ]
  },
  {
   "cell_type": "code",
   "execution_count": 2,
   "id": "c0c3c89f-b098-4167-a37c-364c72bfdeb0",
   "metadata": {},
   "outputs": [],
   "source": [
    "import pandas as pd\n",
    "import numpy as np"
   ]
  },
  {
   "cell_type": "code",
   "execution_count": 3,
   "id": "f2d5d8ac-fe77-4e0d-97e6-8be51e452f09",
   "metadata": {},
   "outputs": [
    {
     "data": {
      "text/html": [
       "<div>\n",
       "<style scoped>\n",
       "    .dataframe tbody tr th:only-of-type {\n",
       "        vertical-align: middle;\n",
       "    }\n",
       "\n",
       "    .dataframe tbody tr th {\n",
       "        vertical-align: top;\n",
       "    }\n",
       "\n",
       "    .dataframe thead th {\n",
       "        text-align: right;\n",
       "    }\n",
       "</style>\n",
       "<table border=\"1\" class=\"dataframe\">\n",
       "  <thead>\n",
       "    <tr style=\"text-align: right;\">\n",
       "      <th></th>\n",
       "      <th>YEAR</th>\n",
       "      <th>JAN</th>\n",
       "      <th>FEB</th>\n",
       "      <th>MAR</th>\n",
       "      <th>APR</th>\n",
       "      <th>MAY</th>\n",
       "      <th>JUN</th>\n",
       "      <th>JUL</th>\n",
       "      <th>AUG</th>\n",
       "      <th>SEP</th>\n",
       "      <th>OCT</th>\n",
       "      <th>NOV</th>\n",
       "      <th>DEC</th>\n",
       "      <th>D-J-F</th>\n",
       "      <th>M-A-M</th>\n",
       "      <th>J-J-A</th>\n",
       "      <th>S-O-N</th>\n",
       "      <th>metANN</th>\n",
       "    </tr>\n",
       "  </thead>\n",
       "  <tbody>\n",
       "    <tr>\n",
       "      <th>0</th>\n",
       "      <td>1973</td>\n",
       "      <td>4.15</td>\n",
       "      <td>4.23</td>\n",
       "      <td>6.00</td>\n",
       "      <td>7.92</td>\n",
       "      <td>12.21</td>\n",
       "      <td>15.02</td>\n",
       "      <td>16.33</td>\n",
       "      <td>18.13</td>\n",
       "      <td>15.21</td>\n",
       "      <td>11.11</td>\n",
       "      <td>7.32</td>\n",
       "      <td>5.65</td>\n",
       "      <td>4.39</td>\n",
       "      <td>8.71</td>\n",
       "      <td>16.49</td>\n",
       "      <td>11.21</td>\n",
       "      <td>10.20</td>\n",
       "    </tr>\n",
       "    <tr>\n",
       "      <th>1</th>\n",
       "      <td>1974</td>\n",
       "      <td>7.08</td>\n",
       "      <td>6.11</td>\n",
       "      <td>6.75</td>\n",
       "      <td>9.16</td>\n",
       "      <td>11.01</td>\n",
       "      <td>14.34</td>\n",
       "      <td>15.85</td>\n",
       "      <td>16.62</td>\n",
       "      <td>13.36</td>\n",
       "      <td>8.38</td>\n",
       "      <td>8.43</td>\n",
       "      <td>8.61</td>\n",
       "      <td>6.28</td>\n",
       "      <td>8.97</td>\n",
       "      <td>15.60</td>\n",
       "      <td>10.06</td>\n",
       "      <td>10.23</td>\n",
       "    </tr>\n",
       "    <tr>\n",
       "      <th>2</th>\n",
       "      <td>1975</td>\n",
       "      <td>7.93</td>\n",
       "      <td>5.69</td>\n",
       "      <td>5.66</td>\n",
       "      <td>8.66</td>\n",
       "      <td>10.36</td>\n",
       "      <td>14.39</td>\n",
       "      <td>17.44</td>\n",
       "      <td>19.02</td>\n",
       "      <td>15.12</td>\n",
       "      <td>10.48</td>\n",
       "      <td>7.07</td>\n",
       "      <td>3.47</td>\n",
       "      <td>7.41</td>\n",
       "      <td>8.23</td>\n",
       "      <td>16.95</td>\n",
       "      <td>10.89</td>\n",
       "      <td>10.87</td>\n",
       "    </tr>\n",
       "    <tr>\n",
       "      <th>3</th>\n",
       "      <td>1976</td>\n",
       "      <td>5.70</td>\n",
       "      <td>4.87</td>\n",
       "      <td>5.95</td>\n",
       "      <td>7.98</td>\n",
       "      <td>13.13</td>\n",
       "      <td>17.35</td>\n",
       "      <td>19.05</td>\n",
       "      <td>18.04</td>\n",
       "      <td>15.13</td>\n",
       "      <td>12.02</td>\n",
       "      <td>7.54</td>\n",
       "      <td>3.41</td>\n",
       "      <td>4.68</td>\n",
       "      <td>9.02</td>\n",
       "      <td>18.15</td>\n",
       "      <td>11.56</td>\n",
       "      <td>10.85</td>\n",
       "    </tr>\n",
       "    <tr>\n",
       "      <th>4</th>\n",
       "      <td>1977</td>\n",
       "      <td>4.07</td>\n",
       "      <td>7.31</td>\n",
       "      <td>8.16</td>\n",
       "      <td>7.89</td>\n",
       "      <td>11.18</td>\n",
       "      <td>13.16</td>\n",
       "      <td>16.17</td>\n",
       "      <td>15.50</td>\n",
       "      <td>13.35</td>\n",
       "      <td>12.67</td>\n",
       "      <td>7.89</td>\n",
       "      <td>7.35</td>\n",
       "      <td>4.93</td>\n",
       "      <td>9.08</td>\n",
       "      <td>14.94</td>\n",
       "      <td>11.30</td>\n",
       "      <td>10.06</td>\n",
       "    </tr>\n",
       "  </tbody>\n",
       "</table>\n",
       "</div>"
      ],
      "text/plain": [
       "   YEAR   JAN   FEB   MAR   APR    MAY    JUN    JUL    AUG    SEP    OCT  \\\n",
       "0  1973  4.15  4.23  6.00  7.92  12.21  15.02  16.33  18.13  15.21  11.11   \n",
       "1  1974  7.08  6.11  6.75  9.16  11.01  14.34  15.85  16.62  13.36   8.38   \n",
       "2  1975  7.93  5.69  5.66  8.66  10.36  14.39  17.44  19.02  15.12  10.48   \n",
       "3  1976  5.70  4.87  5.95  7.98  13.13  17.35  19.05  18.04  15.13  12.02   \n",
       "4  1977  4.07  7.31  8.16  7.89  11.18  13.16  16.17  15.50  13.35  12.67   \n",
       "\n",
       "    NOV   DEC  D-J-F  M-A-M  J-J-A  S-O-N  metANN  \n",
       "0  7.32  5.65   4.39   8.71  16.49  11.21   10.20  \n",
       "1  8.43  8.61   6.28   8.97  15.60  10.06   10.23  \n",
       "2  7.07  3.47   7.41   8.23  16.95  10.89   10.87  \n",
       "3  7.54  3.41   4.68   9.02  18.15  11.56   10.85  \n",
       "4  7.89  7.35   4.93   9.08  14.94  11.30   10.06  "
      ]
     },
     "execution_count": 3,
     "metadata": {},
     "output_type": "execute_result"
    }
   ],
   "source": [
    "df = pd.read_csv(data)\n",
    "\n",
    "df.head()"
   ]
  },
  {
   "cell_type": "code",
   "execution_count": 4,
   "id": "2cc13210-d02c-440d-999a-c2c1207194d4",
   "metadata": {},
   "outputs": [
    {
     "data": {
      "text/html": [
       "<div>\n",
       "<style scoped>\n",
       "    .dataframe tbody tr th:only-of-type {\n",
       "        vertical-align: middle;\n",
       "    }\n",
       "\n",
       "    .dataframe tbody tr th {\n",
       "        vertical-align: top;\n",
       "    }\n",
       "\n",
       "    .dataframe thead th {\n",
       "        text-align: right;\n",
       "    }\n",
       "</style>\n",
       "<table border=\"1\" class=\"dataframe\">\n",
       "  <thead>\n",
       "    <tr style=\"text-align: right;\">\n",
       "      <th></th>\n",
       "      <th>YEAR</th>\n",
       "      <th>JAN</th>\n",
       "      <th>FEB</th>\n",
       "      <th>MAR</th>\n",
       "      <th>APR</th>\n",
       "      <th>MAY</th>\n",
       "      <th>JUN</th>\n",
       "      <th>JUL</th>\n",
       "      <th>AUG</th>\n",
       "      <th>SEP</th>\n",
       "      <th>OCT</th>\n",
       "      <th>NOV</th>\n",
       "      <th>DEC</th>\n",
       "      <th>D-J-F</th>\n",
       "      <th>M-A-M</th>\n",
       "      <th>J-J-A</th>\n",
       "      <th>S-O-N</th>\n",
       "      <th>metANN</th>\n",
       "    </tr>\n",
       "  </thead>\n",
       "  <tbody>\n",
       "    <tr>\n",
       "      <th>46</th>\n",
       "      <td>2019</td>\n",
       "      <td>5.13</td>\n",
       "      <td>7.38</td>\n",
       "      <td>9.08</td>\n",
       "      <td>9.68</td>\n",
       "      <td>11.88</td>\n",
       "      <td>16.53</td>\n",
       "      <td>18.93</td>\n",
       "      <td>18.58</td>\n",
       "      <td>16.08</td>\n",
       "      <td>12.93</td>\n",
       "      <td>7.88</td>\n",
       "      <td>7.03</td>\n",
       "      <td>6.80</td>\n",
       "      <td>10.21</td>\n",
       "      <td>18.01</td>\n",
       "      <td>12.30</td>\n",
       "      <td>11.83</td>\n",
       "    </tr>\n",
       "    <tr>\n",
       "      <th>47</th>\n",
       "      <td>2020</td>\n",
       "      <td>6.83</td>\n",
       "      <td>8.33</td>\n",
       "      <td>7.88</td>\n",
       "      <td>12.13</td>\n",
       "      <td>13.03</td>\n",
       "      <td>16.18</td>\n",
       "      <td>17.78</td>\n",
       "      <td>19.98</td>\n",
       "      <td>16.88</td>\n",
       "      <td>12.18</td>\n",
       "      <td>9.88</td>\n",
       "      <td>6.89</td>\n",
       "      <td>7.40</td>\n",
       "      <td>11.01</td>\n",
       "      <td>17.98</td>\n",
       "      <td>12.98</td>\n",
       "      <td>12.34</td>\n",
       "    </tr>\n",
       "    <tr>\n",
       "      <th>48</th>\n",
       "      <td>2021</td>\n",
       "      <td>5.09</td>\n",
       "      <td>6.44</td>\n",
       "      <td>7.64</td>\n",
       "      <td>7.29</td>\n",
       "      <td>11.64</td>\n",
       "      <td>16.74</td>\n",
       "      <td>18.09</td>\n",
       "      <td>17.19</td>\n",
       "      <td>17.29</td>\n",
       "      <td>12.79</td>\n",
       "      <td>8.24</td>\n",
       "      <td>7.54</td>\n",
       "      <td>6.14</td>\n",
       "      <td>8.86</td>\n",
       "      <td>17.34</td>\n",
       "      <td>12.77</td>\n",
       "      <td>11.28</td>\n",
       "    </tr>\n",
       "    <tr>\n",
       "      <th>49</th>\n",
       "      <td>2022</td>\n",
       "      <td>5.69</td>\n",
       "      <td>7.54</td>\n",
       "      <td>9.19</td>\n",
       "      <td>9.84</td>\n",
       "      <td>14.19</td>\n",
       "      <td>16.94</td>\n",
       "      <td>19.69</td>\n",
       "      <td>19.94</td>\n",
       "      <td>16.29</td>\n",
       "      <td>15.09</td>\n",
       "      <td>10.44</td>\n",
       "      <td>5.00</td>\n",
       "      <td>6.92</td>\n",
       "      <td>11.07</td>\n",
       "      <td>18.86</td>\n",
       "      <td>13.94</td>\n",
       "      <td>12.70</td>\n",
       "    </tr>\n",
       "    <tr>\n",
       "      <th>50</th>\n",
       "      <td>2023</td>\n",
       "      <td>6.75</td>\n",
       "      <td>6.90</td>\n",
       "      <td>9.35</td>\n",
       "      <td>10.05</td>\n",
       "      <td>13.20</td>\n",
       "      <td>18.00</td>\n",
       "      <td>18.25</td>\n",
       "      <td>18.40</td>\n",
       "      <td>19.15</td>\n",
       "      <td>14.65</td>\n",
       "      <td>9.75</td>\n",
       "      <td>8.65</td>\n",
       "      <td>6.22</td>\n",
       "      <td>10.87</td>\n",
       "      <td>18.22</td>\n",
       "      <td>14.52</td>\n",
       "      <td>12.45</td>\n",
       "    </tr>\n",
       "  </tbody>\n",
       "</table>\n",
       "</div>"
      ],
      "text/plain": [
       "    YEAR   JAN   FEB   MAR    APR    MAY    JUN    JUL    AUG    SEP    OCT  \\\n",
       "46  2019  5.13  7.38  9.08   9.68  11.88  16.53  18.93  18.58  16.08  12.93   \n",
       "47  2020  6.83  8.33  7.88  12.13  13.03  16.18  17.78  19.98  16.88  12.18   \n",
       "48  2021  5.09  6.44  7.64   7.29  11.64  16.74  18.09  17.19  17.29  12.79   \n",
       "49  2022  5.69  7.54  9.19   9.84  14.19  16.94  19.69  19.94  16.29  15.09   \n",
       "50  2023  6.75  6.90  9.35  10.05  13.20  18.00  18.25  18.40  19.15  14.65   \n",
       "\n",
       "      NOV   DEC  D-J-F  M-A-M  J-J-A  S-O-N  metANN  \n",
       "46   7.88  7.03   6.80  10.21  18.01  12.30   11.83  \n",
       "47   9.88  6.89   7.40  11.01  17.98  12.98   12.34  \n",
       "48   8.24  7.54   6.14   8.86  17.34  12.77   11.28  \n",
       "49  10.44  5.00   6.92  11.07  18.86  13.94   12.70  \n",
       "50   9.75  8.65   6.22  10.87  18.22  14.52   12.45  "
      ]
     },
     "execution_count": 4,
     "metadata": {},
     "output_type": "execute_result"
    }
   ],
   "source": [
    "df.tail()"
   ]
  },
  {
   "cell_type": "markdown",
   "id": "272d3553-54ab-4685-b3b8-bad4a96025bc",
   "metadata": {},
   "source": [
    "### Créer la Série Temporelles"
   ]
  },
  {
   "cell_type": "code",
   "execution_count": 5,
   "id": "d35d5bfb-ecea-4bde-8a1d-6f6b76311b98",
   "metadata": {},
   "outputs": [],
   "source": [
    "temps = df.loc[:, \"JAN\": \"DEC\"]"
   ]
  },
  {
   "cell_type": "code",
   "execution_count": 6,
   "id": "a5bc85d1-3711-4674-8f2f-efa8be5935bb",
   "metadata": {},
   "outputs": [
    {
     "name": "stdout",
     "output_type": "stream",
     "text": [
      "[4.15, 4.23, 6.0, 7.92, 12.21, 15.02, 16.33, 18.13, 15.21, 11.11, 7.32, 5.65, 7.08, 6.11, 6.75, 9.16, 11.01, 14.34, 15.85, 16.62, 13.36, 8.38, 8.43, 8.61, 7.93, 5.69, 5.66, 8.66, 10.36, 14.39, 17.44, 19.02, 15.12, 10.48, 7.07, 3.47, 5.7, 4.87, 5.95, 7.98, 13.13, 17.35, 19.05, 18.04, 15.13, 12.02, 7.54, 3.41, 4.07, 7.31, 8.16, 7.89, 11.18, 13.16, 16.17, 15.5, 13.35, 12.67, 7.89, 7.35, 4.2, 3.63, 7.51, 7.74, 11.48, 13.54, 15.49, 15.06, 14.52, 12.65, 9.08, 5.07, 0.35, 3.23, 6.09, 8.24, 10.66, 13.68, 16.41, 15.38, 14.27, 11.84, 8.06, 6.9, 1.84, 6.87, 5.71, 8.46, 11.03, 14.28, 15.34, 16.97, 15.32, 10.17, 6.39, 4.97, 5.39, 3.14, 9.4, 8.2, 11.6, 13.64, 15.96, 16.73, 14.87, 10.33, 8.33, 4.65, 4.51, 5.6, 6.03, 8.65, 12.96, 16.86, 17.19, 16.85, 16.3, 11.07, 8.6, 5.04, 7.04, 1.75, 6.48, 7.88, 11.15, 15.02, 19.92, 17.63, 15.97, 11.57, 8.07, 5.26, 5.72, 4.89, 5.8, 9.09, 9.7, 14.79, 17.98, 18.46, 15.06, 11.85, 9.52, 5.29, 0.56, 2.9, 5.49, 9.09, 11.46, 14.05, 17.42, 15.69, 15.61, 11.23, 4.93, 6.76, 5.29, -1.14, 5.8, 6.43, 12.53, 16.18, 17.01, 15.13, 12.76, 13.11, 8.39, 6.72, -1.09, 4.09, 5.17, 11.06, 10.83, 14.22, 16.64, 17.16, 16.19, 11.14, 7.09, 5.27, 6.72, 5.18, 7.26, 9.22, 12.53, 14.21, 15.83, 16.86, 14.81, 11.89, 6.26, 7.82, 5.09, 6.41, 9.36, 7.42, 14.09, 999.9, 18.56, 17.15, 16.02, 13.63, 6.49, 4.8, 6.52, 9.12, 8.86, 8.5, 13.89, 13.85, 17.82, 18.76, 14.71, 13.27, 7.52, 4.37, 4.28, 2.87, 9.09, 8.97, 10.96, 13.83, 17.92, 18.3, 16.65, 10.87, 7.51, 3.94, 3.26, 5.53, 8.01, 8.79, 14.04, 15.1, 17.15, 17.49, 14.85, 9.93, 9.51, 5.0, 7.4, 4.69, 7.57, 10.64, 13.75, 16.02, 16.39, 16.32, 14.14, 9.51, 4.21, 7.14, 6.61, 5.15, 8.82, 8.65, 12.45, 15.94, 18.54, 17.49, 13.85, 11.04, 10.67, 7.24, 5.82, 8.32, 6.51, 8.6, 12.93, 14.36, 19.14, 19.47, 14.2, 14.3, 7.82, 3.41, 4.88, 3.61, 5.78, 9.19, 10.68, 16.15, 17.41, 17.51, 13.72, 12.2, 7.02, 2.64, 1.15, 7.63, 8.92, 8.71, 12.36, 15.14, 16.94, 19.88, 15.45, 11.52, 8.71, 6.02, 5.11, 6.43, 8.21, 8.79, 13.85, 15.32, 16.38, 17.52, 15.69, 11.86, 6.03, 6.28, 7.05, 5.58, 7.88, 10.12, 14.4, 15.06, 18.77, 18.34, 17.3, 11.91, 8.05, 6.34, 4.5, 7.1, 7.1, 8.6, 12.7, 15.8, 15.9, 17.7, 15.6, 11.4, 7.9, 6.91, 4.81, 5.94, 8.73, 8.98, 12.97, 15.77, 17.77, 18.77, 14.37, 14.57, 7.97, 4.07, 6.37, 8.37, 8.47, 9.97, 12.87, 15.57, 16.57, 17.17, 15.17, 12.07, 9.57, 7.43, 4.18, 4.78, 8.88, 10.38, 12.88, 17.68, 18.48, 20.28, 15.28, 9.78, 8.98, 5.39, 6.19, 5.69, 6.59, 9.59, 12.09, 15.99, 16.69, 18.19, 15.99, 12.19, 8.79, 5.39, 6.88, 3.99, 7.6, 10.32, 12.71, 16.72, 18.16, 17.19, 16.09, 15.09, 7.19, 4.62, 3.8, 4.07, 6.0, 9.2, 13.0, 16.5, 19.9, 16.6, 17.7, 14.4, 9.44, 6.4, 7.82, 8.0, 7.3, 11.4, 12.9, 15.3, 16.4, 16.5, 14.5, 11.1, 8.3, 4.71, 6.91, 6.11, 7.31, 8.81, 14.61, 15.11, 17.21, 17.11, 13.71, 10.71, 8.81, 4.37, 2.72, 4.62, 7.22, 10.22, 12.72, 15.72, 17.32, 17.82, 15.32, 12.52, 10.22, 4.42, 2.32, 4.32, 7.02, 9.32, 11.12, 15.52, 18.52, 16.92, 14.72, 11.72, 6.92, 1.63, 5.23, 7.63, 7.83, 12.03, 13.13, 15.23, 15.83, 16.73, 16.23, 13.13, 9.73, 8.08, 6.76, 3.27, 8.43, 8.57, 13.14, 15.13, 16.43, 18.03, 14.43, 12.67, 8.22, 7.16, 4.89, 3.54, 4.54, 8.64, 11.02, 14.24, 18.83, 18.38, 16.38, 13.73, 8.09, 7.15, 7.25, 7.4, 8.25, 10.85, 12.64, 15.65, 18.75, 16.6, 16.65, 14.04, 9.95, 6.69, 5.64, 4.6, 7.74, 10.7, 12.9, 15.8, 18.2, 18.0, 14.15, 11.85, 11.25, 10.41, 6.31, 6.36, 6.41, 8.71, 13.16, 15.96, 17.96, 18.56, 17.91, 10.86, 8.06, 5.61, 3.46, 7.21, 10.06, 9.31, 14.46, 17.61, 18.46, 17.96, 14.96, 13.81, 8.56, 6.67, 7.62, 3.37, 6.97, 11.57, 13.47, 16.37, 19.82, 18.42, 15.72, 12.87, 8.27, 7.88, 5.13, 7.38, 9.08, 9.68, 11.88, 16.53, 18.93, 18.58, 16.08, 12.93, 7.88, 7.03, 6.83, 8.33, 7.88, 12.13, 13.03, 16.18, 17.78, 19.98, 16.88, 12.18, 9.88, 6.89, 5.09, 6.44, 7.64, 7.29, 11.64, 16.74, 18.09, 17.19, 17.29, 12.79, 8.24, 7.54, 5.69, 7.54, 9.19, 9.84, 14.19, 16.94, 19.69, 19.94, 16.29, 15.09, 10.44, 5.0, 6.75, 6.9, 9.35, 10.05, 13.2, 18.0, 18.25, 18.4, 19.15, 14.65, 9.75, 8.65]\n"
     ]
    }
   ],
   "source": [
    "series = []\n",
    "\n",
    "for i, row in temps.iterrows():\n",
    "    series = series + list(row)\n",
    "    \n",
    "print(series)"
   ]
  },
  {
   "cell_type": "code",
   "execution_count": 7,
   "id": "9e66c982-798c-476f-82a4-0d5f76f8bca1",
   "metadata": {},
   "outputs": [
    {
     "data": {
      "text/plain": [
       "612"
      ]
     },
     "execution_count": 7,
     "metadata": {},
     "output_type": "execute_result"
    }
   ],
   "source": [
    "len(series)"
   ]
  },
  {
   "cell_type": "code",
   "execution_count": 8,
   "id": "06f59a2d-e886-4c0d-a732-4a2f19f908c2",
   "metadata": {},
   "outputs": [],
   "source": [
    "series = series[:-7]"
   ]
  },
  {
   "cell_type": "code",
   "execution_count": 9,
   "id": "c4d912ab-d42d-4710-8422-57c1f40e8b91",
   "metadata": {},
   "outputs": [
    {
     "data": {
      "text/plain": [
       "605"
      ]
     },
     "execution_count": 9,
     "metadata": {},
     "output_type": "execute_result"
    }
   ],
   "source": [
    "len(series)"
   ]
  },
  {
   "cell_type": "code",
   "execution_count": 10,
   "id": "f6d528ad-6d03-4c8d-8fc0-875c1ae94050",
   "metadata": {},
   "outputs": [
    {
     "data": {
      "text/plain": [
       "array([ 4.150e+00,  4.230e+00,  6.000e+00,  7.920e+00,  1.221e+01,\n",
       "        1.502e+01,  1.633e+01,  1.813e+01,  1.521e+01,  1.111e+01,\n",
       "        7.320e+00,  5.650e+00,  7.080e+00,  6.110e+00,  6.750e+00,\n",
       "        9.160e+00,  1.101e+01,  1.434e+01,  1.585e+01,  1.662e+01,\n",
       "        1.336e+01,  8.380e+00,  8.430e+00,  8.610e+00,  7.930e+00,\n",
       "        5.690e+00,  5.660e+00,  8.660e+00,  1.036e+01,  1.439e+01,\n",
       "        1.744e+01,  1.902e+01,  1.512e+01,  1.048e+01,  7.070e+00,\n",
       "        3.470e+00,  5.700e+00,  4.870e+00,  5.950e+00,  7.980e+00,\n",
       "        1.313e+01,  1.735e+01,  1.905e+01,  1.804e+01,  1.513e+01,\n",
       "        1.202e+01,  7.540e+00,  3.410e+00,  4.070e+00,  7.310e+00,\n",
       "        8.160e+00,  7.890e+00,  1.118e+01,  1.316e+01,  1.617e+01,\n",
       "        1.550e+01,  1.335e+01,  1.267e+01,  7.890e+00,  7.350e+00,\n",
       "        4.200e+00,  3.630e+00,  7.510e+00,  7.740e+00,  1.148e+01,\n",
       "        1.354e+01,  1.549e+01,  1.506e+01,  1.452e+01,  1.265e+01,\n",
       "        9.080e+00,  5.070e+00,  3.500e-01,  3.230e+00,  6.090e+00,\n",
       "        8.240e+00,  1.066e+01,  1.368e+01,  1.641e+01,  1.538e+01,\n",
       "        1.427e+01,  1.184e+01,  8.060e+00,  6.900e+00,  1.840e+00,\n",
       "        6.870e+00,  5.710e+00,  8.460e+00,  1.103e+01,  1.428e+01,\n",
       "        1.534e+01,  1.697e+01,  1.532e+01,  1.017e+01,  6.390e+00,\n",
       "        4.970e+00,  5.390e+00,  3.140e+00,  9.400e+00,  8.200e+00,\n",
       "        1.160e+01,  1.364e+01,  1.596e+01,  1.673e+01,  1.487e+01,\n",
       "        1.033e+01,  8.330e+00,  4.650e+00,  4.510e+00,  5.600e+00,\n",
       "        6.030e+00,  8.650e+00,  1.296e+01,  1.686e+01,  1.719e+01,\n",
       "        1.685e+01,  1.630e+01,  1.107e+01,  8.600e+00,  5.040e+00,\n",
       "        7.040e+00,  1.750e+00,  6.480e+00,  7.880e+00,  1.115e+01,\n",
       "        1.502e+01,  1.992e+01,  1.763e+01,  1.597e+01,  1.157e+01,\n",
       "        8.070e+00,  5.260e+00,  5.720e+00,  4.890e+00,  5.800e+00,\n",
       "        9.090e+00,  9.700e+00,  1.479e+01,  1.798e+01,  1.846e+01,\n",
       "        1.506e+01,  1.185e+01,  9.520e+00,  5.290e+00,  5.600e-01,\n",
       "        2.900e+00,  5.490e+00,  9.090e+00,  1.146e+01,  1.405e+01,\n",
       "        1.742e+01,  1.569e+01,  1.561e+01,  1.123e+01,  4.930e+00,\n",
       "        6.760e+00,  5.290e+00, -1.140e+00,  5.800e+00,  6.430e+00,\n",
       "        1.253e+01,  1.618e+01,  1.701e+01,  1.513e+01,  1.276e+01,\n",
       "        1.311e+01,  8.390e+00,  6.720e+00, -1.090e+00,  4.090e+00,\n",
       "        5.170e+00,  1.106e+01,  1.083e+01,  1.422e+01,  1.664e+01,\n",
       "        1.716e+01,  1.619e+01,  1.114e+01,  7.090e+00,  5.270e+00,\n",
       "        6.720e+00,  5.180e+00,  7.260e+00,  9.220e+00,  1.253e+01,\n",
       "        1.421e+01,  1.583e+01,  1.686e+01,  1.481e+01,  1.189e+01,\n",
       "        6.260e+00,  7.820e+00,  5.090e+00,  6.410e+00,  9.360e+00,\n",
       "        7.420e+00,  1.409e+01,  9.999e+02,  1.856e+01,  1.715e+01,\n",
       "        1.602e+01,  1.363e+01,  6.490e+00,  4.800e+00,  6.520e+00,\n",
       "        9.120e+00,  8.860e+00,  8.500e+00,  1.389e+01,  1.385e+01,\n",
       "        1.782e+01,  1.876e+01,  1.471e+01,  1.327e+01,  7.520e+00,\n",
       "        4.370e+00,  4.280e+00,  2.870e+00,  9.090e+00,  8.970e+00,\n",
       "        1.096e+01,  1.383e+01,  1.792e+01,  1.830e+01,  1.665e+01,\n",
       "        1.087e+01,  7.510e+00,  3.940e+00,  3.260e+00,  5.530e+00,\n",
       "        8.010e+00,  8.790e+00,  1.404e+01,  1.510e+01,  1.715e+01,\n",
       "        1.749e+01,  1.485e+01,  9.930e+00,  9.510e+00,  5.000e+00,\n",
       "        7.400e+00,  4.690e+00,  7.570e+00,  1.064e+01,  1.375e+01,\n",
       "        1.602e+01,  1.639e+01,  1.632e+01,  1.414e+01,  9.510e+00,\n",
       "        4.210e+00,  7.140e+00,  6.610e+00,  5.150e+00,  8.820e+00,\n",
       "        8.650e+00,  1.245e+01,  1.594e+01,  1.854e+01,  1.749e+01,\n",
       "        1.385e+01,  1.104e+01,  1.067e+01,  7.240e+00,  5.820e+00,\n",
       "        8.320e+00,  6.510e+00,  8.600e+00,  1.293e+01,  1.436e+01,\n",
       "        1.914e+01,  1.947e+01,  1.420e+01,  1.430e+01,  7.820e+00,\n",
       "        3.410e+00,  4.880e+00,  3.610e+00,  5.780e+00,  9.190e+00,\n",
       "        1.068e+01,  1.615e+01,  1.741e+01,  1.751e+01,  1.372e+01,\n",
       "        1.220e+01,  7.020e+00,  2.640e+00,  1.150e+00,  7.630e+00,\n",
       "        8.920e+00,  8.710e+00,  1.236e+01,  1.514e+01,  1.694e+01,\n",
       "        1.988e+01,  1.545e+01,  1.152e+01,  8.710e+00,  6.020e+00,\n",
       "        5.110e+00,  6.430e+00,  8.210e+00,  8.790e+00,  1.385e+01,\n",
       "        1.532e+01,  1.638e+01,  1.752e+01,  1.569e+01,  1.186e+01,\n",
       "        6.030e+00,  6.280e+00,  7.050e+00,  5.580e+00,  7.880e+00,\n",
       "        1.012e+01,  1.440e+01,  1.506e+01,  1.877e+01,  1.834e+01,\n",
       "        1.730e+01,  1.191e+01,  8.050e+00,  6.340e+00,  4.500e+00,\n",
       "        7.100e+00,  7.100e+00,  8.600e+00,  1.270e+01,  1.580e+01,\n",
       "        1.590e+01,  1.770e+01,  1.560e+01,  1.140e+01,  7.900e+00,\n",
       "        6.910e+00,  4.810e+00,  5.940e+00,  8.730e+00,  8.980e+00,\n",
       "        1.297e+01,  1.577e+01,  1.777e+01,  1.877e+01,  1.437e+01,\n",
       "        1.457e+01,  7.970e+00,  4.070e+00,  6.370e+00,  8.370e+00,\n",
       "        8.470e+00,  9.970e+00,  1.287e+01,  1.557e+01,  1.657e+01,\n",
       "        1.717e+01,  1.517e+01,  1.207e+01,  9.570e+00,  7.430e+00,\n",
       "        4.180e+00,  4.780e+00,  8.880e+00,  1.038e+01,  1.288e+01,\n",
       "        1.768e+01,  1.848e+01,  2.028e+01,  1.528e+01,  9.780e+00,\n",
       "        8.980e+00,  5.390e+00,  6.190e+00,  5.690e+00,  6.590e+00,\n",
       "        9.590e+00,  1.209e+01,  1.599e+01,  1.669e+01,  1.819e+01,\n",
       "        1.599e+01,  1.219e+01,  8.790e+00,  5.390e+00,  6.880e+00,\n",
       "        3.990e+00,  7.600e+00,  1.032e+01,  1.271e+01,  1.672e+01,\n",
       "        1.816e+01,  1.719e+01,  1.609e+01,  1.509e+01,  7.190e+00,\n",
       "        4.620e+00,  3.800e+00,  4.070e+00,  6.000e+00,  9.200e+00,\n",
       "        1.300e+01,  1.650e+01,  1.990e+01,  1.660e+01,  1.770e+01,\n",
       "        1.440e+01,  9.440e+00,  6.400e+00,  7.820e+00,  8.000e+00,\n",
       "        7.300e+00,  1.140e+01,  1.290e+01,  1.530e+01,  1.640e+01,\n",
       "        1.650e+01,  1.450e+01,  1.110e+01,  8.300e+00,  4.710e+00,\n",
       "        6.910e+00,  6.110e+00,  7.310e+00,  8.810e+00,  1.461e+01,\n",
       "        1.511e+01,  1.721e+01,  1.711e+01,  1.371e+01,  1.071e+01,\n",
       "        8.810e+00,  4.370e+00,  2.720e+00,  4.620e+00,  7.220e+00,\n",
       "        1.022e+01,  1.272e+01,  1.572e+01,  1.732e+01,  1.782e+01,\n",
       "        1.532e+01,  1.252e+01,  1.022e+01,  4.420e+00,  2.320e+00,\n",
       "        4.320e+00,  7.020e+00,  9.320e+00,  1.112e+01,  1.552e+01,\n",
       "        1.852e+01,  1.692e+01,  1.472e+01,  1.172e+01,  6.920e+00,\n",
       "        1.630e+00,  5.230e+00,  7.630e+00,  7.830e+00,  1.203e+01,\n",
       "        1.313e+01,  1.523e+01,  1.583e+01,  1.673e+01,  1.623e+01,\n",
       "        1.313e+01,  9.730e+00,  8.080e+00,  6.760e+00,  3.270e+00,\n",
       "        8.430e+00,  8.570e+00,  1.314e+01,  1.513e+01,  1.643e+01,\n",
       "        1.803e+01,  1.443e+01,  1.267e+01,  8.220e+00,  7.160e+00,\n",
       "        4.890e+00,  3.540e+00,  4.540e+00,  8.640e+00,  1.102e+01,\n",
       "        1.424e+01,  1.883e+01,  1.838e+01,  1.638e+01,  1.373e+01,\n",
       "        8.090e+00,  7.150e+00,  7.250e+00,  7.400e+00,  8.250e+00,\n",
       "        1.085e+01,  1.264e+01,  1.565e+01,  1.875e+01,  1.660e+01,\n",
       "        1.665e+01,  1.404e+01,  9.950e+00,  6.690e+00,  5.640e+00,\n",
       "        4.600e+00,  7.740e+00,  1.070e+01,  1.290e+01,  1.580e+01,\n",
       "        1.820e+01,  1.800e+01,  1.415e+01,  1.185e+01,  1.125e+01,\n",
       "        1.041e+01,  6.310e+00,  6.360e+00,  6.410e+00,  8.710e+00,\n",
       "        1.316e+01,  1.596e+01,  1.796e+01,  1.856e+01,  1.791e+01,\n",
       "        1.086e+01,  8.060e+00,  5.610e+00,  3.460e+00,  7.210e+00,\n",
       "        1.006e+01,  9.310e+00,  1.446e+01,  1.761e+01,  1.846e+01,\n",
       "        1.796e+01,  1.496e+01,  1.381e+01,  8.560e+00,  6.670e+00,\n",
       "        7.620e+00,  3.370e+00,  6.970e+00,  1.157e+01,  1.347e+01,\n",
       "        1.637e+01,  1.982e+01,  1.842e+01,  1.572e+01,  1.287e+01,\n",
       "        8.270e+00,  7.880e+00,  5.130e+00,  7.380e+00,  9.080e+00,\n",
       "        9.680e+00,  1.188e+01,  1.653e+01,  1.893e+01,  1.858e+01,\n",
       "        1.608e+01,  1.293e+01,  7.880e+00,  7.030e+00,  6.830e+00,\n",
       "        8.330e+00,  7.880e+00,  1.213e+01,  1.303e+01,  1.618e+01,\n",
       "        1.778e+01,  1.998e+01,  1.688e+01,  1.218e+01,  9.880e+00,\n",
       "        6.890e+00,  5.090e+00,  6.440e+00,  7.640e+00,  7.290e+00,\n",
       "        1.164e+01,  1.674e+01,  1.809e+01,  1.719e+01,  1.729e+01,\n",
       "        1.279e+01,  8.240e+00,  7.540e+00,  5.690e+00,  7.540e+00,\n",
       "        9.190e+00,  9.840e+00,  1.419e+01,  1.694e+01,  1.969e+01,\n",
       "        1.994e+01,  1.629e+01,  1.509e+01,  1.044e+01,  5.000e+00,\n",
       "        6.750e+00,  6.900e+00,  9.350e+00,  1.005e+01,  1.320e+01])"
      ]
     },
     "execution_count": 10,
     "metadata": {},
     "output_type": "execute_result"
    }
   ],
   "source": [
    "series = np.array(series)\n",
    "\n",
    "series"
   ]
  },
  {
   "cell_type": "code",
   "execution_count": 11,
   "id": "bb130bf3-fdf7-44bf-b3bd-228e3479d4be",
   "metadata": {},
   "outputs": [
    {
     "data": {
      "text/plain": [
       "(605,)"
      ]
     },
     "execution_count": 11,
     "metadata": {},
     "output_type": "execute_result"
    }
   ],
   "source": [
    "series.shape"
   ]
  },
  {
   "cell_type": "markdown",
   "id": "57d0339f-a034-49c5-befa-91e841e3f477",
   "metadata": {},
   "source": [
    "### Data Visualization"
   ]
  },
  {
   "cell_type": "code",
   "execution_count": 12,
   "id": "61b9fe77-6473-424d-bc5b-c55fb7f2ce12",
   "metadata": {},
   "outputs": [],
   "source": [
    "import matplotlib.pyplot as plt"
   ]
  },
  {
   "cell_type": "code",
   "execution_count": 13,
   "id": "99570627-284d-4c92-adc7-3219615b024c",
   "metadata": {},
   "outputs": [],
   "source": [
    "time = np.arange(len(series))"
   ]
  },
  {
   "cell_type": "code",
   "execution_count": 14,
   "id": "a6057af2-93a6-4414-ba2d-e92b81030804",
   "metadata": {},
   "outputs": [
    {
     "data": {
      "text/plain": [
       "array([  0,   1,   2,   3,   4,   5,   6,   7,   8,   9,  10,  11,  12,\n",
       "        13,  14,  15,  16,  17,  18,  19,  20,  21,  22,  23,  24,  25,\n",
       "        26,  27,  28,  29,  30,  31,  32,  33,  34,  35,  36,  37,  38,\n",
       "        39,  40,  41,  42,  43,  44,  45,  46,  47,  48,  49,  50,  51,\n",
       "        52,  53,  54,  55,  56,  57,  58,  59,  60,  61,  62,  63,  64,\n",
       "        65,  66,  67,  68,  69,  70,  71,  72,  73,  74,  75,  76,  77,\n",
       "        78,  79,  80,  81,  82,  83,  84,  85,  86,  87,  88,  89,  90,\n",
       "        91,  92,  93,  94,  95,  96,  97,  98,  99, 100, 101, 102, 103,\n",
       "       104, 105, 106, 107, 108, 109, 110, 111, 112, 113, 114, 115, 116,\n",
       "       117, 118, 119, 120, 121, 122, 123, 124, 125, 126, 127, 128, 129,\n",
       "       130, 131, 132, 133, 134, 135, 136, 137, 138, 139, 140, 141, 142,\n",
       "       143, 144, 145, 146, 147, 148, 149, 150, 151, 152, 153, 154, 155,\n",
       "       156, 157, 158, 159, 160, 161, 162, 163, 164, 165, 166, 167, 168,\n",
       "       169, 170, 171, 172, 173, 174, 175, 176, 177, 178, 179, 180, 181,\n",
       "       182, 183, 184, 185, 186, 187, 188, 189, 190, 191, 192, 193, 194,\n",
       "       195, 196, 197, 198, 199, 200, 201, 202, 203, 204, 205, 206, 207,\n",
       "       208, 209, 210, 211, 212, 213, 214, 215, 216, 217, 218, 219, 220,\n",
       "       221, 222, 223, 224, 225, 226, 227, 228, 229, 230, 231, 232, 233,\n",
       "       234, 235, 236, 237, 238, 239, 240, 241, 242, 243, 244, 245, 246,\n",
       "       247, 248, 249, 250, 251, 252, 253, 254, 255, 256, 257, 258, 259,\n",
       "       260, 261, 262, 263, 264, 265, 266, 267, 268, 269, 270, 271, 272,\n",
       "       273, 274, 275, 276, 277, 278, 279, 280, 281, 282, 283, 284, 285,\n",
       "       286, 287, 288, 289, 290, 291, 292, 293, 294, 295, 296, 297, 298,\n",
       "       299, 300, 301, 302, 303, 304, 305, 306, 307, 308, 309, 310, 311,\n",
       "       312, 313, 314, 315, 316, 317, 318, 319, 320, 321, 322, 323, 324,\n",
       "       325, 326, 327, 328, 329, 330, 331, 332, 333, 334, 335, 336, 337,\n",
       "       338, 339, 340, 341, 342, 343, 344, 345, 346, 347, 348, 349, 350,\n",
       "       351, 352, 353, 354, 355, 356, 357, 358, 359, 360, 361, 362, 363,\n",
       "       364, 365, 366, 367, 368, 369, 370, 371, 372, 373, 374, 375, 376,\n",
       "       377, 378, 379, 380, 381, 382, 383, 384, 385, 386, 387, 388, 389,\n",
       "       390, 391, 392, 393, 394, 395, 396, 397, 398, 399, 400, 401, 402,\n",
       "       403, 404, 405, 406, 407, 408, 409, 410, 411, 412, 413, 414, 415,\n",
       "       416, 417, 418, 419, 420, 421, 422, 423, 424, 425, 426, 427, 428,\n",
       "       429, 430, 431, 432, 433, 434, 435, 436, 437, 438, 439, 440, 441,\n",
       "       442, 443, 444, 445, 446, 447, 448, 449, 450, 451, 452, 453, 454,\n",
       "       455, 456, 457, 458, 459, 460, 461, 462, 463, 464, 465, 466, 467,\n",
       "       468, 469, 470, 471, 472, 473, 474, 475, 476, 477, 478, 479, 480,\n",
       "       481, 482, 483, 484, 485, 486, 487, 488, 489, 490, 491, 492, 493,\n",
       "       494, 495, 496, 497, 498, 499, 500, 501, 502, 503, 504, 505, 506,\n",
       "       507, 508, 509, 510, 511, 512, 513, 514, 515, 516, 517, 518, 519,\n",
       "       520, 521, 522, 523, 524, 525, 526, 527, 528, 529, 530, 531, 532,\n",
       "       533, 534, 535, 536, 537, 538, 539, 540, 541, 542, 543, 544, 545,\n",
       "       546, 547, 548, 549, 550, 551, 552, 553, 554, 555, 556, 557, 558,\n",
       "       559, 560, 561, 562, 563, 564, 565, 566, 567, 568, 569, 570, 571,\n",
       "       572, 573, 574, 575, 576, 577, 578, 579, 580, 581, 582, 583, 584,\n",
       "       585, 586, 587, 588, 589, 590, 591, 592, 593, 594, 595, 596, 597,\n",
       "       598, 599, 600, 601, 602, 603, 604])"
      ]
     },
     "execution_count": 14,
     "metadata": {},
     "output_type": "execute_result"
    }
   ],
   "source": [
    "time"
   ]
  },
  {
   "cell_type": "code",
   "execution_count": 15,
   "id": "427cfa36-e44c-447f-a1a0-28c3b28cabe9",
   "metadata": {},
   "outputs": [
    {
     "data": {
      "image/png": "[encoded data removed]",
      "text/plain": [
       "<Figure size 640x480 with 1 Axes>"
      ]
     },
     "metadata": {},
     "output_type": "display_data"
    }
   ],
   "source": [
    "plt.plot(time, series)\n",
    "plt.xlabel('Temps')\n",
    "plt.ylabel('Temperature')\n",
    "plt.show()"
   ]
  },
  {
   "cell_type": "code",
   "execution_count": 16,
   "id": "13718501-1e57-4c63-95e3-f689e15bb66a",
   "metadata": {},
   "outputs": [
    {
     "data": {
      "text/plain": [
       "197"
      ]
     },
     "execution_count": 16,
     "metadata": {},
     "output_type": "execute_result"
    }
   ],
   "source": [
    "np.argmax(series)"
   ]
  },
  {
   "cell_type": "code",
   "execution_count": 17,
   "id": "76fd2b58-68a4-4f37-95c4-06985ea35565",
   "metadata": {},
   "outputs": [
    {
     "data": {
      "text/plain": [
       "999.9"
      ]
     },
     "execution_count": 17,
     "metadata": {},
     "output_type": "execute_result"
    }
   ],
   "source": [
    "series[197]"
   ]
  },
  {
   "cell_type": "code",
   "execution_count": 18,
   "id": "bcf3fe40-3eef-4b73-b0fa-5f3b876f1f61",
   "metadata": {},
   "outputs": [
    {
     "data": {
      "text/plain": [
       "array([  7.42,  14.09, 999.9 ,  18.56])"
      ]
     },
     "execution_count": 18,
     "metadata": {},
     "output_type": "execute_result"
    }
   ],
   "source": [
    "series[195: 199]"
   ]
  },
  {
   "cell_type": "code",
   "execution_count": 19,
   "id": "684769db-c043-4103-8c64-60822864d6dd",
   "metadata": {},
   "outputs": [
    {
     "data": {
      "text/plain": [
       "16.325"
      ]
     },
     "execution_count": 19,
     "metadata": {},
     "output_type": "execute_result"
    }
   ],
   "source": [
    "(14.09+18.56)/2"
   ]
  },
  {
   "cell_type": "code",
   "execution_count": 20,
   "id": "6d9d4a5e-0974-408a-bcee-dd739ab86b04",
   "metadata": {},
   "outputs": [],
   "source": [
    "series[197] = 16.325"
   ]
  },
  {
   "cell_type": "code",
   "execution_count": 21,
   "id": "2e081dec-967e-457f-80e0-55e02eecf07b",
   "metadata": {},
   "outputs": [
    {
     "data": {
      "text/plain": [
       "16.325"
      ]
     },
     "execution_count": 21,
     "metadata": {},
     "output_type": "execute_result"
    }
   ],
   "source": [
    "series[197]"
   ]
  },
  {
   "cell_type": "code",
   "execution_count": 22,
   "id": "b1b08e64-b221-466f-9f62-c8ea4035f9da",
   "metadata": {},
   "outputs": [
    {
     "data": {
      "text/plain": [
       "20.28"
      ]
     },
     "execution_count": 22,
     "metadata": {},
     "output_type": "execute_result"
    }
   ],
   "source": [
    "series.max()"
   ]
  },
  {
   "cell_type": "code",
   "execution_count": 23,
   "id": "d871f488-751d-4c17-a48d-51622040c4b6",
   "metadata": {},
   "outputs": [
    {
     "data": {
      "image/png": "[encoded data removed]",
      "text/plain": [
       "<Figure size 640x480 with 1 Axes>"
      ]
     },
     "metadata": {},
     "output_type": "display_data"
    }
   ],
   "source": [
    "plt.plot(time, series)\n",
    "plt.xlabel('Temps')\n",
    "plt.ylabel('Temperature')\n",
    "plt.show()"
   ]
  },
  {
   "cell_type": "code",
   "execution_count": null,
   "id": "2be4099d-7677-4267-a3e3-2b3fdbfa69b1",
   "metadata": {},
   "outputs": [],
   "source": []
  },
  {
   "cell_type": "markdown",
   "id": "2e902862-0502-44f2-86d2-833a2d259560",
   "metadata": {},
   "source": [
    "### BaseLine"
   ]
  },
  {
   "cell_type": "code",
   "execution_count": 24,
   "id": "3872210e-1ba7-451e-96c4-534fd0546bc3",
   "metadata": {},
   "outputs": [],
   "source": [
    "# Train_test_split\n",
    "\n",
    "time_train = time[:505]\n",
    "x_train = series[:505]\n",
    "\n",
    "time_test = time[505:]\n",
    "x_test = series[505:]"
   ]
  },
  {
   "cell_type": "code",
   "execution_count": 25,
   "id": "4028e786-d390-4e18-87ab-66ec17a98a10",
   "metadata": {},
   "outputs": [],
   "source": [
    "years = df['YEAR'].tolist()"
   ]
  },
  {
   "cell_type": "code",
   "execution_count": 26,
   "id": "ba655523-1c2c-4a46-98c1-7c78b69332a7",
   "metadata": {},
   "outputs": [
    {
     "data": {
      "text/plain": [
       "42.083333333333336"
      ]
     },
     "execution_count": 26,
     "metadata": {},
     "output_type": "execute_result"
    }
   ],
   "source": [
    "505/12"
   ]
  },
  {
   "cell_type": "code",
   "execution_count": 27,
   "id": "94aad545-cb60-4169-80fe-0709c1407dc8",
   "metadata": {},
   "outputs": [
    {
     "data": {
      "text/plain": [
       "2016"
      ]
     },
     "execution_count": 27,
     "metadata": {},
     "output_type": "execute_result"
    }
   ],
   "source": [
    "years[43]  # 1973-2016 train, 2016-2023 test"
   ]
  },
  {
   "cell_type": "code",
   "execution_count": 28,
   "id": "4b519e8c-081d-42c9-a2b3-6c0dcfa130d0",
   "metadata": {},
   "outputs": [],
   "source": [
    "# Approche naive\n",
    "# On predit la température du mois suivant à partir du mois précédent\n",
    "# Moving Average à essayer\n",
    "pred_naive = series[504:-1]"
   ]
  },
  {
   "cell_type": "code",
   "execution_count": 34,
   "id": "421ee457",
   "metadata": {},
   "outputs": [
    {
     "data": {
      "text/plain": [
       "(array([ 5.64,  4.6 ,  7.74, 10.7 , 12.9 , 15.8 , 18.2 , 18.  , 14.15,\n",
       "        11.85, 11.25, 10.41,  6.31,  6.36,  6.41,  8.71, 13.16, 15.96,\n",
       "        17.96, 18.56, 17.91, 10.86,  8.06,  5.61,  3.46,  7.21, 10.06,\n",
       "         9.31, 14.46, 17.61, 18.46, 17.96, 14.96, 13.81,  8.56,  6.67,\n",
       "         7.62,  3.37,  6.97, 11.57, 13.47, 16.37, 19.82, 18.42, 15.72,\n",
       "        12.87,  8.27,  7.88,  5.13,  7.38,  9.08,  9.68, 11.88, 16.53,\n",
       "        18.93, 18.58, 16.08, 12.93,  7.88,  7.03,  6.83,  8.33,  7.88,\n",
       "        12.13, 13.03, 16.18, 17.78, 19.98, 16.88, 12.18,  9.88,  6.89,\n",
       "         5.09,  6.44,  7.64,  7.29, 11.64, 16.74, 18.09, 17.19, 17.29,\n",
       "        12.79,  8.24,  7.54,  5.69,  7.54,  9.19,  9.84, 14.19, 16.94,\n",
       "        19.69, 19.94, 16.29, 15.09, 10.44,  5.  ,  6.75,  6.9 ,  9.35,\n",
       "        10.05]),\n",
       " array([ 4.6 ,  7.74, 10.7 , 12.9 , 15.8 , 18.2 , 18.  , 14.15, 11.85,\n",
       "        11.25, 10.41,  6.31,  6.36,  6.41,  8.71, 13.16, 15.96, 17.96,\n",
       "        18.56, 17.91, 10.86,  8.06,  5.61,  3.46,  7.21, 10.06,  9.31,\n",
       "        14.46, 17.61, 18.46, 17.96, 14.96, 13.81,  8.56,  6.67,  7.62,\n",
       "         3.37,  6.97, 11.57, 13.47, 16.37, 19.82, 18.42, 15.72, 12.87,\n",
       "         8.27,  7.88,  5.13,  7.38,  9.08,  9.68, 11.88, 16.53, 18.93,\n",
       "        18.58, 16.08, 12.93,  7.88,  7.03,  6.83,  8.33,  7.88, 12.13,\n",
       "        13.03, 16.18, 17.78, 19.98, 16.88, 12.18,  9.88,  6.89,  5.09,\n",
       "         6.44,  7.64,  7.29, 11.64, 16.74, 18.09, 17.19, 17.29, 12.79,\n",
       "         8.24,  7.54,  5.69,  7.54,  9.19,  9.84, 14.19, 16.94, 19.69,\n",
       "        19.94, 16.29, 15.09, 10.44,  5.  ,  6.75,  6.9 ,  9.35, 10.05,\n",
       "        13.2 ]))"
      ]
     },
     "execution_count": 34,
     "metadata": {},
     "output_type": "execute_result"
    }
   ],
   "source": [
    "series[504:-1], x_test"
   ]
  },
  {
   "cell_type": "code",
   "execution_count": 29,
   "id": "4c4d4264-da12-4804-a019-55775c79c031",
   "metadata": {},
   "outputs": [
    {
     "data": {
      "text/plain": [
       "(100,)"
      ]
     },
     "execution_count": 29,
     "metadata": {},
     "output_type": "execute_result"
    }
   ],
   "source": [
    "pred_naive.shape"
   ]
  },
  {
   "cell_type": "code",
   "execution_count": 35,
   "id": "af4d8ec4-61f0-49eb-83d0-56b7a64b14f4",
   "metadata": {},
   "outputs": [],
   "source": [
    "from sklearn.metrics import mean_absolute_error, mean_squared_error"
   ]
  },
  {
   "cell_type": "code",
   "execution_count": 36,
   "id": "39390735",
   "metadata": {},
   "outputs": [
    {
     "data": {
      "text/plain": [
       "2.3704"
      ]
     },
     "execution_count": 36,
     "metadata": {},
     "output_type": "execute_result"
    }
   ],
   "source": [
    "mean_absolute_error(x_test, pred_naive)"
   ]
  },
  {
   "cell_type": "code",
   "execution_count": 37,
   "id": "a1595883",
   "metadata": {},
   "outputs": [
    {
     "data": {
      "text/plain": [
       "8.003988"
      ]
     },
     "execution_count": 37,
     "metadata": {},
     "output_type": "execute_result"
    }
   ],
   "source": [
    "mean_squared_error(x_test, pred_naive)"
   ]
  },
  {
   "cell_type": "code",
   "execution_count": 38,
   "id": "d9bb5320",
   "metadata": {},
   "outputs": [
    {
     "data": {
      "image/png": "[encoded data removed]",
      "text/plain": [
       "<Figure size 640x480 with 1 Axes>"
      ]
     },
     "metadata": {},
     "output_type": "display_data"
    }
   ],
   "source": [
    "plt.plot(time_test, x_test)\n",
    "plt.plot(time_test, pred_naive)\n",
    "plt.xlabel('Temps')\n",
    "plt.ylabel('Temperature')\n",
    "plt.show()"
   ]
  },
  {
   "cell_type": "code",
   "execution_count": null,
   "id": "bb40be71",
   "metadata": {},
   "outputs": [],
   "source": []
  },
  {
   "cell_type": "markdown",
   "id": "cee0ad3d",
   "metadata": {},
   "source": [
    "### Créer un windowed Dataset"
   ]
  },
  {
   "cell_type": "code",
   "execution_count": 39,
   "id": "5d99aa1a",
   "metadata": {},
   "outputs": [
    {
     "name": "stderr",
     "output_type": "stream",
     "text": [
      "2024-02-10 18:42:54.901045: I tensorflow/core/platform/cpu_feature_guard.cc:193] This TensorFlow binary is optimized with oneAPI Deep Neural Network Library (oneDNN) to use the following CPU instructions in performance-critical operations:  AVX2 FMA\n",
      "To enable them in other operations, rebuild TensorFlow with the appropriate compiler flags.\n",
      "2024-02-10 18:43:00.483995: W tensorflow/compiler/xla/stream_executor/platform/default/dso_loader.cc:64] Could not load dynamic library 'libcudart.so.11.0'; dlerror: libcudart.so.11.0: cannot open shared object file: No such file or directory\n",
      "2024-02-10 18:43:00.484071: I tensorflow/compiler/xla/stream_executor/cuda/cudart_stub.cc:29] Ignore above cudart dlerror if you do not have a GPU set up on your machine.\n",
      "2024-02-10 18:43:14.728129: W tensorflow/compiler/xla/stream_executor/platform/default/dso_loader.cc:64] Could not load dynamic library 'libnvinfer.so.7'; dlerror: libnvinfer.so.7: cannot open shared object file: No such file or directory\n",
      "2024-02-10 18:43:14.728833: W tensorflow/compiler/xla/stream_executor/platform/default/dso_loader.cc:64] Could not load dynamic library 'libnvinfer_plugin.so.7'; dlerror: libnvinfer_plugin.so.7: cannot open shared object file: No such file or directory\n",
      "2024-02-10 18:43:14.728893: W tensorflow/compiler/tf2tensorrt/utils/py_utils.cc:38] TF-TRT Warning: Cannot dlopen some TensorRT libraries. If you would like to use Nvidia GPU with TensorRT, please make sure the missing libraries mentioned above are installed properly.\n"
     ]
    }
   ],
   "source": [
    "import tensorflow as tf"
   ]
  },
  {
   "cell_type": "code",
   "execution_count": 40,
   "id": "a927afad",
   "metadata": {},
   "outputs": [
    {
     "name": "stderr",
     "output_type": "stream",
     "text": [
      "2024-02-10 18:44:49.674030: W tensorflow/compiler/xla/stream_executor/platform/default/dso_loader.cc:64] Could not load dynamic library 'libcuda.so.1'; dlerror: libcuda.so.1: cannot open shared object file: No such file or directory\n",
      "2024-02-10 18:44:49.681214: W tensorflow/compiler/xla/stream_executor/cuda/cuda_driver.cc:265] failed call to cuInit: UNKNOWN ERROR (303)\n",
      "2024-02-10 18:44:49.681288: I tensorflow/compiler/xla/stream_executor/cuda/cuda_diagnostics.cc:156] kernel driver does not appear to be running on this host (elimson-HP-250-G7-Notebook-PC): /proc/driver/nvidia/version does not exist\n",
      "2024-02-10 18:44:49.717522: I tensorflow/core/platform/cpu_feature_guard.cc:193] This TensorFlow binary is optimized with oneAPI Deep Neural Network Library (oneDNN) to use the following CPU instructions in performance-critical operations:  AVX2 FMA\n",
      "To enable them in other operations, rebuild TensorFlow with the appropriate compiler flags.\n"
     ]
    }
   ],
   "source": [
    "dataset = tf.data.Dataset.range(10)"
   ]
  },
  {
   "cell_type": "code",
   "execution_count": 41,
   "id": "517ca1aa",
   "metadata": {},
   "outputs": [],
   "source": [
    "dataset = dataset.window(5, shift=1, drop_remainder=True)"
   ]
  },
  {
   "cell_type": "code",
   "execution_count": 43,
   "id": "0f42bd73",
   "metadata": {},
   "outputs": [
    {
     "name": "stdout",
     "output_type": "stream",
     "text": [
      "WARNING:tensorflow:From /home/elimson/.local/lib/python3.10/site-packages/tensorflow/python/autograph/pyct/static_analysis/liveness.py:83: Analyzer.lamba_check (from tensorflow.python.autograph.pyct.static_analysis.liveness) is deprecated and will be removed after 2023-09-23.\n",
      "Instructions for updating:\n",
      "Lambda fuctions will be no more assumed to be used in the statement where they are used, or at least in the same block. https://github.com/tensorflow/tensorflow/issues/56089\n"
     ]
    }
   ],
   "source": [
    "dataset = dataset.flat_map(lambda window: window.batch(5))"
   ]
  },
  {
   "cell_type": "code",
   "execution_count": 45,
   "id": "d53dcf6e",
   "metadata": {},
   "outputs": [
    {
     "name": "stdout",
     "output_type": "stream",
     "text": [
      "[0 1 2 3 4]\n",
      "[1 2 3 4 5]\n",
      "[2 3 4 5 6]\n",
      "[3 4 5 6 7]\n",
      "[4 5 6 7 8]\n",
      "[5 6 7 8 9]\n"
     ]
    }
   ],
   "source": [
    "for window in dataset:\n",
    "    print(window.numpy())"
   ]
  },
  {
   "cell_type": "code",
   "execution_count": 46,
   "id": "623d61b0",
   "metadata": {},
   "outputs": [
    {
     "name": "stdout",
     "output_type": "stream",
     "text": [
      "[0 1 2 3 4]\n",
      "[1 2 3 4 5]\n",
      "[2 3 4 5 6]\n",
      "[3 4 5 6 7]\n",
      "[4 5 6 7 8]\n",
      "[5 6 7 8 9]\n",
      "[6 7 8 9]\n",
      "[7 8 9]\n",
      "[8 9]\n",
      "[9]\n"
     ]
    }
   ],
   "source": [
    "dataset = tf.data.Dataset.range(10)\n",
    "dataset = dataset.window(5, shift=1, drop_remainder=False)\n",
    "dataset = dataset.flat_map(lambda window: window.batch(5))\n",
    "\n",
    "for window in dataset:\n",
    "    print(window.numpy())"
   ]
  },
  {
   "cell_type": "code",
   "execution_count": 51,
   "id": "1ccf18f8",
   "metadata": {},
   "outputs": [
    {
     "name": "stdout",
     "output_type": "stream",
     "text": [
      "[0 1 2 3] 4\n",
      "[1 2 3 4] 5\n",
      "[2 3 4 5] 6\n",
      "[3 4 5 6] 7\n",
      "[4 5 6 7] 8\n",
      "[5 6 7 8] 9\n"
     ]
    }
   ],
   "source": [
    "dataset = tf.data.Dataset.range(10)\n",
    "dataset = dataset.window(5, shift=1, drop_remainder=True)\n",
    "dataset = dataset.flat_map(lambda window: window.batch(5))\n",
    "dataset = dataset.map(lambda window: (window[:-1], window[-1]))\n",
    "\n",
    "for x, y in dataset:\n",
    "    print(x.numpy(), y.numpy())"
   ]
  },
  {
   "cell_type": "code",
   "execution_count": 58,
   "id": "25b0fbe7",
   "metadata": {},
   "outputs": [
    {
     "name": "stdout",
     "output_type": "stream",
     "text": [
      "[[2 3 4 5]\n",
      " [0 1 2 3]] [6 4]\n",
      "[[3 4 5 6]\n",
      " [5 6 7 8]] [7 9]\n",
      "[[1 2 3 4]\n",
      " [4 5 6 7]] [5 8]\n"
     ]
    }
   ],
   "source": [
    "dataset = tf.data.Dataset.range(10)\n",
    "dataset = dataset.window(5, shift=1, drop_remainder=True)\n",
    "dataset = dataset.flat_map(lambda window: window.batch(5))\n",
    "dataset = dataset.map(lambda window: (window[:-1], window[-1]))\n",
    "dataset = dataset.shuffle(buffer_size=10)\n",
    "\n",
    "dataset = dataset.batch(2).prefetch(1)\n",
    "\n",
    "for x, y in dataset:\n",
    "    print(x.numpy(), y.numpy())"
   ]
  },
  {
   "cell_type": "code",
   "execution_count": null,
   "id": "55b8135a",
   "metadata": {},
   "outputs": [],
   "source": [
    "dataset = tf.data.Dataset.from_tensor_slices(series)\n",
    "dataset = dataset.window(5, shift=1, drop_remainder=True)\n",
    "dataset = dataset.flat_map(lambda window: window.batch(5))\n",
    "dataset = dataset.map(lambda window: (window[:-1], window[-1]))\n",
    "dataset = dataset.shuffle(buffer_size=len(series))\n",
    "\n",
    "dataset = dataset.batch(32).prefetch(1)\n",
    "\n",
    "for x, y in dataset:\n",
    "    print(x.numpy(), y.numpy())"
   ]
  },
  {
   "cell_type": "code",
   "execution_count": 68,
   "id": "7d2ad069",
   "metadata": {},
   "outputs": [],
   "source": [
    "def windowed_dataset(series, window_size, batch_size):\n",
    "    dataset = tf.data.Dataset.from_tensor_slices(series)\n",
    "    dataset = dataset.window(window_size+1, shift=1, drop_remainder=True)\n",
    "    dataset = dataset.flat_map(lambda window: window.batch(window_size+1))\n",
    "    dataset = dataset.map(lambda window: (window[:-1], window[-1]))\n",
    "    dataset = dataset.shuffle(buffer_size=len(series))\n",
    "\n",
    "    dataset = dataset.batch(batch_size).prefetch(1)\n",
    "    \n",
    "    return dataset"
   ]
  },
  {
   "cell_type": "code",
   "execution_count": 69,
   "id": "900d0f43",
   "metadata": {},
   "outputs": [],
   "source": [
    "window_size = 24\n",
    "batch_size = 32\n",
    "\n",
    "dataset = windowed_dataset(x_train, window_size, batch_size)\n",
    "test_dataset = windowed_dataset(x_test, window_size, batch_size)"
   ]
  },
  {
   "cell_type": "markdown",
   "id": "5f4066fa",
   "metadata": {},
   "source": [
    "### Réseau de Neurone"
   ]
  },
  {
   "cell_type": "code",
   "execution_count": null,
   "id": "aeafe215",
   "metadata": {},
   "outputs": [],
   "source": [
    "for feature, label in dataset.take(1):\n",
    "    print(feature.shape, label.shape)\n",
    "    print(feature)\n",
    "    print(label)    "
   ]
  },
  {
   "cell_type": "code",
   "execution_count": 71,
   "id": "6fe7168d",
   "metadata": {},
   "outputs": [],
   "source": [
    "model = tf.keras.models.Sequential([\n",
    "    tf.keras.layers.Dense(10, input_shape=[24], activation=\"relu\"),\n",
    "    tf.keras.layers.Dense(10, activation=\"relu\"),\n",
    "    tf.keras.layers.Dense(1)\n",
    "])"
   ]
  },
  {
   "cell_type": "code",
   "execution_count": 72,
   "id": "91339655",
   "metadata": {},
   "outputs": [
    {
     "name": "stdout",
     "output_type": "stream",
     "text": [
      "Model: \"sequential_1\"\n",
      "_________________________________________________________________\n",
      " Layer (type)                Output Shape              Param #   \n",
      "=================================================================\n",
      " dense_3 (Dense)             (None, 10)                250       \n",
      "                                                                 \n",
      " dense_4 (Dense)             (None, 10)                110       \n",
      "                                                                 \n",
      " dense_5 (Dense)             (None, 1)                 11        \n",
      "                                                                 \n",
      "=================================================================\n",
      "Total params: 371\n",
      "Trainable params: 371\n",
      "Non-trainable params: 0\n",
      "_________________________________________________________________\n"
     ]
    }
   ],
   "source": [
    "model.summary()"
   ]
  },
  {
   "cell_type": "code",
   "execution_count": 73,
   "id": "5728a071",
   "metadata": {},
   "outputs": [],
   "source": [
    "model.compile(loss=\"mse\", optimizer=tf.keras.optimizers.SGD(learning_rate=1e-6, momentum=0.9))"
   ]
  },
  {
   "cell_type": "code",
   "execution_count": 74,
   "id": "4c460a13",
   "metadata": {},
   "outputs": [
    {
     "name": "stdout",
     "output_type": "stream",
     "text": [
      "Epoch 1/100\n",
      "16/16 [==============================] - 2s 57ms/step - loss: 23.3563 - val_loss: 20.1835\n",
      "Epoch 2/100\n",
      "16/16 [==============================] - 0s 5ms/step - loss: 18.0629 - val_loss: 14.4966\n",
      "Epoch 3/100\n",
      "16/16 [==============================] - 0s 5ms/step - loss: 13.5125 - val_loss: 11.0400\n",
      "Epoch 4/100\n",
      "16/16 [==============================] - 0s 5ms/step - loss: 10.7680 - val_loss: 9.0078\n",
      "Epoch 5/100\n",
      "16/16 [==============================] - 0s 4ms/step - loss: 8.9687 - val_loss: 7.6913\n",
      "Epoch 6/100\n",
      "16/16 [==============================] - 0s 5ms/step - loss: 7.7459 - val_loss: 6.7337\n",
      "Epoch 7/100\n",
      "16/16 [==============================] - 0s 5ms/step - loss: 6.8133 - val_loss: 6.0078\n",
      "Epoch 8/100\n",
      "16/16 [==============================] - 0s 4ms/step - loss: 6.1281 - val_loss: 5.4091\n",
      "Epoch 9/100\n",
      "16/16 [==============================] - 0s 4ms/step - loss: 5.5431 - val_loss: 4.9377\n",
      "Epoch 10/100\n",
      "16/16 [==============================] - 0s 4ms/step - loss: 5.1154 - val_loss: 4.5887\n",
      "Epoch 11/100\n",
      "16/16 [==============================] - 0s 5ms/step - loss: 4.7811 - val_loss: 4.2929\n",
      "Epoch 12/100\n",
      "16/16 [==============================] - 0s 4ms/step - loss: 4.5147 - val_loss: 4.0396\n",
      "Epoch 13/100\n",
      "16/16 [==============================] - 0s 4ms/step - loss: 4.2743 - val_loss: 3.8919\n",
      "Epoch 14/100\n",
      "16/16 [==============================] - 0s 4ms/step - loss: 4.1103 - val_loss: 3.7405\n",
      "Epoch 15/100\n",
      "16/16 [==============================] - 0s 5ms/step - loss: 3.9653 - val_loss: 3.6197\n",
      "Epoch 16/100\n",
      "16/16 [==============================] - 0s 4ms/step - loss: 3.8347 - val_loss: 3.5111\n",
      "Epoch 17/100\n",
      "16/16 [==============================] - 0s 5ms/step - loss: 3.7346 - val_loss: 3.4091\n",
      "Epoch 18/100\n",
      "16/16 [==============================] - 0s 5ms/step - loss: 3.6658 - val_loss: 3.3466\n",
      "Epoch 19/100\n",
      "16/16 [==============================] - 0s 5ms/step - loss: 3.5946 - val_loss: 3.2788\n",
      "Epoch 20/100\n",
      "16/16 [==============================] - 0s 5ms/step - loss: 3.5396 - val_loss: 3.2293\n",
      "Epoch 21/100\n",
      "16/16 [==============================] - 0s 5ms/step - loss: 3.4949 - val_loss: 3.1862\n",
      "Epoch 22/100\n",
      "16/16 [==============================] - 0s 4ms/step - loss: 3.4312 - val_loss: 3.2035\n",
      "Epoch 23/100\n",
      "16/16 [==============================] - 0s 4ms/step - loss: 3.4080 - val_loss: 3.2118\n",
      "Epoch 24/100\n",
      "16/16 [==============================] - 0s 4ms/step - loss: 3.3911 - val_loss: 3.1898\n",
      "Epoch 25/100\n",
      "16/16 [==============================] - 0s 5ms/step - loss: 3.3578 - val_loss: 3.1195\n",
      "Epoch 26/100\n",
      "16/16 [==============================] - 0s 5ms/step - loss: 3.3357 - val_loss: 3.0865\n",
      "Epoch 27/100\n",
      "16/16 [==============================] - 0s 5ms/step - loss: 3.3275 - val_loss: 3.0737\n",
      "Epoch 28/100\n",
      "16/16 [==============================] - 0s 5ms/step - loss: 3.3029 - val_loss: 3.0663\n",
      "Epoch 29/100\n",
      "16/16 [==============================] - 0s 4ms/step - loss: 3.2898 - val_loss: 3.0531\n",
      "Epoch 30/100\n",
      "16/16 [==============================] - 0s 4ms/step - loss: 3.2779 - val_loss: 3.0415\n",
      "Epoch 31/100\n",
      "16/16 [==============================] - 0s 4ms/step - loss: 3.2623 - val_loss: 3.0329\n",
      "Epoch 32/100\n",
      "16/16 [==============================] - 0s 4ms/step - loss: 3.2499 - val_loss: 3.0169\n",
      "Epoch 33/100\n",
      "16/16 [==============================] - 0s 4ms/step - loss: 3.2435 - val_loss: 3.0169\n",
      "Epoch 34/100\n",
      "16/16 [==============================] - 0s 5ms/step - loss: 3.2285 - val_loss: 2.9932\n",
      "Epoch 35/100\n",
      "16/16 [==============================] - 0s 4ms/step - loss: 3.2138 - val_loss: 3.0069\n",
      "Epoch 36/100\n",
      "16/16 [==============================] - 0s 5ms/step - loss: 3.2050 - val_loss: 2.9978\n",
      "Epoch 37/100\n",
      "16/16 [==============================] - 0s 5ms/step - loss: 3.1977 - val_loss: 2.9801\n",
      "Epoch 38/100\n",
      "16/16 [==============================] - 0s 5ms/step - loss: 3.1834 - val_loss: 2.9562\n",
      "Epoch 39/100\n",
      "16/16 [==============================] - 0s 4ms/step - loss: 3.1807 - val_loss: 2.9617\n",
      "Epoch 40/100\n",
      "16/16 [==============================] - 0s 5ms/step - loss: 3.1779 - val_loss: 2.9644\n",
      "Epoch 41/100\n",
      "16/16 [==============================] - 0s 5ms/step - loss: 3.1714 - val_loss: 2.9395\n",
      "Epoch 42/100\n",
      "16/16 [==============================] - 0s 5ms/step - loss: 3.1640 - val_loss: 2.9600\n",
      "Epoch 43/100\n",
      "16/16 [==============================] - 0s 5ms/step - loss: 3.1618 - val_loss: 2.9402\n",
      "Epoch 44/100\n",
      "16/16 [==============================] - 0s 5ms/step - loss: 3.1482 - val_loss: 2.9205\n",
      "Epoch 45/100\n",
      "16/16 [==============================] - 0s 5ms/step - loss: 3.1394 - val_loss: 2.8992\n",
      "Epoch 46/100\n",
      "16/16 [==============================] - 0s 5ms/step - loss: 3.1327 - val_loss: 2.8779\n",
      "Epoch 47/100\n",
      "16/16 [==============================] - 0s 4ms/step - loss: 3.1332 - val_loss: 2.8720\n",
      "Epoch 48/100\n",
      "16/16 [==============================] - 0s 4ms/step - loss: 3.1237 - val_loss: 2.8608\n",
      "Epoch 49/100\n",
      "16/16 [==============================] - 0s 4ms/step - loss: 3.1172 - val_loss: 2.8553\n",
      "Epoch 50/100\n",
      "16/16 [==============================] - 0s 5ms/step - loss: 3.1074 - val_loss: 2.8520\n",
      "Epoch 51/100\n",
      "16/16 [==============================] - 0s 4ms/step - loss: 3.1084 - val_loss: 2.8408\n",
      "Epoch 52/100\n",
      "16/16 [==============================] - 0s 4ms/step - loss: 3.0979 - val_loss: 2.8274\n",
      "Epoch 53/100\n",
      "16/16 [==============================] - 0s 5ms/step - loss: 3.0914 - val_loss: 2.8337\n",
      "Epoch 54/100\n",
      "16/16 [==============================] - 0s 4ms/step - loss: 3.0815 - val_loss: 2.8189\n",
      "Epoch 55/100\n",
      "16/16 [==============================] - 0s 4ms/step - loss: 3.0757 - val_loss: 2.8018\n",
      "Epoch 56/100\n",
      "16/16 [==============================] - 0s 4ms/step - loss: 3.0780 - val_loss: 2.7962\n",
      "Epoch 57/100\n",
      "16/16 [==============================] - 0s 4ms/step - loss: 3.1038 - val_loss: 2.7956\n",
      "Epoch 58/100\n",
      "16/16 [==============================] - 0s 4ms/step - loss: 3.0812 - val_loss: 2.7904\n",
      "Epoch 59/100\n",
      "16/16 [==============================] - 0s 4ms/step - loss: 3.0680 - val_loss: 2.8442\n",
      "Epoch 60/100\n",
      "16/16 [==============================] - 0s 4ms/step - loss: 3.0544 - val_loss: 2.8302\n",
      "Epoch 61/100\n",
      "16/16 [==============================] - 0s 4ms/step - loss: 3.0466 - val_loss: 2.8070\n",
      "Epoch 62/100\n",
      "16/16 [==============================] - 0s 4ms/step - loss: 3.0413 - val_loss: 2.7805\n",
      "Epoch 63/100\n",
      "16/16 [==============================] - 0s 4ms/step - loss: 3.0274 - val_loss: 2.8323\n",
      "Epoch 64/100\n",
      "16/16 [==============================] - 0s 4ms/step - loss: 3.0512 - val_loss: 2.8730\n",
      "Epoch 65/100\n",
      "16/16 [==============================] - 0s 4ms/step - loss: 3.0320 - val_loss: 2.7855\n",
      "Epoch 66/100\n",
      "16/16 [==============================] - 0s 4ms/step - loss: 3.0234 - val_loss: 2.7588\n",
      "Epoch 67/100\n",
      "16/16 [==============================] - 0s 6ms/step - loss: 3.0190 - val_loss: 2.7386\n",
      "Epoch 68/100\n",
      "16/16 [==============================] - 0s 7ms/step - loss: 3.0159 - val_loss: 2.7339\n",
      "Epoch 69/100\n",
      "16/16 [==============================] - 0s 4ms/step - loss: 3.0090 - val_loss: 2.7287\n",
      "Epoch 70/100\n",
      "16/16 [==============================] - 0s 4ms/step - loss: 3.0064 - val_loss: 2.7256\n",
      "Epoch 71/100\n",
      "16/16 [==============================] - 0s 4ms/step - loss: 2.9981 - val_loss: 2.7265\n",
      "Epoch 72/100\n",
      "16/16 [==============================] - 0s 4ms/step - loss: 2.9962 - val_loss: 2.7171\n",
      "Epoch 73/100\n",
      "16/16 [==============================] - 0s 6ms/step - loss: 2.9944 - val_loss: 2.7224\n",
      "Epoch 74/100\n",
      "16/16 [==============================] - 0s 5ms/step - loss: 2.9894 - val_loss: 2.7048\n",
      "Epoch 75/100\n",
      "16/16 [==============================] - 0s 4ms/step - loss: 3.0070 - val_loss: 2.6908\n",
      "Epoch 76/100\n",
      "16/16 [==============================] - 0s 4ms/step - loss: 2.9920 - val_loss: 2.6875\n",
      "Epoch 77/100\n",
      "16/16 [==============================] - 0s 4ms/step - loss: 2.9778 - val_loss: 2.6850\n",
      "Epoch 78/100\n",
      "16/16 [==============================] - 0s 4ms/step - loss: 2.9792 - val_loss: 2.6990\n",
      "Epoch 79/100\n",
      "16/16 [==============================] - 0s 5ms/step - loss: 2.9697 - val_loss: 2.7104\n",
      "Epoch 80/100\n",
      "16/16 [==============================] - 0s 4ms/step - loss: 2.9652 - val_loss: 2.6909\n",
      "Epoch 81/100\n",
      "16/16 [==============================] - 0s 4ms/step - loss: 2.9637 - val_loss: 2.6675\n",
      "Epoch 82/100\n",
      "16/16 [==============================] - 0s 6ms/step - loss: 2.9606 - val_loss: 2.6557\n"
     ]
    },
    {
     "name": "stdout",
     "output_type": "stream",
     "text": [
      "Epoch 83/100\n",
      "16/16 [==============================] - 0s 4ms/step - loss: 2.9579 - val_loss: 2.6583\n",
      "Epoch 84/100\n",
      "16/16 [==============================] - 0s 4ms/step - loss: 2.9575 - val_loss: 2.6904\n",
      "Epoch 85/100\n",
      "16/16 [==============================] - 0s 4ms/step - loss: 2.9463 - val_loss: 2.6530\n",
      "Epoch 86/100\n",
      "16/16 [==============================] - 0s 4ms/step - loss: 2.9476 - val_loss: 2.6496\n",
      "Epoch 87/100\n",
      "16/16 [==============================] - 0s 4ms/step - loss: 2.9426 - val_loss: 2.6691\n",
      "Epoch 88/100\n",
      "16/16 [==============================] - 0s 5ms/step - loss: 2.9396 - val_loss: 2.6437\n",
      "Epoch 89/100\n",
      "16/16 [==============================] - 0s 5ms/step - loss: 2.9427 - val_loss: 2.6765\n",
      "Epoch 90/100\n",
      "16/16 [==============================] - 0s 4ms/step - loss: 2.9405 - val_loss: 2.6781\n",
      "Epoch 91/100\n",
      "16/16 [==============================] - 0s 4ms/step - loss: 2.9396 - val_loss: 2.6836\n",
      "Epoch 92/100\n",
      "16/16 [==============================] - 0s 4ms/step - loss: 2.9301 - val_loss: 2.6566\n",
      "Epoch 93/100\n",
      "16/16 [==============================] - 0s 4ms/step - loss: 2.9311 - val_loss: 2.6033\n",
      "Epoch 94/100\n",
      "16/16 [==============================] - 0s 4ms/step - loss: 2.9250 - val_loss: 2.6065\n",
      "Epoch 95/100\n",
      "16/16 [==============================] - 0s 4ms/step - loss: 2.9118 - val_loss: 2.6135\n",
      "Epoch 96/100\n",
      "16/16 [==============================] - 0s 5ms/step - loss: 2.9084 - val_loss: 2.5857\n",
      "Epoch 97/100\n",
      "16/16 [==============================] - 0s 5ms/step - loss: 2.9036 - val_loss: 2.5951\n",
      "Epoch 98/100\n",
      "16/16 [==============================] - 0s 5ms/step - loss: 2.9075 - val_loss: 2.6120\n",
      "Epoch 99/100\n",
      "16/16 [==============================] - 0s 5ms/step - loss: 2.9003 - val_loss: 2.5816\n",
      "Epoch 100/100\n",
      "16/16 [==============================] - 0s 5ms/step - loss: 2.8971 - val_loss: 2.5660\n"
     ]
    },
    {
     "data": {
      "text/plain": [
       "<keras.callbacks.History at 0x7f62315ebb20>"
      ]
     },
     "execution_count": 74,
     "metadata": {},
     "output_type": "execute_result"
    }
   ],
   "source": [
    "model.fit(dataset, epochs=100, validation_data=test_dataset)"
   ]
  },
  {
   "cell_type": "markdown",
   "id": "9580cc88",
   "metadata": {},
   "source": [
    "### Prédiction avec réseaux de neurones"
   ]
  },
  {
   "cell_type": "code",
   "execution_count": 75,
   "id": "2d032711",
   "metadata": {},
   "outputs": [
    {
     "data": {
      "text/plain": [
       "array([ 4.6 ,  7.74, 10.7 , 12.9 , 15.8 , 18.2 , 18.  , 14.15, 11.85,\n",
       "       11.25, 10.41,  6.31,  6.36,  6.41,  8.71, 13.16, 15.96, 17.96,\n",
       "       18.56, 17.91, 10.86,  8.06,  5.61,  3.46,  7.21, 10.06,  9.31,\n",
       "       14.46, 17.61, 18.46, 17.96, 14.96, 13.81,  8.56,  6.67,  7.62,\n",
       "        3.37,  6.97, 11.57, 13.47, 16.37, 19.82, 18.42, 15.72, 12.87,\n",
       "        8.27,  7.88,  5.13,  7.38,  9.08,  9.68, 11.88, 16.53, 18.93,\n",
       "       18.58, 16.08, 12.93,  7.88,  7.03,  6.83,  8.33,  7.88, 12.13,\n",
       "       13.03, 16.18, 17.78, 19.98, 16.88, 12.18,  9.88,  6.89,  5.09,\n",
       "        6.44,  7.64,  7.29, 11.64, 16.74, 18.09, 17.19, 17.29, 12.79,\n",
       "        8.24,  7.54,  5.69,  7.54,  9.19,  9.84, 14.19, 16.94, 19.69,\n",
       "       19.94, 16.29, 15.09, 10.44,  5.  ,  6.75,  6.9 ,  9.35, 10.05,\n",
       "       13.2 ])"
      ]
     },
     "execution_count": 75,
     "metadata": {},
     "output_type": "execute_result"
    }
   ],
   "source": [
    "x_test"
   ]
  },
  {
   "cell_type": "code",
   "execution_count": 76,
   "id": "d30538ca",
   "metadata": {},
   "outputs": [
    {
     "data": {
      "text/plain": [
       "(24,)"
      ]
     },
     "execution_count": 76,
     "metadata": {},
     "output_type": "execute_result"
    }
   ],
   "source": [
    "series[505-24:505].shape"
   ]
  },
  {
   "cell_type": "code",
   "execution_count": 77,
   "id": "2f3dcc83",
   "metadata": {},
   "outputs": [
    {
     "name": "stdout",
     "output_type": "stream",
     "text": [
      "1/1 [==============================] - 0s 176ms/step\n"
     ]
    }
   ],
   "source": [
    "r = model.predict(series[505-24:505].reshape(1, -1))"
   ]
  },
  {
   "cell_type": "code",
   "execution_count": 78,
   "id": "59f835d5",
   "metadata": {},
   "outputs": [
    {
     "data": {
      "text/plain": [
       "6.242513656616211"
      ]
     },
     "execution_count": 78,
     "metadata": {},
     "output_type": "execute_result"
    }
   ],
   "source": [
    "r.item()"
   ]
  },
  {
   "cell_type": "code",
   "execution_count": null,
   "id": "0a9bf19a",
   "metadata": {},
   "outputs": [],
   "source": []
  }
 ],
 "metadata": {
  "kernelspec": {
   "display_name": "Python 3 (ipykernel)",
   "language": "python",
   "name": "python3"
  },
  "language_info": {
   "codemirror_mode": {
    "name": "ipython",
    "version": 3
   },
   "file_extension": ".py",
   "mimetype": "text/x-python",
   "name": "python",
   "nbconvert_exporter": "python",
   "pygments_lexer": "ipython3",
   "version": "3.10.12"
  }
 },
 "nbformat": 4,
 "nbformat_minor": 5
}
