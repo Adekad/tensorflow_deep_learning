{
 "cells": [
  {
   "cell_type": "code",
   "execution_count": 1,
   "id": "15cc66a4",
   "metadata": {},
   "outputs": [],
   "source": [
    "import pandas as pd\n",
    "import numpy as np"
   ]
  },
  {
   "cell_type": "code",
   "execution_count": null,
   "id": "c00ecb73",
   "metadata": {},
   "outputs": [],
   "source": [
    "def erreur(x, w, y):\n",
    "  y_model = model(x, w)\n",
    "\n",
    "  distance = (y - y_model) **2\n",
    "\n",
    "  return np.sum(distance)"
   ]
  },
  {
   "cell_type": "code",
   "execution_count": 2,
   "id": "7b699065",
   "metadata": {},
   "outputs": [],
   "source": [
    "#  Nouvelle erreur\n",
    "def erreur(X, W, Y, B):\n",
    "    \n",
    "    M = np.dot(X, W)  \n",
    "    P = M + B\n",
    "    L = np.mean((Y - P) **2)\n",
    "    \n",
    "    return L\n",
    "    "
   ]
  },
  {
   "cell_type": "code",
   "execution_count": 6,
   "id": "f2a7f509",
   "metadata": {},
   "outputs": [],
   "source": [
    "X = np.array([\n",
    "    [2, 3, -2],\n",
    "    [4, 5, -1],\n",
    "    [-5, 2, 3],\n",
    "    [8, 5, 4]\n",
    "])"
   ]
  },
  {
   "cell_type": "code",
   "execution_count": 7,
   "id": "c575c958",
   "metadata": {},
   "outputs": [],
   "source": [
    "Y = np.array([\n",
    "    [2],\n",
    "    [5],\n",
    "    [6],\n",
    "    [3]\n",
    "])"
   ]
  },
  {
   "cell_type": "code",
   "execution_count": 8,
   "id": "f70a72ff",
   "metadata": {},
   "outputs": [
    {
     "data": {
      "text/plain": [
       "(4, 1)"
      ]
     },
     "execution_count": 8,
     "metadata": {},
     "output_type": "execute_result"
    }
   ],
   "source": [
    "Y.shape"
   ]
  },
  {
   "cell_type": "code",
   "execution_count": 14,
   "id": "be048140",
   "metadata": {},
   "outputs": [],
   "source": [
    "W = np.array([\n",
    "    [0.02],\n",
    "    [18],\n",
    "    [15]\n",
    "])"
   ]
  },
  {
   "cell_type": "code",
   "execution_count": 11,
   "id": "d0304afd",
   "metadata": {},
   "outputs": [
    {
     "data": {
      "text/plain": [
       "(3, 1)"
      ]
     },
     "execution_count": 11,
     "metadata": {},
     "output_type": "execute_result"
    }
   ],
   "source": [
    "W.shape"
   ]
  },
  {
   "cell_type": "code",
   "execution_count": 12,
   "id": "c2e5a60b",
   "metadata": {},
   "outputs": [],
   "source": [
    "B = 0.5"
   ]
  },
  {
   "cell_type": "code",
   "execution_count": 15,
   "id": "e02944fd",
   "metadata": {},
   "outputs": [
    {
     "data": {
      "text/plain": [
       "8244.5559"
      ]
     },
     "execution_count": 15,
     "metadata": {},
     "output_type": "execute_result"
    }
   ],
   "source": [
    "erreur(X, W , Y, B)"
   ]
  },
  {
   "cell_type": "code",
   "execution_count": 16,
   "id": "51e68671",
   "metadata": {},
   "outputs": [],
   "source": [
    "params = {\"W\": W, \"B\": B}"
   ]
  },
  {
   "cell_type": "code",
   "execution_count": 20,
   "id": "471bc88e",
   "metadata": {},
   "outputs": [],
   "source": [
    "#  Nouvelle erreur\n",
    "def erreur(X, Y, para):\n",
    "    \n",
    "    info = {}\n",
    "    \n",
    "    M = np.dot(X, para[\"W\"]) \n",
    "    info[\"M\"] = M\n",
    "    \n",
    "    P = M + para[\"B\"]\n",
    "    info[\"P\"] = P\n",
    "    \n",
    "    L = np.mean((Y - P) **2)\n",
    "    \n",
    "    info[\"X\"] = X\n",
    "    info[\"Y\"] = Y\n",
    "    \n",
    "    return L, info\n",
    "    "
   ]
  },
  {
   "cell_type": "code",
   "execution_count": 21,
   "id": "b8d2a1f5",
   "metadata": {},
   "outputs": [],
   "source": [
    "loss, info = erreur(X, Y, params)"
   ]
  },
  {
   "cell_type": "code",
   "execution_count": null,
   "id": "48c7c62f",
   "metadata": {
    "collapsed": true
   },
   "outputs": [],
   "source": []
  }
 ],
 "metadata": {
  "kernelspec": {
   "display_name": "Python 3 (ipykernel)",
   "language": "python",
   "name": "python3"
  },
  "language_info": {
   "codemirror_mode": {
    "name": "ipython",
    "version": 3
   },
   "file_extension": ".py",
   "mimetype": "text/x-python",
   "name": "python",
   "nbconvert_exporter": "python",
   "pygments_lexer": "ipython3",
   "version": "3.10.12"
  }
 },
 "nbformat": 4,
 "nbformat_minor": 5
}
