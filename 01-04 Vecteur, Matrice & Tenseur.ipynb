{
 "cells": [
  {
   "cell_type": "code",
   "execution_count": 1,
   "id": "e0eb1609",
   "metadata": {},
   "outputs": [],
   "source": [
    "import numpy as np\n",
    "import pandas as pd"
   ]
  },
  {
   "cell_type": "code",
   "execution_count": 2,
   "id": "3634e73b",
   "metadata": {},
   "outputs": [
    {
     "data": {
      "text/html": [
       "<div>\n",
       "<style scoped>\n",
       "    .dataframe tbody tr th:only-of-type {\n",
       "        vertical-align: middle;\n",
       "    }\n",
       "\n",
       "    .dataframe tbody tr th {\n",
       "        vertical-align: top;\n",
       "    }\n",
       "\n",
       "    .dataframe thead th {\n",
       "        text-align: right;\n",
       "    }\n",
       "</style>\n",
       "<table border=\"1\" class=\"dataframe\">\n",
       "  <thead>\n",
       "    <tr style=\"text-align: right;\">\n",
       "      <th></th>\n",
       "      <th>n_chambres</th>\n",
       "      <th>superficie</th>\n",
       "      <th>prix</th>\n",
       "    </tr>\n",
       "  </thead>\n",
       "  <tbody>\n",
       "    <tr>\n",
       "      <th>0</th>\n",
       "      <td>2</td>\n",
       "      <td>40</td>\n",
       "      <td>10.0</td>\n",
       "    </tr>\n",
       "    <tr>\n",
       "      <th>1</th>\n",
       "      <td>4</td>\n",
       "      <td>35</td>\n",
       "      <td>20.0</td>\n",
       "    </tr>\n",
       "    <tr>\n",
       "      <th>2</th>\n",
       "      <td>3</td>\n",
       "      <td>21</td>\n",
       "      <td>15.0</td>\n",
       "    </tr>\n",
       "    <tr>\n",
       "      <th>3</th>\n",
       "      <td>3</td>\n",
       "      <td>18</td>\n",
       "      <td>20.0</td>\n",
       "    </tr>\n",
       "    <tr>\n",
       "      <th>4</th>\n",
       "      <td>1</td>\n",
       "      <td>53</td>\n",
       "      <td>3.5</td>\n",
       "    </tr>\n",
       "    <tr>\n",
       "      <th>5</th>\n",
       "      <td>6</td>\n",
       "      <td>75</td>\n",
       "      <td>31.0</td>\n",
       "    </tr>\n",
       "    <tr>\n",
       "      <th>6</th>\n",
       "      <td>5</td>\n",
       "      <td>10</td>\n",
       "      <td>33.0</td>\n",
       "    </tr>\n",
       "    <tr>\n",
       "      <th>7</th>\n",
       "      <td>8</td>\n",
       "      <td>46</td>\n",
       "      <td>36.0</td>\n",
       "    </tr>\n",
       "    <tr>\n",
       "      <th>8</th>\n",
       "      <td>7</td>\n",
       "      <td>17</td>\n",
       "      <td>50.0</td>\n",
       "    </tr>\n",
       "    <tr>\n",
       "      <th>9</th>\n",
       "      <td>9</td>\n",
       "      <td>100</td>\n",
       "      <td>42.0</td>\n",
       "    </tr>\n",
       "  </tbody>\n",
       "</table>\n",
       "</div>"
      ],
      "text/plain": [
       "   n_chambres  superficie  prix\n",
       "0           2          40  10.0\n",
       "1           4          35  20.0\n",
       "2           3          21  15.0\n",
       "3           3          18  20.0\n",
       "4           1          53   3.5\n",
       "5           6          75  31.0\n",
       "6           5          10  33.0\n",
       "7           8          46  36.0\n",
       "8           7          17  50.0\n",
       "9           9         100  42.0"
      ]
     },
     "execution_count": 2,
     "metadata": {},
     "output_type": "execute_result"
    }
   ],
   "source": [
    "data = pd.DataFrame([ {\"n_chambres\" : 2, \"superficie\" : 40, \"prix\" : 10},\n",
    "                     {\"n_chambres\" : 4,\"superficie\" : 35,  \"prix\" : 20},\n",
    "                    {\"n_chambres\" : 3,\"superficie\" : 21,  \"prix\" : 15},\n",
    "                     {\"n_chambres\" : 3,\"superficie\" : 18,  \"prix\" : 20},\n",
    "                     {\"n_chambres\" : 1,\"superficie\" : 53,  \"prix\" : 3.5},\n",
    "                    {\"n_chambres\" : 6,\"superficie\" : 75,  \"prix\" : 31},\n",
    "                     {\"n_chambres\" : 5,\"superficie\" : 10,  \"prix\" : 33},\n",
    "                    {\"n_chambres\" : 8,\"superficie\" : 46,  \"prix\" : 36},\n",
    "                    {\"n_chambres\" : 7,\"superficie\" : 17,  \"prix\" : 50},\n",
    "                    {\"n_chambres\" : 9,\"superficie\" : 100,  \"prix\" : 42},\n",
    "                    ])\n",
    "data"
   ]
  },
  {
   "cell_type": "code",
   "execution_count": 5,
   "id": "e01534aa",
   "metadata": {},
   "outputs": [
    {
     "data": {
      "text/plain": [
       "array([[  2,  40],\n",
       "       [  4,  35],\n",
       "       [  3,  21],\n",
       "       [  3,  18],\n",
       "       [  1,  53],\n",
       "       [  6,  75],\n",
       "       [  5,  10],\n",
       "       [  8,  46],\n",
       "       [  7,  17],\n",
       "       [  9, 100]])"
      ]
     },
     "execution_count": 5,
     "metadata": {},
     "output_type": "execute_result"
    }
   ],
   "source": [
    "X = data[[\"n_chambres\", \"superficie\"]].values\n",
    "X"
   ]
  },
  {
   "cell_type": "code",
   "execution_count": 6,
   "id": "b680275f",
   "metadata": {},
   "outputs": [
    {
     "data": {
      "text/plain": [
       "(10, 2)"
      ]
     },
     "execution_count": 6,
     "metadata": {},
     "output_type": "execute_result"
    }
   ],
   "source": [
    " X.shape"
   ]
  },
  {
   "cell_type": "code",
   "execution_count": 7,
   "id": "8d1f99ed",
   "metadata": {},
   "outputs": [
    {
     "data": {
      "text/plain": [
       "2"
      ]
     },
     "execution_count": 7,
     "metadata": {},
     "output_type": "execute_result"
    }
   ],
   "source": [
    "X.ndim  # matrice  # tenseur # tensor  # tensorflow (le mouvement des tenseurs)"
   ]
  },
  {
   "cell_type": "code",
   "execution_count": 8,
   "id": "4a3f3d3f",
   "metadata": {},
   "outputs": [],
   "source": [
    "n_chambre = data['n_chambres'].values"
   ]
  },
  {
   "cell_type": "code",
   "execution_count": 9,
   "id": "2a19fdcf",
   "metadata": {},
   "outputs": [
    {
     "data": {
      "text/plain": [
       "1"
      ]
     },
     "execution_count": 9,
     "metadata": {},
     "output_type": "execute_result"
    }
   ],
   "source": [
    "n_chambre.ndim  # vecteur(un tableau de dimension 1)"
   ]
  },
  {
   "cell_type": "code",
   "execution_count": 11,
   "id": "db89c6f4",
   "metadata": {},
   "outputs": [
    {
     "data": {
      "text/plain": [
       "(3, 10, 2)"
      ]
     },
     "execution_count": 11,
     "metadata": {},
     "output_type": "execute_result"
    }
   ],
   "source": [
    "np.array([X, X, X]).shape  # (3 quartiers, 10 maisons, 2 caractéristiques(nb_chambre, superficie))  # tenseur"
   ]
  },
  {
   "cell_type": "code",
   "execution_count": null,
   "id": "9136a157",
   "metadata": {},
   "outputs": [],
   "source": [
    "np.dot(X, W)  # Produit matriciel de 2 matrices"
   ]
  }
 ],
 "metadata": {
  "kernelspec": {
   "display_name": "Python 3 (ipykernel)",
   "language": "python",
   "name": "python3"
  },
  "language_info": {
   "codemirror_mode": {
    "name": "ipython",
    "version": 3
   },
   "file_extension": ".py",
   "mimetype": "text/x-python",
   "name": "python",
   "nbconvert_exporter": "python",
   "pygments_lexer": "ipython3",
   "version": "3.10.12"
  }
 },
 "nbformat": 4,
 "nbformat_minor": 5
}
