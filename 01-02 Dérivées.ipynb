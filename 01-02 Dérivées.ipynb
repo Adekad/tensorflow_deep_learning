{
 "cells": [
  {
   "cell_type": "code",
   "execution_count": 1,
   "id": "3fcd3d46",
   "metadata": {},
   "outputs": [],
   "source": [
    "# Le calcul de la dérivée d'une fonction f(x)\n",
    "# f'(x) = (f(x+0.001) - f(x)) / 0.001.   0.001 qui est la variation\n",
    "# dérivée = taux de variation\n",
    "\n",
    "def f(x):\n",
    "    return x**2\n"
   ]
  },
  {
   "cell_type": "code",
   "execution_count": 2,
   "id": "e8ccbcd8",
   "metadata": {},
   "outputs": [
    {
     "data": {
      "text/plain": [
       "9.006001"
      ]
     },
     "execution_count": 2,
     "metadata": {},
     "output_type": "execute_result"
    }
   ],
   "source": [
    "f(3.001)"
   ]
  },
  {
   "cell_type": "code",
   "execution_count": 3,
   "id": "1d43bea3",
   "metadata": {},
   "outputs": [
    {
     "data": {
      "text/plain": [
       "9"
      ]
     },
     "execution_count": 3,
     "metadata": {},
     "output_type": "execute_result"
    }
   ],
   "source": [
    "f(3)"
   ]
  },
  {
   "cell_type": "code",
   "execution_count": 4,
   "id": "c3af1af4",
   "metadata": {},
   "outputs": [
    {
     "data": {
      "text/plain": [
       "0.006000999999999479"
      ]
     },
     "execution_count": 4,
     "metadata": {},
     "output_type": "execute_result"
    }
   ],
   "source": [
    "f(3.001) - f(3)"
   ]
  },
  {
   "cell_type": "code",
   "execution_count": 5,
   "id": "08ef2da7",
   "metadata": {},
   "outputs": [
    {
     "data": {
      "text/plain": [
       "6.000999999999479"
      ]
     },
     "execution_count": 5,
     "metadata": {},
     "output_type": "execute_result"
    }
   ],
   "source": [
    "(f(3.001) - f(3)) / 0.001"
   ]
  },
  {
   "cell_type": "code",
   "execution_count": 6,
   "id": "4b915f77",
   "metadata": {},
   "outputs": [],
   "source": [
    "def derivee(fonction, point):\n",
    "    variation = fonction(point+0.001) - fonction(point)\n",
    "    taux = variation / 0.001\n",
    "    return taux"
   ]
  },
  {
   "cell_type": "code",
   "execution_count": 7,
   "id": "67f70dd5",
   "metadata": {},
   "outputs": [
    {
     "data": {
      "text/plain": [
       "6.000999999999479"
      ]
     },
     "execution_count": 7,
     "metadata": {},
     "output_type": "execute_result"
    }
   ],
   "source": [
    "derivee(f, 3)"
   ]
  },
  {
   "cell_type": "code",
   "execution_count": 8,
   "id": "143c9bcd",
   "metadata": {},
   "outputs": [],
   "source": [
    "w = -5"
   ]
  },
  {
   "cell_type": "code",
   "execution_count": 9,
   "id": "85324fc5",
   "metadata": {},
   "outputs": [
    {
     "data": {
      "text/plain": [
       "-9.999000000004088"
      ]
     },
     "execution_count": 9,
     "metadata": {},
     "output_type": "execute_result"
    }
   ],
   "source": [
    "derivee(f, w)"
   ]
  },
  {
   "cell_type": "code",
   "execution_count": 10,
   "id": "8a0b4af9",
   "metadata": {},
   "outputs": [
    {
     "data": {
      "text/plain": [
       "-11.99900000000298"
      ]
     },
     "execution_count": 10,
     "metadata": {},
     "output_type": "execute_result"
    }
   ],
   "source": [
    "derivee(f, -6)"
   ]
  },
  {
   "cell_type": "code",
   "execution_count": 13,
   "id": "90ae816e",
   "metadata": {},
   "outputs": [
    {
     "data": {
      "text/plain": [
       "8.0010000000037"
      ]
     },
     "execution_count": 13,
     "metadata": {},
     "output_type": "execute_result"
    }
   ],
   "source": [
    "derivee(f, 4)"
   ]
  },
  {
   "cell_type": "code",
   "execution_count": 15,
   "id": "bfde8fa8",
   "metadata": {},
   "outputs": [
    {
     "data": {
      "text/plain": [
       "0.001"
      ]
     },
     "execution_count": 15,
     "metadata": {},
     "output_type": "execute_result"
    }
   ],
   "source": [
    "derivee(f, 0)"
   ]
  },
  {
   "cell_type": "markdown",
   "id": "df7520d3",
   "metadata": {},
   "source": [
    "si la derivée de l'erreur est positive, diminuer w\n",
    "\n",
    "si la derivée de l'erreur est négative, augmenter w"
   ]
  },
  {
   "cell_type": "markdown",
   "id": "d3aa0fda",
   "metadata": {},
   "source": [
    "Une fonction composée est une fonction composée d'une autre fonction, donc son exécution dépend de la fonction qui la précède\n",
    "\n",
    "En deep l'erreur ou le loss est une fonction composée"
   ]
  },
  {
   "cell_type": "markdown",
   "id": "49650914",
   "metadata": {},
   "source": [
    "(gof)'(x) = f'(x) * g'(f(x))\n",
    "\n",
    "La règle de l'erreur Chain Rule : c'est la dérivée des fonctions composées c'est à dire la dérivée successive des fonctions qui composent la fonction composée"
   ]
  },
  {
   "cell_type": "code",
   "execution_count": null,
   "id": "d6d4c2a0",
   "metadata": {},
   "outputs": [],
   "source": []
  }
 ],
 "metadata": {
  "kernelspec": {
   "display_name": "Python 3 (ipykernel)",
   "language": "python",
   "name": "python3"
  },
  "language_info": {
   "codemirror_mode": {
    "name": "ipython",
    "version": 3
   },
   "file_extension": ".py",
   "mimetype": "text/x-python",
   "name": "python",
   "nbconvert_exporter": "python",
   "pygments_lexer": "ipython3",
   "version": "3.10.12"
  }
 },
 "nbformat": 4,
 "nbformat_minor": 5
}
