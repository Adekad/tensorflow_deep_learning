{
 "cells": [
  {
   "cell_type": "markdown",
   "id": "8d8e3329",
   "metadata": {},
   "source": [
    "(gof)'(x) = f'(x) * g'(f(x))\n",
    "\n",
    "La règle de l'erreur Chain Rule : c'est la dérivée des fonctions composées c'est à dire la dérivée successive des fonctions qui composent la fonction composée"
   ]
  },
  {
   "cell_type": "code",
   "execution_count": 31,
   "id": "7b0c90f3",
   "metadata": {},
   "outputs": [],
   "source": [
    "import pandas as pd\n",
    "import numpy as np"
   ]
  },
  {
   "cell_type": "code",
   "execution_count": 1,
   "id": "c91f856d",
   "metadata": {},
   "outputs": [],
   "source": [
    "def double(x):\n",
    "    return 2 * x\n",
    "\n",
    "def carre(x):\n",
    "    return x ** 2"
   ]
  },
  {
   "cell_type": "code",
   "execution_count": 2,
   "id": "8196c699",
   "metadata": {},
   "outputs": [],
   "source": [
    "def compose(x):\n",
    "    temp = double(x)\n",
    "    r = carre(temp)\n",
    "    return r"
   ]
  },
  {
   "cell_type": "code",
   "execution_count": 3,
   "id": "bb474989",
   "metadata": {},
   "outputs": [
    {
     "data": {
      "text/plain": [
       "36"
      ]
     },
     "execution_count": 3,
     "metadata": {},
     "output_type": "execute_result"
    }
   ],
   "source": [
    "compose(3)"
   ]
  },
  {
   "cell_type": "code",
   "execution_count": 4,
   "id": "3e484cb8",
   "metadata": {},
   "outputs": [],
   "source": [
    "def derivee(fonction, point):\n",
    "    variation = fonction(point+0.001) - fonction(point)\n",
    "    taux = variation / 0.001\n",
    "    return taux"
   ]
  },
  {
   "cell_type": "code",
   "execution_count": 5,
   "id": "a210a259",
   "metadata": {},
   "outputs": [
    {
     "data": {
      "text/plain": [
       "1.9999999999997797"
      ]
     },
     "execution_count": 5,
     "metadata": {},
     "output_type": "execute_result"
    }
   ],
   "source": [
    "derivee(double, 3)"
   ]
  },
  {
   "cell_type": "code",
   "execution_count": 6,
   "id": "31f5e5ef",
   "metadata": {},
   "outputs": [
    {
     "data": {
      "text/plain": [
       "12.001000000005035"
      ]
     },
     "execution_count": 6,
     "metadata": {},
     "output_type": "execute_result"
    }
   ],
   "source": [
    "derivee(carre, 6)"
   ]
  },
  {
   "cell_type": "code",
   "execution_count": 8,
   "id": "b3df2a0b",
   "metadata": {},
   "outputs": [
    {
     "data": {
      "text/plain": [
       "24.002000000007428"
      ]
     },
     "execution_count": 8,
     "metadata": {},
     "output_type": "execute_result"
    }
   ],
   "source": [
    "derivee(double, 3) * derivee(carre, 6)"
   ]
  },
  {
   "cell_type": "code",
   "execution_count": 9,
   "id": "8dc1d691",
   "metadata": {},
   "outputs": [
    {
     "data": {
      "text/plain": [
       "24.003999999997916"
      ]
     },
     "execution_count": 9,
     "metadata": {},
     "output_type": "execute_result"
    }
   ],
   "source": [
    "derivee(compose, 3)"
   ]
  },
  {
   "cell_type": "code",
   "execution_count": 19,
   "id": "c92b1190",
   "metadata": {},
   "outputs": [],
   "source": [
    "def triple_carre(x):\n",
    "    return 3 * carre(x)"
   ]
  },
  {
   "cell_type": "code",
   "execution_count": 20,
   "id": "54a78537",
   "metadata": {},
   "outputs": [],
   "source": [
    "def compose1(x):\n",
    "    temp1 = double(x)\n",
    "    temp2 = carre(temp1)\n",
    "    r = triple_carre(temp2)\n",
    "    return r"
   ]
  },
  {
   "cell_type": "code",
   "execution_count": 21,
   "id": "034e23a1",
   "metadata": {},
   "outputs": [
    {
     "data": {
      "text/plain": [
       "5184.504005990704"
      ]
     },
     "execution_count": 21,
     "metadata": {},
     "output_type": "execute_result"
    }
   ],
   "source": [
    "derivee(double, 3) * derivee(carre, 6) * derivee(triple_carre, 36)"
   ]
  },
  {
   "cell_type": "code",
   "execution_count": 22,
   "id": "07ab05c1",
   "metadata": {},
   "outputs": [
    {
     "data": {
      "text/plain": [
       "5186.5925760475875"
      ]
     },
     "execution_count": 22,
     "metadata": {},
     "output_type": "execute_result"
    }
   ],
   "source": [
    "derivee(compose1, 3)"
   ]
  },
  {
   "cell_type": "code",
   "execution_count": 23,
   "id": "817252b6",
   "metadata": {},
   "outputs": [],
   "source": [
    "def chaine_rule(chaine, point):\n",
    "    \n",
    "    f = chaine[0]\n",
    "    g = chaine[1]\n",
    "    h = chaine[2]\n",
    "    \n",
    "    \n",
    "    # forward pass\n",
    "    f_point = f(point)\n",
    "    g_point = g(f_point)\n",
    "    \n",
    "    # backward pass\n",
    "    df = derivee(f, point)\n",
    "    dg = derivee(g, f_point)\n",
    "    dh = derivee(h, g_point)\n",
    "    \n",
    "    return df * dg * dh"
   ]
  },
  {
   "cell_type": "code",
   "execution_count": 24,
   "id": "b8faf6f1",
   "metadata": {},
   "outputs": [
    {
     "data": {
      "text/plain": [
       "5184.504005990704"
      ]
     },
     "execution_count": 24,
     "metadata": {},
     "output_type": "execute_result"
    }
   ],
   "source": [
    "chaine_rule([double, carre, triple_carre], 3)"
   ]
  },
  {
   "cell_type": "code",
   "execution_count": 25,
   "id": "ac720422",
   "metadata": {},
   "outputs": [
    {
     "data": {
      "text/plain": [
       "1536.2400060022974"
      ]
     },
     "execution_count": 25,
     "metadata": {},
     "output_type": "execute_result"
    }
   ],
   "source": [
    "chaine_rule([double, carre, triple_carre], 2)"
   ]
  },
  {
   "cell_type": "code",
   "execution_count": 26,
   "id": "2069568a",
   "metadata": {},
   "outputs": [
    {
     "data": {
      "text/plain": [
       "192.0720060000248"
      ]
     },
     "execution_count": 26,
     "metadata": {},
     "output_type": "execute_result"
    }
   ],
   "source": [
    "chaine_rule([double, carre, triple_carre], 1)"
   ]
  },
  {
   "cell_type": "code",
   "execution_count": 28,
   "id": "8f56d397",
   "metadata": {},
   "outputs": [
    {
     "data": {
      "text/plain": [
       "-191.97599400003267"
      ]
     },
     "execution_count": 28,
     "metadata": {},
     "output_type": "execute_result"
    }
   ],
   "source": [
    "chaine_rule([double, carre, triple_carre], -1)"
   ]
  },
  {
   "cell_type": "code",
   "execution_count": 29,
   "id": "e4967add",
   "metadata": {},
   "outputs": [
    {
     "data": {
      "text/plain": [
       "24.024005999991868"
      ]
     },
     "execution_count": 29,
     "metadata": {},
     "output_type": "execute_result"
    }
   ],
   "source": [
    "chaine_rule([double, carre, triple_carre], 0.5)"
   ]
  },
  {
   "cell_type": "code",
   "execution_count": 32,
   "id": "cec5e300",
   "metadata": {},
   "outputs": [],
   "source": [
    "# À revoir(Faux)\n",
    "possible_w = np.arange(-1, 1, 0.001)"
   ]
  },
  {
   "cell_type": "code",
   "execution_count": 33,
   "id": "da66e2fd",
   "metadata": {},
   "outputs": [
    {
     "ename": "NameError",
     "evalue": "name 'erreur' is not defined",
     "output_type": "error",
     "traceback": [
      "\u001b[0;31m---------------------------------------------------------------------------\u001b[0m",
      "\u001b[0;31mNameError\u001b[0m                                 Traceback (most recent call last)",
      "Cell \u001b[0;32mIn[33], line 4\u001b[0m\n\u001b[1;32m      1\u001b[0m errors \u001b[38;5;241m=\u001b[39m []\n\u001b[1;32m      3\u001b[0m \u001b[38;5;28;01mfor\u001b[39;00m d \u001b[38;5;129;01min\u001b[39;00m possible_w:\n\u001b[0;32m----> 4\u001b[0m   e \u001b[38;5;241m=\u001b[39m \u001b[43merreur\u001b[49m(x\u001b[38;5;241m=\u001b[39mn_chambres, w\u001b[38;5;241m=\u001b[39md, y\u001b[38;5;241m=\u001b[39mprix)\n\u001b[1;32m      5\u001b[0m   errors\u001b[38;5;241m.\u001b[39mappend(e)\n",
      "\u001b[0;31mNameError\u001b[0m: name 'erreur' is not defined"
     ]
    }
   ],
   "source": [
    "errors = []\n",
    "\n",
    "for d in possible_w:\n",
    "    e = erreur(chaine_rule([double, carre, triple_carre], d))\n",
    "  e = erreur(x=n_chambres, w=d, y=prix)\n",
    "  errors.append(e)"
   ]
  },
  {
   "cell_type": "code",
   "execution_count": null,
   "id": "bf8a3d0c",
   "metadata": {},
   "outputs": [],
   "source": []
  }
 ],
 "metadata": {
  "kernelspec": {
   "display_name": "Python 3 (ipykernel)",
   "language": "python",
   "name": "python3"
  },
  "language_info": {
   "codemirror_mode": {
    "name": "ipython",
    "version": 3
   },
   "file_extension": ".py",
   "mimetype": "text/x-python",
   "name": "python",
   "nbconvert_exporter": "python",
   "pygments_lexer": "ipython3",
   "version": "3.10.12"
  }
 },
 "nbformat": 4,
 "nbformat_minor": 5
}
